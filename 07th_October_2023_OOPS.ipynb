{
  "nbformat": 4,
  "nbformat_minor": 0,
  "metadata": {
    "colab": {
      "provenance": []
    },
    "kernelspec": {
      "name": "python3",
      "display_name": "Python 3"
    },
    "language_info": {
      "name": "python"
    }
  },
  "cells": [
    {
      "cell_type": "markdown",
      "source": [
        "**Problem 1 : Bank Account**\n"
      ],
      "metadata": {
        "id": "c0fkX0z8bVpF"
      }
    },
    {
      "cell_type": "markdown",
      "source": [
        "Create a class representing a bank account with attributes like account number, account holder name, and balance. Implement methods to deposit and withdraw money from the account."
      ],
      "metadata": {
        "id": "iE3wST9TaAry"
      }
    },
    {
      "cell_type": "code",
      "execution_count": null,
      "metadata": {
        "id": "D-z6M1qK9mBQ",
        "colab": {
          "base_uri": "https://localhost:8080/"
        },
        "outputId": "9955cd0a-afe6-4742-b806-85751225b422"
      },
      "outputs": [
        {
          "output_type": "stream",
          "name": "stdout",
          "text": [
            "Initial balance in A/C : INR 1000\n",
            "Deposited 500 into A/C 011556611. New balance is INR 1500.\n",
            "Withdrew 200 from A/C 011556611. New balance is INR 1300.\n",
            "Insufficient funds or invalid amount for withdrawal.\n"
          ]
        }
      ],
      "source": [
        "class BankAccount :\n",
        "\n",
        "  def __init__(self, account_number, account_holder_name, balance=0):\n",
        "    self.account_number = account_number\n",
        "    self.account_holder_name = account_holder_name\n",
        "    self.balance = balance\n",
        "\n",
        "  def deposit(self, amount):\n",
        "    if amount > 0 :\n",
        "      self.balance += amount\n",
        "      print(f\"Deposited {amount} into A/C {self.account_number}. New balance is INR {self.balance}.\")\n",
        "    else:\n",
        "      print(\"Invalid amount for deposit.\")\n",
        "\n",
        "  def withdraw(self, amount) :\n",
        "    if 0 < amount <= self.balance :\n",
        "      self.balance -= amount\n",
        "      print(f\"Withdrew {amount} from A/C {self.account_number}. New balance is INR {self.balance}.\")\n",
        "    else:\n",
        "      print(\"Insufficient funds or invalid amount for withdrawal.\")\n",
        "\n",
        "account = BankAccount(\"011556611\", \"Rohit Kumar Gupta\", 1000)\n",
        "print(f\"Initial balance in A/C : INR {account.balance}\")\n",
        "\n",
        "account.deposit(500)\n",
        "account.withdraw(200)\n",
        "account.withdraw(1500)\n"
      ]
    },
    {
      "cell_type": "markdown",
      "source": [
        "**Problem 2 : Employee Management**"
      ],
      "metadata": {
        "id": "vRZwlN2icelF"
      }
    },
    {
      "cell_type": "markdown",
      "source": [
        "Create a class representing an employee with attributes like employee ID, name, and salary. Implement methods to calculate the yearly bonus and display employee details."
      ],
      "metadata": {
        "id": "t-3T1dxIcgjm"
      }
    },
    {
      "cell_type": "code",
      "source": [
        "class EmployeeManagement :\n",
        "\n",
        "  def __init__(self, emp_id, name, salary) :\n",
        "    self.emp_id = emp_id\n",
        "    self.name = name\n",
        "    self.salary = salary\n",
        "\n",
        "  def calculate_bonus(self, bonus_percentage) :\n",
        "    bonus_amount = (bonus_percentage/100) * self.salary\n",
        "    return (f\"Bonus as per salary : {bonus_amount}\")\n",
        "\n",
        "  def display_details(self) :\n",
        "    print(f\"Employee Id : {self.emp_id}\")\n",
        "    print(f\"Name : {self.name}\")\n",
        "    print(f\"Salary : {self.salary}\")\n",
        "\n",
        "\n",
        "employee1 = EmployeeManagement(\"P5088\", \"Rohit Kumar\", 80000)\n",
        "employee1.display_details()\n",
        "\n",
        "bonus_percentage = 10\n",
        "employee1.calculate_bonus(bonus_percentage)"
      ],
      "metadata": {
        "id": "v5GukjP6bGPW",
        "colab": {
          "base_uri": "https://localhost:8080/",
          "height": 87
        },
        "outputId": "6737a6f8-e359-4723-8c28-91cadee5999c"
      },
      "execution_count": null,
      "outputs": [
        {
          "output_type": "stream",
          "name": "stdout",
          "text": [
            "Employee Id : P5088\n",
            "Name : Rohit Kumar\n",
            "Salary : 80000\n"
          ]
        },
        {
          "output_type": "execute_result",
          "data": {
            "text/plain": [
              "'Bonus as per salary : 8000.0'"
            ],
            "application/vnd.google.colaboratory.intrinsic+json": {
              "type": "string"
            }
          },
          "metadata": {},
          "execution_count": 3
        }
      ]
    },
    {
      "cell_type": "markdown",
      "source": [
        "**Problem 3 : Vehicle Rental**"
      ],
      "metadata": {
        "id": "sIW0NMJ6v9Bo"
      }
    },
    {
      "cell_type": "markdown",
      "source": [
        "Create a class representing a vehicle rental system. Implement methods to rent a vehicle, return a vehicle, and display available vehicles."
      ],
      "metadata": {
        "id": "Am7gz4PVv_F9"
      }
    },
    {
      "cell_type": "code",
      "source": [
        "class Vehicles :\n",
        "\n",
        "  def __init__(self, id, type, brand, variant, available=True) :\n",
        "    self.id = id\n",
        "    self.type = type\n",
        "    self.brand = brand\n",
        "    self.variant = variant\n",
        "    self.available = available\n",
        "\n",
        "class RentalSystem :\n",
        "\n",
        "  def __init__(self) :\n",
        "    self.vehicles = []\n",
        "\n",
        "  def add_vehicle(self, vehicle) :\n",
        "    self.vehicles.append(vehicle)\n",
        "\n",
        "  def rent_vehicle(self, type, brand, variant) :\n",
        "    for vehicle in self.vehicles :\n",
        "      if vehicle.type == type and vehicle.brand == brand and vehicle.variant == variant and vehicle.available :\n",
        "        vehicle.available = False\n",
        "        print (f\"Vehicle {type}, {brand}, {variant} rented successfully\")\n",
        "        return\n",
        "    print (f\"Vehicle {type}, {brand}, {variant} is not availble for rent\")\n",
        "\n",
        "  def return_vehicle(self, id) :\n",
        "    for vehicle in self.vehicles :\n",
        "      if vehicle.id == id and not vehicle.available :\n",
        "        vehicle.available = True\n",
        "        print(f\"Vehicle {id} returned successfully\")\n",
        "        return\n",
        "    print(\"Invalid vehicle id or vehicle already returned\")\n",
        "\n",
        "  def display_vehicle(self) :\n",
        "    available_vehicles = [vehicle for vehicle in self.vehicles if vehicle.available]\n",
        "\n",
        "    for vehicle in available_vehicles :\n",
        "      print(f\"ID : {vehicle.id}, Type : {vehicle.type}, Brand : {vehicle.brand}, Variant : {vehicle.variant}\")\n",
        "\n",
        "if __name__ == \"__main()__\" :\n",
        "  RentalSystem()\n",
        "\n",
        "\n",
        "\n",
        "star_garage = RentalSystem()\n",
        "\n",
        "star_garage.add_vehicle(Vehicles(1, \"Bike\", \"RE\", \"Himalayan\"))\n",
        "star_garage.add_vehicle(Vehicles(2, \"Bike\", \"RE\", \"Classic\"))\n",
        "star_garage.add_vehicle(Vehicles(3, \"Bike\", \"RE\", \"Himalayan\"))\n",
        "star_garage.add_vehicle(Vehicles(4, \"Scooter\", \"Honda\", \"Activa\"))\n",
        "star_garage.add_vehicle(Vehicles(5, \"Scooter\", \"TVS\", \"Jupiter\"))\n",
        "star_garage.add_vehicle(Vehicles(6, \"Car\", \"Maruti\", \"Swift\"))\n",
        "star_garage.add_vehicle(Vehicles(7, \"Car\", \"Maruti\", \"Alto\"))\n",
        "star_garage.add_vehicle(Vehicles(8, \"Car\", \"TATA\", \"Nexon\"))\n",
        "star_garage.add_vehicle(Vehicles(9, \"Car\", \"Mahindra\", \"XUV\"))\n",
        "\n",
        "star_garage.rent_vehicle(\"Car\", \"Maruti\", \"Swift\")\n",
        "\n",
        "star_garage.display_vehicle()\n",
        "\n",
        "star_garage.return_vehicle(6)\n",
        "\n",
        "star_garage.display_vehicle()"
      ],
      "metadata": {
        "colab": {
          "base_uri": "https://localhost:8080/"
        },
        "id": "za6Ci96nvWeI",
        "outputId": "ef715d9f-9ad1-4068-97db-c720bd119904"
      },
      "execution_count": null,
      "outputs": [
        {
          "output_type": "stream",
          "name": "stdout",
          "text": [
            "Vehicle Car, Maruti, Swift rented successfully\n",
            "ID : 1, Type : Bike, Brand : RE, Variant : Himalayan\n",
            "ID : 2, Type : Bike, Brand : RE, Variant : Classic\n",
            "ID : 3, Type : Bike, Brand : RE, Variant : Himalayan\n",
            "ID : 4, Type : Scooter, Brand : Honda, Variant : Activa\n",
            "ID : 5, Type : Scooter, Brand : TVS, Variant : Jupiter\n",
            "ID : 7, Type : Car, Brand : Maruti, Variant : Alto\n",
            "ID : 8, Type : Car, Brand : TATA, Variant : Nexon\n",
            "ID : 9, Type : Car, Brand : Mahindra, Variant : XUV\n",
            "Vehicle 6 returned successfully\n",
            "ID : 1, Type : Bike, Brand : RE, Variant : Himalayan\n",
            "ID : 2, Type : Bike, Brand : RE, Variant : Classic\n",
            "ID : 3, Type : Bike, Brand : RE, Variant : Himalayan\n",
            "ID : 4, Type : Scooter, Brand : Honda, Variant : Activa\n",
            "ID : 5, Type : Scooter, Brand : TVS, Variant : Jupiter\n",
            "ID : 6, Type : Car, Brand : Maruti, Variant : Swift\n",
            "ID : 7, Type : Car, Brand : Maruti, Variant : Alto\n",
            "ID : 8, Type : Car, Brand : TATA, Variant : Nexon\n",
            "ID : 9, Type : Car, Brand : Mahindra, Variant : XUV\n"
          ]
        }
      ]
    },
    {
      "cell_type": "markdown",
      "source": [
        "**Problem 4 : Library Catalog**"
      ],
      "metadata": {
        "id": "Z1N5ZIupOWjk"
      }
    },
    {
      "cell_type": "markdown",
      "source": [
        "Create classes representing a library and a book. Implement methods to add books to the library, borrow books, and display available books."
      ],
      "metadata": {
        "id": "L1bGreD0OVL2"
      }
    },
    {
      "cell_type": "code",
      "source": [
        "class Book :\n",
        "\n",
        "  def __init__(self, title, author, isbn) :\n",
        "    self.title = title\n",
        "    self.author = author\n",
        "    self.isbn = isbn\n",
        "    self.available = True\n",
        "\n",
        "class Library :\n",
        "\n",
        "  def __init__(self) :\n",
        "    self.books = []\n",
        "\n",
        "  def add_books(self, book) :\n",
        "    self.books.append(book)\n",
        "\n",
        "  def diplay_available_books(self) :\n",
        "    print(f\"Available books :\")\n",
        "    available_books = [book for book in self.books if book.available]\n",
        "    for book in available_books :\n",
        "      print(f\"Title : {book.title}, Author : {book.author}, ISBN : {book.isbn}\")\n",
        "    if not available_books :\n",
        "      print (\"Books not available\")\n",
        "\n",
        "  def borrow_books(self, title) :\n",
        "    for book in self.books :\n",
        "      if book.title == title and book.available :\n",
        "        book.available = False\n",
        "        print(f\"Book {title} has been borrowed\")\n",
        "        return\n",
        "    print(\"Book not available or incorrect details shared\")\n",
        "\n",
        "if __name__ == \"__main()__\" :\n",
        "  Library()\n",
        "\n",
        "khudabaksh = Library()\n",
        "\n",
        "khudabaksh.add_books(Book(\"abc\", \"123abc\", \"1\"))\n",
        "khudabaksh.add_books(Book(\"def\", \"123def\", \"2\"))\n",
        "khudabaksh.add_books(Book(\"ghi\", \"123ghi\", \"3\"))\n",
        "khudabaksh.add_books(Book(\"jkl\", \"123jkl\", \"4\"))\n",
        "\n",
        "khudabaksh.diplay_available_books()\n",
        "\n",
        "khudabaksh.borrow_books(\"ghi\")\n",
        "\n",
        "khudabaksh.diplay_available_books()\n",
        "\n",
        "khudabaksh.borrow_books(\"def\")\n",
        "\n",
        "khudabaksh.diplay_available_books()"
      ],
      "metadata": {
        "id": "lfamEk0h6y9o",
        "colab": {
          "base_uri": "https://localhost:8080/"
        },
        "outputId": "5f8c97cc-3597-4288-b413-4b233065b64c"
      },
      "execution_count": null,
      "outputs": [
        {
          "output_type": "stream",
          "name": "stdout",
          "text": [
            "Available books :\n",
            "Title : abc, Author : 123abc, ISBN : 1\n",
            "Title : def, Author : 123def, ISBN : 2\n",
            "Title : ghi, Author : 123ghi, ISBN : 3\n",
            "Title : jkl, Author : 123jkl, ISBN : 4\n",
            "Book ghi has been borrowed\n",
            "Available books :\n",
            "Title : abc, Author : 123abc, ISBN : 1\n",
            "Title : def, Author : 123def, ISBN : 2\n",
            "Title : jkl, Author : 123jkl, ISBN : 4\n",
            "Book def has been borrowed\n",
            "Available books :\n",
            "Title : abc, Author : 123abc, ISBN : 1\n",
            "Title : jkl, Author : 123jkl, ISBN : 4\n"
          ]
        }
      ]
    },
    {
      "cell_type": "markdown",
      "source": [
        "**Problem 5 : Product Inventory**"
      ],
      "metadata": {
        "id": "LHEcAxkjg4K7"
      }
    },
    {
      "cell_type": "markdown",
      "source": [
        "Create classes representing a product and an inventory system. Implement methods to add products to the inventory, update product quantity, and display available products."
      ],
      "metadata": {
        "id": "cjUoYdT0g3DP"
      }
    },
    {
      "cell_type": "code",
      "source": [
        "class Product :\n",
        "\n",
        "  def __init__(self, id, price, quantity) :\n",
        "    self.id = id\n",
        "    self.price = price\n",
        "    self.quantity = quantity\n",
        "\n",
        "class InventorySystem :\n",
        "\n",
        "  def __init__(self) :\n",
        "    self.products = []\n",
        "\n",
        "  def add_new_product(self, product) :\n",
        "    self.products.append(product)\n",
        "    print(f\"-> Product with id '{product.id}' has been added\")\n",
        "\n",
        "  def update_quantity(self, product, updated_quantity) :\n",
        "    if product in self.products :\n",
        "      product.quantity = updated_quantity\n",
        "      print(f\"- Quantity updated successfully for Product with product id : '{product.id}'\")\n",
        "    else:\n",
        "      print(f\"Product : {product} not found.\")\n",
        "\n",
        "  def display_details_of_product(self, product) :\n",
        "    print(f\"- Particular Product Details of '{product.id}':\")\n",
        "    if product in self.products :\n",
        "      print(f\"Product Id : {product.id}, Product Price : {product.price}, Product Quantity Available : {product.quantity}\")\n",
        "    else :\n",
        "      print(\"Passed product is not availble or out of stock\")\n",
        "\n",
        "  def display_all_products(self) :\n",
        "    print(\"- Product deatails of all available products\")\n",
        "    if self.products :\n",
        "      for product in self.products :\n",
        "        print(f\"Product Id : {product.id}, Product Price : {product.price}, Product Quantity Available : {product.quantity}\")\n",
        "    else :\n",
        "      print(\"Products are not availble or out of stock\")\n",
        "\n",
        "\n",
        "if __name__ == \"__main__\" :\n",
        "  InventorySystem()\n",
        "\n",
        "\n",
        "p1 = Product(\"123\", 100, 5)\n",
        "p2 = Product(\"456\", 200, 2)\n",
        "p3 = Product(\"789\", 500, 3)\n",
        "\n",
        "inventory1 = InventorySystem()\n",
        "\n",
        "inventory1.add_new_product(p1)\n",
        "inventory1.add_new_product(p2)\n",
        "inventory1.add_new_product(p3)\n",
        "\n",
        "inventory1.update_quantity(p3, 10)\n",
        "\n",
        "inventory1.display_details_of_product(p3)\n",
        "\n",
        "inventory1.display_all_products()"
      ],
      "metadata": {
        "id": "l-V1da2SDJfh",
        "colab": {
          "base_uri": "https://localhost:8080/"
        },
        "outputId": "614be178-7a74-4a70-db10-ed539d1dd73c"
      },
      "execution_count": null,
      "outputs": [
        {
          "output_type": "stream",
          "name": "stdout",
          "text": [
            "-> Product with id '123' has been added\n",
            "-> Product with id '456' has been added\n",
            "-> Product with id '789' has been added\n",
            "- Quantity updated successfully for Product with product id : '789'\n",
            "- Particular Product Details of '789':\n",
            "Product Id : 789, Product Price : 500, Product Quantity Available : 10\n",
            "- Product deatails of all available products\n",
            "Product Id : 123, Product Price : 100, Product Quantity Available : 5\n",
            "Product Id : 456, Product Price : 200, Product Quantity Available : 2\n",
            "Product Id : 789, Product Price : 500, Product Quantity Available : 10\n"
          ]
        }
      ]
    },
    {
      "cell_type": "markdown",
      "source": [
        "Problem 6 : Shape Calculation"
      ],
      "metadata": {
        "id": "NpI3ry1JtcVV"
      }
    },
    {
      "cell_type": "markdown",
      "source": [
        "Create a class representing a shape with attributes like length, width, and height. Implement methods to calculate the area and perimeter of the shape."
      ],
      "metadata": {
        "id": "5nBjZl1TtZBy"
      }
    },
    {
      "cell_type": "code",
      "source": [
        "class Dimensions :\n",
        "\n",
        "  def __init__(self, length=0, width=0, height=0) :\n",
        "    self.length = length\n",
        "    self.width = width\n",
        "    self.height = height\n",
        "\n",
        "class Rectangle(Dimensions) :\n",
        "\n",
        "  def calculate_area(self) :\n",
        "    return self.length * self.width\n",
        "\n",
        "  def calculate_perimeter(self) :\n",
        "    return 2 * (self.length + self.width)\n",
        "\n",
        "class Triangle(Dimensions) :\n",
        "\n",
        "  def calculate_area(self) :\n",
        "    s = (self.length + self.width + self.height) / 2\n",
        "    return (s * (s - self.length) * (s - self.width) * (s - self.height)) ** 0.5\n",
        "\n",
        "  def calculate_perimeter(self):\n",
        "    return self.length + self.width + self.height\n",
        "\n",
        "if __name__ == \"__main__\" :\n",
        "\n",
        "  rectangle1 = Rectangle(length=5, width=5)\n",
        "  print(\"Rectangle Area :\", rectangle1.calculate_area())\n",
        "  print(\"Rectangle Perimeter :\", rectangle1.calculate_perimeter())\n",
        "\n",
        "  triangle1 = Triangle(length=3, width=4, height=5)\n",
        "  print(\"Triangle Area :\", triangle1.calculate_area())\n",
        "  print(\"Triangle Perimeter :\", triangle1.calculate_perimeter())"
      ],
      "metadata": {
        "id": "HKlXvahH12Ga",
        "colab": {
          "base_uri": "https://localhost:8080/"
        },
        "outputId": "797496eb-426f-4a76-db8a-6e2c6d26481b"
      },
      "execution_count": null,
      "outputs": [
        {
          "output_type": "stream",
          "name": "stdout",
          "text": [
            "Rectangle Area : 25\n",
            "Rectangle Perimeter : 20\n",
            "Triangle Area : 6.0\n",
            "Triangle Perimeter : 12\n"
          ]
        }
      ]
    },
    {
      "cell_type": "markdown",
      "source": [
        "**Problem 7 : Student Management**"
      ],
      "metadata": {
        "id": "XY6GH4lwoHc-"
      }
    },
    {
      "cell_type": "markdown",
      "source": [
        "Create a class representing a student with attributes like student ID, name, and grades. Implement methods to calculate the average grade and display student details."
      ],
      "metadata": {
        "id": "hnBfULDooKCR"
      }
    },
    {
      "cell_type": "code",
      "source": [
        "class Students :\n",
        "\n",
        "  def __init__(self, student_id, name, grade) :\n",
        "    self.student_id = student_id\n",
        "    self.name = name\n",
        "    self.grade = grade\n",
        "\n",
        "class Calculation(Students) :\n",
        "\n",
        "  def __init__(self) :\n",
        "    self.total_students = []\n",
        "\n",
        "  def add_student(self, student) :\n",
        "    self.total_students.append(student)\n",
        "\n",
        "  def avg_grade(self) :\n",
        "    total_grade = sum(student.grade for student in self.total_students)\n",
        "    if self.total_students :\n",
        "      print (\"Average grade of all the students : \", total_grade/len(self.total_students))\n",
        "    return 0\n",
        "\n",
        "  def display_details(self) :\n",
        "    print (\"Details of of the students :\")\n",
        "    for student in self.total_students :\n",
        "      print (f\"Student id : '{student.student_id}', Name : '{student.name}', Grade : '{student.grade}'\")\n",
        "\n",
        "if __name__ == '__main__' :\n",
        "  Calculation()\n",
        "\n",
        "  s1 = Students(\"id1\", \"Rohit\", 85)\n",
        "  s2 = Students(\"id2\", \"Rahul\", 75)\n",
        "  s3 = Students(\"id3\", \"Varun\", 95)\n",
        "  s4 = Students(\"id4\", \"Tarun\", 65)\n",
        "\n",
        "  calculations = Calculation()\n",
        "\n",
        "  calculations.add_student(s1)\n",
        "  calculations.add_student(s2)\n",
        "  calculations.add_student(s3)\n",
        "  calculations.add_student(s4)\n",
        "\n",
        "  calculations.avg_grade()\n",
        "\n",
        "  calculations.display_details()\n"
      ],
      "metadata": {
        "colab": {
          "base_uri": "https://localhost:8080/"
        },
        "id": "I-7KRomthok9",
        "outputId": "757a9f47-830e-4d3a-9205-247dad95082a"
      },
      "execution_count": null,
      "outputs": [
        {
          "output_type": "stream",
          "name": "stdout",
          "text": [
            "Average grade of all the students :  80.0\n",
            "Details of of the students :\n",
            "Student id : 'id1', Name : 'Rohit', Grade : '85'\n",
            "Student id : 'id2', Name : 'Rahul', Grade : '75'\n",
            "Student id : 'id3', Name : 'Varun', Grade : '95'\n",
            "Student id : 'id4', Name : 'Tarun', Grade : '65'\n"
          ]
        }
      ]
    },
    {
      "cell_type": "markdown",
      "source": [
        "**Problem 8 : Email Management**"
      ],
      "metadata": {
        "id": "KvLp2quiIUpP"
      }
    },
    {
      "cell_type": "markdown",
      "source": [
        "Create a class representing an email with attributes like sender, recipient, and subject. Implement methods to send an email and display email details."
      ],
      "metadata": {
        "id": "tpl-dd0eIR7Q"
      }
    },
    {
      "cell_type": "code",
      "source": [
        "class Email :\n",
        "\n",
        "  def __init__(self, sender, recipient, subject, body=0) :\n",
        "    self.sender = sender\n",
        "    self.recipient = recipient\n",
        "    self.subject = subject\n",
        "    self.body = body\n",
        "\n",
        "  def send_email(self) :\n",
        "    print (f\"Email is ready to be sent from '{self.sender}' to '{self.recipient}'\")\n",
        "    print (\"Email sent successfully\")\n",
        "\n",
        "  def display_details(self) :\n",
        "    print(\"- Below are Email details\")\n",
        "    print(f\"Subject : '{self.subject}'\")\n",
        "    print(f\"Sender : '{self.sender}'\")\n",
        "    print(f\"Body : '{self.body}'\")\n",
        "    print(f\"Recipient : '{self.recipient}'\")\n",
        "    print()\n",
        "\n",
        "\n",
        "\n",
        "email = Email(\"abc@gmail.com\", \"xyz@gmail.com\", \"Job Referral\", \"Hi XYZ, I would love if you could refer me to job id - 12345 in your organisation\")\n",
        "\n",
        "email.display_details()\n",
        "\n",
        "email.send_email()"
      ],
      "metadata": {
        "id": "kXxAL4eqvDus",
        "colab": {
          "base_uri": "https://localhost:8080/"
        },
        "outputId": "7685a22d-338e-4aef-dce5-b79a952efa5b"
      },
      "execution_count": null,
      "outputs": [
        {
          "output_type": "stream",
          "name": "stdout",
          "text": [
            "- Below are Email details\n",
            "Subject : 'Job Referral'\n",
            "Sender : 'abc@gmail.com'\n",
            "Body : 'Hi XYZ, I would love if you could refer me to job id - 12345 in your organisation'\n",
            "Recipient : 'xyz@gmail.com'\n",
            "\n",
            "Email is ready to be sent from 'abc@gmail.com' to 'xyz@gmail.com'\n",
            "Email sent successfully\n"
          ]
        }
      ]
    },
    {
      "cell_type": "markdown",
      "source": [
        "**Problem 9 : Social Media Profile**"
      ],
      "metadata": {
        "id": "uzuwFTb41U3T"
      }
    },
    {
      "cell_type": "markdown",
      "source": [
        "Create a class representing a social media profile with attributes like username and posts. Implement methods to add posts, display posts, and search for posts by keyword."
      ],
      "metadata": {
        "id": "RXrSITVT1SoD"
      }
    },
    {
      "cell_type": "code",
      "source": [
        "class SocialMediaProfile :\n",
        "\n",
        "  def __init__(self, username) :\n",
        "    self.username = username\n",
        "    self.posts = []\n",
        "\n",
        "  def add_post(self, post) :\n",
        "    self.posts.append(post)\n",
        "\n",
        "  def display_posts(self) :\n",
        "    if not self.posts :\n",
        "      print(\"No posts to display.\")\n",
        "    else:\n",
        "      print(f\"Posts by {self.username}:\")\n",
        "      for post in self.posts :\n",
        "        print(post)\n",
        "    print()\n",
        "\n",
        "  def search_posts_by_keyword(self, keyword) :\n",
        "    matching_posts = []\n",
        "    for post in self.posts :\n",
        "      if keyword.lower() in post.lower() :\n",
        "        matching_posts.append(post)\n",
        "    if not matching_posts :\n",
        "      print(f\"No posts found containing the keyword '{keyword}'.\")\n",
        "    else :\n",
        "      print(f\"Posts by {self.username} containing '{keyword}':\")\n",
        "      for post in matching_posts :\n",
        "        print(post)\n",
        "    print()\n",
        "\n",
        "if __name__ == \"__main__\" :\n",
        "  profile = SocialMediaProfile(\"example_user\")\n",
        "\n",
        "  profile.add_post(\"Hello, this is my first post!\")\n",
        "  profile.add_post(\"Just chilling on a lazy Sunday afternoon.\")\n",
        "  profile.add_post(\"Excited to share some big news tomorrow!\")\n",
        "\n",
        "  profile.display_posts()\n",
        "\n",
        "  profile.search_posts_by_keyword(\"lazy\")\n",
        "  profile.search_posts_by_keyword(\"news\")\n",
        "  profile.search_posts_by_keyword(\"vacation\")"
      ],
      "metadata": {
        "id": "hcB4DhJBRDaz",
        "colab": {
          "base_uri": "https://localhost:8080/"
        },
        "outputId": "a9cb63ce-595c-498c-ef53-32d00fb75a91"
      },
      "execution_count": 5,
      "outputs": [
        {
          "output_type": "stream",
          "name": "stdout",
          "text": [
            "Posts by example_user:\n",
            "Hello, this is my first post!\n",
            "Just chilling on a lazy Sunday afternoon.\n",
            "Excited to share some big news tomorrow!\n",
            "\n",
            "Posts by example_user containing 'lazy':\n",
            "Just chilling on a lazy Sunday afternoon.\n",
            "\n",
            "Posts by example_user containing 'news':\n",
            "Excited to share some big news tomorrow!\n",
            "\n",
            "No posts found containing the keyword 'vacation'.\n",
            "\n"
          ]
        }
      ]
    },
    {
      "cell_type": "markdown",
      "source": [
        "**Problem 10 : ToDo List**"
      ],
      "metadata": {
        "id": "p1RPf92U6T2i"
      }
    },
    {
      "cell_type": "markdown",
      "source": [
        "Create a class representing a ToDo list with attributes like tasks and due dates. Implement methods to add tasks, mark tasks as completed, and display pending tasks."
      ],
      "metadata": {
        "id": "txfBmbMd6VLq"
      }
    },
    {
      "cell_type": "code",
      "source": [
        "class ToDoList :\n",
        "\n",
        "  def __init__(self):\n",
        "    self.tasks = {}\n",
        "\n",
        "  def add_task(self, task, due_date) :\n",
        "    self.tasks[task] = due_date\n",
        "\n",
        "  def mark_task_completed(self, task) :\n",
        "    if task in self.tasks :\n",
        "      del self.tasks[task]\n",
        "      print(f\"Task '{task}' marked as completed.\")\n",
        "    else:\n",
        "      print(f\"Task '{task}' not found.\")\n",
        "    print()\n",
        "\n",
        "  def display_pending_tasks(self):\n",
        "    if not self.tasks:\n",
        "      print(\"No pending tasks.\")\n",
        "    else:\n",
        "      print(\"Pending tasks:\")\n",
        "      for task, due_date in self.tasks.items():\n",
        "        print(f\"- {task} (Due: {due_date})\")\n",
        "    print()\n",
        "\n",
        "\n",
        "if __name__ == \"__main__\" :\n",
        "    todo_list = ToDoList()\n",
        "\n",
        "    todo_list.add_task(\"Complete project proposal\", \"2024-05-15\")\n",
        "    todo_list.add_task(\"Buy groceries\", \"2024-05-10\")\n",
        "    todo_list.add_task(\"Call mom\", \"2024-05-12\")\n",
        "\n",
        "    todo_list.display_pending_tasks()\n",
        "\n",
        "    todo_list.mark_task_completed(\"Buy groceries\")\n",
        "    todo_list.mark_task_completed(\"Review book\")\n",
        "\n",
        "    todo_list.display_pending_tasks()\n"
      ],
      "metadata": {
        "colab": {
          "base_uri": "https://localhost:8080/"
        },
        "id": "zHDPXkpy5oGp",
        "outputId": "a61ce169-9820-447a-a97f-0ea78e14d3eb"
      },
      "execution_count": 6,
      "outputs": [
        {
          "output_type": "stream",
          "name": "stdout",
          "text": [
            "Pending tasks:\n",
            "- Complete project proposal (Due: 2024-05-15)\n",
            "- Buy groceries (Due: 2024-05-10)\n",
            "- Call mom (Due: 2024-05-12)\n",
            "\n",
            "Task 'Buy groceries' marked as completed.\n",
            "\n",
            "Task 'Review book' not found.\n",
            "\n",
            "Pending tasks:\n",
            "- Complete project proposal (Due: 2024-05-15)\n",
            "- Call mom (Due: 2024-05-12)\n",
            "\n"
          ]
        }
      ]
    }
  ]
}