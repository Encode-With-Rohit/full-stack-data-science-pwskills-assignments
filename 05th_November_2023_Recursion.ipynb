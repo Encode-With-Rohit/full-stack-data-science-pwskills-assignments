{
  "nbformat": 4,
  "nbformat_minor": 0,
  "metadata": {
    "colab": {
      "provenance": []
    },
    "kernelspec": {
      "name": "python3",
      "display_name": "Python 3"
    },
    "language_info": {
      "name": "python"
    }
  },
  "cells": [
    {
      "cell_type": "markdown",
      "source": [
        "Q1. Can you explain the logic and working of the Tower of Hanoi algorithm by writing a Python program?\n",
        "\n",
        "How does the recursion work, and how are the movements of disks between rods accomplished?"
      ],
      "metadata": {
        "id": "mzJq5WeQI0C7"
      }
    },
    {
      "cell_type": "code",
      "execution_count": 1,
      "metadata": {
        "colab": {
          "base_uri": "https://localhost:8080/"
        },
        "id": "fJudh4ioIkkX",
        "outputId": "af37c914-7053-4496-c967-0bd369c666e4"
      },
      "outputs": [
        {
          "output_type": "stream",
          "name": "stdout",
          "text": [
            "Move disk 1 from A to C\n",
            "Move disk 2 from A to B\n",
            "Move disk 1 from C to B\n",
            "Move disk 3 from A to C\n",
            "Move disk 1 from B to A\n",
            "Move disk 2 from B to C\n",
            "Move disk 1 from A to C\n"
          ]
        }
      ],
      "source": [
        "def tower_of_hanoi(n, source, destination, auxiliary) :\n",
        "  if n == 1 :\n",
        "    #Base case : Only one disk to move directly from source to destination\n",
        "    print(f\"Move disk 1 from {source} to {destination}\")\n",
        "    return\n",
        "\n",
        "  #Moving n-1 disks from source to auxiliary, using destination as auxiliary\n",
        "  tower_of_hanoi(n - 1, source, auxiliary, destination)\n",
        "\n",
        "  #Moving the nth disk from source to destination\n",
        "  print(f\"Move disk {n} from {source} to {destination}\")\n",
        "\n",
        "  #Moving the n-1 disks from auxiliary to destination, using source as auxiliary\n",
        "  tower_of_hanoi(n - 1, auxiliary, destination, source)\n",
        "\n",
        "n = 3\n",
        "tower_of_hanoi(n, 'A', 'C', 'B')"
      ]
    },
    {
      "cell_type": "markdown",
      "source": [
        "Q2. Given two strings word1 and word2, return the minimum number of operations required to convert word1 to word2.\n",
        "\n",
        "Example 1:\n",
        "\n",
        " Input: word1 = \"horse\", word2 = \"ros\"\n",
        "\n",
        " Output: 3\n",
        "\n",
        " Explanation:\n",
        "\n",
        " horse -> rorse (replace 'h' with 'r')\n",
        "\n",
        " rorse -> rose (remove 'r')\n",
        "\n",
        " rose -> ros (remove 'e')\n",
        "\n",
        "Example 2:\n",
        "\n",
        " Input: word1 = \"intention\", word2 = \"execution\"\n",
        "\n",
        " Output: 5\n",
        "\n",
        " Explanation:\n",
        "\n",
        " intention -> inention (remove 't')\n",
        "\n",
        " inention -> enention (replace 'i' with 'e')\n",
        "\n",
        " enention -> exention (replace 'n' with 'x')\n",
        "\n",
        " exention -> exection (replace 'n' with 'c')\n",
        "\n",
        " exection -> execution (insert 'u')"
      ],
      "metadata": {
        "id": "lTN6gOK9j56q"
      }
    },
    {
      "cell_type": "code",
      "source": [
        "def minDistance(word1, word2) :\n",
        "\n",
        "  m, n = len(word1), len(word2)\n",
        "  dp = [[0] * (n + 1) for _ in range(m + 1)]\n",
        "\n",
        "  for i in range(m + 1) :\n",
        "    dp[i][0] = i\n",
        "  for j in range(n + 1) :\n",
        "    dp[0][j] = j\n",
        "\n",
        "  for i in range(1, m + 1):\n",
        "    for j in range(1, n + 1):\n",
        "      if word1[i - 1] == word2[j - 1]:\n",
        "        dp[i][j] = dp[i - 1][j - 1]\n",
        "      else:\n",
        "        dp[i][j] = 1 + min(dp[i - 1][j],\n",
        "                           dp[i][j - 1],\n",
        "                           dp[i - 1][j - 1]\n",
        "                           )\n",
        "  return dp[m][n]\n",
        "\n",
        "word1 = \"horse\"\n",
        "word2 = \"ros\"\n",
        "print(minDistance(word1, word2))\n",
        "\n",
        "word1 = \"intention\"\n",
        "word2 = \"execution\"\n",
        "print(minDistance(word1, word2))\n"
      ],
      "metadata": {
        "colab": {
          "base_uri": "https://localhost:8080/"
        },
        "id": "N2qrtV6Siq4_",
        "outputId": "41aed570-38b7-40be-af2c-7196d82a5af6"
      },
      "execution_count": 3,
      "outputs": [
        {
          "output_type": "stream",
          "name": "stdout",
          "text": [
            "3\n",
            "5\n"
          ]
        }
      ]
    },
    {
      "cell_type": "markdown",
      "source": [
        "Q3. Print the max value of the array [13, 1, -3, 22, 5]"
      ],
      "metadata": {
        "id": "SxAga0XSlVQ7"
      }
    },
    {
      "cell_type": "code",
      "source": [
        "def find_max_rec(arr, n) :\n",
        "\n",
        "  if n==1 :\n",
        "    return arr[0]\n",
        "  return max(arr[n-1], find_max_rec(arr, n-1))\n",
        "\n",
        "arr = [13, 1, -3, 22, 5]\n",
        "n = len(arr)\n",
        "max_value = find_max_rec(arr, n)\n",
        "print(max_value)"
      ],
      "metadata": {
        "colab": {
          "base_uri": "https://localhost:8080/"
        },
        "id": "M2G-jGPFk5g3",
        "outputId": "8b3a12ae-2260-4deb-ca63-2b9971b5d8be"
      },
      "execution_count": 5,
      "outputs": [
        {
          "output_type": "stream",
          "name": "stdout",
          "text": [
            "22\n"
          ]
        }
      ]
    },
    {
      "cell_type": "markdown",
      "source": [
        "Q4. Find the sum of the values of the array [92, 23, 15, -20, 10]."
      ],
      "metadata": {
        "id": "Sz1C7rGgtoZf"
      }
    },
    {
      "cell_type": "code",
      "source": [
        "def sum_arr_rec(arr, n) :\n",
        "\n",
        "  if n == 0 :\n",
        "    return 0\n",
        "\n",
        "  return arr[n-1] + sum_arr_rec(arr, n-1)\n",
        "\n",
        "arr = [92, 23, 15, -20, 10]\n",
        "sum_arr_rec(arr, n)"
      ],
      "metadata": {
        "colab": {
          "base_uri": "https://localhost:8080/"
        },
        "id": "MVPsCiH_tgzC",
        "outputId": "9afec07d-79b6-4e27-f8a7-88051b0a1dd4"
      },
      "execution_count": 6,
      "outputs": [
        {
          "output_type": "execute_result",
          "data": {
            "text/plain": [
              "120"
            ]
          },
          "metadata": {},
          "execution_count": 6
        }
      ]
    },
    {
      "cell_type": "markdown",
      "source": [
        "Q.5 Given a number n. Print if it is an armstrong number or not.An armstrong number is a number if the sum\n",
        "of every digit in that number raised to the power of total digits in that number is equal to the number.\n",
        "\n",
        "Example : 153 = 1^3 + 5^3 + 3^3 = 1 + 125 + 27 = 153 hence 153 is an armstrong number. (Easy)\n",
        "\n",
        "\n",
        "Input1 : 153\n",
        "\n",
        "\n",
        "Output1 : Yes\n",
        "\n",
        "\n",
        "\n",
        "Input 2 : 134\n",
        "\n",
        "Output2 : No"
      ],
      "metadata": {
        "id": "fPe86IErXcvV"
      }
    },
    {
      "cell_type": "code",
      "source": [
        "def is_armstrong(n) :\n",
        "\n",
        "  digits = str(n)\n",
        "  num_digits = len(digits)\n",
        "\n",
        "  sum_all_digits = sum(int(digit) ** num_digits for digit in digits)\n",
        "\n",
        "  if sum_all_digits == n :\n",
        "    print(f\"Yes, number {n} is armstrong\")\n",
        "  else :\n",
        "    print(f\"No, number {n} is not armstrong\")\n",
        "\n",
        "n1 = 153\n",
        "n2 = 134\n",
        "\n",
        "is_armstrong(n1)\n",
        "is_armstrong(n2)"
      ],
      "metadata": {
        "colab": {
          "base_uri": "https://localhost:8080/"
        },
        "id": "geoyKlIX_U3Y",
        "outputId": "7d12edb8-da83-46e0-9e8a-410a89ddd467"
      },
      "execution_count": 13,
      "outputs": [
        {
          "output_type": "stream",
          "name": "stdout",
          "text": [
            "Yes, number 153 is armstrong\n",
            "No, number 134 is not armstrong\n"
          ]
        }
      ]
    },
    {
      "cell_type": "code",
      "source": [],
      "metadata": {
        "id": "P7bqGz3tY5XL"
      },
      "execution_count": null,
      "outputs": []
    }
  ]
}