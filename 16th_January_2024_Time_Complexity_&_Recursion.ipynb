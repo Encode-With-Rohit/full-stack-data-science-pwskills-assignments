{
  "nbformat": 4,
  "nbformat_minor": 0,
  "metadata": {
    "colab": {
      "provenance": []
    },
    "kernelspec": {
      "name": "python3",
      "display_name": "Python 3"
    },
    "language_info": {
      "name": "python"
    }
  },
  "cells": [
    {
      "cell_type": "markdown",
      "source": [
        "# **Find time complexity of below code blocks :**\n",
        "\n",
        "---\n",
        "\n"
      ],
      "metadata": {
        "id": "-KF_IsFI64xx"
      }
    },
    {
      "cell_type": "markdown",
      "source": [
        "Problem 1 :"
      ],
      "metadata": {
        "id": "eAN4g-wb8w6P"
      }
    },
    {
      "cell_type": "code",
      "execution_count": null,
      "metadata": {
        "id": "gNAI8R3MwGgs"
      },
      "outputs": [],
      "source": [
        "def quicksort(arr):\n",
        "\n",
        "  if len(arr) <= 1:\n",
        "\n",
        "      return arr\n",
        "\n",
        "  pivot = arr[len(arr) // 2]\n",
        "\n",
        "  left = [x for x in arr if x < pivot]\n",
        "\n",
        "  middle = [x for x in arr if x == pivot]\n",
        "\n",
        "  right = [x for x in arr if x > pivot]\n",
        "\n",
        "  return quicksort(left) + middle + quicksort(right)"
      ]
    },
    {
      "cell_type": "markdown",
      "source": [
        "Ans : The worst-case time complexity of the quicksort algorithm is : O(n**2)"
      ],
      "metadata": {
        "id": "M44fZbvuCO-O"
      }
    },
    {
      "cell_type": "markdown",
      "source": [
        "Problem 2 :"
      ],
      "metadata": {
        "id": "v12BWyKCCrxO"
      }
    },
    {
      "cell_type": "code",
      "source": [
        "def nested_loop_example(matrix):\n",
        "\n",
        "  rows, cols = len(matrix), len(matrix[0])\n",
        "\n",
        "  total = 0\n",
        "\n",
        "  for i in range(rows):\n",
        "\n",
        "    for j in range(cols):\n",
        "\n",
        "      total += matrix[i][j]\n",
        "\n",
        "  return total"
      ],
      "metadata": {
        "id": "DTLejgcyCI1Q"
      },
      "execution_count": null,
      "outputs": []
    },
    {
      "cell_type": "markdown",
      "source": [
        "Ans :\n",
        "\n",
        "The outer loop runs rows times, i.e., O(r).\n",
        "\n",
        "The inner loop runs cols times for each iteration of the outer loop, i.e., O(c).\n",
        "\n",
        "Therefore, the time complexity of the nested loops is O(r×c)"
      ],
      "metadata": {
        "id": "ceUSAFtJC2Cb"
      }
    },
    {
      "cell_type": "markdown",
      "source": [
        "Problem 3 :"
      ],
      "metadata": {
        "id": "BKb4v8peD6Uj"
      }
    },
    {
      "cell_type": "code",
      "source": [
        "def example_function(arr):\n",
        "\n",
        "  result = 0\n",
        "\n",
        "  for element in arr:\n",
        "\n",
        "    result += element\n",
        "\n",
        "  return result"
      ],
      "metadata": {
        "id": "x5VEgV1tDyw2"
      },
      "execution_count": null,
      "outputs": []
    },
    {
      "cell_type": "markdown",
      "source": [
        "Ans : If the length of the list arr is n, the loop runs n times, and each iteration involves a constant time operation. Thus, the total time complexity of the loop is: O(n)"
      ],
      "metadata": {
        "id": "KAI1FDmhEHtf"
      }
    },
    {
      "cell_type": "code",
      "source": [
        "def longest_increasing_subsequence(nums):\n",
        "\n",
        "  n = len(nums)\n",
        "\n",
        "  lis = [1] * n\n",
        "\n",
        "  for i in range(1, n):\n",
        "\n",
        "    for j in range(0, i):\n",
        "\n",
        "      if nums[i] > nums[j] and lis[i] < lis[j] + 1:\n",
        "\n",
        "        lis[i] = lis[j] + 1\n",
        "\n",
        "  return max(lis)"
      ],
      "metadata": {
        "id": "YY-9coc2D8ev"
      },
      "execution_count": null,
      "outputs": []
    },
    {
      "cell_type": "markdown",
      "source": [
        "Ans : To determine the total time complexity of the nested loops, we sum the number of operations performed by the inner loop for each iteration of the outer loop : [(n−1)*n​]/2\n",
        "\n",
        "The time complexity of this series is O(n**2)\n",
        "\n"
      ],
      "metadata": {
        "id": "PKZ-8g3sEuGr"
      }
    },
    {
      "cell_type": "markdown",
      "source": [
        "Problem 5 :"
      ],
      "metadata": {
        "id": "jQx91kd1FSTK"
      }
    },
    {
      "cell_type": "code",
      "source": [
        "def mysterious_function(arr):\n",
        "\n",
        "  n = len(arr)\n",
        "\n",
        "  result = 0\n",
        "\n",
        "  for i in range(n):\n",
        "\n",
        "    for j in range(i, n):\n",
        "\n",
        "      result += arr[i] * arr[j]\n",
        "\n",
        "  return result"
      ],
      "metadata": {
        "id": "ZNKuKH4XFUXt"
      },
      "execution_count": null,
      "outputs": []
    },
    {
      "cell_type": "markdown",
      "source": [
        "Ans : To determine the total time complexity of the nested loops, we sum the number of operations performed by the inner loop for each iteration of the outer loop : [(n−1)*n​]/2\n",
        "\n",
        "The time complexity of this series is O(n**2)"
      ],
      "metadata": {
        "id": "cx27oPwXFZ5r"
      }
    },
    {
      "cell_type": "markdown",
      "source": [
        "# **Solve the following problems on recursion**\n",
        "\n",
        "---\n",
        "\n"
      ],
      "metadata": {
        "id": "b3BfzChlFsNQ"
      }
    },
    {
      "cell_type": "markdown",
      "source": [
        "Problem 6 : Sum of Digits\n",
        "\n",
        "Write a recursive function to calculate the sum of digits of a given positive integer.\n",
        "\n",
        "sum_of_digits(123) -> 6"
      ],
      "metadata": {
        "id": "HSn0b6VcFv4I"
      }
    },
    {
      "cell_type": "code",
      "source": [
        "def sum_of_digits(n) :\n",
        "\n",
        "  if n < 10 :\n",
        "    return n\n",
        "  else :\n",
        "    return n%10 + sum_of_digits(n//10)\n",
        "\n",
        "print(sum_of_digits(123))"
      ],
      "metadata": {
        "colab": {
          "base_uri": "https://localhost:8080/"
        },
        "id": "HjOnqYToFrz_",
        "outputId": "63bd179c-02bc-4951-8693-03a20ec64d7c"
      },
      "execution_count": null,
      "outputs": [
        {
          "output_type": "stream",
          "name": "stdout",
          "text": [
            "6\n"
          ]
        }
      ]
    },
    {
      "cell_type": "markdown",
      "source": [
        "Problem 7 : Fibonacci Series\n",
        "\n",
        "Write a recursive function to generate the first n numbers of the Fibonacci series.\n",
        "\n",
        "fibonacci_series(6) -> [0, 1, 1, 2, 3, 5]"
      ],
      "metadata": {
        "id": "tCtwYsKLOn0S"
      }
    },
    {
      "cell_type": "code",
      "source": [
        "def fibonacci(n) :\n",
        "\n",
        "  if n == 1 :\n",
        "    return [0]\n",
        "  elif n == 2 :\n",
        "    return [0, 1]\n",
        "  else :\n",
        "    fib_series = fibonacci(n-1)\n",
        "    fib_series.append(fib_series[-1] + fib_series[-2])\n",
        "    return fib_series\n",
        "\n",
        "fibonacci(6)"
      ],
      "metadata": {
        "colab": {
          "base_uri": "https://localhost:8080/"
        },
        "id": "lZw71bHGNsNd",
        "outputId": "eba56b94-0439-454e-b391-4fbe2b180fc7"
      },
      "execution_count": null,
      "outputs": [
        {
          "output_type": "execute_result",
          "data": {
            "text/plain": [
              "[0, 1, 1, 2, 3, 5]"
            ]
          },
          "metadata": {},
          "execution_count": 1
        }
      ]
    },
    {
      "cell_type": "markdown",
      "source": [
        "Problem 8 : Subset Sum\n",
        "\n",
        "Given a set of positive integers and a target sum, write a recursive function to determine if there exists a subset\n",
        "of the integers that adds up to the target sum.\n",
        "\n",
        "subset_sum([3, 34, 4, 12, 5, 2], 9) -> True"
      ],
      "metadata": {
        "id": "Xm--ndSpqtaL"
      }
    },
    {
      "cell_type": "code",
      "source": [
        "def is_subset_available(arr, target) :\n",
        "\n",
        "  def sum_subset(arr, n , target) :\n",
        "\n",
        "    if target == 0 :\n",
        "      return True\n",
        "    if n==0 and target != 0 :\n",
        "      return False\n",
        "\n",
        "    if arr[n-1] > target :\n",
        "      return sum_subset(arr, n-1, target)\n",
        "    else :\n",
        "      return sum_subset(arr, n-1, target) or sum_subset(arr, n-1, target-arr[n-1])\n",
        "\n",
        "  return sum_subset(arr, len(arr), target)\n",
        "\n",
        "is_subset_available([3, 34, 4, 12, 5, 2], 9)"
      ],
      "metadata": {
        "id": "bSJ8UZdZqjpE",
        "colab": {
          "base_uri": "https://localhost:8080/"
        },
        "outputId": "69c9a71d-7ddf-4a79-c694-4120166f8093"
      },
      "execution_count": 2,
      "outputs": [
        {
          "output_type": "execute_result",
          "data": {
            "text/plain": [
              "True"
            ]
          },
          "metadata": {},
          "execution_count": 2
        }
      ]
    },
    {
      "cell_type": "markdown",
      "source": [
        "Problem 9 : Word Break\n",
        "\n",
        "Given a non-empty string and a dictionary of words, write a recursive function to determine if the string can be segmented into a space-separated sequence of dictionary words.\n",
        "\n",
        "word_break( leetcode , [ leet , code ]) -> True"
      ],
      "metadata": {
        "id": "DYQivlPN0z1Z"
      }
    },
    {
      "cell_type": "code",
      "source": [
        "def word_break(word, word_list) :\n",
        "\n",
        "  def can_break(word) :\n",
        "\n",
        "    if not word :\n",
        "      return True\n",
        "\n",
        "    for i in range(1, len(word)+1) :\n",
        "      if word[:i] in word_list and can_break(word[i:]) :\n",
        "        return True\n",
        "    return False\n",
        "\n",
        "  return can_break(word)\n",
        "\n",
        "word_break(\"leetcode\", [\"leet\", \"code\"])"
      ],
      "metadata": {
        "colab": {
          "base_uri": "https://localhost:8080/"
        },
        "id": "bB7XSoCt0SMK",
        "outputId": "65743096-593d-4237-a13e-5935db3ba7a1"
      },
      "execution_count": 1,
      "outputs": [
        {
          "output_type": "execute_result",
          "data": {
            "text/plain": [
              "True"
            ]
          },
          "metadata": {},
          "execution_count": 1
        }
      ]
    },
    {
      "cell_type": "markdown",
      "source": [
        "Problem 10 : N-Queens\n",
        "\n",
        "Implement a recursive function to solve the N Queens problem, where you have to place N queens on an N×N\n",
        "chessboard in such a way that no two queens threaten each other.\n",
        "\n",
        "n_queens(4)\n",
        "\n",
        "[\n",
        "\n",
        " [\".Q..\",\n",
        "\n",
        "  \"...Q\",\n",
        "\n",
        "  \"Q...\",\n",
        "\n",
        "  \"..Q.\"],\n",
        "\n",
        " [\"..Q.\",\n",
        "\n",
        "  \"Q...\",\n",
        "\n",
        "  \"...Q\",\n",
        "\n",
        "  \".Q..\"]\n",
        "\n",
        "]"
      ],
      "metadata": {
        "id": "CZiG5ZsA8Y0v"
      }
    },
    {
      "cell_type": "code",
      "source": [
        "def isSafeToPlaceQueen(board , row , col , n):\n",
        "\n",
        "  # Check in the left side\n",
        "  for i in range(col) :\n",
        "    if board[row][i] == 1 :\n",
        "      return False\n",
        "\n",
        "  #Check in the upper left diagonal\n",
        "  for i, j in zip(range(row,-1,-1),range(col,-1,-1)) :\n",
        "    if board[i][j] == 1 :\n",
        "      return False\n",
        "\n",
        "  #Check in the lower left diagonal\n",
        "  for i,j in zip(range(row,n,1 ), range(col, -1,-1)) :\n",
        "    if board[i][j] == 1 :\n",
        "      return False\n",
        "\n",
        "  return True\n",
        "\n",
        "def solveNQ(board,n):\n",
        "\n",
        "  if not solveNQUtil(board,0,n) :\n",
        "    print(\"Solution doesn't exist\")\n",
        "    return\n",
        "\n",
        "  printBoard(board,n)\n",
        "\n",
        "#Should return True if we are able to place all the queens\n",
        "def solveNQUtil(board , col , n) :\n",
        "\n",
        "  if(col >=n) :\n",
        "    return True\n",
        "\n",
        "  for row in range(n) :\n",
        "    if isSafeToPlaceQueen(board, row, col, n) :\n",
        "      board[row][col] = 1\n",
        "\n",
        "      #Recursively try for the next columns\n",
        "      if solveNQUtil(board, col+1, n) :\n",
        "        return True\n",
        "\n",
        "      #Back Tracking\n",
        "      board[row][col]= 0\n",
        "\n",
        "  return False\n",
        "\n",
        "def printBoard(board, n) :\n",
        "\n",
        "  for i in range(n) :\n",
        "    for j in range(n) :\n",
        "      if board[i][j] == 1 :\n",
        "        print(\"Q\",end=\" \")\n",
        "      else :\n",
        "        print(\".\",end=\" \")\n",
        "    print()\n",
        "\n",
        "board = [[0,0,0,0],\n",
        "         [0,0,0,0],\n",
        "         [0,0,0,0],\n",
        "         [0,0,0,0]\n",
        "         ]\n",
        "solveNQ(board,4)"
      ],
      "metadata": {
        "colab": {
          "base_uri": "https://localhost:8080/"
        },
        "id": "qreXr2MM8DiV",
        "outputId": "c31f7779-e8d8-464b-b17a-5c3df46ad89f"
      },
      "execution_count": 3,
      "outputs": [
        {
          "output_type": "stream",
          "name": "stdout",
          "text": [
            ". . Q . \n",
            "Q . . . \n",
            ". . . Q \n",
            ". Q . . \n"
          ]
        }
      ]
    },
    {
      "cell_type": "code",
      "source": [],
      "metadata": {
        "id": "hhtjiWZySup7"
      },
      "execution_count": null,
      "outputs": []
    }
  ]
}