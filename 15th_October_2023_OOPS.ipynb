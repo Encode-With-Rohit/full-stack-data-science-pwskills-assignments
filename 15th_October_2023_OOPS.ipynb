{
  "nbformat": 4,
  "nbformat_minor": 0,
  "metadata": {
    "colab": {
      "provenance": []
    },
    "kernelspec": {
      "name": "python3",
      "display_name": "Python 3"
    },
    "language_info": {
      "name": "python"
    }
  },
  "cells": [
    {
      "cell_type": "markdown",
      "source": [
        "# **Constructor :**\n",
        "\n",
        "---\n",
        "\n"
      ],
      "metadata": {
        "id": "7uY2HfDfNlL3"
      }
    },
    {
      "cell_type": "markdown",
      "source": [
        "1. What is a constructor in Python? Explain its purpose and usage."
      ],
      "metadata": {
        "id": "YF18uldbNtPO"
      }
    },
    {
      "cell_type": "code",
      "execution_count": null,
      "metadata": {
        "id": "mWM9Fh2ULE6Y"
      },
      "outputs": [],
      "source": [
        "# Explaination :\n",
        "  # A constructor is a special method within a class that is automatically called when a new instance of the class is created.\n",
        "  # In Python the constructor method is always named \"__init__()\"\n",
        "# Purpose :\n",
        "  # It allows you to ensure that the object is properly initialized when it's created.\n",
        "# Usage :\n",
        "  # It sets up the initial state of the object, making it ready for use."
      ]
    },
    {
      "cell_type": "markdown",
      "source": [
        "2. Differentiate between a parameterless constructor and a parameterized constructor in Python."
      ],
      "metadata": {
        "id": "fKgGSJeuQ3q4"
      }
    },
    {
      "cell_type": "code",
      "source": [
        "# Parameterless constructor :\n",
        "  # A parameterless constructor, as the name suggests, does not accept any parameters.\n",
        "  # It's typically used when the initialization of the object does not require any input or external information.\n",
        "# Parameterized constructor :\n",
        "  # A parameterized constructor accepts one or more parameters.\n",
        "  # It's used when the initialization of the object requires external information, and you want to pass that information during object creation."
      ],
      "metadata": {
        "id": "2yF93olORAc-"
      },
      "execution_count": null,
      "outputs": []
    },
    {
      "cell_type": "markdown",
      "source": [
        "3. How do you define a constructor in a Python class? Provide an example."
      ],
      "metadata": {
        "id": "9spoJVs2Q-q-"
      }
    },
    {
      "cell_type": "code",
      "source": [
        "# In Python, one can define a constructor within a class by creating a method named \"__init__()\".\n",
        "# This method is automatically called when a new instance of the class is created.\n",
        "\n",
        "'''\n",
        "In the below example a class 'Hooman' is created whose constructor __init__() having instance 'self' automatically calls\n",
        "and the instance's attributes i.e. 'name' & 'age' are initialized according to the values provided during objects (person1 & person2) creation.\n",
        "'''\n",
        "\n",
        "class Hooman :\n",
        "\n",
        "  def __init__(self, name, age) :\n",
        "    self.name = name\n",
        "    self.age = age\n",
        "\n",
        "  def display_person_details(self) :\n",
        "    print (f\"Name : {self.name}, Age : {self.age}\")\n",
        "\n",
        "person1 = Hooman(\"Rohit\", 33)\n",
        "person2 = Hooman(\"Sushant\", 32)\n",
        "\n",
        "person1.display_person_details()\n",
        "person2.display_person_details()\n"
      ],
      "metadata": {
        "colab": {
          "base_uri": "https://localhost:8080/"
        },
        "id": "E6gqUic5Q8Tr",
        "outputId": "4a682878-6c8b-4040-c5d4-20da1e24ee7c"
      },
      "execution_count": null,
      "outputs": [
        {
          "output_type": "stream",
          "name": "stdout",
          "text": [
            "Name : Rohit, Age : 33\n",
            "Name : Sushant, Age : 32\n"
          ]
        }
      ]
    },
    {
      "cell_type": "markdown",
      "source": [
        "4. Explain the `__init__` method in Python and its role in constructors."
      ],
      "metadata": {
        "id": "vYGS2T4mWKLV"
      }
    },
    {
      "cell_type": "code",
      "source": [
        "'''\n",
        "The primary role of \"__init__\" method is to initialize the object's state by setting up\n",
        "initial values for its attributes or performing any other necessary initialization tasks.\n",
        "'''\n",
        "\n",
        "'''\n",
        " The __init__() method serves as the constructor for Python classes. It is responsible\n",
        " for constructing instances of the class and ensuring they are properly initialized.\n",
        " '''"
      ],
      "metadata": {
        "id": "Qcbs68fEUbSh"
      },
      "execution_count": null,
      "outputs": []
    },
    {
      "cell_type": "markdown",
      "source": [
        "5. In a class named `Person`, create a constructor that initializes the `name` and `age` attributes. Provide an example of creating an object of this class."
      ],
      "metadata": {
        "id": "aXiRRNxcbwSI"
      }
    },
    {
      "cell_type": "code",
      "source": [
        "#Creating a class 'Person'\n",
        "class Person:\n",
        "\n",
        "  #Creating constructor using '__init__' and instance 'self' having attributes 'name' & 'age'\n",
        "  def __init__(self, name, age):\n",
        "    self.name = name\n",
        "    self.age = age\n",
        "\n",
        "#Creating objects 'person1' & 'person2' of the 'Person' class\n",
        "person1 = Person(\"Rohit\", 33)\n",
        "person2 = Person(\"Sushant\", 32)\n",
        "\n",
        "#Accessing attributes of the instances\n",
        "print(f\"Name : {person1.name}, Age : {person1.age}\")\n",
        "print(f\"Name : {person2.name}, Age : {person2.age}\")"
      ],
      "metadata": {
        "colab": {
          "base_uri": "https://localhost:8080/"
        },
        "id": "emiqwXNEb0px",
        "outputId": "fa593ffe-e295-4ef6-f32c-850e3f384298"
      },
      "execution_count": null,
      "outputs": [
        {
          "output_type": "stream",
          "name": "stdout",
          "text": [
            "Name : Rohit, Age : 33\n",
            "Name : Sushant, Age : 32\n"
          ]
        }
      ]
    },
    {
      "cell_type": "markdown",
      "source": [
        "6. How can you call a constructor explicitly in Python? Give an example."
      ],
      "metadata": {
        "id": "B0SXsAz-dMEC"
      }
    },
    {
      "cell_type": "code",
      "source": [
        "'''\n",
        "In Python, one do not typically call the constructor __init__() method explicitly.\n",
        "Instead, it's automatically invoked when you create a new instance of a class.\n",
        "In cases where you want to perform certain initialization tasks separately from object creation you can define additional methods and call them explicitly.\n",
        "'''\n",
        "\n",
        "#Creating a class 'Person'\n",
        "class Person:\n",
        "\n",
        "  #Creating constructor using '__init__' and instance 'self' having attributes 'name' & 'age'\n",
        "  def __init__(self, name, age):\n",
        "    self.name = name\n",
        "    self.age = age\n",
        "\n",
        "  def add_place(self, place) :\n",
        "    self.place = place\n",
        "\n",
        "#Creating instances 'person1' & 'person2' of the 'Person' class\n",
        "person1 = Person(\"Rohit\", 33)\n",
        "person2 = Person(\"Sushant\", 32)\n",
        "\n",
        "#Explicitily calling other method 'add_place'\n",
        "person1.add_place(\"Patna\")\n",
        "person2.add_place(\"Mumbai\")\n",
        "\n",
        "#Accessing attributes of the instances\n",
        "print(f\"Name : {person1.name}, Age : {person1.age}, Place : {person1.place}\")\n",
        "print(f\"Name : {person2.name}, Age : {person2.age}, Place : {person2.place}\")\n"
      ],
      "metadata": {
        "colab": {
          "base_uri": "https://localhost:8080/"
        },
        "id": "0zcK0Acac3zK",
        "outputId": "63b968a2-1ed9-4d2d-9c79-3fdd94043614"
      },
      "execution_count": null,
      "outputs": [
        {
          "output_type": "stream",
          "name": "stdout",
          "text": [
            "Name : Rohit, Age : 33, Place : Patna\n",
            "Name : Sushant, Age : 32, Place : Mumbai\n"
          ]
        }
      ]
    },
    {
      "cell_type": "markdown",
      "source": [
        "7. What is the significance of the `self` parameter in Python constructors? Explain with an example."
      ],
      "metadata": {
        "id": "GRxAHKvyjDzh"
      }
    },
    {
      "cell_type": "code",
      "source": [
        "'''\n",
        "Self parameter is a convention used in Python to refer the instance being operated on within the class.\n",
        "The self parameter in class constructors (and all other instance methods) serves as a reference to the instance of the class itself.\n",
        "'''\n",
        "'''\n",
        "Below is an example, we have a Person class with an __init__ method serving as the constructor.\n",
        "The constructor initializes the instance variables name and age. Again, self is used to refer the instance being created.\n",
        "When we create instances of the Person class (person1 and person2), Python automatically passes the instance as the first argument (self) to the __init__ method.\n",
        "This allows us to work with the specific attributes and behaviors of each instance within the class methods.\n",
        "'''\n",
        "\n",
        "#Creating a class 'Person'\n",
        "class Person:\n",
        "\n",
        "  #Creating constructor using '__init__' and instance 'self' having attributes 'name' & 'age'\n",
        "  def __init__(self, name, age):\n",
        "    self.name = name\n",
        "    self.age = age\n",
        "\n",
        "#Creating objects 'person1' & 'person2' of the 'Person' class\n",
        "person1 = Person(\"Rohit\", 33)\n",
        "person2 = Person(\"Sushant\", 32)\n",
        "\n",
        "#Accessing attributes of the instances\n",
        "print(f\"Name : {person1.name}, Age : {person1.age}\")\n",
        "print(f\"Name : {person2.name}, Age : {person2.age}\")"
      ],
      "metadata": {
        "id": "SzxBOIbuijmu",
        "colab": {
          "base_uri": "https://localhost:8080/"
        },
        "outputId": "687c00f9-3b92-4621-f57b-9f17031898db"
      },
      "execution_count": null,
      "outputs": [
        {
          "output_type": "stream",
          "name": "stdout",
          "text": [
            "Name : Rohit, Age : 33\n",
            "Name : Sushant, Age : 32\n"
          ]
        }
      ]
    },
    {
      "cell_type": "markdown",
      "source": [
        "8. Discuss the concept of default constructors in Python. When are they used?"
      ],
      "metadata": {
        "id": "T8_rJiIHABCu"
      }
    },
    {
      "cell_type": "code",
      "source": [
        "# In Python, there isn't a specific notion of default constructors.\n",
        "# However, Python classes can have an __init__ method, which serves as a constructor.\n",
        "'''\n",
        "If you don't define an __init__ method, Python provides a default one, but it doesn't do anything special\n",
        "unless you're inheriting from a class that has its own __init__ method.\n",
        "It is used when someone wants to 'Initialize instance variables', 'Perform setup tasks', 'Perform inheritance' & 'Customize object creation'\n",
        "'''"
      ],
      "metadata": {
        "id": "c4fvI23B_6h5"
      },
      "execution_count": null,
      "outputs": []
    },
    {
      "cell_type": "markdown",
      "source": [
        "9. Create a Python class called `Rectangle` with a constructor that initializes the `width` and `height` attributes. Provide a method to calculate the area of the rectangle."
      ],
      "metadata": {
        "id": "9uSM8U1tV4qB"
      }
    },
    {
      "cell_type": "code",
      "source": [
        "class Rectangle:\n",
        "\n",
        "  def __init__(self, width, height):\n",
        "    self.width = width\n",
        "    self.height = height\n",
        "\n",
        "  def calculate_area(self):\n",
        "    return self.width * self.height\n",
        "\n",
        "rectangular_pool_table = Rectangle(5, 4)\n",
        "area = rectangular_pool_table.calculate_area()\n",
        "print(\"Area of the rectangle:\", area)"
      ],
      "metadata": {
        "colab": {
          "base_uri": "https://localhost:8080/"
        },
        "id": "uRpA3qyDV7RV",
        "outputId": "92469643-e74b-4e0c-836e-07f8f6bd3cd5"
      },
      "execution_count": null,
      "outputs": [
        {
          "output_type": "stream",
          "name": "stdout",
          "text": [
            "Area of the rectangle: 20\n"
          ]
        }
      ]
    },
    {
      "cell_type": "markdown",
      "source": [
        "10. How can you have multiple constructors in a Python class? Explain with an example."
      ],
      "metadata": {
        "id": "UK7nlojgFBg9"
      }
    },
    {
      "cell_type": "code",
      "source": [
        "'''\n",
        "In Python, you can't have multiple constructors like some other programming languages.\n",
        "However, you can achieve similar functionality by using default parameter values and class methods.\n",
        "'''\n",
        "'''\n",
        "One common approach is to define a single constructor that handles multiple cases based on the arguments passed to it. Here's an example:\n",
        "'''\n",
        "\n",
        "class Person:\n",
        "\n",
        "  def __init__(self, name=None, age=None) :\n",
        "\n",
        "    if name is not None and age is not None :\n",
        "      self.name = name\n",
        "      self.age = age\n",
        "    elif name is not None :\n",
        "      self.name = name\n",
        "      self.age = \"Unknown\"\n",
        "    else :\n",
        "      self.name = \"Unknown\"\n",
        "      self.age = \"Unknown\"\n",
        "\n",
        "  def __str__(self) :\n",
        "    return f\"Name: {self.name}, Age: {self.age}\"\n",
        "\n",
        "# Creating objects using different constructors\n",
        "person1 = Person(\"Rohit\", 33)\n",
        "person2 = Person(\"Varun\")\n",
        "person3 = Person()\n",
        "\n",
        "print(person1)\n",
        "print(person2)\n",
        "print(person3)\n"
      ],
      "metadata": {
        "id": "_-q7_Lw-cRNK",
        "colab": {
          "base_uri": "https://localhost:8080/"
        },
        "outputId": "d04b73d8-624a-4b00-a374-8e404d7d9cc6"
      },
      "execution_count": null,
      "outputs": [
        {
          "output_type": "stream",
          "name": "stdout",
          "text": [
            "Name: Rohit, Age: 33\n",
            "Name: Varun, Age: Unknown\n",
            "Name: Unknown, Age: Unknown\n"
          ]
        }
      ]
    },
    {
      "cell_type": "markdown",
      "source": [
        "11. What is method overloading, and how is it related to constructors in Python?"
      ],
      "metadata": {
        "id": "zpwmIlijZvnQ"
      }
    },
    {
      "cell_type": "code",
      "source": [
        "'''\n",
        "Method overloading is a concept in OOP where multiple methods in a class have the same name but different parameters.\n",
        "The method that gets called depends on the arguments passed to it during runtime.\n",
        "While Python doesn't have traditional method overloading, you can achieve similar behavior by defining a single constructor\n",
        "that handles multiple cases based on the arguments passed to it.\n",
        "'''\n",
        "'''\n",
        "Below is an example where method overloading\n",
        "'''\n",
        "\n",
        "class Person:\n",
        "\n",
        "  def __init__(self, name=None, age=None) :\n",
        "\n",
        "    if name is not None and age is not None :\n",
        "      self.name = name\n",
        "      self.age = age\n",
        "    elif name is not None :\n",
        "      self.name = name\n",
        "      self.age = \"Unknown\"\n",
        "    else :\n",
        "      self.name = \"Unknown\"\n",
        "      self.age = \"Unknown\"\n",
        "\n",
        "  def __str__(self) :\n",
        "    return f\"Name: {self.name}, Age: {self.age}\"\n",
        "\n",
        "\n",
        "person1 = Person(\"Rohit\", 33)\n",
        "person2 = Person(\"Varun\")\n",
        "person3 = Person()\n",
        "\n",
        "print(person1)\n",
        "print(person2)\n",
        "print(person3)"
      ],
      "metadata": {
        "id": "0vNprgTeYcsR",
        "colab": {
          "base_uri": "https://localhost:8080/"
        },
        "outputId": "6e2c42d8-80f5-4efc-bb9e-ad192269d8ce"
      },
      "execution_count": null,
      "outputs": [
        {
          "output_type": "stream",
          "name": "stdout",
          "text": [
            "Name: Rohit, Age: 33\n",
            "Name: Varun, Age: Unknown\n",
            "Name: Unknown, Age: Unknown\n"
          ]
        }
      ]
    },
    {
      "cell_type": "markdown",
      "source": [
        "12. Explain the use of the `super()` function in Python constructors. Provide an example."
      ],
      "metadata": {
        "id": "ELc3UFv5bbCs"
      }
    },
    {
      "cell_type": "code",
      "source": [
        "'''\n",
        "In Python, super() is a built-in function used to call methods of a superclass (parent class) from a subclass (child class).\n",
        "It allows you to access methods and properties defined in the superclass within the subclass.\n",
        "In the context of constructors, super() is commonly used to invoke the constructor of the superclass from the constructor of the subclass.\n",
        "'''\n",
        "\n",
        "class Person :\n",
        "\n",
        "  def __init__(self, name, age) :\n",
        "    self.name = name\n",
        "    self.age = age\n",
        "\n",
        "  def display_info(self) :\n",
        "    print(f\"Name: {self.name}, Age: {self.age}\")\n",
        "\n",
        "\n",
        "class Student(Person) :\n",
        "\n",
        "  def __init__(self, name, age, student_id) :\n",
        "    super().__init__(name, age)\n",
        "    self.student_id = student_id\n",
        "\n",
        "  def display_info(self) :\n",
        "    super().display_info()\n",
        "    print(f\"Student ID: {self.student_id}\")\n",
        "\n",
        "\n",
        "student = Student(\"Kunal\", 20, \"S12345\")\n",
        "student.display_info()\n"
      ],
      "metadata": {
        "colab": {
          "base_uri": "https://localhost:8080/"
        },
        "id": "f-qQqL0QbcEd",
        "outputId": "9ed5debe-5bd4-4796-dde6-5034f2976d2d"
      },
      "execution_count": null,
      "outputs": [
        {
          "output_type": "stream",
          "name": "stdout",
          "text": [
            "Name: Kunal, Age: 20\n",
            "Student ID: S12345\n"
          ]
        }
      ]
    },
    {
      "cell_type": "markdown",
      "source": [
        "13. Create a class called `Book` with a constructor that initializes the `title`, `author`, and `published_year` attributes. Provide a method to display book details."
      ],
      "metadata": {
        "id": "tXZZFPpldrnV"
      }
    },
    {
      "cell_type": "code",
      "source": [
        "class Book :\n",
        "\n",
        "  def __init__(self, title, author, published_year) :\n",
        "    self.title = title\n",
        "    self.author = author\n",
        "    self.published_year = published_year\n",
        "\n",
        "  def display_details(self) :\n",
        "    print(f\"Title: {self.title}\")\n",
        "    print(f\"Author: {self.author}\")\n",
        "    print(f\"Published Year: {self.published_year}\")\n",
        "\n",
        "\n",
        "# Create an instance of the Book class\n",
        "book = Book(\"3 Idiots\", \"Chetan Bhagat\", 2010)\n",
        "\n",
        "# Display details of the book\n",
        "book.display_details()\n"
      ],
      "metadata": {
        "colab": {
          "base_uri": "https://localhost:8080/"
        },
        "id": "Q9I7YOaCdbFm",
        "outputId": "7044be4f-f69e-4e44-f49d-c5ae17fbd314"
      },
      "execution_count": null,
      "outputs": [
        {
          "output_type": "stream",
          "name": "stdout",
          "text": [
            "Title: 3 Idiots\n",
            "Author: Chetan Bhagat\n",
            "Published Year: 2010\n"
          ]
        }
      ]
    },
    {
      "cell_type": "markdown",
      "source": [
        "14. Discuss the differences between constructors and regular methods in Python classes."
      ],
      "metadata": {
        "id": "PYyMhagPfGK2"
      }
    },
    {
      "cell_type": "code",
      "source": [
        "'''\n",
        "Constructors and regular methods in Python classes have different roles and characteristics :\n",
        "\n",
        "Constructors initialize object attributes when an instance of the class is created automatically\n",
        "while\n",
        "regular methods perform actions or operations on objects explicitly based on the programmer's instructions.\n",
        "'''"
      ],
      "metadata": {
        "id": "RqBwc0djfCAX"
      },
      "execution_count": null,
      "outputs": []
    },
    {
      "cell_type": "markdown",
      "source": [
        "15. Explain the role of the `self` parameter in instance variable initialization within a constructor."
      ],
      "metadata": {
        "id": "i3sBM0Yggb8Q"
      }
    },
    {
      "cell_type": "code",
      "source": [
        "'''\n",
        "In general self is used within the constructor to initialize instance variables.\n",
        "The role in facilitating object-oriented programming principles such as\n",
        "encapsulation, instance-specific data management, and object state manipulation.\n",
        "'''"
      ],
      "metadata": {
        "id": "iwkw0Gcigea_"
      },
      "execution_count": null,
      "outputs": []
    },
    {
      "cell_type": "markdown",
      "source": [
        "16. How do you prevent a class from having multiple instances by using constructors in Python? Provide an example."
      ],
      "metadata": {
        "id": "BSd1QICXxclO"
      }
    },
    {
      "cell_type": "code",
      "source": [
        "'''\n",
        "To prevent a class from having multiple instances in Python using constructors, one can implement the Singleton pattern.\n",
        "This pattern ensures that only one instance of the class exists throughout the application's lifecycle.\n",
        "Here's an example of how to achieve this :\n",
        "'''\n",
        "\n",
        "class Singleton:\n",
        "\n",
        "  _instance = None\n",
        "\n",
        "  def __new__(cls, *args, **kwargs) :\n",
        "    if not cls._instance :\n",
        "      cls._instance = super().__new__(cls)\n",
        "    return cls._instance\n",
        "\n",
        "  def __init__(self, data):\n",
        "    self.data = data\n",
        "\n",
        "  def get_data(self):\n",
        "    return self.data\n",
        "\n",
        "singleton1 = Singleton(\"Data for Singleton 1\")\n",
        "singleton2 = Singleton(\"Data for Singleton 2\")\n",
        "\n",
        "#Checking if both instances refer to the same object\n",
        "print(singleton1 is singleton2)\n",
        "\n",
        "#Accessing data from singleton instances\n",
        "print(singleton1.get_data())\n",
        "print(singleton2.get_data())"
      ],
      "metadata": {
        "colab": {
          "base_uri": "https://localhost:8080/"
        },
        "id": "jpKomCZ4xeV9",
        "outputId": "207462a3-c7a2-4796-f095-687b9685d65b"
      },
      "execution_count": null,
      "outputs": [
        {
          "output_type": "stream",
          "name": "stdout",
          "text": [
            "True\n",
            "Data for Singleton 2\n",
            "Data for Singleton 2\n"
          ]
        }
      ]
    },
    {
      "cell_type": "markdown",
      "source": [
        "17. Create a Python class called `Student` with a constructor that takes a list of subjects as a parameter and initializes the `subjects` attribute."
      ],
      "metadata": {
        "id": "XxWXKs192Wzj"
      }
    },
    {
      "cell_type": "code",
      "source": [
        "class Student :\n",
        "\n",
        "  def __init__(self, subjects) :\n",
        "    self.subjects = subjects\n",
        "\n",
        "  def display_subjects(self) :\n",
        "    print(\"Subjects enrolled:\")\n",
        "    for subject in self.subjects :\n",
        "      print(subject)\n",
        "\n",
        "subjects_list = [\"Math\", \"Science\", \"History\", \"English\"]\n",
        "student = Student(subjects_list)\n",
        "student.display_subjects()"
      ],
      "metadata": {
        "colab": {
          "base_uri": "https://localhost:8080/"
        },
        "id": "oDoO8vHk2DLK",
        "outputId": "06d29cc5-df6f-44d3-c4db-8332de9c904c"
      },
      "execution_count": null,
      "outputs": [
        {
          "output_type": "stream",
          "name": "stdout",
          "text": [
            "Subjects enrolled:\n",
            "Math\n",
            "Science\n",
            "History\n",
            "English\n"
          ]
        }
      ]
    },
    {
      "cell_type": "markdown",
      "source": [
        "18. What is the purpose of the `__del__` method in Python classes, and how does it relate to constructors?"
      ],
      "metadata": {
        "id": "FZQhERl55hhF"
      }
    },
    {
      "cell_type": "code",
      "source": [
        "'''\n",
        " __del__ method is used to perform any necessary cleanup or resource release operations before the object is destroyed.\n",
        " The __del__ method is the counterpart to the __init__ constructor method.\n",
        " While the __init__ method is called when an object is being initialized, the __del__ method is called when an object is being destroyed.\n",
        " '''"
      ],
      "metadata": {
        "id": "Ygblsgug254D"
      },
      "execution_count": null,
      "outputs": []
    },
    {
      "cell_type": "markdown",
      "source": [
        "19. Explain the use of constructor chaining in Python. Provide a practical example."
      ],
      "metadata": {
        "id": "q7mEsvjz7XMm"
      }
    },
    {
      "cell_type": "code",
      "source": [
        "'''\n",
        "Constructor chaining in Python refers to the concept of one constructor invoking another constructor,\n",
        "typically within the same class or between a subclass and its superclass.\n",
        "\n",
        "Let's demonstrate constructor chaining with a practical example :\n",
        "\n",
        "We have a superclass Parent with a constructor that prints \"Parent constructor\".\n",
        "The Child subclass inherits from Parent.\n",
        "Inside the constructor of Child, we use super().__init__() to call the constructor of the superclass Parent.\n",
        "This ensures that the superclass's constructor is executed before the subclass-specific initialization.\n",
        "The Child constructor then prints \"Child constructor\".\n",
        "When we create an instance of Child, both the superclass's constructor and the subclass's constructor are called in sequence due to constructor chaining.\n",
        "This ensures that initialization logic from both classes is executed.\n",
        "\n",
        "'''\n",
        "\n",
        "class Parent :\n",
        "\n",
        "  def __init__(self) :\n",
        "    print(\"Parent constructor\")\n",
        "\n",
        "class Child(Parent) :\n",
        "\n",
        "  def __init__(self) :\n",
        "    super().__init__()  # Call the constructor of the superclass\n",
        "    print(\"Child constructor\")\n",
        "\n",
        "#Creating an instance of the Child class\n",
        "child = Child()"
      ],
      "metadata": {
        "colab": {
          "base_uri": "https://localhost:8080/"
        },
        "id": "23NnSZ4p7YFZ",
        "outputId": "f9c7e310-4184-42a5-e015-9e3fe17d4902"
      },
      "execution_count": null,
      "outputs": [
        {
          "output_type": "stream",
          "name": "stdout",
          "text": [
            "Parent constructor\n",
            "Child constructor\n"
          ]
        }
      ]
    },
    {
      "cell_type": "markdown",
      "source": [
        "20.\n",
        "Create a Python class called `Car` with a default constructor that initializes the `make` and `model` attributes. Provide a method to display car information."
      ],
      "metadata": {
        "id": "FFchE4dB-_Hb"
      }
    },
    {
      "cell_type": "code",
      "source": [
        "class Car :\n",
        "\n",
        "  def __init__(self, make=\"Unknown\", model=\"Unknown\"):\n",
        "    self.make = make\n",
        "    self.model = model\n",
        "\n",
        "  def display_info(self):\n",
        "    print(f\"Car Make: {self.make}, Model: {self.model}\")\n",
        "\n",
        "car = Car()\n",
        "car.display_info()\n",
        "car_with_info = Car(\"Toyota\", \"Camry\")\n",
        "car_with_info.display_info()\n"
      ],
      "metadata": {
        "colab": {
          "base_uri": "https://localhost:8080/"
        },
        "id": "uWToflRo-lf0",
        "outputId": "7e4393ab-d9d0-4584-c1ae-8a76ee0d6e66"
      },
      "execution_count": null,
      "outputs": [
        {
          "output_type": "stream",
          "name": "stdout",
          "text": [
            "Car Make: Unknown, Model: Unknown\n",
            "Car Make: Toyota, Model: Camry\n"
          ]
        }
      ]
    },
    {
      "cell_type": "markdown",
      "source": [
        "# **Inheritance :**\n",
        "\n",
        "---\n",
        "\n"
      ],
      "metadata": {
        "id": "POsFqjWRAMR1"
      }
    },
    {
      "cell_type": "markdown",
      "source": [
        "1. What is inheritance in Python? Explain its significance in object-oriented programming."
      ],
      "metadata": {
        "id": "Z4eY4J0eBFai"
      }
    },
    {
      "cell_type": "code",
      "source": [
        "'''\n",
        "Inheritance in Python is a mechanism that allows a class to inherit the attributes and methods of another class.\n",
        "The subclass can then extend or modify the functionality of the superclass by adding new attributes or methods, or by overriding existing ones.\n",
        "'''\n",
        "'''\n",
        "In object-oriented programming, inheritance is a fundamental concept that facilitates the creation of modular, reusable, and extensible code.\n",
        "It enables the implementation of the \"is-a\" relationship, where a subclass is a more specialized version of its superclass.\n",
        "By using inheritance, one can model real-world relationships b/w objects more accurately & efficiently.\n",
        "'''"
      ],
      "metadata": {
        "id": "NReVhd2HAFXh"
      },
      "execution_count": null,
      "outputs": []
    },
    {
      "cell_type": "markdown",
      "source": [
        "2. Differentiate between single inheritance and multiple inheritance in Python. Provide examples for each."
      ],
      "metadata": {
        "id": "cCMKU1YWCAOl"
      }
    },
    {
      "cell_type": "code",
      "source": [
        "#Single heritance example\n",
        "\n",
        "class Animal :\n",
        "\n",
        "  def speak(self) :\n",
        "    print(\"Animal speaks\")\n",
        "\n",
        "class Dog(Animal) :\n",
        "\n",
        "  def bark(self) :\n",
        "    print(\"Dog barks\")\n",
        "\n",
        "#Creating an instance of Dog\n",
        "dog = Dog()\n",
        "dog.speak()\n",
        "dog.bark()\n",
        "\n",
        "print()\n",
        "#Multiple heritance example\n",
        "\n",
        "class Animal :\n",
        "\n",
        "  def speak(self) :\n",
        "    print(\"Animal speaks\")\n",
        "\n",
        "class Vehicle :\n",
        "\n",
        "  def move(self):\n",
        "    print(\"Vehicle moves\")\n",
        "\n",
        "class Car(Animal, Vehicle) :\n",
        "\n",
        "  def drive(self) :\n",
        "    print(\"Car drives\")\n",
        "\n",
        "# Creating an instance of Car\n",
        "car = Car()\n",
        "car.speak()\n",
        "car.move()\n",
        "car.drive()"
      ],
      "metadata": {
        "colab": {
          "base_uri": "https://localhost:8080/"
        },
        "id": "YFpfsOkqCD3P",
        "outputId": "1f486f29-15f7-4ab1-ddb2-4cb257e6f3e6"
      },
      "execution_count": null,
      "outputs": [
        {
          "output_type": "stream",
          "name": "stdout",
          "text": [
            "Animal speaks\n",
            "Dog barks\n",
            "\n",
            "Animal speaks\n",
            "Vehicle moves\n",
            "Car drives\n"
          ]
        }
      ]
    },
    {
      "cell_type": "markdown",
      "source": [
        "3. Create a Python class called `Vehicle` with attributes `color` and `speed`. Then, create a child class called `Car` that inherits from `Vehicle` and adds a `brand` attribute. Provide an example of creating a `Car` object."
      ],
      "metadata": {
        "id": "NgoC2_u1b3cv"
      }
    },
    {
      "cell_type": "code",
      "source": [
        "class Vehicle :\n",
        "\n",
        "  def __init__(self, color, speed) :\n",
        "    self.color = color\n",
        "    self.speed = speed\n",
        "\n",
        "class Car(Vehicle) :\n",
        "\n",
        "  def __init__(self, color, speed, brand) :\n",
        "    super().__init__(color, speed)\n",
        "    self.brand = brand\n",
        "\n",
        "car = Car(\"Blue\", 240, \"Mahindra\")\n",
        "\n",
        "print(\"Car color :\", car.color)\n",
        "print(\"Car speed :\", car.speed)\n",
        "print(\"Car brand :\", car.brand)"
      ],
      "metadata": {
        "colab": {
          "base_uri": "https://localhost:8080/"
        },
        "id": "7s-Gc1aAbZJx",
        "outputId": "9983cc44-c47e-46aa-db4b-c4df82dcb343"
      },
      "execution_count": null,
      "outputs": [
        {
          "output_type": "stream",
          "name": "stdout",
          "text": [
            "Car color : Blue\n",
            "Car speed : 240\n",
            "Car brand : Mahindra\n"
          ]
        }
      ]
    },
    {
      "cell_type": "markdown",
      "source": [
        "4. Explain the concept of method overriding in inheritance. Provide a practical example."
      ],
      "metadata": {
        "id": "0UZtaDPlEmWb"
      }
    },
    {
      "cell_type": "code",
      "source": [
        "'''\n",
        "Method overriding in inheritance is a concept where a subclass provides a specific implementation of a method that is already defined in its superclass.\n",
        "This allows the subclass to customize or extend the behavior of the inherited method while maintaining the same method signature.\n",
        "\n",
        "Below is a practical example of method overriding :\n",
        "\n",
        "In this example:\n",
        "\n",
        "- We have a superclass Animal with a method sound() that prints \"Animal makes a sound\".\n",
        "- The Dog subclass overrides the sound() method with its own implementation that prints \"Dog barks\".\n",
        "- Similarly, the Cat subclass overrides the sound() method with its own implementation that prints \"Cat meows\".\n",
        "- When we create instances of Dog and Cat and call the sound() method on them,\n",
        "  the overridden implementations in the respective subclasses are executed, demonstrating method overriding.\n",
        "'''\n",
        "class Animal:\n",
        "    def sound(self):\n",
        "        print(\"Animal makes a sound\")\n",
        "\n",
        "class Dog(Animal):\n",
        "    def sound(self):\n",
        "        print(\"Dog barks\")\n",
        "\n",
        "class Cat(Animal):\n",
        "    def sound(self):\n",
        "        print(\"Cat meows\")\n",
        "\n",
        "# Creating instances of Dog and Cat\n",
        "dog = Dog()\n",
        "cat = Cat()\n",
        "dog.sound()\n",
        "cat.sound()"
      ],
      "metadata": {
        "colab": {
          "base_uri": "https://localhost:8080/"
        },
        "id": "KZzq_KujEh5y",
        "outputId": "dc310ccc-0cef-415f-9874-7c0979cdc75d"
      },
      "execution_count": null,
      "outputs": [
        {
          "output_type": "stream",
          "name": "stdout",
          "text": [
            "Dog barks\n",
            "Cat meows\n"
          ]
        }
      ]
    },
    {
      "cell_type": "markdown",
      "source": [
        "5. How can you access the methods and attributes of a parent class from a child class in Python? Give an example."
      ],
      "metadata": {
        "id": "I9mP9Rn0Q5eb"
      }
    },
    {
      "cell_type": "code",
      "source": [
        "'''\n",
        "We can access the methods and attributes of a parent class from a child class by using the super() function or by directly referencing the parent class.\n",
        "The super() function provides a way to access the superclass's methods and attributes in a more dynamic and flexible manner.\n",
        "'''\n",
        "\n",
        "class Parent :\n",
        "\n",
        "  def __init__(self) :\n",
        "    self.parent_attr = \"Parent attribute\"\n",
        "\n",
        "  def parent_method(self) :\n",
        "    print(\"Parent method called\")\n",
        "\n",
        "\n",
        "class Child(Parent) :\n",
        "\n",
        "  def __init__(self):\n",
        "    super().__init__()\n",
        "\n",
        "  def child_method(self):\n",
        "    print(\"Child method called\")\n",
        "    print(\"Parent attribute:\", self.parent_attr)\n",
        "    super().parent_method()\n",
        "\n",
        "# Creating an instance of the Child class\n",
        "child_obj = Child()\n",
        "\n",
        "# Accessing methods and attributes of the Child class\n",
        "child_obj.child_method()"
      ],
      "metadata": {
        "colab": {
          "base_uri": "https://localhost:8080/"
        },
        "id": "6FGkVckwK-k6",
        "outputId": "860f0f0a-6dfa-431c-d549-ef89bb6369ba"
      },
      "execution_count": null,
      "outputs": [
        {
          "output_type": "stream",
          "name": "stdout",
          "text": [
            "Child method called\n",
            "Parent attribute: Parent attribute\n",
            "Parent method called\n"
          ]
        }
      ]
    },
    {
      "cell_type": "markdown",
      "source": [
        "6. Discuss the use of the `super()` function in Python inheritance. When and why is it used? Provide an example."
      ],
      "metadata": {
        "id": "WxKLG7fUSUqU"
      }
    },
    {
      "cell_type": "code",
      "source": [
        "'''\n",
        "In Python inheritance, the super() function is used to call methods and access attributes\n",
        "of the superclass (parent class) from within the subclass (child class)\n",
        "'''\n",
        "\n",
        "class Parent :\n",
        "\n",
        "  def __init__(self, name) :\n",
        "    self.name = name\n",
        "\n",
        "  def show_info(self) :\n",
        "    print(\"Parent class method\")\n",
        "    print(\"Name:\", self.name)\n",
        "\n",
        "\n",
        "class Child(Parent) :\n",
        "\n",
        "  def __init__(self, name, age):\n",
        "    super().__init__(name)\n",
        "    self.age = age\n",
        "\n",
        "  def show_info(self) :\n",
        "    super().show_info()\n",
        "    print(\"Child class method\")\n",
        "    print(\"Age:\", self.age)\n",
        "\n",
        "child = Child(\"Sultan\", 10)\n",
        "child.show_info()\n"
      ],
      "metadata": {
        "colab": {
          "base_uri": "https://localhost:8080/"
        },
        "id": "u2C7KLYNSFYL",
        "outputId": "51da1bbb-2a98-4363-8078-48a1d20d8e89"
      },
      "execution_count": null,
      "outputs": [
        {
          "output_type": "stream",
          "name": "stdout",
          "text": [
            "Parent class method\n",
            "Name: Sultan\n",
            "Child class method\n",
            "Age: 10\n"
          ]
        }
      ]
    },
    {
      "cell_type": "markdown",
      "source": [
        "7. Create a Python class called `Animal` with a method `speak()`. Then, create child classes `Dog` and `Cat` that inherit from `Animal` and override the `speak()` method. Provide an example of using these classes."
      ],
      "metadata": {
        "id": "Tx_3KjFBVx2k"
      }
    },
    {
      "cell_type": "code",
      "source": [
        "class Animal :\n",
        "\n",
        "  def speak(self) :\n",
        "    return\n",
        "\n",
        "class Dog(Animal) :\n",
        "\n",
        "  def speak(self) :\n",
        "    return \"Woof!\"\n",
        "\n",
        "class Cat(Animal) :\n",
        "\n",
        "  def speak(self) :\n",
        "    return \"Meow!\"\n",
        "\n",
        "\n",
        "dog = Dog()\n",
        "print(\"Dog says:\", dog.speak())\n",
        "\n",
        "cat = Cat()\n",
        "print(\"Cat says:\", cat.speak())\n"
      ],
      "metadata": {
        "id": "YD3hU8mxVo0s",
        "colab": {
          "base_uri": "https://localhost:8080/"
        },
        "outputId": "e4f9f534-7759-42b4-88d0-418785b6760b"
      },
      "execution_count": null,
      "outputs": [
        {
          "output_type": "stream",
          "name": "stdout",
          "text": [
            "Dog says: Woof!\n",
            "Cat says: Meow!\n"
          ]
        }
      ]
    },
    {
      "cell_type": "markdown",
      "source": [
        "8. Explain the role of the `isinstance()` function in Python and how it relates to inheritance."
      ],
      "metadata": {
        "id": "OHMkau1ikijW"
      }
    },
    {
      "cell_type": "code",
      "source": [
        "'''\n",
        "isinstance() is a versatile function in Python that allows you to check object types, including their relationships through inheritance.\n",
        "It plays a crucial role in designing polymorphic behavior and writing flexible, reusable code.\n",
        "'''"
      ],
      "metadata": {
        "id": "fZQm8HkjkO5V"
      },
      "execution_count": null,
      "outputs": []
    },
    {
      "cell_type": "markdown",
      "source": [
        "9. What is the purpose of the `issubclass()` function in Python? Provide an example."
      ],
      "metadata": {
        "id": "xIOhNunOmHn1"
      }
    },
    {
      "cell_type": "code",
      "source": [
        "'''\n",
        "issubclass() is particularly useful when you want to check class relationships dynamically in your code,\n",
        "especially when designing class hierarchies and inheritance structures.\n",
        "It takes two arguments: the potential subclass and the potential superclass.\n",
        "It returns True if the first argument is indeed a subclass of the second argument, otherwise, it returns False.\n",
        "'''\n",
        "\n",
        "class Animal:\n",
        "  pass\n",
        "\n",
        "class Dog(Animal):\n",
        "  pass\n",
        "\n",
        "class Cat(Animal):\n",
        "  pass\n",
        "\n",
        "#Checking if Dog is a subclass of Animal\n",
        "print(issubclass(Dog, Animal))\n",
        "\n",
        "#Checking if Cat is a subclass of Animal\n",
        "print(issubclass(Cat, Animal))\n",
        "\n",
        "#Checking if Animal is a subclass of Dog\n",
        "print(issubclass(Animal, Dog))"
      ],
      "metadata": {
        "colab": {
          "base_uri": "https://localhost:8080/"
        },
        "id": "75m-uGzEmIke",
        "outputId": "4b81581e-21fb-4eb2-cf90-ebd92abdc3d9"
      },
      "execution_count": null,
      "outputs": [
        {
          "output_type": "stream",
          "name": "stdout",
          "text": [
            "True\n",
            "True\n",
            "False\n"
          ]
        }
      ]
    },
    {
      "cell_type": "markdown",
      "source": [
        "10. Discuss the concept of constructor inheritance in Python. How are constructors inherited in child classes?"
      ],
      "metadata": {
        "id": "fudBV4zxGFbh"
      }
    },
    {
      "cell_type": "code",
      "source": [
        "'''\n",
        "In Python, constructor inheritance refers to the way constructors (also known as __init__ methods)\n",
        "are inherited by child classes from their parent classes in an inheritance hierarchy.\n",
        "\n",
        "When a child class is created without explicitly defining its own constructor,\n",
        "Python will look for the constructor in the parent class(es) and automatically inherit it.\n",
        "If the child class does define its own constructor, it can choose to call the constructor\n",
        "of the parent class explicitly using super() if it wants to inherit and extend the behavior of the parent class constructor.\n",
        "'''"
      ],
      "metadata": {
        "id": "ytszMAitmmEc"
      },
      "execution_count": null,
      "outputs": []
    },
    {
      "cell_type": "markdown",
      "source": [
        "11. Create a Python class called `Shape` with a method `area()` that calculates the area of a shape. Then, create child classes `Circle` and `Rectangle` that inherit from `Shape` and implement the `area()` method accordingly. Provide an example."
      ],
      "metadata": {
        "id": "49dIevHRIfW5"
      }
    },
    {
      "cell_type": "code",
      "source": [
        "import math\n",
        "\n",
        "class Shape :\n",
        "\n",
        "  def area(self) :\n",
        "    return\n",
        "\n",
        "class Circle(Shape) :\n",
        "\n",
        "  def __init__(self, radius) :\n",
        "    self.radius = radius\n",
        "\n",
        "  def area(self) :\n",
        "    return math.pi * self.radius ** 2\n",
        "\n",
        "class Rectangle(Shape) :\n",
        "\n",
        "  def __init__(self, width, height) :\n",
        "    self.width = width\n",
        "    self.height = height\n",
        "\n",
        "  def area(self) :\n",
        "    return self.width * self.height\n",
        "\n",
        "\n",
        "circle = Circle(5)\n",
        "print(\"Area of the circle:\", circle.area())\n",
        "\n",
        "rectangle = Rectangle(4, 6)\n",
        "print(\"Area of the rectangle:\", rectangle.area())"
      ],
      "metadata": {
        "colab": {
          "base_uri": "https://localhost:8080/"
        },
        "id": "JvVFRQaFJAuG",
        "outputId": "ace1b8ae-8447-4296-f9c4-637292a63974"
      },
      "execution_count": null,
      "outputs": [
        {
          "output_type": "stream",
          "name": "stdout",
          "text": [
            "Area of the circle: 78.53981633974483\n",
            "Area of the rectangle: 24\n"
          ]
        }
      ]
    },
    {
      "cell_type": "markdown",
      "source": [
        "12. Explain the use of abstract base classes (ABCs) in Python and how they relate to inheritance. Provide an example using the `abc` module."
      ],
      "metadata": {
        "id": "tAEKdR_YKWGF"
      }
    },
    {
      "cell_type": "code",
      "source": [
        "'''\n",
        "Abstract Base Classes (ABCs) in Python provide a way to define abstract methods in a class, which must be implemented by its subclasses.\n",
        "ABCs are not meant to be instantiated directly; instead, they serve as templates for other classes to inherit from.\n",
        "They ensure that all subclasses implement certain methods, enforcing a certain interface or behavior.\n",
        "'''\n",
        "\n",
        "from abc import ABC, abstractmethod\n",
        "\n",
        "class Shape(ABC) :\n",
        "\n",
        "  @abstractmethod\n",
        "  def area(self) :\n",
        "    pass\n",
        "\n",
        "class Circle(Shape) :\n",
        "\n",
        "  def __init__(self, radius) :\n",
        "    self.radius = radius\n",
        "\n",
        "  def area(self) :\n",
        "    return math.pi * self.radius ** 2\n",
        "\n",
        "class Rectangle(Shape) :\n",
        "\n",
        "  def __init__(self, width, height) :\n",
        "    self.width = width\n",
        "    self.height = height\n",
        "\n",
        "  def area(self) :\n",
        "    return self.width * self.height\n",
        "\n",
        "\n",
        "circle = Circle(5)\n",
        "print(\"Area of the circle:\", circle.area())\n",
        "\n",
        "rectangle = Rectangle(4, 6)\n",
        "print(\"Area of the rectangle:\", rectangle.area())"
      ],
      "metadata": {
        "colab": {
          "base_uri": "https://localhost:8080/"
        },
        "id": "aO9Gss4lJjV0",
        "outputId": "5b37af2a-425b-47f2-c438-a30a7eeae896"
      },
      "execution_count": null,
      "outputs": [
        {
          "output_type": "stream",
          "name": "stdout",
          "text": [
            "Area of the circle: 78.53981633974483\n",
            "Area of the rectangle: 24\n"
          ]
        }
      ]
    },
    {
      "cell_type": "markdown",
      "source": [
        "13. How can you prevent a child class from modifying certain attributes or methods inherited from a parent class in Python?"
      ],
      "metadata": {
        "id": "UQeps1c4La4s"
      }
    },
    {
      "cell_type": "code",
      "source": [
        "'''\n",
        "In Python, you can prevent a child class from modifying certain attributes or methods inherited\n",
        "from a parent class by using encapsulation and access control techniques.\n",
        "These approaches provide various levels of control over access to attributes and methods inherited from a parent class,\n",
        "allowing you to prevent or restrict modifications in different ways depending on your specific requirements.\n",
        "'''"
      ],
      "metadata": {
        "id": "FV8der6PLPw8"
      },
      "execution_count": null,
      "outputs": []
    },
    {
      "cell_type": "markdown",
      "source": [
        "14. Create a Python class called `Employee` with attributes `name` and `salary`. Then, create a child class `Manager` that inherits from `Employee` and adds an attribute `department`. Provide an example."
      ],
      "metadata": {
        "id": "cyZFl4WwMMNf"
      }
    },
    {
      "cell_type": "code",
      "source": [
        "class Employee :\n",
        "\n",
        "  def __init__(self, name, salary) :\n",
        "    self.name = name\n",
        "    self.salary = salary\n",
        "\n",
        "class Manager(Employee) :\n",
        "\n",
        "  def __init__(self, name, salary, department) :\n",
        "    super().__init__(name, salary)\n",
        "    self.department = department\n",
        "\n",
        "\n",
        "emp = Employee(\"Varun\", 50000)\n",
        "print(\"Employee:\", emp.name)\n",
        "print(\"Salary:\", emp.salary)\n",
        "\n",
        "manager = Manager(\"Ritu\", 70000, \"Marketing\")\n",
        "print(\"\\nManager:\", manager.name)\n",
        "print(\"Salary:\", manager.salary)\n",
        "print(\"Department:\", manager.department)"
      ],
      "metadata": {
        "colab": {
          "base_uri": "https://localhost:8080/"
        },
        "id": "Wy-gQTYnMRJP",
        "outputId": "01771c69-1a3b-4c41-800d-61cbe432775d"
      },
      "execution_count": null,
      "outputs": [
        {
          "output_type": "stream",
          "name": "stdout",
          "text": [
            "Employee: Varun\n",
            "Salary: 50000\n",
            "\n",
            "Manager: Ritu\n",
            "Salary: 70000\n",
            "Department: Marketing\n"
          ]
        }
      ]
    },
    {
      "cell_type": "markdown",
      "source": [
        "15. Discuss the concept of method overloading in Python inheritance. How does it differ from method overriding?"
      ],
      "metadata": {
        "id": "I7eN1waBDMgl"
      }
    },
    {
      "cell_type": "code",
      "source": [
        "'''\n",
        "Method overloading allows a class to define multiple methods with the same name but different signatures, while method\n",
        "overriding allows a subclass to provide a specific implementation of a method that is already defined in its superclass.\n",
        "\n",
        "Method overloading and method overriding are both concepts in object-oriented programming,\n",
        "particularly in the context of inheritance, but they serve different purposes.\n",
        "'''\n",
        "\n",
        "class Calculator :\n",
        "\n",
        "  def add(self, a, b) :\n",
        "    return a + b\n",
        "\n",
        "  def add(self, a, b, c) :\n",
        "    return a + b + c\n",
        "\n",
        "calc = Calculator()\n",
        "\n",
        "\n",
        "#Since we have provided the last defined method 'add' is the one that gets bound to it.\n",
        "#Therefore, only the second add method is available in the Calculator class.\n",
        "print(calc.add(1, 2, 3))\n",
        "\n",
        "#This will raise an error due to the second definition of add()\n",
        "#print(calc.add(1, 2))"
      ],
      "metadata": {
        "id": "VUTNIrBVM2V8",
        "colab": {
          "base_uri": "https://localhost:8080/"
        },
        "outputId": "8e31086b-22f5-4fa1-ea13-a80454bed5a7"
      },
      "execution_count": null,
      "outputs": [
        {
          "output_type": "stream",
          "name": "stdout",
          "text": [
            "6\n"
          ]
        }
      ]
    },
    {
      "cell_type": "markdown",
      "source": [
        "16. Explain the purpose of the `__init__()` method in Python inheritance and how it is utilized in child classes."
      ],
      "metadata": {
        "id": "KwLCoQ7pyZ_s"
      }
    },
    {
      "cell_type": "code",
      "source": [
        "'''\n",
        "The __init__() method in Python is a special method, also known as the constructor,\n",
        "that is automatically called when a new instance of a class is created.\n",
        "Its purpose is to initialize the object's attributes or perform any setup that is necessary before the object can be used.\n",
        "\n",
        "When a class inherits from another class, the __init__() method of the parent class is not automatically called\n",
        "in the child class unless explicitly invoked.\n",
        "However, it's a common practice for the __init__() method of the child class to call the __init__() method\n",
        "of the parent class using super() to ensure that any necessary initialization defined in the parent class is also executed.\n",
        "'''"
      ],
      "metadata": {
        "id": "cNxBWQcZFHgc"
      },
      "execution_count": null,
      "outputs": []
    },
    {
      "cell_type": "markdown",
      "source": [
        "17. Create a Python class called `Bird` with a method `fly()`. Then, create child classes `Eagle` and `Sparrow` that inherit from `Bird` and implement the `fly()` method differently. Provide an example of using these classes."
      ],
      "metadata": {
        "id": "FGfUmI1kzx2_"
      }
    },
    {
      "cell_type": "code",
      "source": [
        "class Bird :\n",
        "\n",
        "  def fly(self):\n",
        "    return \"Birds fly in the air\"\n",
        "\n",
        "class Eagle(Bird) :\n",
        "\n",
        "  def fly(self):\n",
        "    return \"Eagle fly high\"\n",
        "\n",
        "class Sparrow(Bird) :\n",
        "\n",
        "  def fly(self):\n",
        "    return \"Sparrow fly low\"\n",
        "\n",
        "\n",
        "eagle = Eagle()\n",
        "sparrow = Sparrow()\n",
        "\n",
        "print(eagle.fly())\n",
        "print(sparrow.fly())"
      ],
      "metadata": {
        "colab": {
          "base_uri": "https://localhost:8080/"
        },
        "id": "RzQDcIMgz1xA",
        "outputId": "dfe58965-3c11-43a1-ba4d-02c41785821c"
      },
      "execution_count": null,
      "outputs": [
        {
          "output_type": "stream",
          "name": "stdout",
          "text": [
            "Eagle fly high\n",
            "Sparrow fly low\n"
          ]
        }
      ]
    },
    {
      "cell_type": "markdown",
      "source": [
        "18. What is the \"diamond problem\" in multiple inheritance, and how does Python address it?"
      ],
      "metadata": {
        "id": "WobRb4Vd2PLJ"
      }
    },
    {
      "cell_type": "code",
      "source": [
        "'''\n",
        "The \"diamond problem\" is a classic issue that arises in programming languages that support multiple inheritance,\n",
        "where a class inherits from two or more classes that have a common ancestor. This situation forms a diamond-shaped inheritance hierarchy.\n",
        "\n",
        "Python addresses the diamond problem using a mechanism called \"method resolution order\" (MRO)\n",
        "and a specific algorithm called C3 linearization.\n",
        "\n",
        "'''"
      ],
      "metadata": {
        "id": "xRvQiLBh2ENX"
      },
      "execution_count": null,
      "outputs": []
    },
    {
      "cell_type": "markdown",
      "source": [
        "19. Discuss the concept of \"is-a\" and \"has-a\" relationships in inheritance, and provide examples of each."
      ],
      "metadata": {
        "id": "fdiNRsRK3LFp"
      }
    },
    {
      "cell_type": "code",
      "source": [
        "'''\n",
        "Inheritance represents an \"is-a\" relationship, where a subclass \"is-a\" type of its superclass.\n",
        "This means that objects of the subclass can be treated as objects of the superclass.\n",
        "The subclass inherits the properties and behaviors of the superclass and may add additional features or override existing ones.\n",
        "\n",
        "Composition represents a \"has-a\" relationship, where a class \"has-a\" component of another class as part of its internal structure.\n",
        "This relationship is typically implemented by including an instance of another class as a member of the containing class.\n",
        "It allows for code reuse without inheritance and is often favored over inheritance when there is no clear \"is-a\" relationship.\n",
        "\n",
        "'''"
      ],
      "metadata": {
        "id": "XQhYHkzc3MHa"
      },
      "execution_count": null,
      "outputs": []
    },
    {
      "cell_type": "markdown",
      "source": [
        "20. Create a Python class hierarchy for a university system. Start with a base class `Person` and create child classes `Student` and `Professor`, each with their own attributes and methods. Provide an example of using these classes in a university context."
      ],
      "metadata": {
        "id": "OrE5ZgXk3oNR"
      }
    },
    {
      "cell_type": "code",
      "source": [
        "class Person :\n",
        "\n",
        "  def __init__(self, name, age, gender) :\n",
        "    self.name = name\n",
        "    self.age = age\n",
        "    self.gender = gender\n",
        "\n",
        "  def introduce(self) :\n",
        "    return f\"Hi, I'm {self.name}, a {self.age}-year-old {self.gender}.\"\n",
        "\n",
        "\n",
        "class Student(Person) :\n",
        "\n",
        "  def __init__(self, name, age, gender, student_id, major) :\n",
        "    super().__init__(name, age, gender)\n",
        "    self.student_id = student_id\n",
        "    self.major = major\n",
        "\n",
        "  def study(self) :\n",
        "    return f\"{self.name} is studying {self.major}.\"\n",
        "\n",
        "\n",
        "class Professor(Person) :\n",
        "\n",
        "  def __init__(self, name, age, gender, employee_id, department) :\n",
        "    super().__init__(name, age, gender)\n",
        "    self.employee_id = employee_id\n",
        "    self.department = department\n",
        "\n",
        "  def teach(self) :\n",
        "    return f\"{self.name} is teaching in the {self.department} department.\"\n",
        "\n",
        "\n",
        "\n",
        "student1 = Student(\"Ritu\", 20, \"female\", \"S12345\", \"Computer Science\")\n",
        "professor1 = Professor(\"Dr. Shahrukh\", 45, \"male\", \"P98765\", \"Computer Science\")\n",
        "\n",
        "print(student1.introduce())\n",
        "print(student1.study())\n",
        "print(professor1.introduce())\n",
        "print(professor1.teach())"
      ],
      "metadata": {
        "colab": {
          "base_uri": "https://localhost:8080/"
        },
        "id": "x3cEOfrr3q9J",
        "outputId": "6b3eee39-9877-499f-e05d-af5cf2f0011c"
      },
      "execution_count": null,
      "outputs": [
        {
          "output_type": "stream",
          "name": "stdout",
          "text": [
            "Hi, I'm Ritu, a 20-year-old female.\n",
            "Ritu is studying Computer Science.\n",
            "Hi, I'm Dr. Shahrukh, a 45-year-old male.\n",
            "Dr. Shahrukh is teaching in the Computer Science department.\n"
          ]
        }
      ]
    },
    {
      "cell_type": "markdown",
      "source": [
        "# **Encapsulation :**\n",
        "\n",
        "---\n",
        "\n"
      ],
      "metadata": {
        "id": "PR9yoyuM5PKM"
      }
    },
    {
      "cell_type": "markdown",
      "source": [
        "1. Explain the concept of encapsulation in Python. What is its role in  object-oriented programming?"
      ],
      "metadata": {
        "id": "IlUrm4_J5T7z"
      }
    },
    {
      "cell_type": "code",
      "source": [
        "'''\n",
        "Encapsulation is one of the fundamental principles of object-oriented programming (OOP)\n",
        "and refers to the bundling of data and methods that operate on the data into a single unit, known as a class.\n",
        "It allows for the implementation details of a class to be hidden from the outside world,\n",
        "and access to the data is typically controlled through methods.\n",
        "\n",
        "In Python, encapsulation can be achieved using access modifiers such as public, private, and protected attributes and methods.\n",
        "'''"
      ],
      "metadata": {
        "id": "_9ZhurZh4_0f"
      },
      "execution_count": null,
      "outputs": []
    },
    {
      "cell_type": "markdown",
      "source": [
        "2. Describe the key principles of encapsulation, including access control and data hiding."
      ],
      "metadata": {
        "id": "qRAc5vVH-hLb"
      }
    },
    {
      "cell_type": "code",
      "source": [
        "'''\n",
        "Encapsulation is a fundamental concept in object-oriented programming (OOP) that involves\n",
        "bundling data and methods that operate on the data into a single unit, known as a class.\n",
        "It serves to hide the internal state of an object and restrict access to it, allowing interaction\n",
        "with the object only through defined interfaces. The key principles of encapsulation include access control and data hiding.\n",
        "'''"
      ],
      "metadata": {
        "id": "tAkpGPqO-jTE"
      },
      "execution_count": null,
      "outputs": []
    },
    {
      "cell_type": "markdown",
      "source": [
        "3. How can you achieve encapsulation in Python classes? Provide an example."
      ],
      "metadata": {
        "id": "C1o0acYq_B-V"
      }
    },
    {
      "cell_type": "code",
      "source": [
        "'''\n",
        "Encapsulation in Python classes can be achieved by using access modifiers\n",
        "and providing controlled access to class attributes and methods.\n",
        "'''\n",
        "\n",
        "class Person :\n",
        "\n",
        "  def __init__(self, name, age) :\n",
        "    self._name = name  # Private attribute\n",
        "    self._age = age    # Private attribute\n",
        "\n",
        "  # Getter method for name\n",
        "  def get_name(self) :\n",
        "    return self._name\n",
        "\n",
        "  # Setter method for name\n",
        "  def set_name(self, name) :\n",
        "    self._name = name\n",
        "\n",
        "  # Getter method for age\n",
        "  def get_age(self) :\n",
        "    return self._age\n",
        "\n",
        "  # Setter method for age\n",
        "  def set_age(self, age) :\n",
        "    if age > 0 :\n",
        "      self._age = age\n",
        "    else :\n",
        "      print(\"Age must be a positive integer.\")\n",
        "\n",
        "# Example usage:\n",
        "person1 = Person(\"Rohit\", 30)\n",
        "print(person1.get_name())  # Output: Alice\n",
        "print(person1.get_age())   # Output: 30\n",
        "\n",
        "person1.set_name(\"Sushant\")\n",
        "person1.set_age(-25)  # This will print \"Age must be a positive integer.\"\n",
        "\n",
        "print(person1.get_name())  # Output: Bob\n",
        "print(person1.get_age())   # Output: 30 (age was not set to -25)\n"
      ],
      "metadata": {
        "colab": {
          "base_uri": "https://localhost:8080/"
        },
        "id": "TXvhSdT8_Fvb",
        "outputId": "20b71372-d8e1-448a-8305-2083cadca250"
      },
      "execution_count": null,
      "outputs": [
        {
          "output_type": "stream",
          "name": "stdout",
          "text": [
            "Rohit\n",
            "30\n",
            "Age must be a positive integer.\n",
            "Sushant\n",
            "30\n"
          ]
        }
      ]
    },
    {
      "cell_type": "markdown",
      "source": [
        "4. Discuss the difference between public, private, and protected access modifiers in Python."
      ],
      "metadata": {
        "id": "2Lueru7zGOyx"
      }
    },
    {
      "cell_type": "code",
      "source": [
        "'''\n",
        "Public: No special prefix. Accessible from anywhere.\n",
        "\n",
        "Private: Prefixed with __. Intended to be accessed only within the defining class.\n",
        "Python performs name mangling to make it harder to access from outside.\n",
        "\n",
        "Protected: Prefixed with _. Intended to be accessed within the defining class and its subclasses.\n",
        "This is a convention and not strictly enforced by Python.\n",
        "\n",
        "These conventions help in designing classes with encapsulation, making it clear which parts of the\n",
        "class are intended for internal use and which are for external interaction.\n",
        "'''"
      ],
      "metadata": {
        "id": "Jbb_h0J1_1Tr"
      },
      "execution_count": null,
      "outputs": []
    },
    {
      "cell_type": "markdown",
      "source": [
        "5. Create a Python class called `Person` with a private attribute `__name`. Provide methods to get and set the name attribute."
      ],
      "metadata": {
        "id": "hjqTSyDbJMz5"
      }
    },
    {
      "cell_type": "code",
      "source": [
        "class Person :\n",
        "\n",
        "  def __init__(self, name=None):\n",
        "    self.__name = name\n",
        "\n",
        "  def get_name(self):\n",
        "    return self.__name\n",
        "\n",
        "  def set_name(self, name):\n",
        "    self.__name = name\n",
        "\n",
        "person = Person(\"Rohit\")\n",
        "print(person.get_name())\n",
        "\n",
        "person.set_name(\"Sushant\")\n",
        "print(person.get_name())\n"
      ],
      "metadata": {
        "colab": {
          "base_uri": "https://localhost:8080/"
        },
        "id": "QV45u3IGGRs9",
        "outputId": "63543089-71bf-474d-ce88-5d29459e6fc8"
      },
      "execution_count": null,
      "outputs": [
        {
          "output_type": "stream",
          "name": "stdout",
          "text": [
            "Rohit\n",
            "Sushant\n"
          ]
        }
      ]
    },
    {
      "cell_type": "markdown",
      "source": [
        "6. Explain the purpose of getter and setter methods in encapsulation. Provide examples."
      ],
      "metadata": {
        "id": "IFahuUNbPmCa"
      }
    },
    {
      "cell_type": "code",
      "source": [
        "'''\n",
        "Getter and setter methods are integral to the concept of encapsulation in object-oriented programming.\n",
        "Encapsulation is the practice of bundling data (attributes) and methods that operate on the data into\n",
        "a single unit, or class, while restricting direct access to some of the object's components.\n",
        "This is done to protect the integrity of the data and to control how it is accessed and modified.\n",
        "'''\n",
        "\n",
        "class Person :\n",
        "\n",
        "  def __init__(self, name):\n",
        "    self.__name = name\n",
        "\n",
        "  def get_name(self):\n",
        "    return self.__name\n",
        "\n",
        "  def set_name(self, name):\n",
        "    if isinstance(name, str) and name :\n",
        "      self.__name = name\n",
        "    else:\n",
        "      raise ValueError(\"Name must be a non-empty string\")\n",
        "\n",
        "person = Person(\"Rohit\")\n",
        "print(person.get_name())\n",
        "person.set_name(\"Shekhar\")\n",
        "print(person.get_name())\n",
        "\n",
        "try:\n",
        "  person.set_name(\"\")\n",
        "except ValueError as e:\n",
        "  print(e)"
      ],
      "metadata": {
        "colab": {
          "base_uri": "https://localhost:8080/"
        },
        "id": "oAPVFGliPimr",
        "outputId": "8ca868f4-d8ff-41fe-98b5-aced0089fc12"
      },
      "execution_count": null,
      "outputs": [
        {
          "output_type": "stream",
          "name": "stdout",
          "text": [
            "Rohit\n",
            "Shekhar\n",
            "Name must be a non-empty string\n"
          ]
        }
      ]
    },
    {
      "cell_type": "markdown",
      "source": [
        "7. What is name mangling in Python, and how does it affect encapsulation?"
      ],
      "metadata": {
        "id": "X6T8_3ahQogh"
      }
    },
    {
      "cell_type": "code",
      "source": [
        "'''\n",
        "Name mangling in Python is a technique used to enforce a stronger level of encapsulation for class attributes.\n",
        "When an attribute name in a class starts with two underscores and does not end with two underscores, Python performs name mangling on it.\n",
        "This means that the attribute name is internally changed to include the class name, making it harder to access from outside the class.\n",
        "'''"
      ],
      "metadata": {
        "id": "RAmPBcA0Qap6"
      },
      "execution_count": null,
      "outputs": []
    },
    {
      "cell_type": "markdown",
      "source": [
        "8. Create a Python class called `BankAccount` with private attributes for the account balance (`__balance`) and account number (`__account_number`). Provide methods for depositing and withdrawing money."
      ],
      "metadata": {
        "id": "LqGzCCkIQ5qX"
      }
    },
    {
      "cell_type": "code",
      "source": [
        "class BankAccount :\n",
        "\n",
        "  def __init__(self, account_number, initial_balance=0):\n",
        "    self.__account_number = account_number\n",
        "    self.__balance = initial_balance\n",
        "\n",
        "  def deposit(self, amount) :\n",
        "    if amount > 0:\n",
        "      self.__balance += amount\n",
        "      print(f\"Deposited ${amount}. New balance is ${self.__balance}.\")\n",
        "    else:\n",
        "      print(\"Deposit amount must be positive.\")\n",
        "\n",
        "  def withdraw(self, amount) :\n",
        "    if 0 < amount <= self.__balance:\n",
        "      self.__balance -= amount\n",
        "      print(f\"Withdrew ${amount}. New balance is ${self.__balance}.\")\n",
        "    else:\n",
        "      print(\"Invalid withdraw amount. Check your balance and try again.\")\n",
        "\n",
        "  def get_balance(self) :\n",
        "    return self.__balance\n",
        "\n",
        "  def get_account_number(self) :\n",
        "    return self.__account_number\n",
        "\n",
        "\n",
        "account = BankAccount(\"123456789\", 1000)\n",
        "print(f\"Account Number: {account.get_account_number()}\")\n",
        "print(f\"Initial Balance: ${account.get_balance()}\")\n",
        "\n",
        "account.deposit(500)\n",
        "account.withdraw(200)\n",
        "account.withdraw(2000)\n",
        "print(f\"Final Balance: ${account.get_balance()}\")"
      ],
      "metadata": {
        "colab": {
          "base_uri": "https://localhost:8080/"
        },
        "id": "gN41poHbRHCp",
        "outputId": "e0023045-a90e-4e39-a45f-256fa4a39abf"
      },
      "execution_count": null,
      "outputs": [
        {
          "output_type": "stream",
          "name": "stdout",
          "text": [
            "Account Number: 123456789\n",
            "Initial Balance: $1000\n",
            "Deposited $500. New balance is $1500.\n",
            "Withdrew $200. New balance is $1300.\n",
            "Invalid withdraw amount. Check your balance and try again.\n",
            "Final Balance: $1300\n"
          ]
        }
      ]
    },
    {
      "cell_type": "markdown",
      "source": [
        "9. Discuss the advantages of encapsulation in terms of code maintainability and security."
      ],
      "metadata": {
        "id": "4h4X5s_2Z7d0"
      }
    },
    {
      "cell_type": "code",
      "source": [
        "'''\n",
        "Encapsulation provides significant advantages in both code maintainability and security.\n",
        "By promoting modularity, readability, and controlled access to data, encapsulation\n",
        "helps create robust, secure, and maintainable software systems.\n",
        "'''"
      ],
      "metadata": {
        "id": "_ABulT5IRyv3"
      },
      "execution_count": null,
      "outputs": []
    },
    {
      "cell_type": "markdown",
      "source": [
        "10. How can you access private attributes in Python? Provide an example demonstrating the use of name mangling."
      ],
      "metadata": {
        "id": "JXCWrDxWaVeR"
      }
    },
    {
      "cell_type": "code",
      "source": [
        "'''\n",
        "In Python, private attributes are denoted by prefixing the attribute name with two underscores (__).\n",
        "This triggers name mangling, which is a mechanism where the interpreter changes the name of the attribute to\n",
        "include the class name. This makes the attribute harder (but not impossible) to access from outside the class.\n",
        "'''\n",
        "\n",
        "class Class :\n",
        "\n",
        "  def __init__(self, value) :\n",
        "    self.__private_attribute = value\n",
        "\n",
        "  def get_private_attribute(self) :\n",
        "    return self.__private_attribute\n",
        "\n",
        "\n",
        "obj = Class(10)\n",
        "\n",
        "#Accessing the private attribute using the public method\n",
        "print(\"Using getter method:\", obj.get_private_attribute())\n",
        "\n",
        "#Accessing the private attribute directly using name mangling\n",
        "print(\"Using name mangling:\", obj._Class__private_attribute)"
      ],
      "metadata": {
        "colab": {
          "base_uri": "https://localhost:8080/"
        },
        "id": "yXgSwZR-aZDu",
        "outputId": "0e96fde7-05a1-4c49-9dcd-2a489464c8a7"
      },
      "execution_count": null,
      "outputs": [
        {
          "output_type": "stream",
          "name": "stdout",
          "text": [
            "Using getter method: 10\n",
            "Using name mangling: 10\n"
          ]
        }
      ]
    },
    {
      "cell_type": "markdown",
      "source": [
        "11. Create a Python class hierarchy for a school system, including classes for students, teachers, and courses, and implement encapsulation principles to protect sensitive information."
      ],
      "metadata": {
        "id": "azVOCz2ndQq-"
      }
    },
    {
      "cell_type": "code",
      "source": [
        "class Person :\n",
        "\n",
        "  def __init__(self, name, age, id_number):\n",
        "    self._name = name\n",
        "    self._age = age\n",
        "    self.__id_number = id_number\n",
        "\n",
        "  def get_name(self):\n",
        "    return self._name\n",
        "\n",
        "  def get_age(self):\n",
        "    return self._age\n",
        "\n",
        "  def get_id_number(self):\n",
        "    return self.__id_number\n",
        "\n",
        "\n",
        "class Student(Person) :\n",
        "\n",
        "  def __init__(self, name, age, id_number, student_id):\n",
        "    super().__init__(name, age, id_number)\n",
        "    self.__student_id = student_id  # private attribute\n",
        "    self.__courses = []\n",
        "\n",
        "  def get_student_id(self):\n",
        "    return self.__student_id\n",
        "\n",
        "  def enroll_course(self, course):\n",
        "    self.__courses.append(course)\n",
        "    print(f\"Student {self.get_name()} enrolled in {course.get_course_name()}\")\n",
        "\n",
        "  def list_courses(self):\n",
        "    return [course.get_course_name() for course in self.__courses]\n",
        "\n",
        "\n",
        "class Teacher(Person) :\n",
        "\n",
        "  def __init__(self, name, age, id_number, teacher_id):\n",
        "    super().__init__(name, age, id_number)\n",
        "    self.__teacher_id = teacher_id  # private attribute\n",
        "    self.__courses = []\n",
        "\n",
        "  def get_teacher_id(self):\n",
        "    return self.__teacher_id\n",
        "\n",
        "  def assign_course(self, course):\n",
        "    self.__courses.append(course)\n",
        "    print(f\"Teacher {self.get_name()} assigned to {course.get_course_name()}\")\n",
        "\n",
        "  def list_courses(self):\n",
        "    return [course.get_course_name() for course in self.__courses]\n",
        "\n",
        "\n",
        "class Course :\n",
        "\n",
        "  def __init__(self, course_name, course_code):\n",
        "    self._course_name = course_name\n",
        "    self._course_code = course_code\n",
        "    self.__students = []\n",
        "    self.__teacher = None\n",
        "\n",
        "  def get_course_name(self):\n",
        "    return self._course_name\n",
        "\n",
        "  def get_course_code(self):\n",
        "    return self._course_code\n",
        "\n",
        "  def add_student(self, student):\n",
        "    self.__students.append(student)\n",
        "    student.enroll_course(self)\n",
        "\n",
        "  def assign_teacher(self, teacher):\n",
        "    self.__teacher = teacher\n",
        "    teacher.assign_course(self)\n",
        "\n",
        "  def list_students(self):\n",
        "    return [student.get_name() for student in self.__students]\n",
        "\n",
        "  def get_teacher(self):\n",
        "    return self.__teacher.get_name() if self.__teacher else \"No teacher assigned\"\n",
        "\n",
        "\n",
        "student1 = Student(\"Rohit\", 20, \"S123\", \"SID001\")\n",
        "student2 = Student(\"Sushant\", 22, \"S124\", \"SID002\")\n",
        "teacher1 = Teacher(\"Mr Vishwa Mohan\", 40, \"T123\", \"TID001\")\n",
        "course1 = Course(\"DS\", \"MATH101\")\n",
        "\n",
        "#Enrolling students in the course\n",
        "course1.add_student(student1)\n",
        "course1.add_student(student2)\n",
        "\n",
        "#Assigning teacher to the course\n",
        "course1.assign_teacher(teacher1)\n",
        "\n",
        "#Accessing information\n",
        "print(\"Course:\", course1.get_course_name())\n",
        "print(\"Teacher:\", course1.get_teacher())\n",
        "print(\"Students enrolled:\", course1.list_students())\n",
        "\n",
        "#Checking individual student's enrolled courses\n",
        "print(\"Courses for student1:\", student1.list_courses())\n",
        "print(\"Courses for student2:\", student2.list_courses())\n"
      ],
      "metadata": {
        "colab": {
          "base_uri": "https://localhost:8080/"
        },
        "id": "a48DXhuWc0CX",
        "outputId": "34e3daa3-45d4-4bf0-9455-bade929c2994"
      },
      "execution_count": null,
      "outputs": [
        {
          "output_type": "stream",
          "name": "stdout",
          "text": [
            "Student Rohit enrolled in DS\n",
            "Student Sushant enrolled in DS\n",
            "Teacher Mr Vishwa Mohan assigned to DS\n",
            "Course: DS\n",
            "Teacher: Mr Vishwa Mohan\n",
            "Students enrolled: ['Rohit', 'Sushant']\n",
            "Courses for student1: ['DS']\n",
            "Courses for student2: ['DS']\n"
          ]
        }
      ]
    },
    {
      "cell_type": "markdown",
      "source": [
        "12. Explain the concept of property decorators in Python and how they relate to encapsulation."
      ],
      "metadata": {
        "id": "ygeBd-mygi35"
      }
    },
    {
      "cell_type": "code",
      "source": [
        "'''\n",
        "Property decorators in Python are a feature that allows developers to define methods\n",
        "in a class that can be accessed like attributes.\n",
        "This provides a way to add controlled access to private attributes, enhancing encapsulation\n",
        "by allowing data to be accessed and modified safely.\n",
        "'''\n"
      ],
      "metadata": {
        "id": "nOzb78lJgR7f"
      },
      "execution_count": null,
      "outputs": []
    },
    {
      "cell_type": "markdown",
      "source": [
        "13. What is data hiding, and why is it important in encapsulation? Provide examples."
      ],
      "metadata": {
        "id": "1rP8t1dhhSUb"
      }
    },
    {
      "cell_type": "code",
      "source": [
        "'''\n",
        "Data hiding is a concept in object-oriented programming that restricts direct access to\n",
        "some of an object's attributes and methods, thereby protecting the internal state of the\n",
        "object from unintended interference and misuse. It is an essential aspect of encapsulation,\n",
        "which ensures that the internal representation of an object is hidden from the outside.\n",
        "This is typically achieved by making attributes private or protected and providing\n",
        "controlled access through public methods.\n",
        "'''\n",
        "\n",
        "class BankAccount :\n",
        "\n",
        "  def __init__(self, account_number, balance) :\n",
        "    self.__account_number = account_number\n",
        "    self.__balance = balance\n",
        "\n",
        "  def deposit(self, amount) :\n",
        "    if amount > 0 :\n",
        "      self.__balance += amount\n",
        "      print(f\"Deposited ${amount}. New balance: ${self.__balance}\")\n",
        "    else :\n",
        "      print(\"Deposit amount must be positive.\")\n",
        "\n",
        "  def withdraw(self, amount) :\n",
        "    if 0 < amount <= self.__balance :\n",
        "      self.__balance -= amount\n",
        "      print(f\"Withdrew ${amount}. New balance: ${self.__balance}\")\n",
        "    else :\n",
        "      print(\"Insufficient funds or invalid amount.\")\n",
        "\n",
        "  def get_balance(self) :\n",
        "    return self.__balance\n",
        "\n",
        "#Creating an instance of BankAccount\n",
        "account = BankAccount(\"12345678\", 1000)\n",
        "\n",
        "#Accessing the balance through the public method\n",
        "print(\"Balance:\", account.get_balance())\n",
        "\n",
        "#Attempting to access the private attribute directly (will raise an AttributeError)\n",
        "#print(account.__balance)\n",
        "#Uncommenting this line will cause an error\n"
      ],
      "metadata": {
        "colab": {
          "base_uri": "https://localhost:8080/"
        },
        "id": "lou5lIG3hR8w",
        "outputId": "fdd5e0f9-2079-4f35-a55f-3cfa2123e41b"
      },
      "execution_count": null,
      "outputs": [
        {
          "output_type": "stream",
          "name": "stdout",
          "text": [
            "Balance: 1000\n"
          ]
        }
      ]
    },
    {
      "cell_type": "markdown",
      "source": [
        "14. Create a Python class called `Employee` with private attributes for salary (`__salary`) and employee ID (`__employee_id`). Provide a method to calculate yearly bonuses."
      ],
      "metadata": {
        "id": "Y2XDc4yGPRne"
      }
    },
    {
      "cell_type": "code",
      "source": [
        "class Employee :\n",
        "\n",
        "  def __init__(self, employee_id, salary) :\n",
        "    self.__employee_id = employee_id\n",
        "    self.__salary = salary\n",
        "\n",
        "  # Getter for employee_id\n",
        "  @property\n",
        "  def employee_id(self) :\n",
        "    return self.__employee_id\n",
        "\n",
        "  # Setter for employee_id\n",
        "  @employee_id.setter\n",
        "  def employee_id(self, value) :\n",
        "    if isinstance(value, str) and value.strip() :\n",
        "      self.__employee_id = value\n",
        "    else :\n",
        "      raise ValueError(\"Employee ID must be a non-empty string\")\n",
        "\n",
        "  # Getter for salary\n",
        "  @property\n",
        "  def salary(self) :\n",
        "    return self.__salary\n",
        "\n",
        "  # Setter for salary\n",
        "  @salary.setter\n",
        "  def salary(self, value) :\n",
        "    if isinstance(value, (int, float)) and value >= 0 :\n",
        "      self.__salary = value\n",
        "    else :\n",
        "      raise ValueError(\"Salary must be a non-negative number\")\n",
        "\n",
        "  # Method to calculate yearly bonus\n",
        "  def calculate_yearly_bonus(self, bonus_percentage) :\n",
        "    if 0 <= bonus_percentage <= 100:\n",
        "      return self.__salary * (bonus_percentage / 100)\n",
        "    else :\n",
        "      raise ValueError(\"Bonus percentage must be between 0 and 100\")\n",
        "\n",
        "#Example usage\n",
        "employee = Employee(\"E123\", 50000)\n",
        "\n",
        "#Accessing employee_id and salary via getters\n",
        "print(\"Employee ID:\", employee.employee_id)\n",
        "print(\"Salary:\", employee.salary)\n",
        "\n",
        "#Modifying employee_id and salary via setters\n",
        "employee.employee_id = \"E124\"\n",
        "employee.salary = 55000\n",
        "\n",
        "print(\"Updated Employee ID:\", employee.employee_id)\n",
        "print(\"Updated Salary:\", employee.salary)\n",
        "\n",
        "#Calculating yearly bonus\n",
        "bonus = employee.calculate_yearly_bonus(10)\n",
        "print(\"Yearly Bonus:\", bonus)\n"
      ],
      "metadata": {
        "colab": {
          "base_uri": "https://localhost:8080/"
        },
        "id": "k3ukuw2_iSOE",
        "outputId": "19c0a058-50eb-4f5c-d070-2b4404b73ac8"
      },
      "execution_count": null,
      "outputs": [
        {
          "output_type": "stream",
          "name": "stdout",
          "text": [
            "Employee ID: E123\n",
            "Salary: 50000\n",
            "Updated Employee ID: E124\n",
            "Updated Salary: 55000\n",
            "Yearly Bonus: 5500.0\n"
          ]
        }
      ]
    },
    {
      "cell_type": "markdown",
      "source": [
        "15. Discuss the use of accessors and mutators in encapsulation. How do they help maintain control over attribute access?"
      ],
      "metadata": {
        "id": "KPm3r-T4QhuR"
      }
    },
    {
      "cell_type": "code",
      "source": [
        "'''\n",
        "Accessors and mutators are essential for maintaining control over attribute access in encapsulation.\n",
        "They provide a way to enforce rules, validate data, and hide the internal implementation details,\n",
        "thus ensuring that the internal state of an object remains consistent and protected from unintended interference.\n",
        "'''"
      ],
      "metadata": {
        "id": "Oc5zESjWQVwR"
      },
      "execution_count": null,
      "outputs": []
    },
    {
      "cell_type": "markdown",
      "source": [
        "16. What are the potential drawbacks or disadvantages of using encapsulation in Python?"
      ],
      "metadata": {
        "id": "NFh7SgZbKFAm"
      }
    },
    {
      "cell_type": "code",
      "source": [
        "'''\n",
        "1. Increased Complexity -\n",
        "2. Limited Enforcement - Due to addtional method call\n",
        "3. Performance Overhead\n",
        "4. Development Time\n",
        "5. Redundancy and Duplication\n",
        "6. Potential Misuse\n",
        "'''"
      ],
      "metadata": {
        "id": "op4muU6iKHyb"
      },
      "execution_count": null,
      "outputs": []
    },
    {
      "cell_type": "markdown",
      "source": [
        "17. Create a Python class for a library system that encapsulates book information, including titles, authors, and availability status."
      ],
      "metadata": {
        "id": "vF3nsQyXQIjz"
      }
    },
    {
      "cell_type": "code",
      "source": [
        "class Book :\n",
        "\n",
        "  def __init__(self, title, author) :\n",
        "    self._title = title\n",
        "    self._author = author\n",
        "    self._available = True  # All books are available by default when added to the library\n",
        "\n",
        "  # Accessor (getter) for title\n",
        "  @property\n",
        "  def title(self) :\n",
        "    return self._title\n",
        "\n",
        "  # Accessor (getter) for author\n",
        "  @property\n",
        "  def author(self) :\n",
        "    return self._author\n",
        "\n",
        "  # Accessor (getter) for availability\n",
        "  @property\n",
        "  def available(self) :\n",
        "    return self._available\n",
        "\n",
        "  # Mutator (setter) for availability\n",
        "  @available.setter\n",
        "  def available(self, status) :\n",
        "    if isinstance(status, bool) :\n",
        "      self._available = status\n",
        "    else:\n",
        "      raise ValueError(\"Availability status must be a boolean\")\n",
        "\n",
        "  def __str__(self) :\n",
        "    return f\"'{self.title}' by {self.author} - {'Available' if self.available else 'Checked Out'}\"\n",
        "\n",
        "\n",
        "class Library :\n",
        "\n",
        "  def __init__(self) :\n",
        "    self._books = []\n",
        "\n",
        "  def add_book(self, book) :\n",
        "    if isinstance(book, Book) :\n",
        "      self._books.append(book)\n",
        "    else :\n",
        "      raise ValueError(\"Only Book instances can be added to the library\")\n",
        "\n",
        "  def list_books(self) :\n",
        "    for book in self._books :\n",
        "      print(book)\n",
        "\n",
        "  def find_book(self, title) :\n",
        "    for book in self._books :\n",
        "      if book.title == title :\n",
        "        return book\n",
        "    return None\n",
        "\n",
        "  def checkout_book(self, title) :\n",
        "    book = self.find_book(title)\n",
        "    if book and book.available :\n",
        "      book.available = False\n",
        "      print(f\"You have successfully checked out '{title}'\")\n",
        "    elif book :\n",
        "      print(f\"'{title}' is already checked out\")\n",
        "    else :\n",
        "      print(f\"'{title}' not found in the library\")\n",
        "\n",
        "  def return_book(self, title) :\n",
        "    book = self.find_book(title)\n",
        "    if book and not book.available :\n",
        "      book.available = True\n",
        "      print(f\"'{title}' has been successfully returned\")\n",
        "    elif book:\n",
        "      print(f\"'{title}' is already available\")\n",
        "    else:\n",
        "      print(f\"'{title}' not found in the library\")\n",
        "\n",
        "\n",
        "library = Library()\n",
        "\n",
        "book1 = Book(\"1984\", \"George Orwell\")\n",
        "book2 = Book(\"To Kill a Mockingbird\", \"Harper Lee\")\n",
        "book3 = Book(\"The Great Gatsby\", \"F. Scott Fitzgerald\")\n",
        "\n",
        "library.add_book(book1)\n",
        "library.add_book(book2)\n",
        "library.add_book(book3)\n",
        "\n",
        "library.list_books()\n",
        "print()\n",
        "\n",
        "library.checkout_book(\"1984\")\n",
        "library.list_books()\n",
        "print()\n",
        "\n",
        "library.return_book(\"1984\")\n",
        "library.list_books()"
      ],
      "metadata": {
        "colab": {
          "base_uri": "https://localhost:8080/"
        },
        "id": "OiLbZJcPQLZZ",
        "outputId": "857b08af-e499-4095-eff3-ee042f849392"
      },
      "execution_count": null,
      "outputs": [
        {
          "output_type": "stream",
          "name": "stdout",
          "text": [
            "'1984' by George Orwell - Available\n",
            "'To Kill a Mockingbird' by Harper Lee - Available\n",
            "'The Great Gatsby' by F. Scott Fitzgerald - Available\n",
            "\n",
            "You have successfully checked out '1984'\n",
            "'1984' by George Orwell - Checked Out\n",
            "'To Kill a Mockingbird' by Harper Lee - Available\n",
            "'The Great Gatsby' by F. Scott Fitzgerald - Available\n",
            "\n",
            "'1984' has been successfully returned\n",
            "'1984' by George Orwell - Available\n",
            "'To Kill a Mockingbird' by Harper Lee - Available\n",
            "'The Great Gatsby' by F. Scott Fitzgerald - Available\n"
          ]
        }
      ]
    },
    {
      "cell_type": "markdown",
      "source": [
        "18. Explain how encapsulation enhances code reusability and modularity in Python programs."
      ],
      "metadata": {
        "id": "IgiAXlVVSW4U"
      }
    },
    {
      "cell_type": "code",
      "source": [
        "'''\n",
        "Encapsulation is a fundamental principle of object-oriented programming (OOP), plays a crucial role\n",
        "in enhancing code reusability and modularity in Python programs. It involves bundling the data (attributes)\n",
        "and the methods (functions) that operate on the data within a single unit, typically a class\n",
        "\n",
        "It enhances code reusability by :\n",
        "\n",
        "- Self-Contained Classes : Encapsulation creates self-contained classes where data and behavior\n",
        "are bundled together. This makes it easy to reuse these classes across different parts of a program\n",
        "or in different programs without needing to understand or replicate the internal workings.\n",
        "\n",
        "- Clear and Consistent Interfaces : By using accessors (getters) and mutators (setters), classes\n",
        "provide clear and consistent interfaces for interacting with their attributes. This consistency\n",
        "allows other parts of the program to interact with the class without needing to know the\n",
        "implementation details, promoting reuse.\n",
        "\n",
        "- Abstracting Complexity : Encapsulation hides the internal complexity of a class. Developers\n",
        "can use the class without understanding its internal logic, making it easier to reuse in various contexts.\n",
        "\n",
        "- Encapsulation of Business Logic : Business logic encapsulated within methods can be reused\n",
        "across different scenarios. This reduces code duplication and makes the logic easier to maintain and update.\n",
        "\n",
        "It enhances modularity by :\n",
        "\n",
        "- Separation of Concerns : Encapsulation enforces the separation of concerns by ensuring each class has a specific\n",
        "responsibility. This makes it easier to understand, maintain, and modify each part of the program independently.\n",
        "\n",
        "- Loose Coupling: Encapsulation helps achieve loose coupling between different parts of a program.\n",
        "Since classes interact through well-defined interfaces, changes in one class are less likely to impact\n",
        "other classes, making the system more flexible and easier to manage.\n",
        "\n",
        "- Improved Maintainability: Modular code is easier to maintain because each class can be understood\n",
        "and modified in isolation. If a bug is found or a change is needed, it can be addressed within the\n",
        "encapsulated class without affecting other parts of the program.\n",
        "\n",
        "- Ease of Testing : Encapsulated classes are easier to test in isolation (unit testing).\n",
        "Each class can be tested independently to ensure it behaves correctly, simplifying the\n",
        "testing process and improving the reliability of the code.\n",
        "\n",
        "'''"
      ],
      "metadata": {
        "id": "jFtyjOaMSLLk"
      },
      "execution_count": null,
      "outputs": []
    },
    {
      "cell_type": "markdown",
      "source": [
        "19. Describe the concept of information hiding in encapsulation. Why is it essential in software development?"
      ],
      "metadata": {
        "id": "AE_a6kGjVIOn"
      }
    },
    {
      "cell_type": "code",
      "source": [
        "'''\n",
        "Information hiding is a core aspect of encapsulation in object-oriented programming.\n",
        "It involves restricting access to the internal details and data of a class, exposing\n",
        "only what is necessary through a public interface. This means that the internal state\n",
        "of an object is protected from unintended or harmful modifications, and users of the\n",
        "object can only interact with it in controlled ways.\n",
        "'''"
      ],
      "metadata": {
        "id": "FY6UC-1hVcmq"
      },
      "execution_count": null,
      "outputs": []
    },
    {
      "cell_type": "markdown",
      "source": [
        "20. Create a Python class called `Customer` with private attributes for customer details like name, address, and contact information. Implement encapsulation to ensure data integrity and security."
      ],
      "metadata": {
        "id": "Q8IvxxCHVnvx"
      }
    },
    {
      "cell_type": "code",
      "source": [
        "class Customer :\n",
        "\n",
        "  def __init__(self, name, address, contact_info) :\n",
        "    self.__name = name\n",
        "    self.__address = address\n",
        "    self.__contact_info = contact_info\n",
        "\n",
        "  def get_name(self) :\n",
        "    return self.__name\n",
        "\n",
        "  def get_address(self) :\n",
        "    return self.__address\n",
        "\n",
        "  def get_contact_info(self) :\n",
        "    return self.__contact_info\n",
        "\n",
        "  def set_name(self, name) :\n",
        "    if isinstance(name, str) and name :\n",
        "      self.__name = name\n",
        "    else :\n",
        "      raise ValueError(\"Name must be string which should be non-empty\")\n",
        "\n",
        "  def set_address(self, address) :\n",
        "    if isinstance(address, str) and address :\n",
        "      self.__address = address\n",
        "    else :\n",
        "      raise ValueError(\"Address must be string which should be non-empty\")\n",
        "\n",
        "  def set_address(self, contact_info) :\n",
        "    if isinstance(contact_info, int) and contact_info:\n",
        "      self.__contact_info = contact_info\n",
        "    else :\n",
        "      raise ValueError(\"Contact Info must be string which should be non-empty\")\n",
        "\n",
        "customer1 = Customer(\"Rohit\", \"5, Vivek Vihar\", 123456789)\n",
        "print(customer1.get_name())\n",
        "print(customer1.get_address())\n",
        "print(customer1.get_contact_info())\n",
        "\n",
        "customer1.set_name(\"Rahul\")\n",
        "print(customer1.get_name())"
      ],
      "metadata": {
        "id": "rqOZONO2Vr1J",
        "colab": {
          "base_uri": "https://localhost:8080/"
        },
        "outputId": "d9cdc68b-0cad-4693-f7e4-0779b59af050"
      },
      "execution_count": null,
      "outputs": [
        {
          "output_type": "stream",
          "name": "stdout",
          "text": [
            "Rohit\n",
            "5, Vivek Vihar\n",
            "123456789\n",
            "Rahul\n"
          ]
        }
      ]
    },
    {
      "cell_type": "markdown",
      "source": [
        "# **Polymorphism :**\n",
        "\n",
        "---\n",
        "\n"
      ],
      "metadata": {
        "id": "aNUB-LNvn63-"
      }
    },
    {
      "cell_type": "markdown",
      "source": [
        "1. What is polymorphism in Python? Explain how it is related to object-oriented programming."
      ],
      "metadata": {
        "id": "nJixv_aYoSOu"
      }
    },
    {
      "cell_type": "code",
      "source": [
        "'''\n",
        "Polymorphism is a fundamental concept in object-oriented programming (OOP) that allows objects of different\n",
        "classes to be treated as objects of a common superclass. It refers to the ability of different objects to\n",
        "respond to the same operation in different ways. In Python, polymorphism allows for methods to be defined\n",
        "in a base class and overridden in derived classes, or for different classes to implement methods with the same name.\n",
        "'''"
      ],
      "metadata": {
        "id": "E3JK-XwWn5rj"
      },
      "execution_count": null,
      "outputs": []
    },
    {
      "cell_type": "markdown",
      "source": [
        "2. Describe the difference between compile-time polymorphism and runtime polymorphism in Python."
      ],
      "metadata": {
        "id": "jLoH_dsJpQ4w"
      }
    },
    {
      "cell_type": "code",
      "source": [
        "'''\n",
        "Compile-time polymorphism, also known as static polymorphism, is resolved during the compilation phase\n",
        "of a program. This means that the decision about which method to call is made before the program runs.\n",
        "\n",
        "Runtime polymorphism, also known as dynamic polymorphism, is resolved during the execution of a program.\n",
        "The decision about which method to call is made at runtime. The most common form of runtime polymorphism\n",
        "is method overriding, where a subclass provides a specific implementation of a method that is already defined in its superclass.\n",
        "\n",
        "Python primarily supports runtime polymorphism through method overriding and duck typing due to its\n",
        "dynamic nature. While compile-time polymorphism is not directly supported as in statically-typed languages,\n",
        "similar behavior can be achieved using flexible function signatures with default or variable arguments.\n",
        "Understanding these concepts allows Python programmers to write more flexible and reusable code.\n",
        "'''"
      ],
      "metadata": {
        "id": "lbuj6b6jpQbj"
      },
      "execution_count": null,
      "outputs": []
    },
    {
      "cell_type": "markdown",
      "source": [
        "3. Create a Python class hierarchy for shapes (e.g., circle, square, triangle) and demonstrate polymorphism through a common method, such as `calculate_area()`."
      ],
      "metadata": {
        "id": "ddRJn-zvpzb5"
      }
    },
    {
      "cell_type": "code",
      "source": [
        "from abc import ABC, abstractmethod\n",
        "import math\n",
        "\n",
        "class Shape(ABC) :\n",
        "\n",
        "  @abstractmethod\n",
        "  def calculate_area(self):\n",
        "    pass\n",
        "\n",
        "class Circle(Shape) :\n",
        "\n",
        "  def __init__(self, radius) :\n",
        "    self.radius = radius\n",
        "\n",
        "  def calculate_area(self) :\n",
        "    return math.pi * self.radius ** 2\n",
        "\n",
        "class Square(Shape) :\n",
        "\n",
        "  def __init__(self, side_length) :\n",
        "    self.side_length = side_length\n",
        "\n",
        "  def calculate_area(self) :\n",
        "    return self.side_length ** 2\n",
        "\n",
        "class Triangle(Shape) :\n",
        "\n",
        "  def __init__(self, base, height) :\n",
        "    self.base = base\n",
        "    self.height = height\n",
        "\n",
        "  def calculate_area(self) :\n",
        "    return 0.5 * self.base * self.height\n",
        "\n",
        "\n",
        "def print_area(shape):\n",
        "  print(f\"The area is : {shape.calculate_area()}\")\n",
        "\n",
        "#Creating instances of each shape\n",
        "circle = Circle(5)\n",
        "square = Square(4)\n",
        "triangle = Triangle(3, 6)\n",
        "\n",
        "#Demonstrating polymorphism\n",
        "print_area(circle)\n",
        "print_area(square)\n",
        "print_area(triangle)\n"
      ],
      "metadata": {
        "colab": {
          "base_uri": "https://localhost:8080/"
        },
        "id": "dhfQYDzDp30o",
        "outputId": "ce158ca0-0816-454f-9bde-19050544dfdc"
      },
      "execution_count": null,
      "outputs": [
        {
          "output_type": "stream",
          "name": "stdout",
          "text": [
            "The area is : 78.53981633974483\n",
            "The area is : 16\n",
            "The area is : 9.0\n"
          ]
        }
      ]
    },
    {
      "cell_type": "markdown",
      "source": [
        "4. Explain the concept of method overriding in polymorphism. Provide an example."
      ],
      "metadata": {
        "id": "BOd6qNRgrfw1"
      }
    },
    {
      "cell_type": "code",
      "source": [
        "'''\n",
        "Method overriding is a key concept in polymorphism that allows a subclass to provide a specific implementation\n",
        "of a method that is already defined in its superclass. When a method in a subclass has the same name,\n",
        "return type, and parameters as a method in its superclass, the subclass's method overrides the superclass's\n",
        "method. This allows the subclass to customize or extend the behavior of the method.\n",
        "'''\n",
        "\n",
        "class Animal :\n",
        "\n",
        "  def speak(self):\n",
        "    raise NotImplementedError(\"Subclass must implement abstract method\")\n",
        "\n",
        "class Dog(Animal) :\n",
        "\n",
        "  def speak(self) :\n",
        "    return \"Woof\"\n",
        "\n",
        "class Cat(Animal) :\n",
        "\n",
        "  def speak(self) :\n",
        "    return \"Meow\"\n",
        "\n",
        "def make_animal_speak(animal):\n",
        "  print(animal.speak())\n",
        "\n",
        "#Creating instances of Dog and Cat\n",
        "dog = Dog()\n",
        "cat = Cat()\n",
        "\n",
        "#Demonstrating method overriding\n",
        "make_animal_speak(dog)\n",
        "make_animal_speak(cat)\n"
      ],
      "metadata": {
        "colab": {
          "base_uri": "https://localhost:8080/"
        },
        "id": "1YOI_6g_qypT",
        "outputId": "6d660d02-c36e-4c9e-a28c-518c632009c0"
      },
      "execution_count": null,
      "outputs": [
        {
          "output_type": "stream",
          "name": "stdout",
          "text": [
            "Woof\n",
            "Meow\n"
          ]
        }
      ]
    },
    {
      "cell_type": "markdown",
      "source": [
        "5. How is polymorphism different from method overloading in Python? Provide examples for both."
      ],
      "metadata": {
        "id": "7Y-FpXQQyXNz"
      }
    },
    {
      "cell_type": "code",
      "source": [
        "'''\n",
        "polymorphism in Python is about creating a common interface for different types, allowing them to be\n",
        "used interchangeably, while method overloading is about defining multiple methods with the same name\n",
        "but different parameters. Python primarily achieves method overloading through default and variable\n",
        "arguments, whereas polymorphism is achieved through inheritance and method overriding.\n",
        "'''\n",
        "\n",
        "#Example of polymorphism\n",
        "class Animal :\n",
        "\n",
        "  def speak(self):\n",
        "    raise NotImplementedError(\"Subclass must implement abstract method\")\n",
        "\n",
        "class Dog(Animal) :\n",
        "\n",
        "  def speak(self) :\n",
        "    return \"Woof\"\n",
        "\n",
        "class Cat(Animal) :\n",
        "\n",
        "  def speak(self) :\n",
        "    return \"Meow\"\n",
        "\n",
        "def make_animal_speak(animal):\n",
        "  print(animal.speak())\n",
        "\n",
        "#Creating instances of Dog and Cat\n",
        "dog = Dog()\n",
        "cat = Cat()\n",
        "\n",
        "#Demonstrating method overriding\n",
        "make_animal_speak(dog)\n",
        "make_animal_speak(cat)\n",
        "\n",
        "\n",
        "#Example of method overloading\n",
        "class MathOperations:\n",
        "    def add(self, a, b, c=0):\n",
        "        return a + b + c\n",
        "\n",
        "math_op = MathOperations()\n",
        "print(math_op.add(2, 3))\n",
        "print(math_op.add(2, 3, 4))"
      ],
      "metadata": {
        "colab": {
          "base_uri": "https://localhost:8080/"
        },
        "id": "_DNSg0ufyKrK",
        "outputId": "44316dd9-f51c-46aa-c895-0d7884b82775"
      },
      "execution_count": null,
      "outputs": [
        {
          "output_type": "stream",
          "name": "stdout",
          "text": [
            "Woof\n",
            "Meow\n",
            "5\n",
            "9\n"
          ]
        }
      ]
    },
    {
      "cell_type": "markdown",
      "source": [
        "6. Create a Python class called `Animal` with a method `speak()`. Then, create child classes like `Dog`, `Cat`, and `Bird`, each with their own `speak()` method. Demonstrate polymorphism by calling the `speak()` method\n",
        "on objects of different subclasses."
      ],
      "metadata": {
        "id": "Yf1tDiemzww8"
      }
    },
    {
      "cell_type": "code",
      "source": [
        "class Animal :\n",
        "\n",
        "  def speak(self):\n",
        "    raise NotImplementedError(\"Subclass must implement abstract method\")\n",
        "\n",
        "class Dog(Animal) :\n",
        "\n",
        "  def speak(self) :\n",
        "    return \"Woof\"\n",
        "\n",
        "class Cat(Animal) :\n",
        "\n",
        "  def speak(self) :\n",
        "    return \"Meow\"\n",
        "\n",
        "class Bird(Animal) :\n",
        "\n",
        "  def speak(self) :\n",
        "    return \"Chirp\"\n",
        "\n",
        "def make_animal_speak(animal):\n",
        "  print(animal.speak())\n",
        "\n",
        "#Creating instances of Dog and Cat\n",
        "dog = Dog()\n",
        "cat = Cat()\n",
        "bird = Bird()\n",
        "\n",
        "#Demonstrating method overriding\n",
        "make_animal_speak(dog)\n",
        "make_animal_speak(cat)\n",
        "make_animal_speak(bird)"
      ],
      "metadata": {
        "colab": {
          "base_uri": "https://localhost:8080/"
        },
        "id": "gNqS4lyazaJj",
        "outputId": "6d880508-78de-436e-97eb-1943dc5c715c"
      },
      "execution_count": null,
      "outputs": [
        {
          "output_type": "stream",
          "name": "stdout",
          "text": [
            "Woof\n",
            "Meow\n",
            "Chirp\n"
          ]
        }
      ]
    },
    {
      "cell_type": "markdown",
      "source": [
        "7. Discuss the use of abstract methods and classes in achieving polymorphism in Python. Provide an example using the `abc` module."
      ],
      "metadata": {
        "id": "_sfjKbsp_u-V"
      }
    },
    {
      "cell_type": "code",
      "source": [
        "'''\n",
        "Abstract methods and abstract classes are instrumental in achieving polymorphism in Python by providing a\n",
        "template for subclasses to follow. The abc (Abstract Base Classes) module in Python allows you to define\n",
        "abstract classes and methods. An abstract class cannot be instantiated on its own and requires subclasses\n",
        "to provide implementations for its abstract methods.\n",
        "'''\n",
        "\n",
        "from abc import ABC, abstractmethod\n",
        "\n",
        "#Defining the abstract class with an abstract method\n",
        "class Animal(ABC) :\n",
        "\n",
        "  @abstractmethod\n",
        "  def speak(self) :\n",
        "    pass\n",
        "\n",
        "#Subclass Dog that implements the abstract method\n",
        "class Dog(Animal) :\n",
        "\n",
        "  def speak(self) :\n",
        "    return \"Woof\"\n",
        "\n",
        "#Subclass Cat that implements the abstract method\n",
        "class Cat(Animal) :\n",
        "\n",
        "  def speak(self) :\n",
        "    return \"Meow\"\n",
        "\n",
        "#Subclass Bird that implements the abstract method\n",
        "class Bird(Animal) :\n",
        "\n",
        "  def speak(self) :\n",
        "    return \"Chirp\"\n",
        "\n",
        "#Function to demonstrate polymorphism\n",
        "def make_animal_speak(animal) :\n",
        "    print(animal.speak())\n",
        "\n",
        "#Creating instances of each subclass\n",
        "dog = Dog()\n",
        "cat = Cat()\n",
        "bird = Bird()\n",
        "\n",
        "#Demonstrating polymorphism by calling speak() on each object\n",
        "make_animal_speak(dog)\n",
        "make_animal_speak(cat)\n",
        "make_animal_speak(bird)"
      ],
      "metadata": {
        "colab": {
          "base_uri": "https://localhost:8080/"
        },
        "id": "xowPX_VN0Mwp",
        "outputId": "462b269f-1cba-4869-f9ec-58b8919ffa71"
      },
      "execution_count": null,
      "outputs": [
        {
          "output_type": "stream",
          "name": "stdout",
          "text": [
            "Woof\n",
            "Meow\n",
            "Chirp\n"
          ]
        }
      ]
    },
    {
      "cell_type": "markdown",
      "source": [
        "8. Create a Python class hierarchy for a vehicle system (e.g., car, bicycle, boat) and implement a polymorphic `start()` method that prints a message specific to each vehicle type."
      ],
      "metadata": {
        "id": "GEMbbB6eFP6Q"
      }
    },
    {
      "cell_type": "code",
      "source": [
        "from abc import ABC, abstractmethod\n",
        "\n",
        "#Defining the abstract class with an abstract method\n",
        "class Vehicle(ABC) :\n",
        "\n",
        "  @abstractmethod\n",
        "  def start(self) :\n",
        "    pass\n",
        "\n",
        "#Subclass Car that implements the abstract method\n",
        "class Car(Vehicle) :\n",
        "\n",
        "  def start(self) :\n",
        "    print(\"Car engine starts with a key.\")\n",
        "\n",
        "#Subclass Bicycle that implements the abstract method\n",
        "class Bicycle(Vehicle) :\n",
        "\n",
        "  def start(self):\n",
        "    print(\"Bicycle starts by pedaling.\")\n",
        "\n",
        "#Subclass Boat that implements the abstract method\n",
        "class Boat(Vehicle) :\n",
        "\n",
        "  def start(self):\n",
        "    print(\"Boat engine starts with a button.\")\n",
        "\n",
        "#Function to demonstrate polymorphism\n",
        "def start_vehicle(vehicle):\n",
        "  vehicle.start()\n",
        "\n",
        "#Creating instances of each subclass\n",
        "car = Car()\n",
        "bicycle = Bicycle()\n",
        "boat = Boat()\n",
        "\n",
        "#Demonstrating polymorphism by calling start() on each object\n",
        "start_vehicle(car)\n",
        "start_vehicle(bicycle)\n",
        "start_vehicle(boat)\n"
      ],
      "metadata": {
        "colab": {
          "base_uri": "https://localhost:8080/"
        },
        "id": "MLpk8Ks6FJfb",
        "outputId": "cba5a73f-d3d5-406f-8de3-64613fd6ee4a"
      },
      "execution_count": null,
      "outputs": [
        {
          "output_type": "stream",
          "name": "stdout",
          "text": [
            "Car engine starts with a key.\n",
            "Bicycle starts by pedaling.\n",
            "Boat engine starts with a button.\n"
          ]
        }
      ]
    },
    {
      "cell_type": "markdown",
      "source": [
        "9. Explain the significance of the `isinstance()` and `issubclass()` functions in Python polymorphism."
      ],
      "metadata": {
        "id": "3f1HRvOFJXuD"
      }
    },
    {
      "cell_type": "code",
      "source": [
        "'''\n",
        "Type Safety : Ensures that an object is of the expected type before performing operations on it.\n",
        "This is crucial when dealing with a collection of objects of different types.\n",
        "\n",
        "Dynamic Behavior : Supports dynamic type checking, allowing code to adapt based on the type of\n",
        "objects at runtime.\n",
        "\n",
        "Interface Verification : Confirms that an object implements the required methods and attributes\n",
        "of a specific class or interface.\n",
        "'''"
      ],
      "metadata": {
        "id": "OcLLFTGPJMd8"
      },
      "execution_count": null,
      "outputs": []
    },
    {
      "cell_type": "markdown",
      "source": [
        "10. What is the role of the `@abstractmethod` decorator in achieving polymorphism in Python? Provide an example."
      ],
      "metadata": {
        "id": "KS_vm8eoyyQs"
      }
    },
    {
      "cell_type": "code",
      "source": [
        "'''\n",
        "The @abstractmethod decorator in Python is used in conjunction with the abc (Abstract Base Classes)\n",
        "module to define abstract methods. Abstract methods are methods that are declared but contain no\n",
        "implementation. This decorator ensures that subclasses must override these methods, making it crucial\n",
        "in achieving polymorphism. Polymorphism allows methods to be used interchangeably across different\n",
        "subclasses, which can be particularly useful when dealing with a group of related classes.\n",
        "\n",
        "By using the @abstractmethod decorator, you can define a common interface that must be implemented\n",
        "by any subclass, ensuring that each subclass adheres to a specific contract. This contract is what\n",
        "enables polymorphism because it guarantees that a certain set of methods will be available for each subclass.\n",
        "'''\n",
        "\n",
        "from abc import ABC, abstractmethod\n",
        "\n",
        "#Defining an abstract base class with an abstract method\n",
        "class Shape(ABC) :\n",
        "\n",
        "  @abstractmethod\n",
        "  def area(self) :\n",
        "    pass\n",
        "\n",
        "  @abstractmethod\n",
        "  def perimeter(self) :\n",
        "    pass\n",
        "\n",
        "#Defining a subclass that implements the abstract methods\n",
        "class Rectangle(Shape) :\n",
        "\n",
        "  def __init__(self, width, height) :\n",
        "    self.width = width\n",
        "    self.height = height\n",
        "\n",
        "  def area(self) :\n",
        "    return self.width * self.height\n",
        "\n",
        "  def perimeter(self) :\n",
        "    return 2 * (self.width + self.height)\n",
        "\n",
        "#Defining another subclass that implements the abstract methods\n",
        "class Circle(Shape) :\n",
        "\n",
        "  def __init__(self, radius) :\n",
        "    self.radius = radius\n",
        "\n",
        "  def area(self) :\n",
        "    return 3.14159 * (self.radius ** 2)\n",
        "\n",
        "  def perimeter(self) :\n",
        "    return 2 * 3.14159 * self.radius\n",
        "\n",
        "#Function to demonstrate polymorphism\n",
        "def print_shape_info(shape) :\n",
        "    print(f\"Area: {shape.area()}\")\n",
        "    print(f\"Perimeter: {shape.perimeter()}\")\n",
        "\n",
        "#Creating instances of Rectangle and Circle\n",
        "rect = Rectangle(3, 4)\n",
        "circ = Circle(5)\n",
        "\n",
        "#Using the print_shape_info function with different shapes\n",
        "print_shape_info(rect)\n",
        "print_shape_info(circ)\n"
      ],
      "metadata": {
        "colab": {
          "base_uri": "https://localhost:8080/"
        },
        "id": "GyluMeSRy2Cj",
        "outputId": "ba3d8f5e-1328-4fd9-84b0-766826a31fc0"
      },
      "execution_count": null,
      "outputs": [
        {
          "output_type": "stream",
          "name": "stdout",
          "text": [
            "Area: 12\n",
            "Perimeter: 14\n",
            "Area: 78.53975\n",
            "Perimeter: 31.4159\n"
          ]
        }
      ]
    },
    {
      "cell_type": "markdown",
      "source": [
        "11. Create a Python class called `Shape` with a polymorphic method `area()` that calculates the area of different shapes (e.g., circle, rectangle, triangle)."
      ],
      "metadata": {
        "id": "DxWse39K3gub"
      }
    },
    {
      "cell_type": "code",
      "source": [
        "from abc import ABC, abstractmethod\n",
        "\n",
        "#Defining an abstract base class with an abstract method\n",
        "class Shape(ABC) :\n",
        "\n",
        "  @abstractmethod\n",
        "  def area(self) :\n",
        "    pass\n",
        "\n",
        "  @abstractmethod\n",
        "  def perimeter(self) :\n",
        "    pass\n",
        "\n",
        "#Defining a subclass that implements the abstract methods\n",
        "class Rectangle(Shape) :\n",
        "\n",
        "  def __init__(self, width, height) :\n",
        "    self.width = width\n",
        "    self.height = height\n",
        "\n",
        "  def area(self) :\n",
        "    return self.width * self.height\n",
        "\n",
        "  def perimeter(self) :\n",
        "    return 2 * (self.width + self.height)\n",
        "\n",
        "#Defining another subclass that implements the abstract methods\n",
        "class Circle(Shape) :\n",
        "\n",
        "  def __init__(self, radius) :\n",
        "    self.radius = radius\n",
        "\n",
        "  def area(self) :\n",
        "    return 3.14159 * (self.radius ** 2)\n",
        "\n",
        "  def perimeter(self) :\n",
        "    return 2 * 3.14159 * self.radius\n",
        "\n",
        "#Function to demonstrate polymorphism\n",
        "def print_shape_info(shape) :\n",
        "    print(f\"Area: {shape.area()}\")\n",
        "    print(f\"Perimeter: {shape.perimeter()}\")\n",
        "\n",
        "#Creating instances of Rectangle and Circle\n",
        "rect = Rectangle(3, 4)\n",
        "circ = Circle(5)\n",
        "\n",
        "#Using the print_shape_info function with different shapes\n",
        "print_shape_info(rect)\n",
        "print_shape_info(circ)\n"
      ],
      "metadata": {
        "colab": {
          "base_uri": "https://localhost:8080/"
        },
        "id": "qG56cQIh28EW",
        "outputId": "29a9ca3d-c1aa-45c5-f8b4-d189a4b167ce"
      },
      "execution_count": null,
      "outputs": [
        {
          "output_type": "stream",
          "name": "stdout",
          "text": [
            "Area: 12\n",
            "Perimeter: 14\n",
            "Area: 78.53975\n",
            "Perimeter: 31.4159\n"
          ]
        }
      ]
    },
    {
      "cell_type": "markdown",
      "source": [
        "12. Discuss the benefits of polymorphism in terms of code reusability and flexibility in Python programs."
      ],
      "metadata": {
        "id": "B9s9oljo3vPU"
      }
    },
    {
      "cell_type": "code",
      "source": [
        "'''\n",
        "Polymorphism in Python enhances code reusability and flexibility by allowing different classes\n",
        "to be treated through a common interface. This reduces code duplication, simplifies code maintenance,\n",
        "and enables easy extension. For example, an abstract class Shape with an abstract method area()\n",
        "can have subclasses like Circle, Rectangle, and Triangle, each implementing area(). A single function\n",
        "can then process any shape type, demonstrating polymorphism’s power in handling different objects\n",
        "through a unified interface.\n",
        "'''"
      ],
      "metadata": {
        "id": "OKdEF60V3suD"
      },
      "execution_count": null,
      "outputs": []
    },
    {
      "cell_type": "markdown",
      "source": [
        "13. Explain the use of the `super()` function in Python polymorphism. How does it help call methods of parent classes?"
      ],
      "metadata": {
        "id": "hsUHsPnU4Wqw"
      }
    },
    {
      "cell_type": "code",
      "source": [
        "'''\n",
        "Super() is essential for calling parent class methods, ensuring proper initialization, and maintaining clean and maintainable.\n",
        "The super() function in Python is used to call methods from a parent class within a subclass, aiding in polymorphism and ensuring\n",
        "proper method resolution in inheritance hierarchies. It plays a crucial role in multiple inheritance scenarios and method overriding.\n",
        "'''"
      ],
      "metadata": {
        "id": "kUnPxRL_4YRI"
      },
      "execution_count": null,
      "outputs": []
    },
    {
      "cell_type": "markdown",
      "source": [
        "14. Create a Python class hierarchy for a banking system with various account types (e.g., savings, checking, credit card) and demonstrate polymorphism by implementing a common `withdraw()` method."
      ],
      "metadata": {
        "id": "TpPh3oMU402k"
      }
    },
    {
      "cell_type": "code",
      "source": [
        "from abc import ABC, abstractmethod\n",
        "\n",
        "#Abstracting base class\n",
        "class Account(ABC) :\n",
        "\n",
        "  def __init__(self, balance) :\n",
        "    self.balance = balance\n",
        "\n",
        "  @abstractmethod\n",
        "  def withdraw(self, amount) :\n",
        "    pass\n",
        "\n",
        "  def get_balance(self) :\n",
        "    return self.balance\n",
        "\n",
        "#SavingsAccount subclass\n",
        "class SavingsAccount(Account) :\n",
        "\n",
        "  def __init__(self, balance) :\n",
        "    super().__init__(balance)\n",
        "\n",
        "  def withdraw(self, amount) :\n",
        "    if amount <= self.balance :\n",
        "      self.balance -= amount\n",
        "      print(f\"Withdrew INR{amount} from savings account. New balance: INR{self.balance}\")\n",
        "    else :\n",
        "      print(\"Insufficient funds in savings account\")\n",
        "\n",
        "#CheckingAccount subclass\n",
        "class CheckingAccount(Account) :\n",
        "\n",
        "  def __init__(self, balance, overdraft_limit) :\n",
        "    super().__init__(balance)\n",
        "    self.overdraft_limit = overdraft_limit\n",
        "\n",
        "  def withdraw(self, amount) :\n",
        "    if amount <= self.balance + self.overdraft_limit :\n",
        "      self.balance -= amount\n",
        "      print(f\"Withdrew INR{amount} from checking account. New balance: INR{self.balance}\")\n",
        "    else :\n",
        "      print(\"Overdraft limit exceeded in checking account\")\n",
        "\n",
        "#CreditCardAccount subclass\n",
        "class CreditCardAccount(Account) :\n",
        "\n",
        "  def __init__(self, balance, credit_limit) :\n",
        "    super().__init__(balance)\n",
        "    self.credit_limit = credit_limit\n",
        "\n",
        "  def withdraw(self, amount) :\n",
        "    if amount <= self.balance + self.credit_limit :\n",
        "      self.balance -= amount\n",
        "      print(f\"Withdrew INR{amount} from credit card account. New balance: INR{self.balance}\")\n",
        "    else :\n",
        "      print(\"Credit limit exceeded in credit card account\")\n",
        "\n",
        "\n",
        "accounts = [\n",
        "    SavingsAccount(1000),\n",
        "    CheckingAccount(500, 200),\n",
        "    CreditCardAccount(0, 1000)\n",
        "]\n",
        "\n",
        "for account in accounts:\n",
        "  account.withdraw(300)\n"
      ],
      "metadata": {
        "colab": {
          "base_uri": "https://localhost:8080/"
        },
        "id": "LR9ue5vx4xsY",
        "outputId": "918c3b89-b15f-4f5e-970d-c7f1d1f78c77"
      },
      "execution_count": null,
      "outputs": [
        {
          "output_type": "stream",
          "name": "stdout",
          "text": [
            "Withdrew INR300 from savings account. New balance: INR700\n",
            "Withdrew INR300 from checking account. New balance: INR200\n",
            "Withdrew INR300 from credit card account. New balance: INR-300\n"
          ]
        }
      ]
    },
    {
      "cell_type": "markdown",
      "source": [
        "15. Describe the concept of operator overloading in Python and how it relates to polymorphism. Provide examples using operators like `+` and `*`."
      ],
      "metadata": {
        "id": "BM7NNHR98Lk9"
      }
    },
    {
      "cell_type": "code",
      "source": [
        "'''\n",
        "Operator overloading in Python is a feature that allows the same operator to have different meanings\n",
        "based on the context, particularly the types of operands involved. It is a way of implementing polymorphism,\n",
        "where different classes can define their own behavior for standard operators like +, -, *, and others.\n",
        "By overloading operators, you can use these operators to work with user-defined objects in a way that\n",
        "is intuitive and similar to built-in types.\n",
        "\n",
        "Operator overloading allows custom classes to define their own behavior for standard operators,\n",
        "thus enabling polymorphism. This means that the same operator can be used with objects of different types,\n",
        "and each type can provide its own specific implementation, leading to more readable and intuitive code.\n",
        "By overloading operators like + and *, you can make your custom objects work seamlessly with these operators,\n",
        "similar to built-in types.\n",
        "'''"
      ],
      "metadata": {
        "id": "v69Y5ZGl75Lo"
      },
      "execution_count": null,
      "outputs": []
    },
    {
      "cell_type": "markdown",
      "source": [
        "16. What is dynamic polymorphism, and how is it achieved in Python?"
      ],
      "metadata": {
        "id": "IX3ET8mU8xNe"
      }
    },
    {
      "cell_type": "code",
      "source": [
        "'''\n",
        "Dynamic polymorphism, or runtime polymorphism, in Python is achieved through method overriding and inheritance.\n",
        "When a subclass overrides a method of its superclass, the method call is resolved at runtime based on the actual\n",
        "object type. This allows for flexible and extensible code.\n",
        "\n",
        "In Python, dynamic polymorphism is achieved through method overriding and the use of inheritance. When a\n",
        "subclass overrides a method defined in its superclass, the version of the method that gets executed is\n",
        "determined by the actual object type at runtime.\n",
        "'''"
      ],
      "metadata": {
        "id": "IHp8C7Bd8zBO"
      },
      "execution_count": null,
      "outputs": []
    },
    {
      "cell_type": "markdown",
      "source": [
        "17. Create a Python class hierarchy for employees in a company (e.g., manager, developer, designer) and implement polymorphism through a common calculate_salary()` method."
      ],
      "metadata": {
        "id": "z8JvKiVY9Y8z"
      }
    },
    {
      "cell_type": "code",
      "source": [
        "from abc import ABC, abstractmethod\n",
        "\n",
        "#Abstracting base class\n",
        "class Employee(ABC) :\n",
        "\n",
        "  def __init__(self, name, base_salary):\n",
        "    self.name = name\n",
        "    self.base_salary = base_salary\n",
        "\n",
        "  @abstractmethod\n",
        "  def calculate_salary(self):\n",
        "    pass\n",
        "\n",
        "  def __repr__(self):\n",
        "    return f\"{self.__class__.__name__}({self.name})\"\n",
        "\n",
        "#Manager subclass\n",
        "class Manager(Employee) :\n",
        "\n",
        "  def __init__(self, name, base_salary, bonus) :\n",
        "    super().__init__(name, base_salary)\n",
        "    self.bonus = bonus\n",
        "\n",
        "  def calculate_salary(self) :\n",
        "    return self.base_salary + self.bonus\n",
        "\n",
        "#Developer subclass\n",
        "class Developer(Employee) :\n",
        "\n",
        "  def __init__(self, name, base_salary, overtime_hours, overtime_rate):\n",
        "    super().__init__(name, base_salary)\n",
        "    self.overtime_hours = overtime_hours\n",
        "    self.overtime_rate = overtime_rate\n",
        "\n",
        "  def calculate_salary(self):\n",
        "    return self.base_salary + (self.overtime_hours * self.overtime_rate)\n",
        "\n",
        "#Designer subclass\n",
        "class Designer(Employee) :\n",
        "\n",
        "  def __init__(self, name, base_salary, project_bonus):\n",
        "    super().__init__(name, base_salary)\n",
        "    self.project_bonus = project_bonus\n",
        "\n",
        "  def calculate_salary(self):\n",
        "    return self.base_salary + self.project_bonus\n",
        "\n",
        "\n",
        "employees = [\n",
        "    Manager(\"Rohit\", 5000, 1500),\n",
        "    Developer(\"Vishwa\", 4000, 20, 50),\n",
        "    Designer(\"Sushant\", 3500, 500)\n",
        "]\n",
        "\n",
        "for employee in employees:\n",
        "  print(f\"{employee.name}'s salary: INR {employee.calculate_salary()}\")\n"
      ],
      "metadata": {
        "colab": {
          "base_uri": "https://localhost:8080/"
        },
        "id": "CW6yh8lM9cW0",
        "outputId": "f449244b-0eb1-4cad-f0de-679c0cdd105c"
      },
      "execution_count": null,
      "outputs": [
        {
          "output_type": "stream",
          "name": "stdout",
          "text": [
            "Rohit's salary: INR 6500\n",
            "Vishwa's salary: INR 5000\n",
            "Sushant's salary: INR 4000\n"
          ]
        }
      ]
    },
    {
      "cell_type": "markdown",
      "source": [
        "18. Discuss the concept of function pointers and how they can be used to achieve polymorphism in Python."
      ],
      "metadata": {
        "id": "39p4nfj9-TRT"
      }
    },
    {
      "cell_type": "code",
      "source": [
        "'''\n",
        "Function pointers are a concept commonly found in programming languages like C and C++.\n",
        "They are variables that store the address of a function in memory, allowing you to call\n",
        "that function indirectly through the pointer. In languages like Python, which don't have\n",
        "traditional function pointers, you can achieve similar behavior using first-class functions\n",
        "and higher-order functions.\n",
        "\n",
        "In Python, functions are first-class citizens, meaning they can be passed around as arguments\n",
        "to other functions, returned from functions, and assigned to variables. This flexibility enables\n",
        "you to emulate the behavior of function pointers in other languages.\n",
        "\n",
        "To achieve polymorphism using function pointers in Python, you can define multiple functions\n",
        "with the same signature and then select which function to execute based on certain conditions.\n",
        "'''"
      ],
      "metadata": {
        "id": "aBUuvmtX-Fsc"
      },
      "execution_count": null,
      "outputs": []
    },
    {
      "cell_type": "markdown",
      "source": [
        "19. Explain the role of interfaces and abstract classes in polymorphism, drawing comparisons between them."
      ],
      "metadata": {
        "id": "DZBuVEB2-5MI"
      }
    },
    {
      "cell_type": "code",
      "source": [
        "'''\n",
        "Interfaces and abstract classes facilitate polymorphism by defining contracts for classes.\n",
        "\n",
        "Interfaces:\n",
        "\n",
        "Define method signatures.\n",
        "Support multiple inheritance.\n",
        "Cannot contain method implementations.\n",
        "\n",
        "Abstract Classes:\n",
        "\n",
        "Can have both abstract and concrete methods.\n",
        "Support single inheritance.\n",
        "Provide common base implementation.\n",
        "Use interfaces for multiple contracts and abstract classes for common functionality.\n",
        "'''"
      ],
      "metadata": {
        "id": "oC1WQdDw-7-A"
      },
      "execution_count": null,
      "outputs": []
    },
    {
      "cell_type": "markdown",
      "source": [
        "20. Create a Python class for a zoo simulation, demonstrating polymorphism with different animal types (e.g., mammals, birds, reptiles) and their behavior (e.g., eating, sleeping, making sounds)."
      ],
      "metadata": {
        "id": "XAMvuK8p_OXD"
      }
    },
    {
      "cell_type": "code",
      "source": [
        "class Animal :\n",
        "\n",
        "  def __init__(self, name) :\n",
        "    self.name = name\n",
        "\n",
        "  def eat(self) :\n",
        "    pass\n",
        "\n",
        "  def sleep(self) :\n",
        "    pass\n",
        "\n",
        "  def make_sound(self) :\n",
        "    pass\n",
        "\n",
        "class Mammal(Animal) :\n",
        "\n",
        "  def eat(self) :\n",
        "    return f\"{self.name} the mammal is eating\"\n",
        "\n",
        "  def sleep(self) :\n",
        "    return f\"{self.name} the mammal is sleeping\"\n",
        "\n",
        "  def make_sound(self) :\n",
        "    return f\"{self.name} the mammal is making sound\"\n",
        "\n",
        "class Bird(Animal) :\n",
        "\n",
        "  def eat(self) :\n",
        "    return f\"{self.name} the bird is eating\"\n",
        "\n",
        "  def sleep(self) :\n",
        "    return f\"{self.name} the bird is sleeping\"\n",
        "\n",
        "  def make_sound(self) :\n",
        "    return f\"{self.name} the bird is making sound\"\n",
        "\n",
        "class Reptile(Animal) :\n",
        "\n",
        "  def eat(self) :\n",
        "    return f\"{self.name} the reptile is eating\"\n",
        "\n",
        "  def sleep(self) :\n",
        "    return f\"{self.name} the reptile is sleeping\"\n",
        "\n",
        "  def make_sound(self) :\n",
        "    return f\"{self.name} the reptile is making sound\"\n",
        "\n",
        "mammal = Mammal(\"Lion\")\n",
        "bird = Bird(\"Eagle\")\n",
        "reptile = Reptile(\"Snake\")\n",
        "\n",
        "print(mammal.eat())\n",
        "print(bird.sleep())\n",
        "print(reptile.make_sound())\n"
      ],
      "metadata": {
        "colab": {
          "base_uri": "https://localhost:8080/"
        },
        "id": "bkGKQt_K_Pes",
        "outputId": "14cf978f-24a6-4ca2-e7bc-fcbe24cb8406"
      },
      "execution_count": null,
      "outputs": [
        {
          "output_type": "stream",
          "name": "stdout",
          "text": [
            "Lion the mammal is eating\n",
            "Eagle the bird is sleeping\n",
            "Snake the reptile is making sound\n"
          ]
        }
      ]
    },
    {
      "cell_type": "markdown",
      "source": [
        "# **Abstraction :**\n",
        "\n",
        "---\n",
        "\n"
      ],
      "metadata": {
        "id": "w-qi4Q70Y2uP"
      }
    },
    {
      "cell_type": "markdown",
      "source": [
        "1. What is abstraction in Python, and how does it relate to object-oriented programming?"
      ],
      "metadata": {
        "id": "Ohh4oHM_Y-TA"
      }
    },
    {
      "cell_type": "code",
      "source": [
        "'''\n",
        "Abstraction in Python refers to the concept of hiding the complex implementation details of a\n",
        "system and only showing the necessary features of an object to the outside world. It allows\n",
        "developers to focus on the essential aspects of an object while hiding irrelevant details.\n",
        "\n",
        "In object-oriented programming (OOP), abstraction is achieved through classes and objects.\n",
        "Classes serve as blueprints for creating objects, defining their properties (attributes) and\n",
        "behaviors (methods), while encapsulating their internal workings. By exposing only relevant\n",
        "methods and properties and hiding the internal implementation, classes provide a level of\n",
        "abstraction. This allows users to interact with objects without needing to understand their\n",
        "underlying complexities, promoting modularity, maintainability, and ease of use.\n",
        "'''"
      ],
      "metadata": {
        "id": "Ghz45CIgYyFC"
      },
      "execution_count": null,
      "outputs": []
    },
    {
      "cell_type": "markdown",
      "source": [
        "2. Describe the benefits of abstraction in terms of code organization and complexity reduction."
      ],
      "metadata": {
        "id": "eMs8QlkAZPca"
      }
    },
    {
      "cell_type": "code",
      "source": [
        "'''\n",
        "Abstraction in code organization and complexity reduction offers several benefits :\n",
        "\n",
        "Modularity : Abstraction allows breaking down a complex system into smaller, more manageable\n",
        "parts (classes or modules), each responsible for a specific aspect of functionality.\n",
        "This promotes modularity, making it easier to understand, maintain, and extend the codebase.\n",
        "\n",
        "Encapsulation : By hiding the internal implementation details of an object and exposing\n",
        "only relevant methods and properties, abstraction facilitates encapsulation. This protects\n",
        "the integrity of the data and prevents unintended modifications, enhancing security and\n",
        "reducing potential bugs.\n",
        "\n",
        "Code Reusability : Abstraction promotes code reusability by defining common interfaces\n",
        "and behaviors that can be shared across different parts of the system. This reduces\n",
        "redundancy and minimizes the effort required to implement similar functionality in multiple places.\n",
        "\n",
        "Simplicity : Abstraction simplifies the interaction with complex systems by providing\n",
        "a clear and intuitive interface. Users can focus on the high-level functionality without\n",
        "needing to understand the underlying complexities, resulting in cleaner, more readable code.\n",
        "\n",
        "Scalability : Abstraction enables systems to scale more effectively by allowing developers\n",
        "to add new features or modify existing ones without impacting the entire codebase. Changes\n",
        "can be localized to specific modules or classes, reducing the risk of introducing bugs and\n",
        "speeding up the development process.\n",
        "'''"
      ],
      "metadata": {
        "id": "mcqcGM4RZO4t"
      },
      "execution_count": null,
      "outputs": []
    },
    {
      "cell_type": "markdown",
      "source": [
        "3. Create a Python class called `Shape` with an abstract method `calculate_area()`. Then, create child classes (e.g., `Circle`, `Rectangle`) that implement the `calculate_area()` method. Provide an example of using these classes."
      ],
      "metadata": {
        "id": "vA_Dxlf9aAJ4"
      }
    },
    {
      "cell_type": "code",
      "source": [
        "from abc import ABC, abstractmethod\n",
        "\n",
        "class Shape(ABC) :\n",
        "\n",
        "  @abstractmethod\n",
        "  def calculate_area(self) :\n",
        "    pass\n",
        "\n",
        "class Circle(Shape) :\n",
        "\n",
        "  def __init__(self, radius) :\n",
        "    self.radius = radius\n",
        "\n",
        "  def calculate_area(self) :\n",
        "    return 3.14 * self.radius * self.radius\n",
        "\n",
        "class Rectangle(Shape) :\n",
        "\n",
        "  def __init__(self, width, height):\n",
        "    self.width = width\n",
        "    self.height = height\n",
        "\n",
        "  def calculate_area(self):\n",
        "    return self.width * self.height\n",
        "\n",
        "circle = Circle(5)\n",
        "print(\"Area of circle:\", circle.calculate_area())\n",
        "\n",
        "rectangle = Rectangle(4, 6)\n",
        "print(\"Area of rectangle:\", rectangle.calculate_area())\n"
      ],
      "metadata": {
        "colab": {
          "base_uri": "https://localhost:8080/"
        },
        "id": "i2UmKHb4Z_fP",
        "outputId": "9b5e4961-92fd-4cd3-cf27-3b6128688e08"
      },
      "execution_count": null,
      "outputs": [
        {
          "output_type": "stream",
          "name": "stdout",
          "text": [
            "Area of circle: 78.5\n",
            "Area of rectangle: 24\n"
          ]
        }
      ]
    },
    {
      "cell_type": "markdown",
      "source": [
        "4. Explain the concept of abstract classes in Python and how they are defined using the `abc` module. Provide an example."
      ],
      "metadata": {
        "id": "NLhb431GacFb"
      }
    },
    {
      "cell_type": "code",
      "source": [
        "'''\n",
        "In Python, abstract classes are classes that are designed to be inherited by other classes,\n",
        "but not instantiated directly. They serve as blueprints for other classes and often contain\n",
        "abstract methods, which are methods without any implementation. Abstract classes are meant\n",
        "to be subclassed, and the subclasses must provide implementations for all the abstract methods\n",
        "defined in the abstract class. This enforces a certain structure or behavior across all subclasses.\n",
        "\n",
        "Python provides a module called abc (Abstract Base Classes) for working with abstract classes.\n",
        "This module allows you to define abstract methods and abstract classes. By using the abc module,\n",
        "you can explicitly mark methods or classes as abstract, which helps in maintaining code\n",
        "clarity and enforcing certain behaviors.\n",
        "'''\n",
        "\n",
        "from abc import ABC, abstractmethod\n",
        "\n",
        "class Shape(ABC) :\n",
        "\n",
        "  @abstractmethod\n",
        "  def calculate_area(self) :\n",
        "    pass\n",
        "\n",
        "class Circle(Shape) :\n",
        "\n",
        "  def __init__(self, radius) :\n",
        "    self.radius = radius\n",
        "\n",
        "  def calculate_area(self) :\n",
        "    return 3.14 * self.radius * self.radius\n",
        "\n",
        "class Rectangle(Shape) :\n",
        "\n",
        "  def __init__(self, width, height):\n",
        "    self.width = width\n",
        "    self.height = height\n",
        "\n",
        "  def calculate_area(self):\n",
        "    return self.width * self.height\n",
        "\n",
        "circle = Circle(5)\n",
        "print(\"Area of circle:\", circle.calculate_area())\n",
        "\n",
        "rectangle = Rectangle(4, 6)\n",
        "print(\"Area of rectangle:\", rectangle.calculate_area())"
      ],
      "metadata": {
        "colab": {
          "base_uri": "https://localhost:8080/"
        },
        "id": "kUZ_XJxPaX1p",
        "outputId": "cf93b8f4-542b-4ac0-9740-6ed2fcbb157a"
      },
      "execution_count": null,
      "outputs": [
        {
          "output_type": "stream",
          "name": "stdout",
          "text": [
            "Area of circle: 78.5\n",
            "Area of rectangle: 24\n"
          ]
        }
      ]
    },
    {
      "cell_type": "markdown",
      "source": [
        "5. How do abstract classes differ from regular classes in Python? Discuss their use cases."
      ],
      "metadata": {
        "id": "bLEEiIQWdJRU"
      }
    },
    {
      "cell_type": "code",
      "source": [
        "'''\n",
        "Regular classes are for creating concrete objects with specific attributes and behaviors,\n",
        "while abstract classes are for defining a common structure or interface that subclasses\n",
        "must adhere to. Abstract classes ensure consistency and help in organizing code when\n",
        "dealing with related classes that share common behavior.\n",
        "\n",
        "Use Cases:\n",
        "\n",
        "Regular classes are suitable for creating objects with specific properties and behaviors.\n",
        "For example, you might have a Car class to represent different cars, each with its\n",
        "own make, model, and methods like drive() and stop().\n",
        "\n",
        "Abstract classes are useful when you want to define a common interface for a group of related\n",
        "classes. For example, you might have an abstract Shape class with abstract methods like area()\n",
        "and perimeter(), which concrete subclasses like Rectangle, Circle, and Triangle must implement.\n",
        "'''"
      ],
      "metadata": {
        "id": "LPlE3mSOdGCE"
      },
      "execution_count": null,
      "outputs": []
    },
    {
      "cell_type": "markdown",
      "source": [
        "6. Create a Python class for a bank account and demonstrate abstraction by hiding the account balance and providing methods to deposit and withdraw funds."
      ],
      "metadata": {
        "id": "R7x1lPz8emOw"
      }
    },
    {
      "cell_type": "code",
      "source": [
        "class BankAccount :\n",
        "\n",
        "  def __init__(self, account_number, initial_balance=0) :\n",
        "    self._account_number = account_number\n",
        "    self._balance = initial_balance\n",
        "\n",
        "  def deposit(self, amount) :\n",
        "    if amount > 0 :\n",
        "      self._balance += amount\n",
        "      print(f\"Deposited {amount} into account {self._account_number}.\")\n",
        "    else :\n",
        "      print(\"Deposit amount must be positive.\")\n",
        "\n",
        "  def withdraw(self, amount) :\n",
        "    if 0 < amount <= self._balance :\n",
        "      self._balance -= amount\n",
        "      print(f\"Withdrew {amount} from account {self._account_number}.\")\n",
        "    else :\n",
        "      print(\"Withdrawal amount must be positive and less than or equal to the account balance.\")\n",
        "\n",
        "  def get_balance(self) :\n",
        "    return self._balance\n",
        "\n",
        "  def get_account_number(self) :\n",
        "    return self._account_number\n",
        "\n",
        "account1 = BankAccount(\"12345\", 1000)\n",
        "print(\"Account Number:\", account1.get_account_number())\n",
        "print(\"Initial Balance:\", account1.get_balance())\n",
        "\n",
        "account1.deposit(500)\n",
        "print(\"Balance after deposit:\", account1.get_balance())\n",
        "\n",
        "account1.withdraw(200)\n",
        "print(\"Balance after withdrawal:\", account1.get_balance())"
      ],
      "metadata": {
        "colab": {
          "base_uri": "https://localhost:8080/"
        },
        "id": "bq1Adjvqej0y",
        "outputId": "36b51dd4-a4e8-41ab-f658-d2ab28a6a7be"
      },
      "execution_count": null,
      "outputs": [
        {
          "output_type": "stream",
          "name": "stdout",
          "text": [
            "Account Number: 12345\n",
            "Initial Balance: 1000\n",
            "Deposited 500 into account 12345.\n",
            "Balance after deposit: 1500\n",
            "Withdrew 200 from account 12345.\n",
            "Balance after withdrawal: 1300\n"
          ]
        }
      ]
    },
    {
      "cell_type": "markdown",
      "source": [
        "8. Create a Python class hierarchy for animals and implement abstraction by defining common methods (e.g., `eat()`, `sleep()`) in an abstract base class."
      ],
      "metadata": {
        "id": "V1kt85__gKtg"
      }
    },
    {
      "cell_type": "code",
      "source": [
        "from abc import ABC, abstractmethod\n",
        "\n",
        "class Animal(ABC) :\n",
        "\n",
        "  @abstractmethod\n",
        "  def eat(self) :\n",
        "    pass\n",
        "\n",
        "  @abstractmethod\n",
        "  def sleep(self) :\n",
        "    pass\n",
        "\n",
        "  @abstractmethod\n",
        "  def make_sound(self) :\n",
        "    pass\n",
        "\n",
        "class Mammal(Animal) :\n",
        "\n",
        "  def eat(self) :\n",
        "    print(\"Mammal is eating.\")\n",
        "\n",
        "  def sleep(self) :\n",
        "    print(\"Mammal is sleeping.\")\n",
        "\n",
        "  def make_sound(self) :\n",
        "    print(\"Mammal makes a sound.\")\n",
        "\n",
        "class Bird(Animal) :\n",
        "\n",
        "  def eat(self) :\n",
        "    print(\"Bird is eating.\")\n",
        "\n",
        "  def sleep(self) :\n",
        "    print(\"Bird is sleeping.\")\n",
        "\n",
        "  def make_sound(self) :\n",
        "    print(\"Bird sings.\")\n",
        "\n",
        "class Fish(Animal) :\n",
        "\n",
        "  def eat(self):\n",
        "    print(\"Fish is eating.\")\n",
        "\n",
        "  def sleep(self):\n",
        "    print(\"Fish is resting.\")\n",
        "\n",
        "  def make_sound(self):\n",
        "    print(\"Fish makes bubbles.\")\n",
        "\n",
        "\n",
        "class Dog(Mammal) :\n",
        "\n",
        "  def make_sound(self) :\n",
        "    print(\"Dog barks.\")\n",
        "\n",
        "class Cat(Mammal) :\n",
        "\n",
        "  def make_sound(self) :\n",
        "    print(\"Cat meows.\")\n",
        "\n",
        "class Sparrow(Bird) :\n",
        "\n",
        "  def make_sound(self) :\n",
        "    print(\"Sparrow chirps.\")\n",
        "\n",
        "class Shark(Fish) :\n",
        "\n",
        "  def make_sound(self) :\n",
        "    print(\"Shark makes a splash.\")\n",
        "\n",
        "\n",
        "if __name__ == \"__main__\":\n",
        "  animals = [Dog(), Cat(), Sparrow(), Shark()]\n",
        "\n",
        "  for animal in animals :\n",
        "    print(f\"{animal.__class__.__name__}:\")\n",
        "    animal.eat()\n",
        "    animal.sleep()\n",
        "    animal.make_sound()\n",
        "    print()\n"
      ],
      "metadata": {
        "colab": {
          "base_uri": "https://localhost:8080/"
        },
        "id": "BmWkUCuff4_S",
        "outputId": "92e0cc24-cb69-492f-bebd-b36570b3c71f"
      },
      "execution_count": null,
      "outputs": [
        {
          "output_type": "stream",
          "name": "stdout",
          "text": [
            "Dog:\n",
            "Mammal is eating.\n",
            "Mammal is sleeping.\n",
            "Dog barks.\n",
            "\n",
            "Cat:\n",
            "Mammal is eating.\n",
            "Mammal is sleeping.\n",
            "Cat meows.\n",
            "\n",
            "Sparrow:\n",
            "Bird is eating.\n",
            "Bird is sleeping.\n",
            "Sparrow chirps.\n",
            "\n",
            "Shark:\n",
            "Fish is eating.\n",
            "Fish is resting.\n",
            "Shark makes a splash.\n",
            "\n"
          ]
        }
      ]
    },
    {
      "cell_type": "markdown",
      "source": [
        "9. Explain the significance of encapsulation in achieving abstraction. Provide examples."
      ],
      "metadata": {
        "id": "CZyoSjLeDw9u"
      }
    },
    {
      "cell_type": "code",
      "source": [
        "'''\n",
        "Encapsulation is significant in achieving abstraction because it hides the internal implementation\n",
        "details of a class and exposes only the necessary parts through a well-defined interface. This\n",
        "separation ensures that users interact with an object's methods without needing to understand\n",
        "its internal complexity.\n",
        "'''\n",
        "\n",
        "\n",
        "class BankAccount :\n",
        "\n",
        "  def __init__(self, owner, balance=0) :\n",
        "    self._owner = owner\n",
        "    self._balance = balance\n",
        "\n",
        "  def deposit(self, amount) :\n",
        "    if amount > 0:\n",
        "        self._balance += amount\n",
        "\n",
        "  def withdraw(self, amount) :\n",
        "    if 0 < amount <= self._balance :\n",
        "        self._balance -= amount\n",
        "\n",
        "  def get_balance(self) :\n",
        "    return self._balance"
      ],
      "metadata": {
        "id": "sVskXNuhDUaq"
      },
      "execution_count": null,
      "outputs": []
    },
    {
      "cell_type": "markdown",
      "source": [
        "10. What is the purpose of abstract methods, and how do they enforce abstraction in Python classes?"
      ],
      "metadata": {
        "id": "QfF1Ds-4FO9t"
      }
    },
    {
      "cell_type": "code",
      "source": [
        "'''\n",
        "The purpose of abstract methods is to define a required interface that all subclasses must implement,\n",
        "ensuring consistency across different implementations. They enforce abstraction by preventing the\n",
        "instantiation of the abstract base class and requiring subclasses to provide concrete implementations for these methods.\n",
        "'''\n",
        "\n",
        "from abc import ABC, abstractmethod\n",
        "\n",
        "class Animal(ABC) :\n",
        "\n",
        "  @abstractmethod\n",
        "  def eat(self) :\n",
        "    pass\n",
        "\n",
        "  @abstractmethod\n",
        "  def sleep(self) :\n",
        "    pass\n",
        "\n",
        "class Dog(Animal) :\n",
        "\n",
        "  def eat(self) :\n",
        "    print(\"Dog is eating.\")\n",
        "\n",
        "  def sleep(self) :\n",
        "    print(\"Dog is sleeping.\")\n",
        "\n",
        "'''\n",
        "In this example, Animal cannot be instantiated directly because it contains abstract methods. The Dog\n",
        "class must implement the eat and sleep methods to be instantiable, thus ensuring it adheres to the Animal interface.\n",
        "'''"
      ],
      "metadata": {
        "id": "aD-2rcOvE-wy"
      },
      "execution_count": null,
      "outputs": []
    },
    {
      "cell_type": "markdown",
      "source": [
        "11. Create a Python class for a vehicle system and demonstrate abstraction by defining common methods (e.g., `start()`, `stop()`) in an abstract base class."
      ],
      "metadata": {
        "id": "Xamm9rQ3GeQm"
      }
    },
    {
      "cell_type": "code",
      "source": [
        "from abc import ABC, abstractmethod\n",
        "\n",
        "class Vehicle(ABC) :\n",
        "\n",
        "  @abstractmethod\n",
        "  def start(self) :\n",
        "    pass\n",
        "\n",
        "  @abstractmethod\n",
        "  def stop(self) :\n",
        "    pass\n",
        "\n",
        "  @abstractmethod\n",
        "  def drive(self) :\n",
        "    pass\n",
        "\n",
        "class Car(Vehicle) :\n",
        "\n",
        "  def start(self) :\n",
        "    print(\"Car is starting.\")\n",
        "\n",
        "  def stop(self) :\n",
        "    print(\"Car is stopping.\")\n",
        "\n",
        "  def drive(self) :\n",
        "    print(\"Car is driving.\")\n",
        "\n",
        "class Motorcycle(Vehicle) :\n",
        "\n",
        "  def start(self) :\n",
        "    print(\"Motorcycle is starting.\")\n",
        "\n",
        "  def stop(self) :\n",
        "    print(\"Motorcycle is stopping.\")\n",
        "\n",
        "  def drive(self) :\n",
        "    print(\"Motorcycle is driving.\")\n",
        "\n",
        "class Truck(Vehicle) :\n",
        "\n",
        "  def start(self):\n",
        "    print(\"Truck is starting.\")\n",
        "\n",
        "  def stop(self):\n",
        "    print(\"Truck is stopping.\")\n",
        "\n",
        "  def drive(self):\n",
        "    print(\"Truck is driving.\")\n",
        "\n",
        "if __name__ == \"__main__\":\n",
        "  vehicles = [Car(), Motorcycle(), Truck()]\n",
        "\n",
        "  for vehicle in vehicles:\n",
        "    print(f\"{vehicle.__class__.__name__}:\")\n",
        "    vehicle.start()\n",
        "    vehicle.drive()\n",
        "    vehicle.stop()\n",
        "    print()"
      ],
      "metadata": {
        "colab": {
          "base_uri": "https://localhost:8080/"
        },
        "id": "4CHWmNXQGPrK",
        "outputId": "8c6b7b96-1b70-4622-f55e-38e21a9372a2"
      },
      "execution_count": null,
      "outputs": [
        {
          "output_type": "stream",
          "name": "stdout",
          "text": [
            "Car:\n",
            "Car is starting.\n",
            "Car is driving.\n",
            "Car is stopping.\n",
            "\n",
            "Motorcycle:\n",
            "Motorcycle is starting.\n",
            "Motorcycle is driving.\n",
            "Motorcycle is stopping.\n",
            "\n",
            "Truck:\n",
            "Truck is starting.\n",
            "Truck is driving.\n",
            "Truck is stopping.\n",
            "\n"
          ]
        }
      ]
    },
    {
      "cell_type": "markdown",
      "source": [
        "12. Describe the use of abstract properties in Python and how they can be employed in abstract classes."
      ],
      "metadata": {
        "id": "y7TOjyf-NrVc"
      }
    },
    {
      "cell_type": "code",
      "source": [
        "'''\n",
        "Abstract properties in Python are used to enforce that subclasses implement specific properties,\n",
        "ensuring a consistent interface across different implementations. They are defined in an abstract\n",
        "base class using the @property and @abstractmethod decorators.\n",
        "'''\n",
        "\n",
        "from abc import ABC, abstractmethod\n",
        "\n",
        "class Vehicle(ABC) :\n",
        "\n",
        "  @property\n",
        "  @abstractmethod\n",
        "  def speed(self):\n",
        "    pass\n",
        "\n",
        "  @speed.setter\n",
        "  @abstractmethod\n",
        "  def speed(self, value):\n",
        "    pass\n",
        "\n",
        "class Car(Vehicle) :\n",
        "\n",
        "  def __init__(self) :\n",
        "    self._speed = 0\n",
        "\n",
        "  @property\n",
        "  def speed(self) :\n",
        "    return self._speed\n",
        "\n",
        "  @speed.setter\n",
        "  def speed(self, value) :\n",
        "    if value >= 0 :\n",
        "      self._speed = value\n",
        "\n",
        "\n",
        "car = Car()\n",
        "car.speed = 50\n",
        "print(car.speed)\n"
      ],
      "metadata": {
        "colab": {
          "base_uri": "https://localhost:8080/"
        },
        "id": "zsVytL9PNi2N",
        "outputId": "268a5f97-72ec-4e42-c950-26f21b7aaa2e"
      },
      "execution_count": null,
      "outputs": [
        {
          "output_type": "stream",
          "name": "stdout",
          "text": [
            "50\n"
          ]
        }
      ]
    },
    {
      "cell_type": "markdown",
      "source": [
        "13. Create a Python class hierarchy for employees in a company (e.g., manager, developer, designer) and implement abstraction by defining a common `get_salary()` method."
      ],
      "metadata": {
        "id": "Dx21sz6zOim2"
      }
    },
    {
      "cell_type": "code",
      "source": [
        "from abc import ABC, abstractmethod\n",
        "\n",
        "class Employee(ABC) :\n",
        "\n",
        "  def __init__(self, name, employee_id) :\n",
        "    self.name = name\n",
        "    self.employee_id = employee_id\n",
        "\n",
        "  @abstractmethod\n",
        "  def get_salary(self) :\n",
        "    return\n",
        "\n",
        "class Manager(Employee) :\n",
        "\n",
        "  def __init__(self, name, employee_id, salary) :\n",
        "    super().__init__(name, employee_id)\n",
        "    self.salary = salary\n",
        "\n",
        "  def get_salary(self) :\n",
        "    return self.salary\n",
        "\n",
        "class Developer(Employee) :\n",
        "\n",
        "  def __init__(self, name, employee_id, salary) :\n",
        "    super().__init__(name, employee_id)\n",
        "    self.salary = salary\n",
        "\n",
        "  def get_salary(self) :\n",
        "    return self.salary\n",
        "\n",
        "class Designer(Employee) :\n",
        "\n",
        "  def __init__(self, name, employee_id, salary) :\n",
        "    super().__init__(name, employee_id)\n",
        "    self.salary = salary\n",
        "\n",
        "  def get_salary(self) :\n",
        "    return self.salary\n",
        "\n",
        "\n",
        "manager = Manager(\"Rohit\", 1001, 50000)\n",
        "developer = Developer(\"Amar\", 2001, 40000)\n",
        "designer = Designer(\"Anthony\", 3001, 65000)\n",
        "\n",
        "print(f\"Manager's salary: INR {manager.get_salary()}\")\n",
        "print(f\"Developer's salary: INR {developer.get_salary()}\")\n",
        "print(f\"Designer's salary: INR {designer.get_salary()}\")"
      ],
      "metadata": {
        "colab": {
          "base_uri": "https://localhost:8080/"
        },
        "id": "Wk83j9kyOdZv",
        "outputId": "783dd1cd-87f4-4f17-fca1-e91c32480b00"
      },
      "execution_count": null,
      "outputs": [
        {
          "output_type": "stream",
          "name": "stdout",
          "text": [
            "Manager's salary: INR 50000\n",
            "Developer's salary: INR 40000\n",
            "Designer's salary: INR 65000\n"
          ]
        }
      ]
    },
    {
      "cell_type": "markdown",
      "source": [
        "14. Discuss the differences between abstract classes and concrete classes in Python, including their instantiation."
      ],
      "metadata": {
        "id": "g1PnEs5hVSUe"
      }
    },
    {
      "cell_type": "code",
      "source": [
        "'''\n",
        "Abstract classes serve as blueprints for other classes, cannot be instantiated directly,\n",
        "and may contain abstract methods. Concrete classes are fully implemented classes that can\n",
        "be instantiated directly and provide concrete implementations for all inherited methods.\n",
        "'''\n"
      ],
      "metadata": {
        "id": "2XqmDVyJTM-H"
      },
      "execution_count": null,
      "outputs": []
    },
    {
      "cell_type": "markdown",
      "source": [
        "15. Explain the concept of abstract data types (ADTs) and their role in achieving abstraction in Python."
      ],
      "metadata": {
        "id": "BeOrfJmwY-dt"
      }
    },
    {
      "cell_type": "code",
      "source": [
        "'''\n",
        "Abstract Data Types (ADTs) are a fundamental concept in computer science that define a\n",
        "logical model for data types. They specify a set of operations that can be performed on\n",
        "the data and hide the implementation details from the user. This abstraction allows programmers\n",
        "to focus on the functionality of the data type rather than its internal representation,\n",
        "promoting modularity, code reusability, and easier maintenance.\n",
        "\n",
        "In Python, ADTs are typically implemented using classes. The class serves as a blueprint\n",
        "for creating objects that represent instances of the abstract data type. The class encapsulates\n",
        "both the data and the operations that can be performed on that data. By defining methods within\n",
        "the class, you can specify how the data is manipulated, while hiding the details of the implementation.\n",
        "'''"
      ],
      "metadata": {
        "id": "frYZ8SPHY__d"
      },
      "execution_count": null,
      "outputs": []
    },
    {
      "cell_type": "markdown",
      "source": [
        "16. Create a Python class for a computer system, demonstrating abstraction by defining common methods (e.g., `power_on()`, `shutdown()`) in an abstract base class."
      ],
      "metadata": {
        "id": "bnuVnwZlqQbm"
      }
    },
    {
      "cell_type": "code",
      "source": [
        "from abc import ABC, abstractmethod\n",
        "\n",
        "class ComputerSystem(ABC) :\n",
        "\n",
        "  @abstractmethod\n",
        "  def power_on(self) :\n",
        "    pass\n",
        "\n",
        "  @abstractmethod\n",
        "  def shutdown(self) :\n",
        "    pass\n",
        "\n",
        "  @abstractmethod\n",
        "  def restart(self) :\n",
        "    pass\n",
        "\n",
        "class Desktop(ComputerSystem) :\n",
        "\n",
        "  def power_on(self) :\n",
        "    print(\"Desktop is powering on.\")\n",
        "\n",
        "  def shutdown(self) :\n",
        "    print(\"Desktop is shutting down.\")\n",
        "\n",
        "  def restart(self) :\n",
        "    print(\"Desktop is restarting.\")\n",
        "\n",
        "class Laptop(ComputerSystem) :\n",
        "\n",
        "  def power_on(self) :\n",
        "    print(\"Laptop is powering on.\")\n",
        "\n",
        "  def shutdown(self) :\n",
        "    print(\"Laptop is shutting down.\")\n",
        "\n",
        "  def restart(self) :\n",
        "    print(\"Laptop is restarting.\")\n",
        "\n",
        "class Server(ComputerSystem) :\n",
        "\n",
        "  def power_on(self) :\n",
        "    print(\"Server is powering on.\")\n",
        "\n",
        "  def shutdown(self) :\n",
        "    print(\"Server is shutting down.\")\n",
        "\n",
        "  def restart(self) :\n",
        "    print(\"Server is restarting.\")\n",
        "\n",
        "\n",
        "desktop = Desktop()\n",
        "desktop.power_on()\n",
        "desktop.shutdown()\n",
        "desktop.restart()\n",
        "print()\n",
        "laptop = Laptop()\n",
        "laptop.power_on()\n",
        "laptop.shutdown()\n",
        "laptop.restart()\n",
        "print()\n",
        "server = Server()\n",
        "server.power_on()\n",
        "server.shutdown()\n",
        "server.restart()"
      ],
      "metadata": {
        "colab": {
          "base_uri": "https://localhost:8080/"
        },
        "id": "6XnPXrdHqaf5",
        "outputId": "56d45df9-d7e1-4b2f-e2e0-27d04a5e968d"
      },
      "execution_count": null,
      "outputs": [
        {
          "output_type": "stream",
          "name": "stdout",
          "text": [
            "Desktop is powering on.\n",
            "Desktop is shutting down.\n",
            "Desktop is restarting.\n",
            "\n",
            "Laptop is powering on.\n",
            "Laptop is shutting down.\n",
            "Laptop is restarting.\n",
            "\n",
            "Server is powering on.\n",
            "Server is shutting down.\n",
            "Server is restarting.\n"
          ]
        }
      ]
    },
    {
      "cell_type": "markdown",
      "source": [
        "18. Explain how abstraction enhances code reusability and modularity in Python programs."
      ],
      "metadata": {
        "id": "t0r8Nmcxt3Dw"
      }
    },
    {
      "cell_type": "code",
      "source": [
        "'''\n",
        "Abstraction enhances code reusability and modularity in Python programs by defining clear\n",
        "and consistent interfaces through abstract base classes. This allows different classes\n",
        "to implement these interfaces in their own ways, enabling interchangeable use and promoting\n",
        "code reuse. It also encapsulates implementation details, ensuring that changes in the\n",
        "implementation do not affect the code that relies on the interface. Additionally, abstraction\n",
        "supports polymorphism, allowing functions to operate on objects of different classes through\n",
        "a common interface, thus making the system more flexible, maintainable, and easier to extend.\n",
        "'''"
      ],
      "metadata": {
        "id": "l2Gv-l_QtgxL"
      },
      "execution_count": null,
      "outputs": []
    },
    {
      "cell_type": "markdown",
      "source": [
        "19. Create a Python class for a library system, implementing abstraction by defining common methods (e.g., `add_book()`, `borrow_book()`) in an abstract base class."
      ],
      "metadata": {
        "id": "DMNaG6m9uXfR"
      }
    },
    {
      "cell_type": "code",
      "source": [
        "from abc import ABC, abstractmethod\n",
        "\n",
        "class LibrarySystem(ABC) :\n",
        "\n",
        "  @abstractmethod\n",
        "  def add_book(self, title, author) :\n",
        "    pass\n",
        "\n",
        "  @abstractmethod\n",
        "  def borrow_book(self, title) :\n",
        "    pass\n",
        "\n",
        "  @abstractmethod\n",
        "  def return_book(self, title) :\n",
        "    pass\n",
        "\n",
        "class PublicLibrary(LibrarySystem) :\n",
        "\n",
        "  def __init__(self):\n",
        "    self.books = {}\n",
        "\n",
        "  def add_book(self, title, author) :\n",
        "    self.books[title] = {'author': author, 'available': True}\n",
        "    print(f'Book \"{title}\" by {author} added to the public library.')\n",
        "\n",
        "  def borrow_book(self, title) :\n",
        "    if title in self.books and self.books[title]['available'] :\n",
        "      self.books[title]['available'] = False\n",
        "      print(f'Book \"{title}\" has been borrowed from the public library.')\n",
        "    else:\n",
        "      print(f'Book \"{title}\" is not available for borrowing.')\n",
        "\n",
        "  def return_book(self, title) :\n",
        "    if title in self.books and not self.books[title]['available'] :\n",
        "      self.books[title]['available'] = True\n",
        "      print(f'Book \"{title}\" has been returned to the public library.')\n",
        "    else:\n",
        "      print(f'Book \"{title}\" is not recognized or was not borrowed.')\n",
        "\n",
        "class UniversityLibrary(LibrarySystem) :\n",
        "\n",
        "  def __init__(self):\n",
        "    self.books = {}\n",
        "\n",
        "  def add_book(self, title, author):\n",
        "    self.books[title] = {'author': author, 'available': True}\n",
        "    print(f'Book \"{title}\" by {author} added to the university library.')\n",
        "\n",
        "  def borrow_book(self, title):\n",
        "    if title in self.books and self.books[title]['available']:\n",
        "      self.books[title]['available'] = False\n",
        "      print(f'Book \"{title}\" has been borrowed from the university library.')\n",
        "    else:\n",
        "      print(f'Book \"{title}\" is not available for borrowing.')\n",
        "\n",
        "  def return_book(self, title):\n",
        "    if title in self.books and not self.books[title]['available']:\n",
        "      self.books[title]['available'] = True\n",
        "      print(f'Book \"{title}\" has been returned to the university library.')\n",
        "    else:\n",
        "      print(f'Book \"{title}\" is not recognized or was not borrowed.')\n",
        "\n",
        "\n",
        "public_library = PublicLibrary()\n",
        "public_library.add_book(\"1984\", \"George Clooney\")\n",
        "public_library.borrow_book(\"1984\")\n",
        "public_library.return_book(\"1984\")\n",
        "\n",
        "university_library = UniversityLibrary()\n",
        "university_library.add_book(\"Introduction to Algorithms\", \"HK Verma\")\n",
        "university_library.borrow_book(\"Introduction to Algorithms\")\n",
        "university_library.return_book(\"Introduction to Algorithms\")\n"
      ],
      "metadata": {
        "colab": {
          "base_uri": "https://localhost:8080/"
        },
        "id": "N5Y8XcGkuW3t",
        "outputId": "b89e62ac-00a9-4c09-bcdd-12d209739ee0"
      },
      "execution_count": null,
      "outputs": [
        {
          "output_type": "stream",
          "name": "stdout",
          "text": [
            "Book \"1984\" by George Clooney added to the public library.\n",
            "Book \"1984\" has been borrowed from the public library.\n",
            "Book \"1984\" has been returned to the public library.\n",
            "Book \"Introduction to Algorithms\" by HK Verma added to the university library.\n",
            "Book \"Introduction to Algorithms\" has been borrowed from the university library.\n",
            "Book \"Introduction to Algorithms\" has been returned to the university library.\n"
          ]
        }
      ]
    },
    {
      "cell_type": "markdown",
      "source": [
        "20. Describe the concept of method abstraction in Python and how it relates to polymorphism.\n"
      ],
      "metadata": {
        "id": "XvzuXD4gviyp"
      }
    },
    {
      "cell_type": "code",
      "source": [
        "'''\n",
        "Method abstraction in Python involves defining methods in abstract base classes (ABCs)\n",
        "without providing implementations, using the @abstractmethod decorator. This enforces\n",
        "that subclasses must implement these methods, establishing a common interface.\n",
        "\n",
        "Polymorphism relates to method abstraction by allowing objects of different subclasses\n",
        "to be treated as instances of the abstract base class. This means that methods defined\n",
        "abstractly in the base class can be called on any subclass instance, enabling\n",
        "interchangeable use and enhancing code flexibility and reusability.\n",
        "'''"
      ],
      "metadata": {
        "id": "5rj_qWkdvR75"
      },
      "execution_count": null,
      "outputs": []
    },
    {
      "cell_type": "markdown",
      "source": [
        "# **Composition :**\n",
        "\n",
        "---\n",
        "\n"
      ],
      "metadata": {
        "id": "c_JDxHqoxXv0"
      }
    },
    {
      "cell_type": "markdown",
      "source": [
        "1. Explain the concept of composition in Python and how it is used to build complex objects from simpler ones."
      ],
      "metadata": {
        "id": "OsQAwvAHxb3T"
      }
    },
    {
      "cell_type": "code",
      "source": [
        "'''\n",
        "Composition in Python is a design principle where a class is made up of one or more\n",
        "objects from other classes, creating complex objects by combining simpler ones. This\n",
        "\"has-a\" relationship allows a class to contain instances of other classes as attributes.\n",
        "By doing so, composition enables the construction of complex structures from reusable\n",
        "components, promoting flexibility and maintainability in code.\n",
        "'''"
      ],
      "metadata": {
        "id": "OPthJTX3xbXK"
      },
      "execution_count": null,
      "outputs": []
    },
    {
      "cell_type": "markdown",
      "source": [
        "2. Describe the difference between composition and inheritance in object-oriented programming."
      ],
      "metadata": {
        "id": "MdZTXGcr0CAA"
      }
    },
    {
      "cell_type": "code",
      "source": [
        "'''\n",
        "Composition represents a \"has-a\" relationship where a class contains instances of other classes\n",
        "as attributes, offering flexibility and code reuse. In contrast, inheritance establishes an\n",
        "\"is-a\" relationship, creating a hierarchy where subclasses inherit behavior and attributes\n",
        "from parent classes, promoting code organization and polymorphism.\n",
        "'''"
      ],
      "metadata": {
        "id": "BbHwrxgs0C9Q"
      },
      "execution_count": null,
      "outputs": []
    },
    {
      "cell_type": "markdown",
      "source": [
        "3. Create a Python class called `Author` with attributes for name and birthdate. Then, create a `Book` class that contains an instance of `Author` as a composition. Provide an example of creating a `Book` object."
      ],
      "metadata": {
        "id": "Rpf7Fx1y0pZ-"
      }
    },
    {
      "cell_type": "code",
      "source": [
        "class Author :\n",
        "\n",
        "  def __init__(self, name, birthdate) :\n",
        "    self.name = name\n",
        "    self.birthdate = birthdate\n",
        "\n",
        "class Book :\n",
        "\n",
        "  def __init__(self, title, author, pages) :\n",
        "    self.title = title\n",
        "    self.author = author\n",
        "    self.pages = pages\n",
        "\n",
        "  def display_info(self) :\n",
        "    print(f\"Title : {self.title}\")\n",
        "    print(f\"Author : {self.author.name}\")\n",
        "    print(f\"Author's Birthdate : {self.author.birthdate}\")\n",
        "    print(f\"Pages : {self.pages}\")\n",
        "\n",
        "\n",
        "author = Author(\"J.K. Rowling\", \"July 31, 1965\")\n",
        "book = Book(\"Harry Potter and the Sorcerer's Stone\", author, 320)\n",
        "book.display_info()"
      ],
      "metadata": {
        "colab": {
          "base_uri": "https://localhost:8080/"
        },
        "id": "1dXG-lqn0sl2",
        "outputId": "7e0a6c3e-0d2e-48fb-a69d-6662a3d449aa"
      },
      "execution_count": null,
      "outputs": [
        {
          "output_type": "stream",
          "name": "stdout",
          "text": [
            "Title : Harry Potter and the Sorcerer's Stone\n",
            "Author : J.K. Rowling\n",
            "Author's Birthdate : July 31, 1965\n",
            "Pages : 320\n"
          ]
        }
      ]
    },
    {
      "cell_type": "markdown",
      "source": [
        "4. Discuss the benefits of using composition over inheritance in Python, especially in terms of code flexibility and reusability."
      ],
      "metadata": {
        "id": "vNOravXd2Xe8"
      }
    },
    {
      "cell_type": "code",
      "source": [
        "'''\n",
        "Composition over inheritance in Python offers flexibility through loose coupling and dynamic behavior,\n",
        "making classes independent. It promotes code reusability by allowing smaller, focused classes to be\n",
        "composed together. This approach aligns with the Single Responsibility Principle and facilitates easier\n",
        "testing through mocking and dependency injection. Additionally, it avoids the diamond inheritance problem\n",
        "and encourages code aggregation, leading to more maintainable codebases.\n",
        "'''"
      ],
      "metadata": {
        "id": "pTnfSEHe2W2I"
      },
      "execution_count": null,
      "outputs": []
    },
    {
      "cell_type": "markdown",
      "source": [
        "5. How can you implement composition in Python classes? Provide examples of using composition to create complex objects."
      ],
      "metadata": {
        "id": "MWva3Qbu26Sy"
      }
    },
    {
      "cell_type": "code",
      "source": [
        "'''\n",
        "In Python, composition can be implemented by creating classes that contain instances of other classes as attributes.\n",
        "Composition can be used to build complex objects by composing smaller, reusable components together.\n",
        "'''\n",
        "\n",
        "\n",
        "class Engine :\n",
        "\n",
        "  def start(self):\n",
        "    print(\"Engine started\")\n",
        "\n",
        "class Car :\n",
        "\n",
        "  def __init__(self):\n",
        "    self.engine = Engine()\n",
        "\n",
        "  def start(self):\n",
        "    self.engine.start()\n",
        "\n",
        "my_car = Car()\n",
        "my_car.start()\n"
      ],
      "metadata": {
        "colab": {
          "base_uri": "https://localhost:8080/"
        },
        "id": "S1HdkD-M2P4A",
        "outputId": "903f8265-fcc2-4525-95bf-9ae9eb60ffb8"
      },
      "execution_count": null,
      "outputs": [
        {
          "output_type": "stream",
          "name": "stdout",
          "text": [
            "Engine started\n"
          ]
        }
      ]
    },
    {
      "cell_type": "markdown",
      "source": [
        "6. Create a Python class hierarchy for a music player system, using composition to represent playlists and songs."
      ],
      "metadata": {
        "id": "ym2Ox-rwFfNK"
      }
    },
    {
      "cell_type": "code",
      "source": [
        "class Song :\n",
        "\n",
        "  def __init__(self, title, artist, duration) :\n",
        "    self.title = title\n",
        "    self.artist = artist\n",
        "    self.duration = duration\n",
        "\n",
        "class Playlist :\n",
        "\n",
        "  def __init__(self, name) :\n",
        "    self.name = name\n",
        "    self.songs = []\n",
        "\n",
        "  def add_song(self, song) :\n",
        "    if isinstance (song, Song) :\n",
        "      self.songs.append(song)\n",
        "    else :\n",
        "      raise TypeError(\"Only 'Song' object can be added in the playlist\")\n",
        "\n",
        "  def remove_song(self, song) :\n",
        "    if song in self.songs :\n",
        "      self.songs.remove(song)\n",
        "    else :\n",
        "      print(\"Song not present in playlist\")\n",
        "\n",
        "  def total_duration(self, song) :\n",
        "    return sum(song.duration for song in self.songs)\n",
        "\n",
        "class MusicSystem :\n",
        "\n",
        "  def __init__(self) :\n",
        "    self.playlists = []\n",
        "\n",
        "  def add_playlist(self, playlist):\n",
        "    self.playlists.append(playlist)\n",
        "\n",
        "  def play_playlist(self, playlist):\n",
        "    print(f\"Playing playlist: {playlist.name}\")\n",
        "    for song in playlist.songs:\n",
        "      print(f\"Playing {song.title} by {song.artist}\")\n",
        "\n",
        "\n",
        "song1 = Song(\"Imagine\", \"John Lennon\", 183)\n",
        "song2 = Song(\"Bohemian Rhapsody\", \"Queen\", 354)\n",
        "\n",
        "playlist1 = Playlist(\"My Favorites\")\n",
        "playlist1.add_song(song1)\n",
        "playlist1.add_song(song2)\n",
        "\n",
        "music = MusicSystem()\n",
        "music.add_playlist(playlist1)\n",
        "music.play_playlist(playlist1)"
      ],
      "metadata": {
        "id": "njtFDZTp3kHD",
        "colab": {
          "base_uri": "https://localhost:8080/"
        },
        "outputId": "5a613e19-f986-4838-ee82-27e054a0961b"
      },
      "execution_count": null,
      "outputs": [
        {
          "output_type": "stream",
          "name": "stdout",
          "text": [
            "Playing playlist: My Favorites\n",
            "Playing Imagine by John Lennon\n",
            "Playing Bohemian Rhapsody by Queen\n"
          ]
        }
      ]
    },
    {
      "cell_type": "markdown",
      "source": [
        "7. Explain the concept of \"has-a\" relationships in composition and how it helps design software systems."
      ],
      "metadata": {
        "id": "yWihJe_r9Ast"
      }
    },
    {
      "cell_type": "code",
      "source": [
        "'''\n",
        "A \"has-a\" relationship in composition refers to a design principle where a class (the whole) includes\n",
        "one or more objects of other classes (the parts) as its members. This helps design software systems by\n",
        "promoting modularity, reusability, and clear organization, making the system easier to understand,\n",
        "maintain, and extend.\n",
        "'''"
      ],
      "metadata": {
        "id": "ZrcxQpEdUvWJ"
      },
      "execution_count": null,
      "outputs": []
    },
    {
      "cell_type": "markdown",
      "source": [
        "8. Create a Python class for a computer system, using composition to represent components like CPU, RAM, and storage devices."
      ],
      "metadata": {
        "id": "Bud55dFxTkXX"
      }
    },
    {
      "cell_type": "code",
      "source": [
        "class CPU :\n",
        "\n",
        "  def __init__(self, model, cores, clock_speed) :\n",
        "    self.model = model\n",
        "    self.cores = cores\n",
        "    self.clock_speed = clock_speed\n",
        "\n",
        "class RAM :\n",
        "\n",
        "  def __init__(self, size, speed):\n",
        "    self.size = size\n",
        "    self.speed = speed\n",
        "\n",
        "class Storage :\n",
        "\n",
        "  def __init__(self, type, capacity) :\n",
        "    self.type = type\n",
        "    self.capacity = capacity\n",
        "\n",
        "class ComputerSystem :\n",
        "\n",
        "  def __init__(self, cpu, ram, storage) :\n",
        "    self.cpu = cpu\n",
        "    self.ram = ram\n",
        "    self.storage = storage\n",
        "\n",
        "\n",
        "cpu = CPU(model=\"Intel i9-9900K\", cores=8, clock_speed=3.6)\n",
        "ram = RAM(size=32, speed=3200)\n",
        "storage = Storage(type=\"SSD\", capacity=1000)\n",
        "\n",
        "computer_system = ComputerSystem(cpu, ram, storage)\n",
        "print (\"Computer System Details :\")\n",
        "print (f\"CPU Model : {computer_system.cpu.model} | CPU Cores : {computer_system.cpu.cores} | CPU Clock Speed : {computer_system.cpu.clock_speed}\")\n",
        "print (f\"RAM Size : {computer_system.ram.size} | RAM Speed : {computer_system.ram.speed}\")\n",
        "print (f\"Storage Type : {computer_system.storage.type} | Storage Capacity : {computer_system.storage.capacity}\")"
      ],
      "metadata": {
        "colab": {
          "base_uri": "https://localhost:8080/"
        },
        "id": "gH7Mz2qCTpZt",
        "outputId": "efa564fa-4249-42d3-9102-e163ff201877"
      },
      "execution_count": 5,
      "outputs": [
        {
          "output_type": "stream",
          "name": "stdout",
          "text": [
            "Computer System Details :\n",
            "CPU Model : Intel i9-9900K | CPU Cores : 8 | CPU Clock Speed : 3.6\n",
            "RAM Size : 32 | RAM Speed : 3200\n",
            "Storage Type : SSD | Storage Capacity : 1000\n"
          ]
        }
      ]
    },
    {
      "cell_type": "markdown",
      "source": [
        "9. Describe the concept of \"delegation\" in composition and how it simplifies the design of complex systems."
      ],
      "metadata": {
        "id": "zPmH43tXYJlA"
      }
    },
    {
      "cell_type": "code",
      "source": [
        "'''\n",
        "Delegation in composition is a design principle where a class delegates specific tasks to composed objects\n",
        "(components) instead of handling them itself. This simplifies the design of complex systems by promoting\n",
        "modularity, reducing code duplication, and enhancing flexibility and maintainability. It allows objects to\n",
        "collaborate and share responsibilities, leading to more manageable and scalable code.\n",
        "'''"
      ],
      "metadata": {
        "id": "NwpwNLRYUk14"
      },
      "execution_count": null,
      "outputs": []
    },
    {
      "cell_type": "markdown",
      "source": [
        "10. Create a Python class for a car, using composition to represent components like the engine, wheels, and transmission."
      ],
      "metadata": {
        "id": "5UjuyCisYaMo"
      }
    },
    {
      "cell_type": "code",
      "source": [
        "class Engine :\n",
        "\n",
        "  def __init__(self, horsepower, type) :\n",
        "    self.horsepower = horsepower\n",
        "    self.type = type\n",
        "\n",
        "class Wheel :\n",
        "\n",
        "  def __init__(self, size_front, size_rear) :\n",
        "    self.size_front = size_front\n",
        "    self.size_rear = size_rear\n",
        "\n",
        "class Transmission :\n",
        "\n",
        "  def __init__(self, type, gears) :\n",
        "    self.type = type\n",
        "    self.gears = gears\n",
        "\n",
        "class Car :\n",
        "\n",
        "  def __init__(self, engine, wheels, transmission) :\n",
        "    self.engine = engine\n",
        "    self.wheels = wheels\n",
        "    self.transmission = transmission\n",
        "\n",
        "\n",
        "engine = Engine(horsepower=300, type=\"V6\")\n",
        "wheels = Wheel('18\"', '20\"')\n",
        "transmission = Transmission(type=\"Automatic\", gears=6)\n",
        "\n",
        "car = Car(engine, wheels, transmission)\n",
        "\n",
        "print(\"Car Specifications :\")\n",
        "print(f\"Engine : {car.engine.horsepower} | HP, {car.engine.type}\")\n",
        "print(f\"Wheels size - front : {car.wheels.size_front} | Wheel size - rear : {car.wheels.size_rear}\")\n",
        "print(f\"Transmission: {car.transmission.type} | {car.transmission.gears} gears\")\n"
      ],
      "metadata": {
        "colab": {
          "base_uri": "https://localhost:8080/"
        },
        "id": "6Hdi6mPoYb4E",
        "outputId": "b9140409-573b-434f-d2ff-a2339efa058e"
      },
      "execution_count": 11,
      "outputs": [
        {
          "output_type": "stream",
          "name": "stdout",
          "text": [
            "Car Specifications :\n",
            "Engine : 300 | HP, V6\n",
            "Wheels size - front : 18\" | Wheel size - rear : 20\"\n",
            "Transmission: Automatic | 6 gears\n"
          ]
        }
      ]
    },
    {
      "cell_type": "markdown",
      "source": [
        "11. How can you encapsulate and hide the details of composed objects in Python classes to maintain abstraction?"
      ],
      "metadata": {
        "id": "1oX85hc0dvh2"
      }
    },
    {
      "cell_type": "code",
      "source": [
        "'''\n",
        "To encapsulate and hide the details of composed objects in Python classes, use private attributes\n",
        "(prefix with an underscore) and provide public methods to interact with these attributes. This restricts\n",
        "direct access to the internal components, maintaining abstraction and promoting controlled access\n",
        "and modification.\n",
        "'''"
      ],
      "metadata": {
        "id": "0Ve-26BJaCjy"
      },
      "execution_count": null,
      "outputs": []
    },
    {
      "cell_type": "markdown",
      "source": [
        "12. Create a Python class for a university course, using composition to represent students, instructors, and course materials."
      ],
      "metadata": {
        "id": "eiIUUocPeNjL"
      }
    },
    {
      "cell_type": "code",
      "source": [
        "class Student :\n",
        "\n",
        "  def __init__(self, name) :\n",
        "    self.name = name\n",
        "\n",
        "class Instructor :\n",
        "\n",
        "  def __init__(self, name) :\n",
        "    self.name = name\n",
        "\n",
        "class CourseMaterial :\n",
        "\n",
        "  def __init__(self, title) :\n",
        "    self.title = title\n",
        "\n",
        "class UniversityCourse :\n",
        "\n",
        "  def __init__(self, course_name, instructor, students, course_materials) :\n",
        "    self.course_name = course_name\n",
        "    self.instructor = instructor\n",
        "    self.students = students\n",
        "    self.course_materials = course_materials\n",
        "\n",
        "instructor = Instructor(name=\"Dr. Vishwa\")\n",
        "students = [Student(name=\"Rohit\"), Student(name=\"Sushant\")]\n",
        "course_materials = [CourseMaterial(title=\"Lecture 1\"), CourseMaterial(title=\"Assignment 1\")]\n",
        "\n",
        "course = UniversityCourse(course_name=\"Python Programming\", instructor=instructor, students=students, course_materials=course_materials)\n",
        "\n",
        "print(\"Course Details:\")\n",
        "print(f\"Course Name: {course.course_name}\")\n",
        "print(f\"Instructor: {course.instructor.name}\")\n",
        "print(\"Students:\")\n",
        "for student in course.students:\n",
        "    print(f\"- {student.name}\")\n",
        "print(\"Course Materials:\")\n",
        "for material in course.course_materials:\n",
        "    print(f\"- {material.title}\")\n"
      ],
      "metadata": {
        "colab": {
          "base_uri": "https://localhost:8080/"
        },
        "id": "1o1qAr8-eSLJ",
        "outputId": "1fcbca49-8f28-4e99-8b20-7595eaf0e1f5"
      },
      "execution_count": 12,
      "outputs": [
        {
          "output_type": "stream",
          "name": "stdout",
          "text": [
            "Course Details:\n",
            "Course Name: Python Programming\n",
            "Instructor: Dr. Vishwa\n",
            "Students:\n",
            "- Rohit\n",
            "- Sushant\n",
            "Course Materials:\n",
            "- Lecture 1\n",
            "- Assignment 1\n"
          ]
        }
      ]
    },
    {
      "cell_type": "markdown",
      "source": [
        "13. Discuss the challenges and drawbacks of composition, such as increased complexity and potential for tight coupling between objects."
      ],
      "metadata": {
        "id": "CzNhzkk5fly1"
      }
    },
    {
      "cell_type": "code",
      "source": [
        "'''\n",
        "Increased Complexity : Composition can make systems more complex as the relationships between objects grow,\n",
        "potentially making the codebase harder to understand and maintain.\n",
        "\n",
        "Potential for Tight Coupling : Composition can lead to tight coupling between objects, where changes in one\n",
        "component may require changes in other components, reducing flexibility and increasing interdependencies.\n",
        "\n",
        "Difficulty in Understanding Relationships : Understanding the relationships between composed objects can be\n",
        "challenging, especially for new developers joining the project.\n",
        "\n",
        "Increased Memory Overhead : Each composed object adds its own memory overhead, which can become significant\n",
        "in systems with many objects, impacting performance and scalability.\n",
        "\n",
        "Dependency Management : Managing dependencies between composed objects, especially in large systems, can\n",
        "be complex and may lead to issues such as circular dependencies.\n",
        "\n",
        "Testing Complexity : Testing composed objects can be more complex due to the need to cover interactions\n",
        "between multiple objects, requiring more extensive testing scenarios.\n",
        "'''"
      ],
      "metadata": {
        "id": "hKuLDAwPfZX2"
      },
      "execution_count": null,
      "outputs": []
    },
    {
      "cell_type": "markdown",
      "source": [
        "14. Create a Python class hierarchy for a restaurant system, using composition to represent menus, dishes, and ingredients."
      ],
      "metadata": {
        "id": "C70UVf3CiXiW"
      }
    },
    {
      "cell_type": "code",
      "source": [
        "class Ingredient :\n",
        "\n",
        "  def __init__(self, name, quantity, unit) :\n",
        "    self.name = name\n",
        "    self.quantity = quantity\n",
        "    self.unit = unit\n",
        "\n",
        "class Dish :\n",
        "\n",
        "  def __init__(self, name, ingredients) :\n",
        "    self.name = name\n",
        "    self.ingredients = ingredients\n",
        "\n",
        "class Menu :\n",
        "\n",
        "  def __init__(self, name, dishes) :\n",
        "    self.name = name\n",
        "    self.dishes = dishes\n",
        "\n",
        "class Restaurant :\n",
        "\n",
        "  def __init__(self, name, menus) :\n",
        "    self.name = name\n",
        "    self.menus = menus\n",
        "\n",
        "\n",
        "ingredient1 = Ingredient(name=\"Tomato\", quantity=2, unit=\"pieces\")\n",
        "ingredient2 = Ingredient(name=\"Cheese\", quantity=100, unit=\"grams\")\n",
        "ingredient3 = Ingredient(name=\"Pasta\", quantity=200, unit=\"grams\")\n",
        "\n",
        "dish1 = Dish(name=\"Margherita Pizza\", ingredients=[ingredient1, ingredient2])\n",
        "dish2 = Dish(name=\"Pasta Alfredo\", ingredients=[ingredient3, ingredient2])\n",
        "\n",
        "menu1 = Menu(name=\"Italian Menu\", dishes=[dish1, dish2])\n",
        "\n",
        "restaurant = Restaurant(name=\"Pizzeria Bella\", menus=[menu1])\n",
        "\n",
        "print(\"Restaurant Details:\")\n",
        "print(f\"Name: {restaurant.name}\")\n",
        "print(\"Menus:\")\n",
        "for menu in restaurant.menus :\n",
        "  print(f\"- {menu.name}:\")\n",
        "  for dish in menu.dishes :\n",
        "    print(f\"  - {dish.name}:\")\n",
        "    for ingredient in dish.ingredients :\n",
        "      print(f\"    - {ingredient.quantity} {ingredient.unit} {ingredient.name}\")"
      ],
      "metadata": {
        "colab": {
          "base_uri": "https://localhost:8080/"
        },
        "id": "DHtzg7rkiZuO",
        "outputId": "5f387a7c-3b88-4c4c-b08a-7879ba313a51"
      },
      "execution_count": 2,
      "outputs": [
        {
          "output_type": "stream",
          "name": "stdout",
          "text": [
            "Restaurant Details:\n",
            "Name: Pizzeria Bella\n",
            "Menus:\n",
            "- Italian Menu:\n",
            "  - Margherita Pizza:\n",
            "    - 2 pieces Tomato\n",
            "    - 100 grams Cheese\n",
            "  - Pasta Alfredo:\n",
            "    - 200 grams Pasta\n",
            "    - 100 grams Cheese\n"
          ]
        }
      ]
    },
    {
      "cell_type": "markdown",
      "source": [
        "15. Explain how composition enhances code maintainability and modularity in Python programs."
      ],
      "metadata": {
        "id": "HBji7jbAzrAS"
      }
    },
    {
      "cell_type": "code",
      "source": [
        "'''\n",
        "Composition enhances code maintainability and modularity in Python programs by promoting encapsulation,\n",
        "modularity, flexibility, separation of concerns, and code reusability. It allows for the creation of\n",
        "cleaner, more maintainable, and scalable codebases that are easier to understand, modify, and extend over time.\n",
        "'''"
      ],
      "metadata": {
        "id": "5DQLFvuQzS5X"
      },
      "execution_count": null,
      "outputs": []
    },
    {
      "cell_type": "markdown",
      "source": [
        "16. Create a Python class for a computer game character, using composition to represent attributes like weapons, armor, and inventory."
      ],
      "metadata": {
        "id": "Jp1_q-TF0AjO"
      }
    },
    {
      "cell_type": "code",
      "source": [
        "class Weapon :\n",
        "\n",
        "  def __init__(self, name, damage) :\n",
        "    self.name = name\n",
        "    self.damage = damage\n",
        "\n",
        "class Armor :\n",
        "\n",
        "  def __init__(self, name, defense) :\n",
        "    self.name = name\n",
        "    self.defense = defense\n",
        "\n",
        "class Item :\n",
        "\n",
        "  def __init__(self, name) :\n",
        "    self.name = name\n",
        "\n",
        "class Inventory :\n",
        "\n",
        "  def __init__(self) :\n",
        "    self.items = []\n",
        "\n",
        "  def add_item(self, item) :\n",
        "    self.items.append(item)\n",
        "\n",
        "class GameCharacter :\n",
        "\n",
        "  def __init__(self, name) :\n",
        "    self.name = name\n",
        "    self.weapon = None\n",
        "    self.armor = None\n",
        "    self.inventory = Inventory()\n",
        "\n",
        "  def equip_weapon(self, weapon) :\n",
        "    self.weapon = weapon\n",
        "\n",
        "  def equip_armor(self, armor) :\n",
        "    self.armor = armor\n",
        "\n",
        "  def add_item_to_inventory(self, item) :\n",
        "    self.inventory.add_item(item)\n",
        "\n",
        "\n",
        "character = GameCharacter(name=\"Hero\")\n",
        "sword = Weapon(name=\"Sword\", damage=10)\n",
        "shield = Armor(name=\"Shield\", defense=5)\n",
        "potion = Item(name=\"Health Potion\")\n",
        "\n",
        "character.equip_weapon(sword)\n",
        "character.equip_armor(shield)\n",
        "character.add_item_to_inventory(potion)\n",
        "\n",
        "print(f\"{character.name}'s Attributes:\")\n",
        "print(f\"Weapon: {character.weapon.name}, Damage: {character.weapon.damage}\")\n",
        "print(f\"Armor: {character.armor.name}, Defense: {character.armor.defense}\")\n",
        "print(\"Inventory:\")\n",
        "for item in character.inventory.items:\n",
        "  print(f\"- {item.name}\")\n"
      ],
      "metadata": {
        "colab": {
          "base_uri": "https://localhost:8080/"
        },
        "id": "8socUN9S0Cxw",
        "outputId": "e41ce7f2-2213-4e98-9d99-25675ff1ddec"
      },
      "execution_count": 3,
      "outputs": [
        {
          "output_type": "stream",
          "name": "stdout",
          "text": [
            "Hero's Attributes:\n",
            "Weapon: Sword, Damage: 10\n",
            "Armor: Shield, Defense: 5\n",
            "Inventory:\n",
            "- Health Potion\n"
          ]
        }
      ]
    },
    {
      "cell_type": "markdown",
      "source": [
        "17. Describe the concept of \"aggregation\" in composition and how it differs from simple composition."
      ],
      "metadata": {
        "id": "D8yCBLR90kZI"
      }
    },
    {
      "cell_type": "code",
      "source": [
        "'''\n",
        "In composition, \"aggregation\" refers to a form of association where one object is composed of\n",
        "other objects, but the composed objects can exist independently of the main object. This means\n",
        "that the composed objects have their own lifecycle and can be shared among multiple instances\n",
        "of the main object or even exist outside of it.\n",
        "\n",
        "Aggregation differs from simple composition in that in simple composition, the composed objects\n",
        "are tightly coupled to the main object and cannot exist independently. In aggregation, however,\n",
        "the composed objects have a looser coupling, allowing them to exist independently and be reused\n",
        "in various contexts.\n",
        "'''"
      ],
      "metadata": {
        "id": "YjMUajVb0jW2"
      },
      "execution_count": null,
      "outputs": []
    },
    {
      "cell_type": "markdown",
      "source": [
        "18. Create a Python class for a house, using composition to represent rooms, furniture, and appliances."
      ],
      "metadata": {
        "id": "MA0c5hRY0v6P"
      }
    },
    {
      "cell_type": "code",
      "source": [
        "class Furniture :\n",
        "\n",
        "  def __init__(self, name) :\n",
        "    self.name = name\n",
        "\n",
        "class Appliance :\n",
        "\n",
        "  def __init__(self, name) :\n",
        "    self.name = name\n",
        "\n",
        "class Room :\n",
        "\n",
        "  def __init__(self, name) :\n",
        "    self.name = name\n",
        "    self.furniture = []\n",
        "    self.appliances = []\n",
        "\n",
        "class House :\n",
        "\n",
        "  def __init__(self, address) :\n",
        "    self.address = address\n",
        "    self.rooms = []\n",
        "\n",
        "\n",
        "living_room = Room(name=\"Living Room\")\n",
        "living_room.furniture.extend([Furniture(name=\"Sofa\"), Furniture(name=\"Coffee Table\")])\n",
        "living_room.appliances.append(Appliance(name=\"TV\"))\n",
        "\n",
        "kitchen = Room(name=\"Kitchen\")\n",
        "kitchen.furniture.append(Furniture(name=\"Dining Table\"))\n",
        "kitchen.appliances.extend([Appliance(name=\"Refrigerator\"), Appliance(name=\"Oven\")])\n",
        "\n",
        "my_house = House(address=\"123 Main St\")\n",
        "my_house.rooms.extend([living_room, kitchen])\n",
        "\n",
        "print(f\"My House at {my_house.address}:\")\n",
        "for room in my_house.rooms:\n",
        "  print(f\"- {room.name}:\")\n",
        "  print(\"  Furniture:\")\n",
        "  for furniture in room.furniture:\n",
        "    print(f\"    - {furniture.name}\")\n",
        "  print(\"  Appliances:\")\n",
        "  for appliance in room.appliances:\n",
        "    print(f\"    - {appliance.name}\")\n"
      ],
      "metadata": {
        "colab": {
          "base_uri": "https://localhost:8080/"
        },
        "id": "2DQj7xdh01KU",
        "outputId": "edd9e2c6-b557-46a3-d123-9ea48be167e3"
      },
      "execution_count": 4,
      "outputs": [
        {
          "output_type": "stream",
          "name": "stdout",
          "text": [
            "My House at 123 Main St:\n",
            "- Living Room:\n",
            "  Furniture:\n",
            "    - Sofa\n",
            "    - Coffee Table\n",
            "  Appliances:\n",
            "    - TV\n",
            "- Kitchen:\n",
            "  Furniture:\n",
            "    - Dining Table\n",
            "  Appliances:\n",
            "    - Refrigerator\n",
            "    - Oven\n"
          ]
        }
      ]
    },
    {
      "cell_type": "markdown",
      "source": [
        "19. How can you achieve flexibility in composed objects by allowing them to be replaced or modified dynamically at runtime?"
      ],
      "metadata": {
        "id": "Cz3EwhqT1bqL"
      }
    },
    {
      "cell_type": "code",
      "source": [
        "'''\n",
        "You can achieve flexibility in composed objects by allowing them to be replaced or modified dynamically at runtime\n",
        "through dependency injection. This involves injecting the dependencies (composed objects) into the main object\n",
        "rather than creating them internally. By doing so, you can easily replace or modify the dependencies with different\n",
        "implementations or configurations at runtime, without modifying the main object's code.\n",
        "'''"
      ],
      "metadata": {
        "id": "NSdrothN1QC_"
      },
      "execution_count": null,
      "outputs": []
    },
    {
      "cell_type": "markdown",
      "source": [
        "20. Create a Python class for a social media application, using composition to represent users, posts, and comments."
      ],
      "metadata": {
        "id": "TBKh-PoX2xba"
      }
    },
    {
      "cell_type": "code",
      "source": [
        "class Comment :\n",
        "\n",
        "  def __init__(self, text, user) :\n",
        "    self.text = text\n",
        "    self.user = user\n",
        "\n",
        "class Post :\n",
        "\n",
        "  def __init__(self, text, user) :\n",
        "    self.text = text\n",
        "    self.user = user\n",
        "    self.comments = []\n",
        "\n",
        "  def add_comment(self, comment) :\n",
        "    self.comments.append(comment)\n",
        "\n",
        "class User :\n",
        "\n",
        "  def __init__(self, username) :\n",
        "    self.username = username\n",
        "    self.posts = []\n",
        "\n",
        "  def create_post(self, text) :\n",
        "    post = Post(text, self)\n",
        "    self.posts.append(post)\n",
        "    return post\n",
        "\n",
        "class SocialMediaApp :\n",
        "\n",
        "  def __init__(self) :\n",
        "    self.users = []\n",
        "\n",
        "  def add_user(self, user) :\n",
        "    self.users.append(user)\n",
        "\n",
        "\n",
        "user1 = User(username=\"Rohit\")\n",
        "user2 = User(username=\"Sushant\")\n",
        "\n",
        "post1 = user1.create_post(\"Hello, world!\")\n",
        "post2 = user2.create_post(\"Good morning!\")\n",
        "\n",
        "comment1 = Comment(text=\"Nice post!\", user=user2)\n",
        "post1.add_comment(comment1)\n",
        "\n",
        "comment2 = Comment(text=\"Thanks!\", user=user1)\n",
        "post2.add_comment(comment2)\n",
        "\n",
        "app = SocialMediaApp()\n",
        "app.add_user(user1)\n",
        "app.add_user(user2)\n",
        "\n",
        "print(\"Social Media Application:\")\n",
        "for user in app.users:\n",
        "  print(f\"- {user.username}:\")\n",
        "  for post in user.posts:\n",
        "    print(f\"  - {post.text}\")\n",
        "    for comment in post.comments:\n",
        "      print(f\"    - {comment.text} by {comment.user.username}\")"
      ],
      "metadata": {
        "colab": {
          "base_uri": "https://localhost:8080/"
        },
        "id": "5J1myCsW2zCG",
        "outputId": "80778e96-1871-4170-e328-f6e3b452d78e"
      },
      "execution_count": 1,
      "outputs": [
        {
          "output_type": "stream",
          "name": "stdout",
          "text": [
            "Social Media Application:\n",
            "- Rohit:\n",
            "  - Hello, world!\n",
            "    - Nice post! by Sushant\n",
            "- Sushant:\n",
            "  - Good morning!\n",
            "    - Thanks! by Rohit\n"
          ]
        }
      ]
    },
    {
      "cell_type": "code",
      "source": [],
      "metadata": {
        "id": "EPDWk4HtD-xC"
      },
      "execution_count": null,
      "outputs": []
    }
  ]
}