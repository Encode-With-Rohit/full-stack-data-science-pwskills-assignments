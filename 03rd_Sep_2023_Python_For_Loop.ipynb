{
  "nbformat": 4,
  "nbformat_minor": 0,
  "metadata": {
    "colab": {
      "provenance": []
    },
    "kernelspec": {
      "name": "python3",
      "display_name": "Python 3"
    },
    "language_info": {
      "name": "python"
    }
  },
  "cells": [
    {
      "cell_type": "markdown",
      "source": [
        "## **Basic Level :**\n",
        "\n",
        "---\n",
        "\n"
      ],
      "metadata": {
        "id": "K9UsZFB2KOPu"
      }
    },
    {
      "cell_type": "markdown",
      "source": [
        "1. Write a Python program to print the numbers from 1 to 10 using a `for` loop."
      ],
      "metadata": {
        "id": "ODICF5VyKYxZ"
      }
    },
    {
      "cell_type": "code",
      "execution_count": null,
      "metadata": {
        "id": "eZp6v_e6JhO9",
        "colab": {
          "base_uri": "https://localhost:8080/"
        },
        "outputId": "89bf9e80-c622-4a4c-ab9f-66b3ce52d446"
      },
      "outputs": [
        {
          "output_type": "stream",
          "name": "stdout",
          "text": [
            "List of number from 1 to 10 : [1, 2, 3, 4, 5, 6, 7, 8, 9, 10]\n"
          ]
        }
      ],
      "source": [
        "list1 = []\n",
        "for i in range (1, 11) :\n",
        "  list1.append(i)\n",
        "print (\"List of number from 1 to 10 :\", list1)"
      ]
    },
    {
      "cell_type": "markdown",
      "source": [
        "2. Create a program that calculates the sum of all numbers in a list using a `for` loop."
      ],
      "metadata": {
        "id": "1uBz5KmklD23"
      }
    },
    {
      "cell_type": "code",
      "source": [
        "def calculator(list2) :\n",
        "\n",
        "  sum_of_numbers_in_list = 0\n",
        "\n",
        "  for value in list2 :\n",
        "    sum_of_numbers_in_list = value + sum_of_numbers_in_list\n",
        "  return sum_of_numbers_in_list\n",
        "\n",
        "list2 = [1,2,3,4,5,6,7,8,9]\n",
        "result = calculator(list2)\n",
        "print (\"Sum of numbers in list :\", result)"
      ],
      "metadata": {
        "colab": {
          "base_uri": "https://localhost:8080/"
        },
        "id": "mQwaxBJBeVHN",
        "outputId": "a3ddaab0-a222-4608-909f-a9ff7697ab06"
      },
      "execution_count": null,
      "outputs": [
        {
          "output_type": "stream",
          "name": "stdout",
          "text": [
            "Sum of numbers in list : 45\n"
          ]
        }
      ]
    },
    {
      "cell_type": "markdown",
      "source": [
        "3. Write a program to print the characters of a string in reverse order using a `for` loop."
      ],
      "metadata": {
        "id": "TkDmoYcYNlVT"
      }
    },
    {
      "cell_type": "code",
      "source": [
        "input_string = \"qwerty\"\n",
        "\n",
        "reverse_string = \"\"\n",
        "\n",
        "for char in input_string :\n",
        "  reverse_string = char + reverse_string\n",
        "print (\"Reverse of the input string is :\", reverse_string)"
      ],
      "metadata": {
        "id": "jVg6BKQPoH9s",
        "colab": {
          "base_uri": "https://localhost:8080/"
        },
        "outputId": "3dc52c03-c82c-4928-ec8f-2893fdb7bf14"
      },
      "execution_count": null,
      "outputs": [
        {
          "output_type": "stream",
          "name": "stdout",
          "text": [
            "Reverse of the input string is : ytrewq\n"
          ]
        }
      ]
    },
    {
      "cell_type": "markdown",
      "source": [
        "4. Develop a program that finds the factorial of a given number using a `for` loop."
      ],
      "metadata": {
        "id": "pFRp0aYHOO4G"
      }
    },
    {
      "cell_type": "code",
      "source": [
        "def factorial(n) :\n",
        "  if n <= 1 :\n",
        "    return 1\n",
        "  result = 1\n",
        "  for i in range(2, n+1) :\n",
        "    result *= i\n",
        "  return result\n",
        "\n",
        "n = 5\n",
        "calculation = factorial(n)\n",
        "print (\"Factorial of\", n, \":\", calculation)"
      ],
      "metadata": {
        "colab": {
          "base_uri": "https://localhost:8080/"
        },
        "id": "RMeKzbH9N9um",
        "outputId": "c37dfb2e-28e2-4fa8-cd5b-ea7a4b395438"
      },
      "execution_count": null,
      "outputs": [
        {
          "output_type": "stream",
          "name": "stdout",
          "text": [
            "Factorial of 5 : 120\n"
          ]
        }
      ]
    },
    {
      "cell_type": "markdown",
      "source": [
        "5. Create a program to print the multiplication table of a given number using a `for` loop."
      ],
      "metadata": {
        "id": "BWrTtHSqSTzB"
      }
    },
    {
      "cell_type": "code",
      "source": [
        "def multiplication_table (n) :\n",
        "\n",
        "  result = n\n",
        "  print (\"Multiplication table of :\", n)\n",
        "\n",
        "  for i in range (1, 11) :\n",
        "    print (result*i)\n",
        "\n",
        "n = 19\n",
        "multiplication_table (n)"
      ],
      "metadata": {
        "colab": {
          "base_uri": "https://localhost:8080/"
        },
        "id": "zecCkbWgQDNI",
        "outputId": "a7c44bab-de25-470b-9908-b169bf39f28a"
      },
      "execution_count": null,
      "outputs": [
        {
          "output_type": "stream",
          "name": "stdout",
          "text": [
            "Multiplication table of : 19\n",
            "19\n",
            "38\n",
            "57\n",
            "76\n",
            "95\n",
            "114\n",
            "133\n",
            "152\n",
            "171\n",
            "190\n"
          ]
        }
      ]
    },
    {
      "cell_type": "markdown",
      "source": [
        "6. Write a program that counts the number of even and odd numbers in a list using a `for` loop."
      ],
      "metadata": {
        "id": "5sgRl1IzWBQV"
      }
    },
    {
      "cell_type": "code",
      "source": [
        "def count_func (list6) :\n",
        "  count_odd = 0\n",
        "  count_even = 0\n",
        "  for value in list6 :\n",
        "    if value % 2 == 0 :\n",
        "      count_even += 1\n",
        "    else :\n",
        "      count_odd += 1\n",
        "  print (\"Count of even number in the list is :\", count_even)\n",
        "  print (\"Count of odd number in the lits is :\", count_odd)\n",
        "\n",
        "list6 = [1,2,3,4,5,6,7,8,9]\n",
        "count_func (list6)\n"
      ],
      "metadata": {
        "colab": {
          "base_uri": "https://localhost:8080/"
        },
        "id": "ldcBGEZ4TG-l",
        "outputId": "1963f434-4db9-44bf-f6d2-5d88bb9ceab6"
      },
      "execution_count": null,
      "outputs": [
        {
          "output_type": "stream",
          "name": "stdout",
          "text": [
            "Count of even number in the list is : 4\n",
            "Count of odd number in the lits is : 5\n"
          ]
        }
      ]
    },
    {
      "cell_type": "markdown",
      "source": [
        "7. Develop a program that prints the squares of numbers from 1 to 5 using a `for` loop."
      ],
      "metadata": {
        "id": "3nfV4ssiay4M"
      }
    },
    {
      "cell_type": "code",
      "source": [
        "square_list = []\n",
        "\n",
        "for i in range (1,6) :\n",
        "  square_list.append(i*i)\n",
        "print (\"List of squares of numbers from 1 to 5 :\", square_list)"
      ],
      "metadata": {
        "colab": {
          "base_uri": "https://localhost:8080/"
        },
        "id": "gf7lSOiMZTuU",
        "outputId": "8c83cdf0-b9af-49ce-c5b9-4bfb6d8fc345"
      },
      "execution_count": null,
      "outputs": [
        {
          "output_type": "stream",
          "name": "stdout",
          "text": [
            "List of squares of numbers from 1 to 5 : [1, 4, 9, 16, 25]\n"
          ]
        }
      ]
    },
    {
      "cell_type": "markdown",
      "source": [
        "8. Create a program to find the length of a string without using the `len()` function."
      ],
      "metadata": {
        "id": "X_96_G5Obb4u"
      }
    },
    {
      "cell_type": "code",
      "source": [
        "def length (input_string) :\n",
        "\n",
        "  length_of_string = 0\n",
        "\n",
        "  for char in input_string :\n",
        "    if char :\n",
        "      length_of_string += 1\n",
        "  return length_of_string\n",
        "\n",
        "input_string = \"qwerty\"\n",
        "result = length (input_string)\n",
        "print (\"Length of the string is :\", result)"
      ],
      "metadata": {
        "colab": {
          "base_uri": "https://localhost:8080/"
        },
        "id": "QRHzRuS4bUan",
        "outputId": "11ad3a78-6b49-491f-c29f-aaf86c4592e4"
      },
      "execution_count": null,
      "outputs": [
        {
          "output_type": "stream",
          "name": "stdout",
          "text": [
            "Length of the string is : 6\n"
          ]
        }
      ]
    },
    {
      "cell_type": "markdown",
      "source": [
        "9. Write a program that calculates the average of a list of numbers using a `for` loop."
      ],
      "metadata": {
        "id": "_ADYq8c3do9y"
      }
    },
    {
      "cell_type": "code",
      "source": [
        "def average (input_list) :\n",
        "\n",
        "  sum = 0\n",
        "\n",
        "  for value in input_list :\n",
        "    sum = value + sum\n",
        "  return sum / len(input_list)\n",
        "\n",
        "input_list = [1,2,3,4,5,6,7,8,9]\n",
        "result = average (input_list)\n",
        "print (\"Average of the list is :\", result)"
      ],
      "metadata": {
        "colab": {
          "base_uri": "https://localhost:8080/"
        },
        "id": "oY6T9uKKdg8H",
        "outputId": "02143e9f-a1be-4586-c140-fa8cc58ab1d2"
      },
      "execution_count": null,
      "outputs": [
        {
          "output_type": "stream",
          "name": "stdout",
          "text": [
            "Average of the list is : 5.0\n"
          ]
        }
      ]
    },
    {
      "cell_type": "markdown",
      "source": [
        "10. Develop a program that prints the first `n` Fibonacci numbers using a `for` loop."
      ],
      "metadata": {
        "id": "kbwsJsokkVvH"
      }
    },
    {
      "cell_type": "code",
      "source": [
        "def fibonacci(n) :\n",
        "\n",
        "  fibonacci_series = []\n",
        "\n",
        "  if n < 0 :\n",
        "    return \"Kindly provide a positive number\"\n",
        "  elif n == 1 :\n",
        "    return [0]\n",
        "  elif n == 2 :\n",
        "    return [0,1]\n",
        "  else :\n",
        "    fibonacci_series = [0,1]\n",
        "    for i in range (2, n) :\n",
        "      next_num = fibonacci_series[-1] + fibonacci_series[-2]\n",
        "      fibonacci_series.append(next_num)\n",
        "    return fibonacci_series\n",
        "\n",
        "n = 10\n",
        "result = fibonacci(n)\n",
        "print (result)"
      ],
      "metadata": {
        "colab": {
          "base_uri": "https://localhost:8080/"
        },
        "id": "tznn1gevgGmg",
        "outputId": "df5060c5-f3fd-4ca3-d911-0169ca5b8f76"
      },
      "execution_count": null,
      "outputs": [
        {
          "output_type": "stream",
          "name": "stdout",
          "text": [
            "[0, 1, 1, 2, 3, 5, 8, 13, 21, 34]\n"
          ]
        }
      ]
    },
    {
      "cell_type": "markdown",
      "source": [
        "## **Intermediate Level :**\n",
        "\n",
        "---\n",
        "\n"
      ],
      "metadata": {
        "id": "RlEFwn5g3LrU"
      }
    },
    {
      "cell_type": "markdown",
      "source": [
        "11. Write a program to check if a given list contains any duplicates using a `for` loop."
      ],
      "metadata": {
        "id": "c2EvSjid3Q4L"
      }
    },
    {
      "cell_type": "code",
      "source": [
        "def check_duplicates(list_11) :\n",
        "\n",
        "  set_11 = set()\n",
        "\n",
        "  for value in list_11 :\n",
        "    if value in set_11 :\n",
        "      return True\n",
        "    set_11.add(value)\n",
        "  return False\n",
        "\n",
        "list_11 = [1,2,3,4,5,6,7,8,9,1]\n",
        "print(\"Is duplicate present in the list :\", check_duplicates(list_11))"
      ],
      "metadata": {
        "id": "UIk8gjj8qIvu",
        "colab": {
          "base_uri": "https://localhost:8080/"
        },
        "outputId": "d649a98c-3d18-4ac0-d597-fbefc94e762d"
      },
      "execution_count": null,
      "outputs": [
        {
          "output_type": "stream",
          "name": "stdout",
          "text": [
            "Is duplicate present in the list : True\n"
          ]
        }
      ]
    },
    {
      "cell_type": "markdown",
      "source": [
        "12. Create a program that prints the prime numbers in a given range using a `for` loop."
      ],
      "metadata": {
        "id": "_YC_OdXzgKWd"
      }
    },
    {
      "cell_type": "code",
      "source": [
        "def is_prime (num) :\n",
        "  if num < 2 :\n",
        "    return False\n",
        "  for i in range (2, int(num**0.5) + 1) :\n",
        "    if num % i == 0 :\n",
        "      return False\n",
        "  return True\n",
        "\n",
        "def print_primes_in_range (start, end) :\n",
        "  print(f\"Prime numbers between {start} and {end}:\")\n",
        "  for num in range (start, end + 1):\n",
        "    if is_prime (num):\n",
        "      print (num, end=\" \")\n",
        "\n",
        "#Example usage\n",
        "start_range = 10\n",
        "end_range = 50\n",
        "print_primes_in_range(start_range, end_range)"
      ],
      "metadata": {
        "colab": {
          "base_uri": "https://localhost:8080/"
        },
        "id": "dJn2Od795a95",
        "outputId": "d09e1fde-637a-42b4-ea71-0ad71ec750c4"
      },
      "execution_count": null,
      "outputs": [
        {
          "output_type": "stream",
          "name": "stdout",
          "text": [
            "Prime numbers between 10 and 50:\n",
            "11 13 17 19 23 29 31 37 41 43 47 "
          ]
        }
      ]
    },
    {
      "cell_type": "markdown",
      "source": [
        "13. Develop a program that counts the number of vowels in a string using a `for` loop."
      ],
      "metadata": {
        "id": "PUTRTnvZX-zB"
      }
    },
    {
      "cell_type": "code",
      "source": [
        "def count_vowels (input_string) :\n",
        "\n",
        "  vowels = ['a','e','i','o','u']\n",
        "  count = 0\n",
        "\n",
        "  for char in input_string :\n",
        "    if char in vowels :\n",
        "      count += 1\n",
        "  return count\n",
        "\n",
        "\n",
        "input_string = \"Hello world!\"\n",
        "result = count_vowels (input_string)\n",
        "print (\"The number of vowels in the string are :\", result)"
      ],
      "metadata": {
        "colab": {
          "base_uri": "https://localhost:8080/"
        },
        "id": "S-hBBWt0WbhE",
        "outputId": "01ae6c18-091c-4a91-cc26-10f7397ce75c"
      },
      "execution_count": null,
      "outputs": [
        {
          "output_type": "stream",
          "name": "stdout",
          "text": [
            "The number of vowels in the string are : 3\n"
          ]
        }
      ]
    },
    {
      "cell_type": "markdown",
      "source": [
        "14. Write a program to find the maximum element in a 2D list using a nested `for` loop."
      ],
      "metadata": {
        "id": "Se09HkdOaRCG"
      }
    },
    {
      "cell_type": "code",
      "source": [
        "def maximum_element (matrix) :\n",
        "\n",
        "  max_element = float('-inf')\n",
        "\n",
        "  for row in matrix :\n",
        "    for element in row :\n",
        "      if element > max_element :\n",
        "        max_element = element\n",
        "  return max_element\n",
        "\n",
        "matrix : [\n",
        "    [1, 2, 3],\n",
        "    [4, 5, 6],\n",
        "    [7, 8, 9]\n",
        "]\n",
        "\n",
        "\n",
        "print(\"Maximun element in the matrix :\", maximum_element(matrix))"
      ],
      "metadata": {
        "id": "QIIwy2CxdEkX",
        "colab": {
          "base_uri": "https://localhost:8080/"
        },
        "outputId": "2969a4e3-3e68-48cb-d60e-a40fc0afce3b"
      },
      "execution_count": 21,
      "outputs": [
        {
          "output_type": "stream",
          "name": "stdout",
          "text": [
            "Maximun element in the matrix : 9\n"
          ]
        }
      ]
    },
    {
      "cell_type": "markdown",
      "source": [
        "15. Create a program that removes all occurrences of a specific element from a list using a `for` loop."
      ],
      "metadata": {
        "id": "nsf9JxO7hpHh"
      }
    },
    {
      "cell_type": "code",
      "source": [
        "def remove_element(list15, target_element) :\n",
        "\n",
        "  list_updated = []\n",
        "\n",
        "  for element in list15 :\n",
        "    if element != target_element :\n",
        "      list_updated.append(element)\n",
        "  return list_updated\n",
        "\n",
        "list15 = [1,2,3,4,5,6,2,2,2,2,7,8,9,1,1,2,3,2]\n",
        "target_element = 2\n",
        "result = remove_element(list15, target_element)\n",
        "print (result)"
      ],
      "metadata": {
        "colab": {
          "base_uri": "https://localhost:8080/"
        },
        "id": "umZ8tKl8gSxx",
        "outputId": "a909a103-13c2-4097-d336-712beec7ac3d"
      },
      "execution_count": 34,
      "outputs": [
        {
          "output_type": "stream",
          "name": "stdout",
          "text": [
            "[1, 3, 4, 5, 6, 7, 8, 9, 1, 1, 3]\n"
          ]
        }
      ]
    },
    {
      "cell_type": "markdown",
      "source": [
        "16. Develop a program that generates a multiplication table for numbers from 1 to 5 using a nested `for` loop."
      ],
      "metadata": {
        "id": "z7wA9xLjmDJa"
      }
    },
    {
      "cell_type": "code",
      "source": [
        "def multiplication_table (x,y) :\n",
        "\n",
        "  for i in range (1,6) :\n",
        "    print (\"Multiplication table for :\", i)\n",
        "    for j in range (1,11) :\n",
        "      print (i, \"*\", j, \"=\", i*j)\n",
        "\n",
        "multiplication_table (1,5)"
      ],
      "metadata": {
        "colab": {
          "base_uri": "https://localhost:8080/"
        },
        "id": "F3CTy37sk66C",
        "outputId": "e6e1cac2-f56b-408e-caac-ae39f5a1d5a7"
      },
      "execution_count": 38,
      "outputs": [
        {
          "output_type": "stream",
          "name": "stdout",
          "text": [
            "Multiplication table for : 1\n",
            "1 * 1 = 1\n",
            "1 * 2 = 2\n",
            "1 * 3 = 3\n",
            "1 * 4 = 4\n",
            "1 * 5 = 5\n",
            "1 * 6 = 6\n",
            "1 * 7 = 7\n",
            "1 * 8 = 8\n",
            "1 * 9 = 9\n",
            "1 * 10 = 10\n",
            "Multiplication table for : 2\n",
            "2 * 1 = 2\n",
            "2 * 2 = 4\n",
            "2 * 3 = 6\n",
            "2 * 4 = 8\n",
            "2 * 5 = 10\n",
            "2 * 6 = 12\n",
            "2 * 7 = 14\n",
            "2 * 8 = 16\n",
            "2 * 9 = 18\n",
            "2 * 10 = 20\n",
            "Multiplication table for : 3\n",
            "3 * 1 = 3\n",
            "3 * 2 = 6\n",
            "3 * 3 = 9\n",
            "3 * 4 = 12\n",
            "3 * 5 = 15\n",
            "3 * 6 = 18\n",
            "3 * 7 = 21\n",
            "3 * 8 = 24\n",
            "3 * 9 = 27\n",
            "3 * 10 = 30\n",
            "Multiplication table for : 4\n",
            "4 * 1 = 4\n",
            "4 * 2 = 8\n",
            "4 * 3 = 12\n",
            "4 * 4 = 16\n",
            "4 * 5 = 20\n",
            "4 * 6 = 24\n",
            "4 * 7 = 28\n",
            "4 * 8 = 32\n",
            "4 * 9 = 36\n",
            "4 * 10 = 40\n",
            "Multiplication table for : 5\n",
            "5 * 1 = 5\n",
            "5 * 2 = 10\n",
            "5 * 3 = 15\n",
            "5 * 4 = 20\n",
            "5 * 5 = 25\n",
            "5 * 6 = 30\n",
            "5 * 7 = 35\n",
            "5 * 8 = 40\n",
            "5 * 9 = 45\n",
            "5 * 10 = 50\n"
          ]
        }
      ]
    },
    {
      "cell_type": "markdown",
      "source": [
        "17. Write a program that converts a list of Fahrenheit temperatures to Celsius using a `for` loop."
      ],
      "metadata": {
        "id": "qtX8SiPsrb5F"
      }
    },
    {
      "cell_type": "code",
      "source": [
        "def fahrenheit_to_celsius (fahrenheit_temperatures) :\n",
        "\n",
        "  celsius_temperatures = []\n",
        "\n",
        "  for fahrenheit in fahrenheit_temperatures :\n",
        "    celsius = (fahrenheit - 32) * 5 / 9\n",
        "    celsius_temperatures.append(celsius)\n",
        "  return celsius_temperatures\n",
        "\n",
        "#Example usage\n",
        "fahrenheit_list = [32, 44, -40, 104, 212]\n",
        "celsius_list = fahrenheit_to_celsius(fahrenheit_list)\n",
        "print(\"Fahrenheit Temperatures:\", fahrenheit_list)\n",
        "print(\"Celsius Temperatures:\", celsius_list)"
      ],
      "metadata": {
        "colab": {
          "base_uri": "https://localhost:8080/"
        },
        "id": "3nGxqhSErHe3",
        "outputId": "9985660a-e121-4a76-e272-f050708589d6"
      },
      "execution_count": 45,
      "outputs": [
        {
          "output_type": "stream",
          "name": "stdout",
          "text": [
            "Fahrenheit Temperatures: [32, 44, -40, 104, 212]\n",
            "Celsius Temperatures: [0.0, 6.666666666666667, -40.0, 40.0, 100.0]\n"
          ]
        }
      ]
    },
    {
      "cell_type": "markdown",
      "source": [
        "18. Create a program to print the common elements from two lists using a `for` loop."
      ],
      "metadata": {
        "id": "ISnetr-ms3Rf"
      }
    },
    {
      "cell_type": "code",
      "source": [
        "def common_element (list1, list2) :\n",
        "\n",
        "  common_element = []\n",
        "\n",
        "  for value in list1 :\n",
        "    if value in list2 :\n",
        "      common_element.append(value)\n",
        "  return common_element\n",
        "\n",
        "list1 = [1,2,3,4,5,6,7,8,9]\n",
        "list2 = [9,8,7,6,5,11,12,13,14,15]\n",
        "result = common_element (list1, list2)\n",
        "print (\"Common element between the list are :\", result)"
      ],
      "metadata": {
        "colab": {
          "base_uri": "https://localhost:8080/"
        },
        "id": "6i2Cd4yisgz5",
        "outputId": "f05ef9a8-8d16-4183-a01c-9b7319bac2f5"
      },
      "execution_count": 46,
      "outputs": [
        {
          "output_type": "stream",
          "name": "stdout",
          "text": [
            "Common element between the list are : [5, 6, 7, 8, 9]\n"
          ]
        }
      ]
    },
    {
      "cell_type": "markdown",
      "source": [
        "19. Develop a program that prints the pattern of right-angled triangles using a `for` loop. Use ‘*’ to draw the\n",
        "pattern"
      ],
      "metadata": {
        "id": "lYeajT3Q21F7"
      }
    },
    {
      "cell_type": "code",
      "source": [
        "def right_angled_triangle (rows) :\n",
        "\n",
        "  for i in range (1, rows+1) :\n",
        "    print (\"*\" * i)\n",
        "\n",
        "rows = 5\n",
        "right_angled_triangle (rows)"
      ],
      "metadata": {
        "colab": {
          "base_uri": "https://localhost:8080/"
        },
        "id": "gL4oSZLh2upU",
        "outputId": "7ee8b767-9b7e-4e1a-c232-f6893cbf547c"
      },
      "execution_count": 49,
      "outputs": [
        {
          "output_type": "stream",
          "name": "stdout",
          "text": [
            "*\n",
            "**\n",
            "***\n",
            "****\n",
            "*****\n"
          ]
        }
      ]
    },
    {
      "cell_type": "markdown",
      "source": [
        "20. Write a program to find the greatest common divisor (GCD) of two numbers using a `for` loop."
      ],
      "metadata": {
        "id": "5t9Zok0l7f9X"
      }
    },
    {
      "cell_type": "code",
      "source": [
        "def gcd (num1, num2) :\n",
        "\n",
        "  gcd = 1\n",
        "\n",
        "  smaller_num = min(num1, num2)\n",
        "\n",
        "  for i in range (2, smaller_num+1) :\n",
        "    if num1 % i == 0 and num2 % i == 0 :\n",
        "      gcd = i\n",
        "  return gcd\n",
        "\n",
        "num1 = 48\n",
        "num2 = 72\n",
        "result = gcd (num1, num2)\n",
        "print (result)"
      ],
      "metadata": {
        "colab": {
          "base_uri": "https://localhost:8080/"
        },
        "id": "S6Z6qyHW7Spf",
        "outputId": "0fb2112d-8119-41f2-e30e-21d028af6d9d"
      },
      "execution_count": 50,
      "outputs": [
        {
          "output_type": "stream",
          "name": "stdout",
          "text": [
            "24\n"
          ]
        }
      ]
    },
    {
      "cell_type": "markdown",
      "source": [
        "## **Advanced Level :**\n",
        "\n",
        "---\n",
        "\n"
      ],
      "metadata": {
        "id": "t9HZJ4WLK5D7"
      }
    },
    {
      "cell_type": "markdown",
      "source": [
        "21. Create a program that calculates the sum of the digits of numbers in a list using a list comprehension."
      ],
      "metadata": {
        "id": "H7wBdxKTK-3J"
      }
    },
    {
      "cell_type": "code",
      "source": [
        "#fuction to sum digits of a single number in a list\n",
        "def sum_of_digits(num) :\n",
        "\n",
        "  return sum(int(digit) for digit in str(num))\n",
        "\n",
        "#function to iterate through the list\n",
        "def sum_of_digits_list (list21) :\n",
        "\n",
        "  total_sum_all_num_combined = sum(sum_of_digits(num) for num in list21)\n",
        "  print (\"Sum of digits of all the numbers combined : \")\n",
        "  print (total_sum_all_num_combined)\n",
        "  sum_each_num = [sum_of_digits(num) for num in list21]\n",
        "  print (\"Sum of digits of each individual numbers : \")\n",
        "  print (sum_each_num)\n",
        "\n",
        "list21 = [1234, 876, 90]\n",
        "sum_of_digits_list (list21)\n",
        "print (\"Original list :\", list21)"
      ],
      "metadata": {
        "colab": {
          "base_uri": "https://localhost:8080/"
        },
        "id": "rfXK1REYKzoo",
        "outputId": "704d07bc-9e15-4250-a8f5-4541b10a530c"
      },
      "execution_count": 7,
      "outputs": [
        {
          "output_type": "stream",
          "name": "stdout",
          "text": [
            "Sum of digits of all the numbers combined : \n",
            "40\n",
            "Sum of digits of each individual numbers : \n",
            "[10, 21, 9]\n",
            "Original list : [1234, 876, 90]\n"
          ]
        }
      ]
    },
    {
      "cell_type": "markdown",
      "source": [
        "22. Write a program to find the prime factors of a given number using a `for` loop and list comprehension."
      ],
      "metadata": {
        "id": "AV2r86AaoUvt"
      }
    },
    {
      "cell_type": "code",
      "source": [
        "def prime_factors (n) :\n",
        "\n",
        "  factors = []\n",
        "\n",
        "  while n % 2 == 0 :\n",
        "    factors.append(2)\n",
        "    n //= 2\n",
        "\n",
        "  for i in range(3, int(n**0.5) + 1, 2):\n",
        "    while n % i == 0:\n",
        "      factors.append(i)\n",
        "      n //= i\n",
        "\n",
        "  if n > 2:\n",
        "    factors.append(n)\n",
        "\n",
        "  return factors\n",
        "\n",
        "n = 84\n",
        "print(\"Prime factors of\", n, \"are:\", prime_factors(n))\n"
      ],
      "metadata": {
        "colab": {
          "base_uri": "https://localhost:8080/"
        },
        "id": "JsrxU6zDlWRv",
        "outputId": "4e2ed711-ef66-469f-c8fd-c3e4ecd137e0"
      },
      "execution_count": 8,
      "outputs": [
        {
          "output_type": "stream",
          "name": "stdout",
          "text": [
            "Prime factors of 84 are: [2, 2, 3, 7]\n"
          ]
        }
      ]
    },
    {
      "cell_type": "markdown",
      "source": [
        "23. Develop a program that extracts unique elements from a list and stores them in a new list using a list comprehension."
      ],
      "metadata": {
        "id": "ljr1DegyrQ7k"
      }
    },
    {
      "cell_type": "code",
      "source": [
        "def extract_unique (list23) :\n",
        "\n",
        "  list_unique = []\n",
        "  number = [list_unique.append(x) for x in list23 if x not in list_unique]\n",
        "  return list_unique\n",
        "\n",
        "list23 = [1,2,3,4,5,6,7,8,9,1,2,3,4,6,9]\n",
        "result = extract_unique (list23)\n",
        "print (result)"
      ],
      "metadata": {
        "colab": {
          "base_uri": "https://localhost:8080/"
        },
        "id": "deyY9B0vrAsF",
        "outputId": "c8c09d16-b9ed-4f47-f155-ce469c2b31f7"
      },
      "execution_count": 6,
      "outputs": [
        {
          "output_type": "stream",
          "name": "stdout",
          "text": [
            "[1, 2, 3, 4, 5, 6, 7, 8, 9]\n"
          ]
        }
      ]
    },
    {
      "cell_type": "markdown",
      "source": [
        "24. Create a program that generates a list of all palindromic numbers up to a specified limit using a list comprehension."
      ],
      "metadata": {
        "id": "EzM1siWnaEEx"
      }
    },
    {
      "cell_type": "code",
      "source": [
        "def palindrome (x,y) :\n",
        "\n",
        "  palindrome_list = [num for num in range(x,y) if str(num) == str(num)[::-1]]\n",
        "\n",
        "  print (palindrome_list)\n",
        "\n",
        "x = 1\n",
        "y = 100\n",
        "palindrome (x,y)"
      ],
      "metadata": {
        "colab": {
          "base_uri": "https://localhost:8080/"
        },
        "id": "Bcyl_EcOWN8O",
        "outputId": "234b4c3c-176b-44e9-baf9-edc7087258f5"
      },
      "execution_count": 11,
      "outputs": [
        {
          "output_type": "stream",
          "name": "stdout",
          "text": [
            "[1, 2, 3, 4, 5, 6, 7, 8, 9, 11, 22, 33, 44, 55, 66, 77, 88, 99]\n"
          ]
        }
      ]
    },
    {
      "cell_type": "markdown",
      "source": [
        "25. Write a program to flatten a nested list using list comprehension."
      ],
      "metadata": {
        "id": "oYWIl3m14XkY"
      }
    },
    {
      "cell_type": "code",
      "source": [
        "def flatten_list (nested_list) :\n",
        "\n",
        "  return [item for sublist in nested_list for item in sublist]\n",
        "\n",
        "#Example usage\n",
        "nested_list = [[1, 2, 3], [4, 5], [6, 7, 8]]\n",
        "flattened_list = flatten_list(nested_list)\n",
        "print(\"Original nested list:\", nested_list)\n",
        "print(\"Flattened list:\", flattened_list)"
      ],
      "metadata": {
        "colab": {
          "base_uri": "https://localhost:8080/"
        },
        "id": "kC12rwts1gM_",
        "outputId": "2ff4f798-0fd9-42b2-a243-2aa35b88780b"
      },
      "execution_count": 12,
      "outputs": [
        {
          "output_type": "stream",
          "name": "stdout",
          "text": [
            "Original nested list: [[1, 2, 3], [4, 5], [6, 7, 8]]\n",
            "Flattened list: [1, 2, 3, 4, 5, 6, 7, 8]\n"
          ]
        }
      ]
    },
    {
      "cell_type": "markdown",
      "source": [
        "26. Develop a program that computes the sum of even and odd numbers in a list separately using list comprehension."
      ],
      "metadata": {
        "id": "pd8kCriI6mep"
      }
    },
    {
      "cell_type": "code",
      "source": [
        "def sum_even_odd (list26) :\n",
        "\n",
        "  sum_even = sum(x for x in list26 if x % 2 == 0)\n",
        "  sum_odd = sum(x for x in list26 if x % 2 != 0)\n",
        "\n",
        "  print (\"Sum of even numbers in the list :\", sum_even)\n",
        "  print (\"Sum of odd numbers in the list :\", sum_odd)\n",
        "\n",
        "list26 = [1,2,3,4,5,6,7,8,9]\n",
        "sum_even_odd (list26)"
      ],
      "metadata": {
        "colab": {
          "base_uri": "https://localhost:8080/"
        },
        "id": "tVX7YkVG6cY8",
        "outputId": "55ff47cd-edfe-4960-a6e1-583d89032efe"
      },
      "execution_count": 1,
      "outputs": [
        {
          "output_type": "stream",
          "name": "stdout",
          "text": [
            "Sum of even numbers in the list : 20\n",
            "Sum of odd numbers in the list : 25\n"
          ]
        }
      ]
    },
    {
      "cell_type": "markdown",
      "source": [
        "27. Create a program that generates a list of squares of odd numbers between 1 and 10 using list comprehension."
      ],
      "metadata": {
        "id": "qmYuDpLtm57U"
      }
    },
    {
      "cell_type": "code",
      "source": [
        "square_odd = [x**2 for x in range(1,11) if x % 2 != 0]\n",
        "\n",
        "print (\"A list of squares of odd numbers between 1 and 10 :\", square_odd)"
      ],
      "metadata": {
        "colab": {
          "base_uri": "https://localhost:8080/"
        },
        "id": "HUUUJwO0mjua",
        "outputId": "1d3b8a50-5c57-4605-c6eb-4759abb87c8a"
      },
      "execution_count": 4,
      "outputs": [
        {
          "output_type": "stream",
          "name": "stdout",
          "text": [
            "A list of squares of odd numbers between 1 and 10 : [1, 9, 25, 49, 81]\n"
          ]
        }
      ]
    },
    {
      "cell_type": "markdown",
      "source": [
        "28. Write a program that combines two lists into a dictionary using list comprehension."
      ],
      "metadata": {
        "id": "GcMOqMouovXb"
      }
    },
    {
      "cell_type": "code",
      "source": [
        "list1 = ['a', 'b', 'c']\n",
        "list2 = [1, 2, 3]\n",
        "\n",
        "combined_dict = {list1[i]: list2[i] for i in range(min(len(list1), len(list2)))}\n",
        "\n",
        "print (combined_dict)"
      ],
      "metadata": {
        "colab": {
          "base_uri": "https://localhost:8080/"
        },
        "id": "xoaVYdmmnwHb",
        "outputId": "49f2d880-e033-4cfd-f8a8-5a0d49be50c1"
      },
      "execution_count": 2,
      "outputs": [
        {
          "output_type": "stream",
          "name": "stdout",
          "text": [
            "{'a': 1, 'b': 2, 'c': 3}\n"
          ]
        }
      ]
    },
    {
      "cell_type": "markdown",
      "source": [
        "29. Develop a program that extracts the vowels from a string and stores them in a list using list comprehension."
      ],
      "metadata": {
        "id": "qKc3Rg5RDkqs"
      }
    },
    {
      "cell_type": "code",
      "source": [
        "def extract_vowels (input_string) :\n",
        "\n",
        "  vowels = ['a','e','i','o','u']\n",
        "\n",
        "  vowel_list = [char for char in input_string if char in vowels]\n",
        "\n",
        "  print (vowel_list)\n",
        "\n",
        "input_string  = \"Hello world!\"\n",
        "extract_vowels (input_string)"
      ],
      "metadata": {
        "colab": {
          "base_uri": "https://localhost:8080/"
        },
        "id": "xgSVlP0B1mKH",
        "outputId": "041c89b0-1343-4943-99c5-f926302afa6a"
      },
      "execution_count": 4,
      "outputs": [
        {
          "output_type": "stream",
          "name": "stdout",
          "text": [
            "['e', 'o', 'o']\n"
          ]
        }
      ]
    },
    {
      "cell_type": "markdown",
      "source": [
        "30. Create a program that removes all non-numeric characters from a list of strings using list comprehension."
      ],
      "metadata": {
        "id": "9JfwaKoQEiec"
      }
    },
    {
      "cell_type": "code",
      "source": [
        "def remove_nonnumeric (list_of_strings) :\n",
        "\n",
        "  new_list = [''.join(x for x in value if x.isdigit()) for value in list_of_strings]\n",
        "\n",
        "  print (new_list)\n",
        "\n",
        "list_of_strings = [\"Hello123,\", \"world456!\", \"hello789,\", \"universe012345!!!\"]\n",
        "remove_nonnumeric (list_of_strings)"
      ],
      "metadata": {
        "colab": {
          "base_uri": "https://localhost:8080/"
        },
        "id": "XwgQKhOCEZ54",
        "outputId": "642c0665-837e-4e14-8150-0236d7cf5810"
      },
      "execution_count": 10,
      "outputs": [
        {
          "output_type": "stream",
          "name": "stdout",
          "text": [
            "['123', '456', '789', '012345']\n"
          ]
        }
      ]
    },
    {
      "cell_type": "markdown",
      "source": [
        "## **Challenge Level :**\n",
        "\n",
        "---\n",
        "\n"
      ],
      "metadata": {
        "id": "LylRxcpSL8MG"
      }
    },
    {
      "cell_type": "markdown",
      "source": [
        "31. Write a program to generate a list of prime numbers using the Sieve of Eratosthenes algorithm and list comprehension."
      ],
      "metadata": {
        "id": "WO3JI_ldMB7M"
      }
    },
    {
      "cell_type": "code",
      "source": [
        "def sieve_of_eratosthenes (n) :\n",
        "\n",
        "  primes = [True] * (n+1)\n",
        "  primes[0] = primes[1] = False\n",
        "\n",
        "  for i in range(2, int(n**0.5) + 1) :\n",
        "    if primes[i]:\n",
        "      for j in range(i*i, n+1, i) :\n",
        "        primes[j] = False\n",
        "\n",
        "  prime_numbers = [i for i in range(2, n+1) if primes[i]]\n",
        "\n",
        "  return prime_numbers\n",
        "\n",
        "prime_numbers_up_to_50 = sieve_of_eratosthenes(50)\n",
        "print (\"Prime numbers up to 50:\", prime_numbers_up_to_50)"
      ],
      "metadata": {
        "colab": {
          "base_uri": "https://localhost:8080/"
        },
        "id": "Rw7mf7ZtF84X",
        "outputId": "c0d896da-4a04-4da3-857e-af062b3145a2"
      },
      "execution_count": 12,
      "outputs": [
        {
          "output_type": "stream",
          "name": "stdout",
          "text": [
            "Prime numbers up to 50: [2, 3, 5, 7, 11, 13, 17, 19, 23, 29, 31, 37, 41, 43, 47]\n"
          ]
        }
      ]
    },
    {
      "cell_type": "markdown",
      "source": [
        "32. Create a program that generates a list of all Pythagorean triplets up to a specified limit using list comprehension."
      ],
      "metadata": {
        "id": "-5Mb1l6SNWHh"
      }
    },
    {
      "cell_type": "code",
      "source": [
        "def pythagorean_triplets(limit):\n",
        "\n",
        "  triplets = [(a, b, c) for a in range(1, limit+1)\n",
        "                        for b in range(a, limit+1)\n",
        "                        for c in range(b, limit+1)\n",
        "                        if a**2 + b**2 == c**2]\n",
        "  return triplets\n",
        "\n",
        "limit = 20\n",
        "pythagorean_triplets_up_to_limit = pythagorean_triplets(limit)\n",
        "print(\"Pythagorean triplets up to limit\", limit, \":\", pythagorean_triplets_up_to_limit)\n"
      ],
      "metadata": {
        "colab": {
          "base_uri": "https://localhost:8080/"
        },
        "id": "rmwkLxVxNOYe",
        "outputId": "8ad0cae2-9fd0-485b-cc3b-512e7ae3670c"
      },
      "execution_count": 15,
      "outputs": [
        {
          "output_type": "stream",
          "name": "stdout",
          "text": [
            "Pythagorean triplets up to limit 20 : [(3, 4, 5), (5, 12, 13), (6, 8, 10), (8, 15, 17), (9, 12, 15), (12, 16, 20)]\n"
          ]
        }
      ]
    },
    {
      "cell_type": "markdown",
      "source": [
        "33. Develop a program that generates a list of all possible combinations of two lists using list comprehension."
      ],
      "metadata": {
        "id": "j3znhU4FRzOt"
      }
    },
    {
      "cell_type": "code",
      "source": [
        "def generate_combinations (list1, list2) :\n",
        "\n",
        "  combinations = [(x, y) for x in list1 for y in list2]\n",
        "  return combinations\n",
        "\n",
        "\n",
        "list1 = [1, 2, 3]\n",
        "list2 = ['a', 'b', 'c']\n",
        "all_combinations = generate_combinations(list1, list2)\n",
        "print(\"All possible combinations:\", all_combinations)"
      ],
      "metadata": {
        "colab": {
          "base_uri": "https://localhost:8080/"
        },
        "id": "94QMsXv0Rypn",
        "outputId": "d5f1564f-4e66-4d25-8032-a0bc7d2e1f74"
      },
      "execution_count": 3,
      "outputs": [
        {
          "output_type": "stream",
          "name": "stdout",
          "text": [
            "All possible combinations: [(1, 'a'), (1, 'b'), (1, 'c'), (2, 'a'), (2, 'b'), (2, 'c'), (3, 'a'), (3, 'b'), (3, 'c')]\n"
          ]
        }
      ]
    },
    {
      "cell_type": "markdown",
      "source": [
        "34. Write a program that calculates the mean, median, and mode of a list of numbers using list comprehension."
      ],
      "metadata": {
        "id": "ZCuOkOaVR2dt"
      }
    },
    {
      "cell_type": "code",
      "source": [
        "from collections import Counter\n",
        "\n",
        "def calculate_mean (numbers) :\n",
        "\n",
        "  mean = sum(numbers) / len(numbers)\n",
        "  return mean\n",
        "\n",
        "def calculate_median (numbers) :\n",
        "\n",
        "  sorted_numbers = sorted(numbers)\n",
        "  n = len(sorted_numbers)\n",
        "  median = (sorted_numbers[n//2] + sorted_numbers[(n-1)//2]) / 2 if n % 2 == 0 else sorted_numbers[n//2]\n",
        "  return median\n",
        "\n",
        "def calculate_mode (numbers) :\n",
        "\n",
        "  frequency = Counter(numbers)\n",
        "  max_frequency = max(frequency.values())\n",
        "  mode = [num for num, freq in frequency.items() if freq == max_frequency]\n",
        "  return mode\n",
        "\n",
        "\n",
        "numbers = [1, 2, 3, 4, 5, 5, 6, 6, 7, 8, 9]\n",
        "mean = calculate_mean(numbers)\n",
        "median = calculate_median(numbers)\n",
        "mode = calculate_mode(numbers)\n",
        "\n",
        "print(\"Mean:\", mean)\n",
        "print(\"Median:\", median)\n",
        "print(\"Mode:\", mode)"
      ],
      "metadata": {
        "colab": {
          "base_uri": "https://localhost:8080/"
        },
        "id": "TsBR6GpPRyb8",
        "outputId": "2cf8c321-f73b-4982-d67d-1e80ae1e2ebe"
      },
      "execution_count": 4,
      "outputs": [
        {
          "output_type": "stream",
          "name": "stdout",
          "text": [
            "Mean: 5.090909090909091\n",
            "Median: 5\n",
            "Mode: [5, 6]\n"
          ]
        }
      ]
    },
    {
      "cell_type": "markdown",
      "source": [
        "35. Create a program that generates Pascal's triangle up to a specified number of rows using list comprehension."
      ],
      "metadata": {
        "id": "tmJjGn1BRN5S"
      }
    },
    {
      "cell_type": "code",
      "source": [
        "def generate_pascals_triangle (num_rows) :\n",
        "  if num_rows <= 0:\n",
        "    return []\n",
        "\n",
        "  triangle = [[1]]\n",
        "\n",
        "  for _ in range (1, num_rows) :\n",
        "    row = [1] + [triangle[-1][i] + triangle[-1][i+1] for i in range(len(triangle[-1])-1)] + [1]\n",
        "    triangle.append(row)\n",
        "\n",
        "  return triangle\n",
        "\n",
        "def display_triangle (triangle) :\n",
        "    for row in triangle:\n",
        "        print(\" \".join(map(str, row)).center(len(triangle[-1])*2))\n",
        "\n",
        "\n",
        "num_rows = 6\n",
        "pascals_triangle = generate_pascals_triangle(num_rows)\n",
        "display_triangle(pascals_triangle)"
      ],
      "metadata": {
        "colab": {
          "base_uri": "https://localhost:8080/"
        },
        "id": "yM0_IGdUOxt-",
        "outputId": "4df093b0-ab47-48b7-a15a-7228d546e046"
      },
      "execution_count": 5,
      "outputs": [
        {
          "output_type": "stream",
          "name": "stdout",
          "text": [
            "     1      \n",
            "    1 1     \n",
            "   1 2 1    \n",
            "  1 3 3 1   \n",
            " 1 4 6 4 1  \n",
            "1 5 10 10 5 1\n"
          ]
        }
      ]
    },
    {
      "cell_type": "markdown",
      "source": [
        "36. Develop a program that calculates the sum of the digits of a factorial of numbers from 1 to 5 using list comprehension."
      ],
      "metadata": {
        "id": "dCWUWD5xuPFu"
      }
    },
    {
      "cell_type": "code",
      "source": [
        "def factorial (n) :\n",
        "\n",
        "  if n <= 1 :\n",
        "    return 1\n",
        "  else :\n",
        "    return n * factorial (n-1)\n",
        "\n",
        "def sum_digits (n) :\n",
        "\n",
        "  return sum(int(digit) for digit in str(n))\n",
        "\n",
        "def sum_digits_factorial (n) :\n",
        "\n",
        "  sum_digit = [sum_digits(factorial(i)) for i in range(1,n+1)]\n",
        "  print (sum_digit)\n",
        "\n",
        "n = 5\n",
        "sum_digits_factorial (n)"
      ],
      "metadata": {
        "colab": {
          "base_uri": "https://localhost:8080/"
        },
        "id": "cJ_xDhxptvis",
        "outputId": "17188828-0358-4e2b-923e-5fc2b07389ce"
      },
      "execution_count": 18,
      "outputs": [
        {
          "output_type": "stream",
          "name": "stdout",
          "text": [
            "[1, 2, 6, 6, 3]\n"
          ]
        }
      ]
    },
    {
      "cell_type": "markdown",
      "source": [
        "37. Write a program that finds the longest word in a sentence using list comprehension."
      ],
      "metadata": {
        "id": "kzAXsmGc4FnR"
      }
    },
    {
      "cell_type": "code",
      "source": [
        "def longest_word (input_statement) :\n",
        "\n",
        "  words = input_statement.split()\n",
        "\n",
        "  longest_word = max((word for word in words), key=len)\n",
        "  print (longest_word)\n",
        "\n",
        "input_statement = \"Hello world, this is an example statement.\"\n",
        "longest_word (input_statement)"
      ],
      "metadata": {
        "colab": {
          "base_uri": "https://localhost:8080/"
        },
        "id": "iRaeJ47pxCYR",
        "outputId": "d6844de4-5db6-4e13-f13d-515692a0c071"
      },
      "execution_count": 23,
      "outputs": [
        {
          "output_type": "stream",
          "name": "stdout",
          "text": [
            "statement.\n"
          ]
        }
      ]
    },
    {
      "cell_type": "markdown",
      "source": [
        "38. Create a program that filters a list of strings to include only those with more than three vowels using list comprehension."
      ],
      "metadata": {
        "id": "AYadWIVNACKH"
      }
    },
    {
      "cell_type": "code",
      "source": [
        "def sum_count_vowels (word) :\n",
        "\n",
        "  vowels = ['a','e','i','o','u','A','E','I','O','U']\n",
        "  count_vowels = sum(1 for char in word if char in vowels)\n",
        "  return count_vowels\n",
        "\n",
        "def filter_vowels (input_statement) :\n",
        "\n",
        "  words = input_statement.split()\n",
        "  vowel_list = [word for word in words if sum_count_vowels (word) >= 3]\n",
        "  print (vowel_list)\n",
        "\n",
        "\n",
        "input_statement = \"Hello world, this is an example statement to create a program that filters a list of strings to include only those with more than three vowels using list comprehension.\"\n",
        "print(\"List of strings including three or more vowels :\")\n",
        "filter_vowels (input_statement)"
      ],
      "metadata": {
        "colab": {
          "base_uri": "https://localhost:8080/"
        },
        "id": "1RkOSIQu8tgq",
        "outputId": "a704651c-ee95-4b01-d392-4ab161a1a2ed"
      },
      "execution_count": 30,
      "outputs": [
        {
          "output_type": "stream",
          "name": "stdout",
          "text": [
            "List of strings including three or more vowels :\n",
            "['example', 'statement', 'create', 'include', 'comprehension.']\n"
          ]
        }
      ]
    },
    {
      "cell_type": "markdown",
      "source": [
        "39. Develop a program that calculates the sum of the digits of numbers from 1 to 1000 using list comprehension."
      ],
      "metadata": {
        "id": "yhH58ea7F6Wp"
      }
    },
    {
      "cell_type": "code",
      "source": [
        "def sum_of_digits (n) :\n",
        "\n",
        "  return sum(int(digit) for digit in str(n))\n",
        "\n",
        "sum_of_digits_list = [sum_of_digits(i) for i in range(1, 1001)]\n",
        "total_sum = sum(sum_of_digits_list)\n",
        "\n",
        "print(\"Total sum of digits from numbers 1 to 1000:\", total_sum)"
      ],
      "metadata": {
        "colab": {
          "base_uri": "https://localhost:8080/"
        },
        "id": "Xf9a2KmXFvXy",
        "outputId": "1363d14b-9d18-4c90-97f9-9ba05e5604e7"
      },
      "execution_count": 27,
      "outputs": [
        {
          "output_type": "stream",
          "name": "stdout",
          "text": [
            "Total sum of digits from numbers 1 to 1000: 13501\n"
          ]
        }
      ]
    },
    {
      "cell_type": "markdown",
      "source": [
        "40. Write a program that generates a list of prime palindromic numbers using list comprehension."
      ],
      "metadata": {
        "id": "MumhqqmyGjIu"
      }
    },
    {
      "cell_type": "code",
      "source": [
        "def is_prime (n) :\n",
        "\n",
        "  if n <= 1:\n",
        "    return False\n",
        "\n",
        "  elif n <= 3:\n",
        "    return True\n",
        "\n",
        "  elif n % 2 == 0 or n % 3 == 0:\n",
        "    return False\n",
        "\n",
        "  i = 5\n",
        "\n",
        "  while i * i <= n:\n",
        "    if n % i == 0 or n % (i + 2) == 0:\n",
        "        return False\n",
        "    i += 6\n",
        "  return True\n",
        "\n",
        "def generate_palindromic_numbers () :\n",
        "\n",
        "    palindromic_numbers = [num for num in range(1, 1001) if str(num) == str(num)[::-1]]\n",
        "    return palindromic_numbers\n",
        "\n",
        "prime_palindromic_numbers = [num for num in generate_palindromic_numbers() if is_prime(num)]\n",
        "print(\"Prime palindromic numbers:\", prime_palindromic_numbers)"
      ],
      "metadata": {
        "colab": {
          "base_uri": "https://localhost:8080/"
        },
        "id": "TaJSdD5nGLrR",
        "outputId": "f8e73468-53ee-4818-d1fa-8655ba030cc8"
      },
      "execution_count": 3,
      "outputs": [
        {
          "output_type": "stream",
          "name": "stdout",
          "text": [
            "Prime palindromic numbers: [2, 3, 5, 7, 11, 101, 131, 151, 181, 191, 313, 353, 373, 383, 727, 757, 787, 797, 919, 929]\n"
          ]
        }
      ]
    },
    {
      "cell_type": "code",
      "source": [],
      "metadata": {
        "id": "W-3Ns-ymIcmL"
      },
      "execution_count": null,
      "outputs": []
    }
  ]
}