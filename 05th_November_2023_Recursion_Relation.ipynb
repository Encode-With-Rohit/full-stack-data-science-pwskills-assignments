{
  "nbformat": 4,
  "nbformat_minor": 0,
  "metadata": {
    "colab": {
      "provenance": []
    },
    "kernelspec": {
      "name": "python3",
      "display_name": "Python 3"
    },
    "language_info": {
      "name": "python"
    }
  },
  "cells": [
    {
      "cell_type": "markdown",
      "source": [
        "1. Find the value of T(2) for the recurrence relation T(n) = 3T(n-1) + 12n, given that T(0)=5."
      ],
      "metadata": {
        "id": "EGPqAKfpyrv6"
      }
    },
    {
      "cell_type": "code",
      "execution_count": 6,
      "metadata": {
        "colab": {
          "base_uri": "https://localhost:8080/"
        },
        "id": "7OuGtPbPvVzV",
        "outputId": "67cebba2-23f8-47a3-cba7-e5aaf22cf803"
      },
      "outputs": [
        {
          "output_type": "execute_result",
          "data": {
            "text/plain": [
              "105"
            ]
          },
          "metadata": {},
          "execution_count": 6
        }
      ],
      "source": [
        "def T(n) :\n",
        "  if n == 0 :\n",
        "   return 5\n",
        "  else:\n",
        "    return 3 * T(n - 1) + 12 * n\n",
        "\n",
        "result = T(2)\n",
        "result"
      ]
    },
    {
      "cell_type": "markdown",
      "source": [
        "2. Given a recurrence relation, solve it using the substitution method :\n",
        "\n",
        "a. T(n) = T(n-1) + c\n",
        "\n",
        "b. T(n) = 2T(n/2) + n\n",
        "\n",
        "c. T(n) = 2T(n/2) + c\n",
        "\n",
        "d. T(n) = T(n/2) + c"
      ],
      "metadata": {
        "id": "EQwWKKzDyzml"
      }
    },
    {
      "cell_type": "code",
      "source": [
        "def T(n) :\n",
        "\n",
        "  if n == 0 :\n",
        "    return 5\n",
        "  else :\n",
        "    return T(n-1) + c\n",
        "\n",
        "n = 2\n",
        "c = 10\n",
        "T(n)"
      ],
      "metadata": {
        "colab": {
          "base_uri": "https://localhost:8080/"
        },
        "id": "gkWTwf0Qy8uJ",
        "outputId": "20ab0021-6462-4113-df07-4eefed8f74ae"
      },
      "execution_count": 17,
      "outputs": [
        {
          "output_type": "execute_result",
          "data": {
            "text/plain": [
              "25"
            ]
          },
          "metadata": {},
          "execution_count": 17
        }
      ]
    },
    {
      "cell_type": "code",
      "source": [
        "def T(n) :\n",
        "\n",
        "  if n == 0 :\n",
        "    return 5\n",
        "  else :\n",
        "    return 2*T(n//2) + n\n",
        "\n",
        "n = 2\n",
        "T(n)"
      ],
      "metadata": {
        "colab": {
          "base_uri": "https://localhost:8080/"
        },
        "id": "8NMmKRxi6NRq",
        "outputId": "ed4122f4-cf0b-4e1d-c4b2-a9ac926b4880"
      },
      "execution_count": 14,
      "outputs": [
        {
          "output_type": "execute_result",
          "data": {
            "text/plain": [
              "24"
            ]
          },
          "metadata": {},
          "execution_count": 14
        }
      ]
    },
    {
      "cell_type": "code",
      "source": [
        "def T(n) :\n",
        "\n",
        "  if n == 0 :\n",
        "    return 5\n",
        "  else :\n",
        "    return 2*T(n//2) + c\n",
        "\n",
        "n = 2\n",
        "c = 10\n",
        "T(n)"
      ],
      "metadata": {
        "colab": {
          "base_uri": "https://localhost:8080/"
        },
        "id": "Uu9uGFJs-tf3",
        "outputId": "7b525b54-d14b-481d-d542-56156590c12b"
      },
      "execution_count": 18,
      "outputs": [
        {
          "output_type": "execute_result",
          "data": {
            "text/plain": [
              "50"
            ]
          },
          "metadata": {},
          "execution_count": 18
        }
      ]
    },
    {
      "cell_type": "code",
      "source": [
        "def T(n) :\n",
        "\n",
        "  if n == 0 :\n",
        "    return 5\n",
        "  else :\n",
        "    return T(n//2) + c\n",
        "\n",
        "n = 2\n",
        "c = 10\n",
        "T(n)"
      ],
      "metadata": {
        "colab": {
          "base_uri": "https://localhost:8080/"
        },
        "id": "1RrMAZ40BcNO",
        "outputId": "e96778b6-c9fb-4ade-dec6-7b0674952d24"
      },
      "execution_count": 19,
      "outputs": [
        {
          "output_type": "execute_result",
          "data": {
            "text/plain": [
              "25"
            ]
          },
          "metadata": {},
          "execution_count": 19
        }
      ]
    },
    {
      "cell_type": "markdown",
      "source": [
        "3. Given a recurrence relation, solve it using the recursive tree approach :\n",
        "\n",
        "a. T(n) = 2T(n-1) +1\n",
        "\n",
        "b. T(n) = 2T(n/2) + n"
      ],
      "metadata": {
        "id": "DiLq66t9CnNw"
      }
    },
    {
      "cell_type": "code",
      "source": [
        "def T(n):\n",
        "  return 2**n - 1\n",
        "\n",
        "#Computing T(5) as an example\n",
        "n = 5\n",
        "result = T(n)\n",
        "result"
      ],
      "metadata": {
        "colab": {
          "base_uri": "https://localhost:8080/"
        },
        "id": "O66BTs4jBo5x",
        "outputId": "89660110-74af-40c2-bc39-f0608f325fd0"
      },
      "execution_count": 20,
      "outputs": [
        {
          "output_type": "execute_result",
          "data": {
            "text/plain": [
              "31"
            ]
          },
          "metadata": {},
          "execution_count": 20
        }
      ]
    },
    {
      "cell_type": "code",
      "source": [
        "import math\n",
        "\n",
        "def T(n):\n",
        "  if n == 1:\n",
        "    return 1\n",
        "  return 2 * T(n // 2) + n\n",
        "\n",
        "#Computing T(8) as an example\n",
        "n = 8\n",
        "result = T(n)\n",
        "result"
      ],
      "metadata": {
        "colab": {
          "base_uri": "https://localhost:8080/"
        },
        "id": "-OX9RjfnC8T5",
        "outputId": "330e1173-04f2-41c6-a16c-be6fbc58c03c"
      },
      "execution_count": 22,
      "outputs": [
        {
          "output_type": "execute_result",
          "data": {
            "text/plain": [
              "32"
            ]
          },
          "metadata": {},
          "execution_count": 22
        }
      ]
    },
    {
      "cell_type": "code",
      "source": [],
      "metadata": {
        "id": "AXvx-4wtDcD6"
      },
      "execution_count": null,
      "outputs": []
    }
  ]
}