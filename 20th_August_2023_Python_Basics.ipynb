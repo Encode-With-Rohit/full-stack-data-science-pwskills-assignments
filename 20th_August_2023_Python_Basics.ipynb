{
  "nbformat": 4,
  "nbformat_minor": 0,
  "metadata": {
    "colab": {
      "provenance": []
    },
    "kernelspec": {
      "name": "python3",
      "display_name": "Python 3"
    },
    "language_info": {
      "name": "python"
    }
  },
  "cells": [
    {
      "cell_type": "markdown",
      "source": [
        "## **String Based Assignment Problem**"
      ],
      "metadata": {
        "id": "lqprmzh-563C"
      }
    },
    {
      "cell_type": "markdown",
      "source": [
        "1. Write a program to reverse a string.\n"
      ],
      "metadata": {
        "id": "c97fj-TWhafE"
      }
    },
    {
      "cell_type": "code",
      "execution_count": null,
      "metadata": {
        "id": "LVK7qbIwHLum",
        "colab": {
          "base_uri": "https://localhost:8080/"
        },
        "outputId": "b9c2d61e-2190-4eaa-87c6-79a3c33cbb9f"
      },
      "outputs": [
        {
          "output_type": "stream",
          "name": "stdout",
          "text": [
            "dlrow olleh\n"
          ]
        }
      ],
      "source": [
        "#Defining a function called reverse_str that takes 'i_str' as its parameter.\n",
        "def reverse_str(i_str) :\n",
        "\n",
        "  #Initializing an empty string called r_str for storing reversed characters.\n",
        "  r_str = \"\"\n",
        "\n",
        "  #Starting a loop that iterates through each character in the 'i_str'.\n",
        "  for char in i_str :\n",
        "\n",
        "    #Concatenating the current character with the existing r_str & effectively adding the current character to the beginning of the reversed string.\n",
        "    r_str = char + r_str\n",
        "\n",
        "  #After the loop is done, return the reversed_string as the output of the function.\n",
        "  return r_str\n",
        "\n",
        "#Storing a string to i_str which we need to reverse\n",
        "i_str = \"hello world\"\n",
        "\n",
        "#Calling the def fun 'reverse_str' and storing it in a variable r_str and printing the output with the help of 'r_str'\n",
        "r_str = reverse_str(i_str)\n",
        "print (r_str)"
      ]
    },
    {
      "cell_type": "markdown",
      "source": [
        "2. Check if a string is a palindrome."
      ],
      "metadata": {
        "id": "75L7VKWQhveo"
      }
    },
    {
      "cell_type": "code",
      "source": [
        "#Defining a function to check if a input string is a palindrome or not.\n",
        "def is_palindrome(input_string) :\n",
        "\n",
        "  #Converting the string into lower case\n",
        "  lower_input_string = input_string.lower()\n",
        "\n",
        "  #Checking if the input string is same as if it read backwards and printing output in boolean form\n",
        "  if lower_input_string == lower_input_string[::-1] :\n",
        "    print (True)\n",
        "  else :\n",
        "    print (False)\n",
        "\n",
        "#Providing a string to the 'input_string' variable and calling the def fun 'is_palindrome' to check if it is palindrome or not.\n",
        "input_string = \"dodod\"\n",
        "is_palindrome(input_string)"
      ],
      "metadata": {
        "id": "Tn_F3ldGOfnR",
        "colab": {
          "base_uri": "https://localhost:8080/"
        },
        "outputId": "c66c1bf4-1ed3-472b-e223-8baf5f943626"
      },
      "execution_count": null,
      "outputs": [
        {
          "output_type": "stream",
          "name": "stdout",
          "text": [
            "True\n"
          ]
        }
      ]
    },
    {
      "cell_type": "markdown",
      "source": [
        "3. Convert a string to uppercase."
      ],
      "metadata": {
        "id": "DYudO2hnK8Y3"
      }
    },
    {
      "cell_type": "code",
      "source": [
        "#Taking input from the user\n",
        "input_string = input(\"Enter a string : \")\n",
        "\n",
        "#Converting the input to upper case and storing it in a different variable\n",
        "upper_input_string = input_string.upper()\n",
        "\n",
        "#Printing the output in uppercase\n",
        "print (\"Uppercase :\",upper_input_string)"
      ],
      "metadata": {
        "colab": {
          "base_uri": "https://localhost:8080/"
        },
        "id": "AUZwOGpduIwQ",
        "outputId": "5e0cee07-aec0-4c82-ddc0-dc08f75a770f"
      },
      "execution_count": null,
      "outputs": [
        {
          "output_type": "stream",
          "name": "stdout",
          "text": [
            "Enter a string : qwerty\n",
            "Uppercase : QWERTY\n"
          ]
        }
      ]
    },
    {
      "cell_type": "markdown",
      "source": [
        "4. Convert a string to lowercase."
      ],
      "metadata": {
        "id": "WkpgHgfyLBKn"
      }
    },
    {
      "cell_type": "code",
      "source": [
        "#Taking input from the user\n",
        "input_string = input(\"Enter a string : \")\n",
        "\n",
        "#Converting the input to upper case and storing it in a different variable\n",
        "lower_input_string = input_string.lower()\n",
        "\n",
        "#Printing the output in uppercase\n",
        "print (\"Lowercase :\",lower_input_string)"
      ],
      "metadata": {
        "colab": {
          "base_uri": "https://localhost:8080/"
        },
        "id": "zOHvQKZfx6qK",
        "outputId": "2821ff50-60b4-4472-8ae3-047227af5b25"
      },
      "execution_count": null,
      "outputs": [
        {
          "output_type": "stream",
          "name": "stdout",
          "text": [
            "Enter a string : QWERTY\n",
            "Lowercase : qwerty\n"
          ]
        }
      ]
    },
    {
      "cell_type": "markdown",
      "source": [
        "5. Count the number of vowels in a string."
      ],
      "metadata": {
        "id": "TwvUYdxWLFm-"
      }
    },
    {
      "cell_type": "code",
      "source": [
        "#Taking input statement from the user\n",
        "input_statement = input(\"Enter a statement to check no of vowels : \")\n",
        "\n",
        "#Converting all the characters in the statement in lower case\n",
        "input_statement = input_statement.lower()\n",
        "\n",
        "#Creating a list consisting all the 5 vowels\n",
        "vowel = ['a','e','i','o','u']\n",
        "\n",
        "#Creating a variable to count no of variable in the statement having iniatial value as 0\n",
        "no_of_vowel = 0\n",
        "\n",
        "#Iterating through the characters of the input_statement\n",
        "for char in input_statement :\n",
        "\n",
        "  #Checking if iterated character is same as the 5 vowels in the list 'vowel' and if so adding +1 to the variable 'no_of_vowel' one by one\n",
        "  if char in vowel :\n",
        "    no_of_vowel += 1\n",
        "\n",
        "print(\"No of vowels in the statement :\",no_of_vowel)"
      ],
      "metadata": {
        "colab": {
          "base_uri": "https://localhost:8080/"
        },
        "id": "IOTL5H4dzIx2",
        "outputId": "93ca641c-cab3-40f6-f8bb-7e9b036b3122"
      },
      "execution_count": null,
      "outputs": [
        {
          "output_type": "stream",
          "name": "stdout",
          "text": [
            "Enter a statement to check no of vowels : qwerty\n",
            "No of vowels in the statement : 1\n"
          ]
        }
      ]
    },
    {
      "cell_type": "markdown",
      "source": [
        "6. Count the number of consonants in a string."
      ],
      "metadata": {
        "id": "HZcVbKnZLI2m"
      }
    },
    {
      "cell_type": "code",
      "source": [
        "#Take input statement from the user\n",
        "input_statement = input(\"Enter a statement to check no of consonant : \")\n",
        "\n",
        "#Converting all the characters in the statement in lower case\n",
        "input_statement = input_statement.lower()\n",
        "\n",
        "#Creating a list consisting all the 5 vowels\n",
        "vowel = ['a','e','i','o','u', ' ']\n",
        "\n",
        "#Creating a variable to count no of variable in the statement having iniatial value as 0\n",
        "no_of_consonant = 0\n",
        "\n",
        "#Iterating through the characters of the input_statement\n",
        "for char in input_statement :\n",
        "\n",
        "  #Checking if iterated character is not same as the 5 vowels & ' ' in the list 'vowel' and if so adding +1 to the variable 'no_of_vowel' one by one\n",
        "  if char not in vowel :\n",
        "    no_of_consonant += 1\n",
        "\n",
        "print(\"No of consonant in the statement :\",no_of_consonant)"
      ],
      "metadata": {
        "colab": {
          "base_uri": "https://localhost:8080/"
        },
        "id": "_dbICDNFCMGs",
        "outputId": "b4df6cfd-f561-4193-b509-9b0dd2d0c6fc"
      },
      "execution_count": null,
      "outputs": [
        {
          "output_type": "stream",
          "name": "stdout",
          "text": [
            "Enter a statement to check no of consonant : qwerty\n",
            "No of consonant in the statement : 5\n"
          ]
        }
      ]
    },
    {
      "cell_type": "markdown",
      "source": [
        "7. Remove all whitespaces from a string."
      ],
      "metadata": {
        "id": "vE3h871ELN5l"
      }
    },
    {
      "cell_type": "code",
      "source": [
        "#Defining a def fun 'remove_whitespace(input_statement)'\n",
        "def remove_whitespace(input_statement) :\n",
        "\n",
        "  #Created an empty string variable\n",
        "  result = \"\"\n",
        "\n",
        "  #Iterating though each character of the 'input_statement'\n",
        "  for char in input_statement :\n",
        "\n",
        "    #If character is not equal to a whitespace, we're adding those character to the result variable one by one\n",
        "    if char != \" \" :\n",
        "      result = result + char\n",
        "  return result\n",
        "\n",
        "#Providing an 'input statement'\n",
        "input_statement = \"Hey, how are you doing?\"\n",
        "\n",
        "#Calling the def fun 'remove_whitespace(input_statement)' and storing it in a variable 'space_removed_statement'\n",
        "space_removed_statement = remove_whitespace(input_statement)\n",
        "\n",
        "#Printing the result 'space_removed_statement'\n",
        "print (space_removed_statement)"
      ],
      "metadata": {
        "id": "HaMJesXOZ8VD",
        "colab": {
          "base_uri": "https://localhost:8080/"
        },
        "outputId": "bd39bfcc-0a39-4425-e563-8ae84952c246"
      },
      "execution_count": null,
      "outputs": [
        {
          "output_type": "stream",
          "name": "stdout",
          "text": [
            "Hey,howareyoudoing?\n"
          ]
        }
      ]
    },
    {
      "cell_type": "markdown",
      "source": [
        "8. Find the length of a string without using the `len()` function."
      ],
      "metadata": {
        "id": "7tlQeIoVOr5h"
      }
    },
    {
      "cell_type": "code",
      "source": [
        "#Defining a def fun 'length(input_statement)'\n",
        "def length(input_statement) :\n",
        "\n",
        "  #Creating a variable 'length(input_statement)' having initial value as 0\n",
        "  length_input_statement = 0\n",
        "\n",
        "  #Iterating though each character of the 'input_statement' and adding +1 to the variable 'length(input_statement)' one by one\n",
        "  for char in input_statement :\n",
        "    length_input_statement += 1\n",
        "  return length_input_statement\n",
        "\n",
        "#Providing an input statement\n",
        "input_statement = \"Hey, how are you doing?\"\n",
        "\n",
        "#Calling the def fun 'length(input_statement)' and storing it in a variable 'length_input_statement'\n",
        "length_input_statement = length(input_statement)\n",
        "\n",
        "#Printing the result\n",
        "print (length_input_statement)"
      ],
      "metadata": {
        "colab": {
          "base_uri": "https://localhost:8080/"
        },
        "id": "mcvPDGOkMZaI",
        "outputId": "92358387-f0ad-468f-830d-4f16f2d57ee4"
      },
      "execution_count": null,
      "outputs": [
        {
          "output_type": "stream",
          "name": "stdout",
          "text": [
            "23\n"
          ]
        }
      ]
    },
    {
      "cell_type": "markdown",
      "source": [
        "9. Check if a string contains a specific word."
      ],
      "metadata": {
        "id": "jP8nARq8Rq1X"
      }
    },
    {
      "cell_type": "code",
      "source": [
        "#Taking an input string from the user\n",
        "input_string = input(\"Enter a string : \")\n",
        "\n",
        "#Taking the specific word as input from the user\n",
        "specific_word = input(\"Enter the specific word : \")\n",
        "\n",
        "#Checking if the specific word is present in the input string with the help of if/else statement\n",
        "if specific_word in input_string :\n",
        "  print (\"Yes, specfic word is present in the input string\")\n",
        "else :\n",
        "  print (\"No, specfic word is not present in the input string\")"
      ],
      "metadata": {
        "id": "xz4hGVxnPg3W",
        "colab": {
          "base_uri": "https://localhost:8080/"
        },
        "outputId": "58821994-1569-4436-e6f9-b5cfca6bc681"
      },
      "execution_count": 14,
      "outputs": [
        {
          "output_type": "stream",
          "name": "stdout",
          "text": [
            "Enter a string : Hey, how are you?\n",
            "Enter the specific word : qwerty\n",
            "No, specfic word is not present in the input string\n"
          ]
        }
      ]
    },
    {
      "cell_type": "markdown",
      "source": [
        "10. Replace a word in a string with another word."
      ],
      "metadata": {
        "id": "S_WdGbS3VQvy"
      }
    },
    {
      "cell_type": "code",
      "source": [
        "#Taking an input string from the user\n",
        "input_string = input(\"Enter a sentence: \")\n",
        "\n",
        "#Taking old word and new word as input from the user\n",
        "old_word = input(\"Enter the word to be replaced: \")\n",
        "new_word = input(\"Enter the new word: \")\n",
        "\n",
        "#Replacing the old word with the new word using string.replace() method\n",
        "modified_string = input_string.replace(old_word, new_word)\n",
        "\n",
        "#Printing the modified string\n",
        "print(\"Modified string:\", modified_string)"
      ],
      "metadata": {
        "id": "Ot5PTS-EUryU",
        "colab": {
          "base_uri": "https://localhost:8080/"
        },
        "outputId": "ab45a28a-5420-4504-95a5-4b0217b773a6"
      },
      "execution_count": 15,
      "outputs": [
        {
          "output_type": "stream",
          "name": "stdout",
          "text": [
            "Enter a sentence: Hey, how are you?\n",
            "Enter the word to be replaced: how\n",
            "Enter the new word: who\n",
            "Modified string: Hey, who are you?\n"
          ]
        }
      ]
    },
    {
      "cell_type": "markdown",
      "source": [
        "11. Count the occurrences of a word in a string."
      ],
      "metadata": {
        "id": "hAJkqLj-egT9"
      }
    },
    {
      "cell_type": "code",
      "source": [
        "#Defining a function with 2 arguments, using split and for loop to find the occurence of a particular word\n",
        "def count_occurence(input_statement, word_to_count_its_occurence) :\n",
        "  count_of_occurence = 0\n",
        "  words = input_statement.split()\n",
        "  for word in words :\n",
        "    if word == word_to_count_its_occurence :\n",
        "      count_of_occurence += 1\n",
        "  return count_of_occurence\n",
        "\n",
        "#Providing input statement, target word and printing out the result\n",
        "input_statement = \"This is a sample sentence where we need to count the number of repetition of word sample sample.\"\n",
        "word_to_count_its_occurence = \"sample\"\n",
        "result = count_occurence(input_statement, word_to_count_its_occurence)\n",
        "print (\"Occurence of the word\", \"'\",word_to_count_its_occurence,\"'\",\":\", result)"
      ],
      "metadata": {
        "id": "7yb7dvR3eM5G",
        "colab": {
          "base_uri": "https://localhost:8080/"
        },
        "outputId": "fa73c925-8d19-4980-9288-d6d5d6deaf36"
      },
      "execution_count": 21,
      "outputs": [
        {
          "output_type": "stream",
          "name": "stdout",
          "text": [
            "Occurence of the word ' sample ' : 2\n"
          ]
        }
      ]
    },
    {
      "cell_type": "markdown",
      "source": [
        "12. Find the first occurrence of a word in a string."
      ],
      "metadata": {
        "id": "dXfqkAVOmIeR"
      }
    },
    {
      "cell_type": "code",
      "source": [
        "def index_finder_first_occurence (input_statement, target_word):\n",
        "\n",
        "    #Find the index of the first occurrence of the word in the text.\n",
        "    index = input_statement.find(target_word)\n",
        "\n",
        "    #Check if the index is -1, which basically indicates that the word is not found.\n",
        "    if index == -1:\n",
        "        return None\n",
        "\n",
        "    #Return the index of the first occurrence of the word.\n",
        "    return index\n",
        "\n",
        "input_statement = \"This is an sample sentence and sentence contains the word sample, multiple times.\"\n",
        "target_word = \"pwskills\"\n",
        "result = index_finder_first_occurence (input_statement, target_word)\n",
        "print(\"Index of the first occurrence:\", result)"
      ],
      "metadata": {
        "id": "18Y_IbfUJ_Eq",
        "colab": {
          "base_uri": "https://localhost:8080/"
        },
        "outputId": "0b49e879-7438-44b5-95ea-92914c0e27c5"
      },
      "execution_count": 17,
      "outputs": [
        {
          "output_type": "stream",
          "name": "stdout",
          "text": [
            "Index of the first occurrence: None\n"
          ]
        }
      ]
    },
    {
      "cell_type": "markdown",
      "source": [
        "13. Find the last occurrence of a word in a string."
      ],
      "metadata": {
        "id": "HlZl4kvLqn8f"
      }
    },
    {
      "cell_type": "code",
      "source": [
        "def index_finder_last_occurence (input_statement, target_word):\n",
        "\n",
        "    #Find the index of the last occurrence of the word in the text.\n",
        "    index = input_statement.rfind(target_word)\n",
        "\n",
        "    #Check if the index is -1, which basically indicates that the word is not found.\n",
        "    if index == -1:\n",
        "        return None\n",
        "\n",
        "    #Return the index of the last occurrence of the word.\n",
        "    return index\n",
        "\n",
        "input_statement = \"This is an sample sentence and sentence contains the word sample, multiple times.\"\n",
        "target_word = \"sample\"\n",
        "result = index_finder_last_occurence (input_statement, target_word)\n",
        "print(\"Index of the last occurrence:\", result)"
      ],
      "metadata": {
        "id": "Rsrz_3wepe2D",
        "colab": {
          "base_uri": "https://localhost:8080/"
        },
        "outputId": "2f106711-19cd-4a05-9679-b8205fd77262"
      },
      "execution_count": 22,
      "outputs": [
        {
          "output_type": "stream",
          "name": "stdout",
          "text": [
            "Index of the last occurrence: 58\n"
          ]
        }
      ]
    },
    {
      "cell_type": "markdown",
      "source": [
        "14. Split a string into a list of words."
      ],
      "metadata": {
        "id": "KdgHu6kvq9k0"
      }
    },
    {
      "cell_type": "code",
      "source": [
        "#Providing an input statement\n",
        "input_statement = \"This sentence needs to be split\"\n",
        "\n",
        "#Using split function to split all the words in the statement and storing it in a list\n",
        "words = input_statement.split()\n",
        "\n",
        "#Printing out the output\n",
        "print (words)"
      ],
      "metadata": {
        "id": "OTz8gNNpq5Xv",
        "colab": {
          "base_uri": "https://localhost:8080/"
        },
        "outputId": "af8312fc-71de-49fc-ff73-5437cf14ee81"
      },
      "execution_count": 23,
      "outputs": [
        {
          "output_type": "stream",
          "name": "stdout",
          "text": [
            "['This', 'sentence', 'needs', 'to', 'be', 'split']\n"
          ]
        }
      ]
    },
    {
      "cell_type": "markdown",
      "source": [
        "15. Join a list of words into a string."
      ],
      "metadata": {
        "id": "AoSJ2gIorzfe"
      }
    },
    {
      "cell_type": "code",
      "source": [
        "#Providing a list of words\n",
        "words = ['This', 'sentence', 'needs', 'to', 'be', 'joined']\n",
        "\n",
        "##Using join function to join all the words in the list and storing it as a string\n",
        "joined_statement = ' '.join(words)\n",
        "\n",
        "#Printing out the output\n",
        "print(joined_statement)"
      ],
      "metadata": {
        "id": "8mEflpu5rSBY",
        "colab": {
          "base_uri": "https://localhost:8080/"
        },
        "outputId": "75e6ac2b-147b-4969-d41a-7411e98d530f"
      },
      "execution_count": 24,
      "outputs": [
        {
          "output_type": "stream",
          "name": "stdout",
          "text": [
            "This sentence needs to be joined\n"
          ]
        }
      ]
    },
    {
      "cell_type": "markdown",
      "source": [
        "16. Convert a string where words are separated by spaces to one where words are separated by underscores."
      ],
      "metadata": {
        "id": "CC8e-Q2rtRhl"
      }
    },
    {
      "cell_type": "code",
      "source": [
        "#Providing an input statement\n",
        "input_statement = \"This is an example sentence.\"\n",
        "\n",
        "#Using replace function to replace all the \" \" with \"_\" in the statement and storing it as string itself\n",
        "converted_statement = input_statement.replace(\" \", \"_\")\n",
        "\n",
        "#Printing out the output\n",
        "print (converted_statement)"
      ],
      "metadata": {
        "id": "dMJxQZGRs4Ws",
        "colab": {
          "base_uri": "https://localhost:8080/"
        },
        "outputId": "01db0b03-1c26-40d5-f612-8b9420483f4f"
      },
      "execution_count": 25,
      "outputs": [
        {
          "output_type": "stream",
          "name": "stdout",
          "text": [
            "This_is_an_example_sentence.\n"
          ]
        }
      ]
    },
    {
      "cell_type": "markdown",
      "source": [
        "17. Check if a string starts with a specific word or phrase."
      ],
      "metadata": {
        "id": "pOYe4nHmwNpP"
      }
    },
    {
      "cell_type": "code",
      "source": [
        "def check_occurence (input_statement, prefix) :\n",
        "\n",
        "  #Using the startswith() method to check if the text starts with the specified prefix\n",
        "  is_start = input_statement.startswith(prefix)\n",
        "\n",
        "  if is_start :\n",
        "    return True\n",
        "  else :\n",
        "    return False\n",
        "\n",
        "input_statement = \"This is an example statement\"\n",
        "prefix = \"is\"\n",
        "result = check_occurence (input_statement, prefix)\n",
        "print (result)"
      ],
      "metadata": {
        "id": "_7az2pI9wJqW",
        "colab": {
          "base_uri": "https://localhost:8080/"
        },
        "outputId": "1e9b6927-f0ad-4daf-f9e4-3815713d7c92"
      },
      "execution_count": 26,
      "outputs": [
        {
          "output_type": "stream",
          "name": "stdout",
          "text": [
            "False\n"
          ]
        }
      ]
    },
    {
      "cell_type": "markdown",
      "source": [
        "18. Check if a string ends with a specific word or phrase."
      ],
      "metadata": {
        "id": "XlxbNegl1nv6"
      }
    },
    {
      "cell_type": "code",
      "source": [
        "def check_occurence (input_statement, suffix) :\n",
        "\n",
        "  #Using the endsswith() method to check if the text ends with the specified prefix\n",
        "  ends_with = input_statement.endswith(suffix)\n",
        "\n",
        "  if ends_with :\n",
        "    return True\n",
        "  else :\n",
        "    return False\n",
        "\n",
        "input_statement = \"This is an example statement\"\n",
        "suffix = \"is\"\n",
        "result = check_occurence (input_statement, suffix)\n",
        "print (result)"
      ],
      "metadata": {
        "id": "0tQNkwpAxu89",
        "colab": {
          "base_uri": "https://localhost:8080/"
        },
        "outputId": "6a18cc5c-8000-43a7-aa31-b5061fcd8aab"
      },
      "execution_count": 27,
      "outputs": [
        {
          "output_type": "stream",
          "name": "stdout",
          "text": [
            "False\n"
          ]
        }
      ]
    },
    {
      "cell_type": "markdown",
      "source": [
        "19. Convert a string to title case (e.g., \"hello world\" to \"Hello World\")."
      ],
      "metadata": {
        "id": "WZjO4X6t2Rvf"
      }
    },
    {
      "cell_type": "code",
      "source": [
        "input_statement = \"hello world\"\n",
        "\n",
        "#Using the title() method to convert the input_statement to title case.\n",
        "title_case = input_statement.title()\n",
        "\n",
        "print(title_case)"
      ],
      "metadata": {
        "id": "zmyALthg1-L-",
        "colab": {
          "base_uri": "https://localhost:8080/"
        },
        "outputId": "2123ce1a-a836-4df4-e1e2-01822bb88dff"
      },
      "execution_count": 28,
      "outputs": [
        {
          "output_type": "stream",
          "name": "stdout",
          "text": [
            "Hello World\n"
          ]
        }
      ]
    },
    {
      "cell_type": "markdown",
      "source": [
        "20. Find the longest word in a string."
      ],
      "metadata": {
        "id": "ys5FOvTq26Qi"
      }
    },
    {
      "cell_type": "code",
      "source": [
        "def find_longest_word(input_statement):\n",
        "    #Using the split() method to split the statement into a list of words.\n",
        "    words = input_statement.split()\n",
        "\n",
        "    #Initializing variables to check on longest word and its length.\n",
        "    longest_word = \"\"\n",
        "    max_length = 0\n",
        "\n",
        "    #Iterating through the list of words.\n",
        "    for word in words:\n",
        "\n",
        "        #Checking if the length of the current word is greater than the current max_length.\n",
        "        if len(word) > max_length:\n",
        "            max_length = len(word)\n",
        "            longest_word = word\n",
        "\n",
        "    return longest_word\n",
        "\n",
        "input_statement = \"This is an example sentence.\"\n",
        "longest_word = find_longest_word(input_statement)\n",
        "print(\"Longest word:\", longest_word)"
      ],
      "metadata": {
        "id": "vJ0Ydhbv2z_Y",
        "colab": {
          "base_uri": "https://localhost:8080/"
        },
        "outputId": "fd16c593-a170-4036-933b-c728a72e2340"
      },
      "execution_count": 29,
      "outputs": [
        {
          "output_type": "stream",
          "name": "stdout",
          "text": [
            "Longest word: sentence.\n"
          ]
        }
      ]
    },
    {
      "cell_type": "markdown",
      "source": [
        "21. Find the shortest word in a string."
      ],
      "metadata": {
        "id": "1L9BFczbJiNd"
      }
    },
    {
      "cell_type": "code",
      "source": [
        "def find_shortest_word(input_statement):\n",
        "    #Using the split() method to split the statement into a list of words.\n",
        "    words = input_statement.split()\n",
        "\n",
        "    #Initializing variables to check on shortest word and its length.\n",
        "    shortest_word = \"\"\n",
        "    min_length = float('inf')\n",
        "\n",
        "    #Iterating through the list of words.\n",
        "    for word in words:\n",
        "\n",
        "        #Checking if the length of the current word is lesser than the current min_length.\n",
        "        if len(word) < min_length:\n",
        "            min_length = len(word)\n",
        "            shortest_word = word\n",
        "\n",
        "    return shortest_word\n",
        "\n",
        "input_statement = \"This is an example sentence.\"\n",
        "shortest_word = find_shortest_word(input_statement)\n",
        "print(\"Shortest word:\", shortest_word)"
      ],
      "metadata": {
        "id": "LrRfuyM6IiLA",
        "colab": {
          "base_uri": "https://localhost:8080/"
        },
        "outputId": "20556d3e-49fe-4139-ae89-fba0f941217f"
      },
      "execution_count": 30,
      "outputs": [
        {
          "output_type": "stream",
          "name": "stdout",
          "text": [
            "Shortest word: is\n"
          ]
        }
      ]
    },
    {
      "cell_type": "markdown",
      "source": [
        "22. Reverse the order of words in a string."
      ],
      "metadata": {
        "id": "A4NCcamML7eP"
      }
    },
    {
      "cell_type": "code",
      "source": [
        "#Providing an input statement\n",
        "input_statement = \"Hello world, how are you?\"\n",
        "\n",
        "#Spliting the words of the input statement\n",
        "split_strings = input_statement.split()\n",
        "\n",
        "#Reversing the splitted word using index slicing\n",
        "reversed_string = split_strings[::-1]\n",
        "\n",
        "#Joining the revered splitted word to form statement in reverse order and printing the result\n",
        "reversed_statement = \" \".join(reversed_string)\n",
        "print (reversed_string)"
      ],
      "metadata": {
        "colab": {
          "base_uri": "https://localhost:8080/"
        },
        "id": "NjrKAjka6DXa",
        "outputId": "cf848d05-beff-4327-ce01-f31e3c4537be"
      },
      "execution_count": 36,
      "outputs": [
        {
          "output_type": "stream",
          "name": "stdout",
          "text": [
            "['you?', 'are', 'how', 'world,', 'Hello']\n"
          ]
        }
      ]
    },
    {
      "cell_type": "markdown",
      "source": [
        "23. Check if a string is alphanumeric."
      ],
      "metadata": {
        "id": "QMcGY6lVO1ix"
      }
    },
    {
      "cell_type": "code",
      "source": [
        "def if_alpmun (input_string) :\n",
        "\n",
        "  #Using the isalnum() method to check if the string is alphanumeric\n",
        "  is_alpnum = input_string.isalnum()\n",
        "  if is_alpnum :\n",
        "    return True\n",
        "  return False\n",
        "\n",
        "input_string = \"qwerty12345\"\n",
        "result = if_alpmun (input_string)\n",
        "print (result)"
      ],
      "metadata": {
        "id": "qmqZPY2mLpye"
      },
      "execution_count": null,
      "outputs": []
    },
    {
      "cell_type": "markdown",
      "source": [
        "24. Extract all digits from a string."
      ],
      "metadata": {
        "id": "IPb8ef94lEKo"
      }
    },
    {
      "cell_type": "code",
      "source": [
        "def extract_digits(input_string):\n",
        "\n",
        "    #Initializing an empty string to store the extracted digits.\n",
        "    digits = \"\"\n",
        "\n",
        "    #Iterating through each character in the text.\n",
        "    for char in text:\n",
        "\n",
        "        #Checking if the character is a digit using the isdigit() method.\n",
        "        if char.isdigit():\n",
        "\n",
        "            #Append the digit to the digits string.\n",
        "            digits = digits + char\n",
        "\n",
        "    #Returning the extracted digits.\n",
        "    return digits\n",
        "\n",
        "text = \"qwerty12345\"\n",
        "extracted_digits = extract_digits(input_string)\n",
        "print(\"Extracted digits:\", extracted_digits)"
      ],
      "metadata": {
        "id": "fbarwkxPj3bd"
      },
      "execution_count": null,
      "outputs": []
    },
    {
      "cell_type": "markdown",
      "source": [
        "25. Extract all alphabets from a string."
      ],
      "metadata": {
        "id": "Ib4waygFyJQ9"
      }
    },
    {
      "cell_type": "code",
      "source": [
        "#Providing an input string\n",
        "input_string = \"000qwe123rty456\"\n",
        "\n",
        "#Extracting alphabet characters using list comprehension\n",
        "string_alphabets = ''.join([char for char in input_string if char.isalpha()])\n",
        "\n",
        "print (string_alphabets)"
      ],
      "metadata": {
        "id": "A7Ybdmpel0bq",
        "colab": {
          "base_uri": "https://localhost:8080/"
        },
        "outputId": "040b2e6a-1315-4b50-aa12-ec99108c5a04"
      },
      "execution_count": 38,
      "outputs": [
        {
          "output_type": "stream",
          "name": "stdout",
          "text": [
            "qwerty\n"
          ]
        }
      ]
    },
    {
      "cell_type": "markdown",
      "source": [
        "26. Count the number of uppercase letters in a string."
      ],
      "metadata": {
        "id": "cbv7_DC2zWy6"
      }
    },
    {
      "cell_type": "code",
      "source": [
        "#Providing an input string\n",
        "input_string = \"000qwe123RTY456\"\n",
        "\n",
        "#Extracting uppercase characters using list comprehension\n",
        "upper_alphabets = ''.join([char for char in input_string if char.isupper()])\n",
        "\n",
        "print (upper_alphabets)"
      ],
      "metadata": {
        "id": "YE6XkTlhzX2L",
        "colab": {
          "base_uri": "https://localhost:8080/"
        },
        "outputId": "a320a006-958c-43d0-ba5a-c05991109603"
      },
      "execution_count": 39,
      "outputs": [
        {
          "output_type": "stream",
          "name": "stdout",
          "text": [
            "RTY\n"
          ]
        }
      ]
    },
    {
      "cell_type": "markdown",
      "source": [
        "27. Count the number of lowercase letters in a string."
      ],
      "metadata": {
        "id": "qVoclI120kfW"
      }
    },
    {
      "cell_type": "code",
      "source": [
        "#Providing an input string\n",
        "input_string = \"000qwe123RTY456\"\n",
        "\n",
        "#Extracting uppercase characters using list comprehension\n",
        "lower_alphabets = ''.join([char for char in input_string if char.islower()])\n",
        "\n",
        "print (lower_alphabets)"
      ],
      "metadata": {
        "id": "p-XvLejF0mG-",
        "colab": {
          "base_uri": "https://localhost:8080/"
        },
        "outputId": "e6a2b082-4e43-4f0f-c169-a1a078cd5c37"
      },
      "execution_count": 40,
      "outputs": [
        {
          "output_type": "stream",
          "name": "stdout",
          "text": [
            "qwe\n"
          ]
        }
      ]
    },
    {
      "cell_type": "markdown",
      "source": [
        "28. Swap the case of each character in a string."
      ],
      "metadata": {
        "id": "2fcmoulK0m1E"
      }
    },
    {
      "cell_type": "code",
      "source": [
        "#Providing an input statement\n",
        "input_string = \"SamPlE STateMENt\"\n",
        "\n",
        "#Swapping case by using swapcase()\n",
        "result = input_string.swapcase()\n",
        "\n",
        "#Printing out the result\n",
        "print (result)"
      ],
      "metadata": {
        "id": "OGtRmDs20pKU",
        "colab": {
          "base_uri": "https://localhost:8080/"
        },
        "outputId": "5216e551-9bae-42e0-dd2c-b42c1394c077"
      },
      "execution_count": 41,
      "outputs": [
        {
          "output_type": "stream",
          "name": "stdout",
          "text": [
            "sAMpLe stATEmenT\n"
          ]
        }
      ]
    },
    {
      "cell_type": "markdown",
      "source": [
        "29. Remove a specific word from a string."
      ],
      "metadata": {
        "id": "iF7xTonZ18rm"
      }
    },
    {
      "cell_type": "code",
      "source": [
        "def remove_word (input_statement, word_to_remove) :\n",
        "  split_words = input_statement.split()\n",
        "  print (split_words)\n",
        "  modified_string = \"\"\n",
        "  for word in split_words :\n",
        "    if word != word_to_remove :\n",
        "      modified_string += word + \" \"\n",
        "  return modified_string\n",
        "\n",
        "input_statement = \"This is an example statement\"\n",
        "word_to_remove = \"an\"\n",
        "result = remove_word (input_statement, word_to_remove)\n",
        "print (result)"
      ],
      "metadata": {
        "id": "fAE_EcQM1j5S",
        "colab": {
          "base_uri": "https://localhost:8080/"
        },
        "outputId": "f3bd38f0-81b7-4b29-bf16-3e80c72fce19"
      },
      "execution_count": 53,
      "outputs": [
        {
          "output_type": "stream",
          "name": "stdout",
          "text": [
            "['This', 'is', 'an', 'example', 'statement']\n",
            "This is example statement \n"
          ]
        }
      ]
    },
    {
      "cell_type": "markdown",
      "source": [
        "30. Check if a string is a valid email address."
      ],
      "metadata": {
        "id": "R6PP-MyD467y"
      }
    },
    {
      "cell_type": "code",
      "source": [
        "#Importing the regular expression module\n",
        "import re\n",
        "\n",
        "def if_valid_email (email):\n",
        "\n",
        "  #Regular expression pattern for a basic email validation\n",
        "  pattern = r'^[\\w\\.-]+@[\\w\\.-]+\\.\\w+$'\n",
        "\n",
        "  if re.match (pattern, email):\n",
        "      return True\n",
        "  else:\n",
        "      return False\n",
        "\n",
        "email1 = \"rohit@email.com\"\n",
        "email2 = \"qwerty-email\"\n",
        "result1 = if_valid_email(email1)\n",
        "result2 = if_valid_email(email2)\n",
        "print(result1)\n",
        "print(result2)"
      ],
      "metadata": {
        "id": "_uRKVGPa5BTG",
        "colab": {
          "base_uri": "https://localhost:8080/"
        },
        "outputId": "18fe63c2-f8ca-4475-deb8-fb76f41058d4"
      },
      "execution_count": 54,
      "outputs": [
        {
          "output_type": "stream",
          "name": "stdout",
          "text": [
            "True\n",
            "False\n"
          ]
        }
      ]
    },
    {
      "cell_type": "markdown",
      "source": [
        "31. Extract the username from an email address string."
      ],
      "metadata": {
        "id": "IUyd48Z-krcE"
      }
    },
    {
      "cell_type": "code",
      "source": [
        "email = \"123rohit@gmail.com\"\n",
        "\n",
        "#Spliting the email address at \"@\" and taking the first part\n",
        "username = email.split(\"@\")[0]\n",
        "\n",
        "print (username)"
      ],
      "metadata": {
        "id": "T6gfUSuxje03"
      },
      "execution_count": null,
      "outputs": []
    },
    {
      "cell_type": "markdown",
      "source": [
        "32. Extract the domain name from an email address string."
      ],
      "metadata": {
        "id": "0kU8Jk_ml9uY"
      }
    },
    {
      "cell_type": "code",
      "source": [
        "email = \"123rohit@gmail.com\"\n",
        "\n",
        "#Spliting the email address at \"@\" and taking the later part\n",
        "username = email.split(\"@\")[1]\n",
        "\n",
        "print (username)"
      ],
      "metadata": {
        "id": "nV94WlXOlo6T",
        "colab": {
          "base_uri": "https://localhost:8080/"
        },
        "outputId": "10386427-11ca-44e2-9fff-0586a263e136"
      },
      "execution_count": 55,
      "outputs": [
        {
          "output_type": "stream",
          "name": "stdout",
          "text": [
            "gmail.com\n"
          ]
        }
      ]
    },
    {
      "cell_type": "markdown",
      "source": [
        "33. Replace multiple spaces in a string with a single space."
      ],
      "metadata": {
        "id": "e-V5U4F1mpp0"
      }
    },
    {
      "cell_type": "code",
      "source": [
        "input_statement = \"This     is a sample    statement\"\n",
        "\n",
        "#Spliting the string at spaces and then join using a single space\n",
        "result = ' '.join(input_statement.split())\n",
        "\n",
        "print (result)"
      ],
      "metadata": {
        "id": "yowg9NmXmKPL",
        "colab": {
          "base_uri": "https://localhost:8080/"
        },
        "outputId": "9a21334b-b600-4094-ee29-c07aedc3e726"
      },
      "execution_count": 56,
      "outputs": [
        {
          "output_type": "stream",
          "name": "stdout",
          "text": [
            "This is a sample statement\n"
          ]
        }
      ]
    },
    {
      "cell_type": "markdown",
      "source": [
        "34. Check if a string is a valid URL."
      ],
      "metadata": {
        "id": "MaH4IkS9tezC"
      }
    },
    {
      "cell_type": "code",
      "source": [
        "#Importing urlparse from library urllib.parse\n",
        "from urllib.parse import urlparse\n",
        "\n",
        "def is_valid_url(url):\n",
        "    try :\n",
        "        result = urlparse(url)\n",
        "        #Checking if both scheme and netloc are present\n",
        "        return all([result.scheme, result.netloc])\n",
        "    except ValueError:\n",
        "        return False\n",
        "\n",
        "url1 = \"https://www.example.com\"\n",
        "url2 = \"invalid-url\"\n",
        "result1 = is_valid_url(url1)\n",
        "result2 = is_valid_url(url2)\n",
        "\n",
        "#Should print True\n",
        "print(result1)\n",
        "# Should print False\n",
        "print(result2)"
      ],
      "metadata": {
        "id": "k6n0WppNsIQw",
        "colab": {
          "base_uri": "https://localhost:8080/"
        },
        "outputId": "c3ed2822-ce10-40d7-91ea-df82ce9944b4"
      },
      "execution_count": 57,
      "outputs": [
        {
          "output_type": "stream",
          "name": "stdout",
          "text": [
            "True\n",
            "False\n"
          ]
        }
      ]
    },
    {
      "cell_type": "markdown",
      "source": [
        "35. Extract the protocol (http or https) from a URL string."
      ],
      "metadata": {
        "id": "toJY1o5ews0p"
      }
    },
    {
      "cell_type": "code",
      "source": [
        "def extract_protocol(url):\n",
        "\n",
        "    #Find the index of the first occurrence of \"://\"\n",
        "    protocol_end = url.find(\"://\")\n",
        "\n",
        "    if protocol_end != -1:\n",
        "        #Extracting the protocol from the URL\n",
        "        protocol = url[:protocol_end]\n",
        "        return protocol\n",
        "    else:\n",
        "        return None\n",
        "\n",
        "\n",
        "url = \"https://www.google.com\"\n",
        "protocol = extract_protocol(url)\n",
        "print(\"Protocol :\", protocol)"
      ],
      "metadata": {
        "id": "Qra5Vn9swdTN",
        "colab": {
          "base_uri": "https://localhost:8080/"
        },
        "outputId": "2fbedcfb-b750-4b05-8033-f26759d82013"
      },
      "execution_count": 58,
      "outputs": [
        {
          "output_type": "stream",
          "name": "stdout",
          "text": [
            "Protocol : https\n"
          ]
        }
      ]
    },
    {
      "cell_type": "markdown",
      "source": [
        "36. Find the frequency of each character in a string."
      ],
      "metadata": {
        "id": "KMjkzMpPzg8m"
      }
    },
    {
      "cell_type": "code",
      "source": [
        "def calculate_frequency (input_statement) :\n",
        "\n",
        "  frequency = {}\n",
        "\n",
        "  for char in input_statement :\n",
        "    if char not in frequency :\n",
        "      frequency [char] = 1\n",
        "    else :\n",
        "      frequency [char] += 1\n",
        "  return frequency\n",
        "\n",
        "#Printing out result in the form of dictionary where key is the character and the value is the frequency of that particular character\n",
        "input_statement = \"How are you dear?\"\n",
        "result = calculate_frequency (input_statement)\n",
        "print (result)"
      ],
      "metadata": {
        "id": "I6CW_ft-yvWx",
        "colab": {
          "base_uri": "https://localhost:8080/"
        },
        "outputId": "0ef7f3c9-3e2d-4f98-cf6d-560581b7f394"
      },
      "execution_count": 60,
      "outputs": [
        {
          "output_type": "stream",
          "name": "stdout",
          "text": [
            "{'H': 1, 'o': 2, 'w': 1, ' ': 3, 'a': 2, 'r': 2, 'e': 2, 'y': 1, 'u': 1, 'd': 1, '?': 1}\n"
          ]
        }
      ]
    },
    {
      "cell_type": "markdown",
      "source": [
        "37. Remove all punctuation from a string."
      ],
      "metadata": {
        "id": "JZw_Vbfo4PnG"
      }
    },
    {
      "cell_type": "code",
      "source": [
        "import string\n",
        "\n",
        "def remove_punctuation (input_statement):\n",
        "\n",
        "    #Creating a translation table to remove punctuation\n",
        "    translator = str.maketrans(\"\", \"\", string.punctuation)\n",
        "\n",
        "    # Use the translation table to remove punctuation from the input string\n",
        "    statement_without_punc = input_statement.translate(translator)\n",
        "\n",
        "    return statement_without_punc\n",
        "\n",
        "input_statement = \"Hey! How are you?\"\n",
        "\n",
        "result = remove_punctuation(input_statement)\n",
        "\n",
        "print(\"Original statement :\", input_statement)\n",
        "print(\"Statement without punctuation :\", result)"
      ],
      "metadata": {
        "id": "ivafWYvv2EvT",
        "colab": {
          "base_uri": "https://localhost:8080/"
        },
        "outputId": "291a748d-66ee-4779-b622-00438bcd2665"
      },
      "execution_count": 61,
      "outputs": [
        {
          "output_type": "stream",
          "name": "stdout",
          "text": [
            "Original statement : Hey! How are you?\n",
            "Statement without punctuation : Hey How are you\n"
          ]
        }
      ]
    },
    {
      "cell_type": "markdown",
      "source": [
        "38. Check if a string contains only digits."
      ],
      "metadata": {
        "id": "eazV_Fe05ja1"
      }
    },
    {
      "cell_type": "code",
      "source": [
        "input_statement = \"123456\"\n",
        "\n",
        "#Checking if the statement contain only digits using isdigit() func\n",
        "result = input_statement.isdigit()\n",
        "\n",
        "print (result)"
      ],
      "metadata": {
        "id": "TRIFqnI85ZII",
        "colab": {
          "base_uri": "https://localhost:8080/"
        },
        "outputId": "d6c49240-7fba-4a1a-e861-275181694c0d"
      },
      "execution_count": 62,
      "outputs": [
        {
          "output_type": "stream",
          "name": "stdout",
          "text": [
            "True\n"
          ]
        }
      ]
    },
    {
      "cell_type": "markdown",
      "source": [
        "39. Check if a string contains only alphabets."
      ],
      "metadata": {
        "id": "DrkMUDxtbQBZ"
      }
    },
    {
      "cell_type": "code",
      "source": [
        "input_statement = \"qwerty12345\"\n",
        "\n",
        "#Checking if the statement contain only alphabets using isalpa() func\n",
        "result = input_statement.isalpha()\n",
        "\n",
        "print (result)"
      ],
      "metadata": {
        "id": "ope7e-ePbCI6",
        "colab": {
          "base_uri": "https://localhost:8080/"
        },
        "outputId": "05e20abf-fdaf-49ae-84e9-6919da725205"
      },
      "execution_count": 63,
      "outputs": [
        {
          "output_type": "stream",
          "name": "stdout",
          "text": [
            "False\n"
          ]
        }
      ]
    },
    {
      "cell_type": "markdown",
      "source": [
        "40. Convert a string to a list of characters."
      ],
      "metadata": {
        "id": "AMMWH3tOb1k1"
      }
    },
    {
      "cell_type": "code",
      "source": [
        "input_string = \"qwerty\"\n",
        "\n",
        "list = []\n",
        "\n",
        "for char in input_string :\n",
        "  if char :\n",
        "    list += char\n",
        "\n",
        "print (list)"
      ],
      "metadata": {
        "id": "Cc_T2zG_bvdh",
        "colab": {
          "base_uri": "https://localhost:8080/"
        },
        "outputId": "c55516de-a67f-4a65-8ac9-95a31a45fafb"
      },
      "execution_count": 64,
      "outputs": [
        {
          "output_type": "stream",
          "name": "stdout",
          "text": [
            "['q', 'w', 'e', 'r', 't', 'y']\n"
          ]
        }
      ]
    },
    {
      "cell_type": "markdown",
      "source": [
        "41. Check if two strings are anagrams."
      ],
      "metadata": {
        "id": "lVd2BxJjdBHC"
      }
    },
    {
      "cell_type": "code",
      "source": [
        "def are_anagrams(str1, str2):\n",
        "    #Removing spaces and convert strings to lowercase for accurate comparison\n",
        "    s1 = str1.replace(\" \", \"\").lower()\n",
        "    s2 = str2.replace(\" \", \"\").lower()\n",
        "\n",
        "    #Sorting the characters in both strings and compare\n",
        "    return sorted(s1) == sorted(s2)\n",
        "\n",
        "str1 = \"silent\"\n",
        "str2 = \"listen\"\n",
        "\n",
        "#Checking if strings are anagrams\n",
        "result = are_anagrams(str1, str2)\n",
        "\n",
        "#Print the results\n",
        "print(result)"
      ],
      "metadata": {
        "id": "Rl1V3Md1cj4q",
        "colab": {
          "base_uri": "https://localhost:8080/"
        },
        "outputId": "b3f1c271-ed9f-498f-8bfc-77ceab2eabbb"
      },
      "execution_count": 65,
      "outputs": [
        {
          "output_type": "stream",
          "name": "stdout",
          "text": [
            "True\n"
          ]
        }
      ]
    },
    {
      "cell_type": "markdown",
      "source": [
        "42. Encode a string using a Caesar cipher."
      ],
      "metadata": {
        "id": "f7lqgq6w8yvw"
      }
    },
    {
      "cell_type": "code",
      "source": [
        "def encode_ceaser_cipher (input_statement, shift) :\n",
        "    result = \"\"\n",
        "\n",
        "    for i in range (len(input_statement)) :\n",
        "        char = input_statement [i]\n",
        "\n",
        "        #Encrypting uppercase characters\n",
        "        if (char.isupper()) :\n",
        "            result += chr((ord(char) + shift-65) % 26 + 65)\n",
        "\n",
        "        #Encrypting lowercase characters\n",
        "        else:\n",
        "            result += chr((ord(char) + shift-97) % 26 + 97)\n",
        "\n",
        "    return result\n",
        "\n",
        "#check the above function\n",
        "input_statement = \"EnemiesAhead\"\n",
        "shift = 4\n",
        "print (\"Instruction : \", input_statement)\n",
        "print (\"Shift : \", shift)\n",
        "print (\"Cipher : \", encode_ceaser_cipher (input_statement, shift))"
      ],
      "metadata": {
        "id": "pgLX7svH8Io4",
        "colab": {
          "base_uri": "https://localhost:8080/"
        },
        "outputId": "42fc8fe4-049c-4bf0-b66d-16e1b8beb813"
      },
      "execution_count": 66,
      "outputs": [
        {
          "output_type": "stream",
          "name": "stdout",
          "text": [
            "Instruction :  EnemiesAhead\n",
            "Shift :  4\n",
            "Cipher :  IriqmiwElieh\n"
          ]
        }
      ]
    },
    {
      "cell_type": "markdown",
      "source": [
        "43. Decode a Caesar cipher encoded string."
      ],
      "metadata": {
        "id": "n9oppZzbDWb2"
      }
    },
    {
      "cell_type": "code",
      "source": [
        "def decode_ceaser_cipher (input_statement, shift) :\n",
        "    result = \"\"\n",
        "\n",
        "    for i in range (len(input_statement)) :\n",
        "        char = input_statement [i]\n",
        "\n",
        "        #Encrypting uppercase characters\n",
        "        if (char.isupper()) :\n",
        "            result += chr((ord(char) - shift-65) % 26 + 65)\n",
        "\n",
        "        #Encrypting lowercase characters\n",
        "        else:\n",
        "            result += chr((ord(char) - shift-97) % 26 + 97)\n",
        "\n",
        "    return result\n",
        "\n",
        "#check the above function\n",
        "input_statement = \"IriqmiwElieh\"\n",
        "shift = 4\n",
        "print (\"Instruction : \", input_statement)\n",
        "print (\"Shift : \", shift)\n",
        "print (\"Cipher : \", decode_ceaser_cipher (input_statement, shift))"
      ],
      "metadata": {
        "id": "02VBnsD9ChWu",
        "colab": {
          "base_uri": "https://localhost:8080/"
        },
        "outputId": "d29edf8c-7625-4477-db49-1d3648eaac00"
      },
      "execution_count": 67,
      "outputs": [
        {
          "output_type": "stream",
          "name": "stdout",
          "text": [
            "Instruction :  IriqmiwElieh\n",
            "Shift :  4\n",
            "Cipher :  EnemiesAhead\n"
          ]
        }
      ]
    },
    {
      "cell_type": "markdown",
      "source": [
        "44. Find the most frequent word in a string."
      ],
      "metadata": {
        "id": "D5YCC0VxEZUD"
      }
    },
    {
      "cell_type": "code",
      "source": [
        "import re\n",
        "\n",
        "def to_dic (input_statement) :\n",
        "\n",
        "  #Removing punctuation and converting input statement to lowercase\n",
        "  clean_input_statement = re.sub(r'[^\\w\\s]', '', input_statement).lower()\n",
        "\n",
        "  #Spliting words\n",
        "  words = clean_input_statement.split()\n",
        "\n",
        "  #Creating an empty dictionary\n",
        "  d1 = {}\n",
        "\n",
        "  #Iterating through all the words and adding them up with their frequency in the dictionary d1\n",
        "  for word in words :\n",
        "    if word not in d1 :\n",
        "      d1[word] = 1\n",
        "    else :\n",
        "      d1[word] += 1\n",
        "  return d1\n",
        "\n",
        "#Providing input statement, calling def func and ultimately getting result\n",
        "input_statement = \"Hello, world! hello hello hello. How is everyone?\"\n",
        "newd1 = to_dic (input_statement)\n",
        "print (\"Dictionary with words & their frequency :\", newd1)\n",
        "max_key = max (newd1, key=newd1.get)\n",
        "print (\"Word with max frequency :\", max_key)"
      ],
      "metadata": {
        "id": "seWIifaMEPbm",
        "colab": {
          "base_uri": "https://localhost:8080/"
        },
        "outputId": "29e535ae-7df4-4bc3-f5c7-3b3b87dcb067"
      },
      "execution_count": 68,
      "outputs": [
        {
          "output_type": "stream",
          "name": "stdout",
          "text": [
            "Dictionary with words & their frequency : {'hello': 4, 'world': 1, 'how': 1, 'is': 1, 'everyone': 1}\n",
            "Word with max frequency : hello\n"
          ]
        }
      ]
    },
    {
      "cell_type": "markdown",
      "source": [
        "45. Find all unique words in a string."
      ],
      "metadata": {
        "id": "c_yhbN3TS3We"
      }
    },
    {
      "cell_type": "code",
      "source": [
        "import re\n",
        "\n",
        "def unique_words(input_statement):\n",
        "\n",
        "    #Removing punctuation and converting input statement to lowercase\n",
        "    clean_statement = re.sub(r'[^\\w\\s]', '', input_statement).lower()\n",
        "\n",
        "    #Spliting the string into words and convert to a set for uniqueness\n",
        "    words = set(clean_statement.split())\n",
        "\n",
        "    return words\n",
        "\n",
        "#Providing input statement, calling def func and ultimately getting result\n",
        "input_statement = \"Hello world, hello hello hello! How is everyone?\"\n",
        "result = unique_words(input_statement)\n",
        "print(\"Unique words:\", result)"
      ],
      "metadata": {
        "id": "RwMiy4DUQgQH",
        "colab": {
          "base_uri": "https://localhost:8080/"
        },
        "outputId": "05f1b7a2-f1df-49f0-92e4-3af17c652353"
      },
      "execution_count": 69,
      "outputs": [
        {
          "output_type": "stream",
          "name": "stdout",
          "text": [
            "Unique words: {'hello', 'everyone', 'world', 'is', 'how'}\n"
          ]
        }
      ]
    },
    {
      "cell_type": "markdown",
      "source": [
        "46. Count the number of syllables in a string."
      ],
      "metadata": {
        "id": "_4r1qbiSWMFm"
      }
    },
    {
      "cell_type": "code",
      "source": [
        "import re\n",
        "\n",
        "def count_syllables(word):\n",
        "\n",
        "    #Counting vowel groups using regular expression\n",
        "    vowel_groups = re.findall(r'[aeiouy]+', word, re.IGNORECASE)\n",
        "\n",
        "    return len(vowel_groups)\n",
        "\n",
        "#Example words\n",
        "word1 = \"hello\"\n",
        "word2 = \"world\"\n",
        "word3 = \"qwerty\"\n",
        "\n",
        "#Counting syllables\n",
        "syllables1 = count_syllables(word1)\n",
        "syllables2 = count_syllables(word2)\n",
        "syllables3 = count_syllables(word3)\n",
        "\n",
        "#Printing the results\n",
        "print(f\"'{word1}' has {syllables1} syllables.\")\n",
        "print(f\"'{word2}' has {syllables2} syllables.\")\n",
        "print(f\"'{word3}' has {syllables3} syllables.\")"
      ],
      "metadata": {
        "id": "J0SAwaY5WAWl",
        "colab": {
          "base_uri": "https://localhost:8080/"
        },
        "outputId": "dab1402d-8221-487e-df1f-c7696a6629db"
      },
      "execution_count": 75,
      "outputs": [
        {
          "output_type": "stream",
          "name": "stdout",
          "text": [
            "'hello' has 2 syllables.\n",
            "'world' has 1 syllables.\n",
            "'qwerty' has 2 syllables.\n"
          ]
        }
      ]
    },
    {
      "cell_type": "markdown",
      "source": [
        "47. Check if a string contains any special characters."
      ],
      "metadata": {
        "id": "kTer2D4nXhD0"
      }
    },
    {
      "cell_type": "code",
      "source": [
        "import re\n",
        "\n",
        "def contains_special_characters(input_statement):\n",
        "\n",
        "    #Defining a regular expression pattern to match special characters\n",
        "    pattern = re.compile(r'[!@#$%^&*()_+{}\\[\\]:;<>,.?~\\\\/]')\n",
        "\n",
        "    #Using the search() method to find a match\n",
        "    match = pattern.search(input_statement)\n",
        "\n",
        "    #Return True if a match is found, False otherwise\n",
        "    return bool(match)\n",
        "\n",
        "#Providing input statement, calling def func and ultimately getting result\n",
        "input_statement = \"Hello world\"\n",
        "result = contains_special_characters(input_statement)\n",
        "print (\"Do input statment contains special character :\", result)"
      ],
      "metadata": {
        "id": "Hh3kgAGYXiqw",
        "colab": {
          "base_uri": "https://localhost:8080/"
        },
        "outputId": "e415e2b4-723b-4adb-fea7-6fa1b602bf33"
      },
      "execution_count": 70,
      "outputs": [
        {
          "output_type": "stream",
          "name": "stdout",
          "text": [
            "Do input statment contains special character : False\n"
          ]
        }
      ]
    },
    {
      "cell_type": "markdown",
      "source": [
        "48. Remove the nth word from a string."
      ],
      "metadata": {
        "id": "PYQyLVcs2mqf"
      }
    },
    {
      "cell_type": "code",
      "source": [
        "def remove_nth_word(input_statement, n) :\n",
        "\n",
        "    #Spliting the input string into words\n",
        "    words = input_statement.split()\n",
        "\n",
        "    #Checking if n is within a valid range\n",
        "    if n >= 1 and n <= len(words) :\n",
        "\n",
        "        #Removing the nth word by excluding it from the words list\n",
        "        removed_word = words.pop(n - 1)\n",
        "\n",
        "        #Joining the remaining words to form the modified string\n",
        "        modified_string = ' '.join(words)\n",
        "\n",
        "        return modified_string\n",
        "    else:\n",
        "        return None\n",
        "\n",
        "#Providing input statement, calling def func and ultimately getting result\n",
        "input_statement = \"This is an example sentence to test the function.\"\n",
        "n = 4\n",
        "result = remove_nth_word(input_statement, n)\n",
        "print (\"Original statment :\",input_statement,\"\\n\",\"Updated statement :\", result)"
      ],
      "metadata": {
        "id": "8uFoJSOaYcDM",
        "colab": {
          "base_uri": "https://localhost:8080/"
        },
        "outputId": "d6d4fcc3-e596-42d3-8bd9-1ecc24808b7e"
      },
      "execution_count": 71,
      "outputs": [
        {
          "output_type": "stream",
          "name": "stdout",
          "text": [
            "Original statment : This is an example sentence to test the function. \n",
            " Updated statement : This is an sentence to test the function.\n"
          ]
        }
      ]
    },
    {
      "cell_type": "markdown",
      "source": [
        "49. Insert a word at the nth position in a string."
      ],
      "metadata": {
        "id": "6nPtfn2p7pfG"
      }
    },
    {
      "cell_type": "code",
      "source": [
        "def add_nth_word(input_statement, target_word, n) :\n",
        "\n",
        "    #Spliting the input string into words\n",
        "    words = input_statement.split()\n",
        "\n",
        "    for word in words :\n",
        "\n",
        "\n",
        "      #Checking if n is within a valid range\n",
        "      if n >= 1 and n <= len(words) :\n",
        "\n",
        "        words.insert(n-1, target_word)\n",
        "\n",
        "        modified_statement = \" \".join(words)\n",
        "\n",
        "        return modified_statement\n",
        "\n",
        "      else :\n",
        "        return None\n",
        "\n",
        "#Providing input statement, calling def func and ultimately getting result\n",
        "input_statement = \"This is an example sentence to test the function.\"\n",
        "n = 4\n",
        "result = add_nth_word(input_statement, 'set', n)\n",
        "print (\"Original statment :\",input_statement,\"\\n\",\"Updated statement :\", result)"
      ],
      "metadata": {
        "id": "-HNyMVoJ5yjg",
        "colab": {
          "base_uri": "https://localhost:8080/"
        },
        "outputId": "692f99f3-e2a7-4c28-a4b8-7d0fa2c46e13"
      },
      "execution_count": 72,
      "outputs": [
        {
          "output_type": "stream",
          "name": "stdout",
          "text": [
            "Original statment : This is an example sentence to test the function. \n",
            " Updated statement : This is an set example sentence to test the function.\n"
          ]
        }
      ]
    },
    {
      "cell_type": "markdown",
      "source": [
        "50. Convert a CSV string to a list of lists."
      ],
      "metadata": {
        "id": "3gL9Z1fV4Ytc"
      }
    },
    {
      "cell_type": "code",
      "source": [
        "def csv_string_to_list(csv_string):\n",
        "\n",
        "    #Spliting the CSV string into lines\n",
        "    lines = csv_string.split('\\n')\n",
        "\n",
        "    #Initializing an empty list to store the result\n",
        "    result = []\n",
        "\n",
        "    for line in lines:\n",
        "\n",
        "        #Spliting each line into fields using comma as the delimiter\n",
        "        fields = line.split(',')\n",
        "\n",
        "        #Appending the fields to the result list as a row\n",
        "        result.append(fields)\n",
        "\n",
        "    return result\n",
        "\n",
        "csv_data = \"Name, Age, Country\\nJohn, 25, USA\\nAlice, 30, Canada\\nBob, 22, UK\"\n",
        "\n",
        "list_of_lists = csv_string_to_list(csv_data)\n",
        "\n",
        "for row in list_of_lists:\n",
        "    print(row)"
      ],
      "metadata": {
        "id": "cH0votIY1M_l",
        "colab": {
          "base_uri": "https://localhost:8080/"
        },
        "outputId": "fc67175c-fb40-41a7-c13f-14d00bed6558"
      },
      "execution_count": 73,
      "outputs": [
        {
          "output_type": "stream",
          "name": "stdout",
          "text": [
            "['Name', ' Age', ' Country']\n",
            "['John', ' 25', ' USA']\n",
            "['Alice', ' 30', ' Canada']\n",
            "['Bob', ' 22', ' UK']\n"
          ]
        }
      ]
    },
    {
      "cell_type": "markdown",
      "source": [
        "## **List Based Practice Problem**"
      ],
      "metadata": {
        "id": "kQN0oIsT5nV5"
      }
    },
    {
      "cell_type": "markdown",
      "source": [
        "1. Create a list with integers from 1 to 10."
      ],
      "metadata": {
        "id": "hkXMVGMn53bo"
      }
    },
    {
      "cell_type": "code",
      "source": [
        "#Using a list comprehension to create a list of integers from 1 to 10\n",
        "list_l1 = [i for i in range (1,11)]\n",
        "\n",
        "print (list_l1)"
      ],
      "metadata": {
        "colab": {
          "base_uri": "https://localhost:8080/"
        },
        "id": "RehOKR_U5PMd",
        "outputId": "6da98751-cfbe-4d2b-b14c-23a317372909"
      },
      "execution_count": null,
      "outputs": [
        {
          "output_type": "stream",
          "name": "stdout",
          "text": [
            "[1, 2, 3, 4, 5, 6, 7, 8, 9, 10]\n"
          ]
        }
      ]
    },
    {
      "cell_type": "markdown",
      "source": [
        "2. Find the length of a list without using the `len()` function."
      ],
      "metadata": {
        "id": "avXCJbbeQGcB"
      }
    },
    {
      "cell_type": "code",
      "source": [
        "listl2 = [1,2,3,4,5,6,7,8,9]\n",
        "\n",
        "len_listl2 = 0\n",
        "\n",
        "#Iterating through the list and increasing count as per char\n",
        "for char in listl2 :\n",
        "  len_listl2 += 1\n",
        "\n",
        "print (len_listl2)\n"
      ],
      "metadata": {
        "colab": {
          "base_uri": "https://localhost:8080/"
        },
        "id": "hWd9NCojP2-9",
        "outputId": "1e328fd4-2881-43d5-f776-0ede6ed79435"
      },
      "execution_count": null,
      "outputs": [
        {
          "output_type": "stream",
          "name": "stdout",
          "text": [
            "9\n"
          ]
        }
      ]
    },
    {
      "cell_type": "markdown",
      "source": [
        "3. Append an element to the end of a list."
      ],
      "metadata": {
        "id": "Z7uCB2ZISomF"
      }
    },
    {
      "cell_type": "code",
      "source": [
        "listl3 = [1, 2, 3]\n",
        "\n",
        "#Element to append\n",
        "new_element = 4\n",
        "\n",
        "#Appending the new element to the end of the list with the help of append() func\n",
        "listl3.append(new_element)\n",
        "\n",
        "print(\"Updated list:\", listl3)"
      ],
      "metadata": {
        "colab": {
          "base_uri": "https://localhost:8080/"
        },
        "id": "1BnxehFEQpWY",
        "outputId": "4bac0120-d577-4650-d766-5db9dc41e316"
      },
      "execution_count": null,
      "outputs": [
        {
          "output_type": "stream",
          "name": "stdout",
          "text": [
            "Updated list: [1, 2, 3, 4]\n"
          ]
        }
      ]
    },
    {
      "cell_type": "markdown",
      "source": [
        "4. Insert an element at a specific index in a list."
      ],
      "metadata": {
        "id": "pRQlgVgDWBtP"
      }
    },
    {
      "cell_type": "code",
      "source": [
        "listl4 = [1,2,3,4,5]\n",
        "\n",
        "#Inserting an element '80' at the 4th place\n",
        "listl4.insert(4, 80)\n",
        "\n",
        "print (listl4)"
      ],
      "metadata": {
        "colab": {
          "base_uri": "https://localhost:8080/"
        },
        "id": "4j7ZIYdeVdA2",
        "outputId": "31e22f8c-576b-4536-986e-c5b52277eeb9"
      },
      "execution_count": null,
      "outputs": [
        {
          "output_type": "stream",
          "name": "stdout",
          "text": [
            "[1, 2, 3, 4, 80, 5]\n"
          ]
        }
      ]
    },
    {
      "cell_type": "markdown",
      "source": [
        "5. Remove an element from a list by its value."
      ],
      "metadata": {
        "id": "3uuVyY0YHaRV"
      }
    },
    {
      "cell_type": "code",
      "source": [
        "listl5 = [10,20,30,40,50]\n",
        "\n",
        "#Removing the element 40 by it's value\n",
        "listl5.remove(40)\n",
        "\n",
        "print (listl5)"
      ],
      "metadata": {
        "id": "Vt7yi0s4WvKw",
        "colab": {
          "base_uri": "https://localhost:8080/"
        },
        "outputId": "344c8927-fd9b-44f8-d40d-99b0fca8994a"
      },
      "execution_count": null,
      "outputs": [
        {
          "output_type": "stream",
          "name": "stdout",
          "text": [
            "[10, 20, 30, 50]\n"
          ]
        }
      ]
    },
    {
      "cell_type": "markdown",
      "source": [
        "6. Remove an element from a list by its index."
      ],
      "metadata": {
        "id": "82SGA2Sxg26W"
      }
    },
    {
      "cell_type": "code",
      "source": [
        "listl6 = [10,20,30,40,50]\n",
        "\n",
        "#Deleting the 4th element by it's index\n",
        "listl6.pop(4)\n",
        "\n",
        "print (listl6)"
      ],
      "metadata": {
        "colab": {
          "base_uri": "https://localhost:8080/"
        },
        "id": "N4a8eiX1gKAb",
        "outputId": "22655fb5-e881-4966-9e53-14509c582f74"
      },
      "execution_count": null,
      "outputs": [
        {
          "output_type": "stream",
          "name": "stdout",
          "text": [
            "[10, 20, 30, 40]\n"
          ]
        }
      ]
    },
    {
      "cell_type": "markdown",
      "source": [
        "7. Check if an element exists in a list."
      ],
      "metadata": {
        "id": "OZMUYH8Mh8D0"
      }
    },
    {
      "cell_type": "code",
      "source": [
        "listl7 = [10,20,30,40,50]\n",
        "\n",
        "element_to_check = 40\n",
        "\n",
        "#Checking if the element exists in the list\n",
        "if element_to_check in listl7 :\n",
        "  print (True)\n",
        "else :\n",
        "  print (False)"
      ],
      "metadata": {
        "colab": {
          "base_uri": "https://localhost:8080/"
        },
        "id": "8jKwzz1ZhFlr",
        "outputId": "add6827a-d6ee-4ef8-cd9e-d976eb0e5213"
      },
      "execution_count": null,
      "outputs": [
        {
          "output_type": "stream",
          "name": "stdout",
          "text": [
            "True\n"
          ]
        }
      ]
    },
    {
      "cell_type": "markdown",
      "source": [
        "8. Find the index of the first occurrence of an element in a list.\n"
      ],
      "metadata": {
        "id": "NNAh3KKqinUX"
      }
    },
    {
      "cell_type": "code",
      "source": [
        "listl8 = [10,20,30,40,50,50,40,30,20,10]\n",
        "\n",
        "index_of_40 = listl8.index(40)\n",
        "\n",
        "print (index_of_40)"
      ],
      "metadata": {
        "colab": {
          "base_uri": "https://localhost:8080/"
        },
        "id": "B9b2Qk2Iie9m",
        "outputId": "f0491eeb-7531-4059-8bb3-759a58c6fe0b"
      },
      "execution_count": null,
      "outputs": [
        {
          "output_type": "stream",
          "name": "stdout",
          "text": [
            "3\n"
          ]
        }
      ]
    },
    {
      "cell_type": "markdown",
      "source": [
        "9. Count the occurrences of an element in a list."
      ],
      "metadata": {
        "id": "ysXs80UIk_lV"
      }
    },
    {
      "cell_type": "code",
      "source": [
        "def count_occurence (listl9, target_element) :\n",
        "\n",
        "  #Counting the occurrences of the element using loop, took variable count having value 0 at the start\n",
        "  count = 0\n",
        "\n",
        "  #Iterating through the list and increasing count as per occurence of the target element\n",
        "  for char in listl9 :\n",
        "    if char == target_element :\n",
        "      count += 1\n",
        "  return count\n",
        "\n",
        "#Providing a list, calling def func and ultimately getting result\n",
        "listl9 = [10,20,30,40,50,50,40,30,20,10]\n",
        "result = count_occurence (listl9, 40)\n",
        "print (result)"
      ],
      "metadata": {
        "colab": {
          "base_uri": "https://localhost:8080/"
        },
        "id": "0qcCr7wZkMuh",
        "outputId": "fa1e428b-b1da-4f35-c96b-00ad6e31a08c"
      },
      "execution_count": null,
      "outputs": [
        {
          "output_type": "stream",
          "name": "stdout",
          "text": [
            "2\n"
          ]
        }
      ]
    },
    {
      "cell_type": "markdown",
      "source": [
        "10. Reverse the order of elements in a list."
      ],
      "metadata": {
        "id": "Fc_Dz4sgmiuw"
      }
    },
    {
      "cell_type": "code",
      "source": [
        "def reverse_order (listl10) :\n",
        "\n",
        "  #Creating an emplty list\n",
        "  reverse_list = []\n",
        "\n",
        "  #Iterating through the list and putting characters in the reverse order\n",
        "  for char in listl10 :\n",
        "    reverse_list = [char] + reverse_list\n",
        "  return reverse_list\n",
        "\n",
        "#Providing a list, calling def func and ultimately getting result\n",
        "listl10 = [10,20,30,40,50]\n",
        "result = reverse_order (listl10)\n",
        "print (result)"
      ],
      "metadata": {
        "colab": {
          "base_uri": "https://localhost:8080/"
        },
        "id": "-x6UreQ4ltu0",
        "outputId": "0ed5b037-0127-4a3f-b9d5-e17c96f3dff3"
      },
      "execution_count": null,
      "outputs": [
        {
          "output_type": "stream",
          "name": "stdout",
          "text": [
            "[50, 40, 30, 20, 10]\n"
          ]
        }
      ]
    },
    {
      "cell_type": "code",
      "source": [
        "listl10 = [10,20,30,40,50]\n",
        "\n",
        "#Reversing the order of elements in the list using slicing\n",
        "reverse_list10 = listl10[::-1]\n",
        "\n",
        "print (reverse_list10)"
      ],
      "metadata": {
        "colab": {
          "base_uri": "https://localhost:8080/"
        },
        "id": "bdmYVtlMnbiO",
        "outputId": "1962355d-5cc9-458a-b91d-3ae57d45223b"
      },
      "execution_count": null,
      "outputs": [
        {
          "output_type": "stream",
          "name": "stdout",
          "text": [
            "[50, 40, 30, 20, 10]\n"
          ]
        }
      ]
    },
    {
      "cell_type": "markdown",
      "source": [
        "11. Sort a list in ascending order."
      ],
      "metadata": {
        "id": "aOkt1okppUTq"
      }
    },
    {
      "cell_type": "code",
      "source": [
        "list_11 = [50, 40, 30, 20, 10]\n",
        "\n",
        "#Sorting the list in ascending order\n",
        "list_11.sort()\n",
        "\n",
        "print (list_11)"
      ],
      "metadata": {
        "colab": {
          "base_uri": "https://localhost:8080/"
        },
        "id": "dXGEbL6so6Nc",
        "outputId": "5c069c06-f3eb-46f7-e86e-f90082dd62a8"
      },
      "execution_count": null,
      "outputs": [
        {
          "output_type": "stream",
          "name": "stdout",
          "text": [
            "[10, 20, 30, 40, 50]\n"
          ]
        }
      ]
    },
    {
      "cell_type": "markdown",
      "source": [
        "12. Sort a list in descending order."
      ],
      "metadata": {
        "id": "NSUH3FKTCOnM"
      }
    },
    {
      "cell_type": "code",
      "source": [
        "list_12 = [50, 100, 310, 210, 10]\n",
        "\n",
        "#Sorting the list in ascending order\n",
        "list_12.sort(reverse=True)\n",
        "\n",
        "print (list_12)"
      ],
      "metadata": {
        "colab": {
          "base_uri": "https://localhost:8080/"
        },
        "id": "1EDjY8nPpmId",
        "outputId": "0192d1a8-68b7-4ac2-9943-4a196e65deef"
      },
      "execution_count": null,
      "outputs": [
        {
          "output_type": "stream",
          "name": "stdout",
          "text": [
            "[310, 210, 100, 50, 10]\n"
          ]
        }
      ]
    },
    {
      "cell_type": "markdown",
      "source": [
        "13. Create a list of even numbers from 1 to 20."
      ],
      "metadata": {
        "id": "YrIuNgghCljY"
      }
    },
    {
      "cell_type": "code",
      "source": [
        "#Creating a varible that would print a list of number starting from 2 till 21 with a step difference of 2\n",
        "even_num_till20 =  [value for value in range (2, 21, 2)]\n",
        "\n",
        "print (even_num_till20)"
      ],
      "metadata": {
        "colab": {
          "base_uri": "https://localhost:8080/"
        },
        "id": "rGkmRG33CUK-",
        "outputId": "cca28e1f-1cda-4fd0-bc78-c304f99b0104"
      },
      "execution_count": null,
      "outputs": [
        {
          "output_type": "stream",
          "name": "stdout",
          "text": [
            "[2, 4, 6, 8, 10, 12, 14, 16, 18, 20]\n"
          ]
        }
      ]
    },
    {
      "cell_type": "markdown",
      "source": [
        "14. Create a list of odd numbers from 1 to 20."
      ],
      "metadata": {
        "id": "C7BPBrIoEoq8"
      }
    },
    {
      "cell_type": "code",
      "source": [
        "#Creating a varible that would print a list of number starting from 1 till 20 with a step difference of 2\n",
        "odd_num_till20 =  [value for value in range (1, 20, 2)]\n",
        "\n",
        "print (odd_num_till20)"
      ],
      "metadata": {
        "colab": {
          "base_uri": "https://localhost:8080/"
        },
        "id": "ijQYfaOfDmgP",
        "outputId": "969d269b-9e5c-40c2-94f5-729a94bbe8d3"
      },
      "execution_count": null,
      "outputs": [
        {
          "output_type": "stream",
          "name": "stdout",
          "text": [
            "[1, 3, 5, 7, 9, 11, 13, 15, 17, 19]\n"
          ]
        }
      ]
    },
    {
      "cell_type": "markdown",
      "source": [
        "15. Find the sum of all elements in a list."
      ],
      "metadata": {
        "id": "5XzRDt6UFDfD"
      }
    },
    {
      "cell_type": "code",
      "source": [
        "list_15 = [1, 3, 5, 7, 9, 11, 13, 15, 17, 19]\n",
        "\n",
        "#Finding the sum of the value in the list\n",
        "sum_list_15 = sum(list_15)\n",
        "\n",
        "print (sum_list_15)"
      ],
      "metadata": {
        "colab": {
          "base_uri": "https://localhost:8080/"
        },
        "id": "mI9ORiEnE-4_",
        "outputId": "5eda8947-8e14-49f7-def4-494da9d90507"
      },
      "execution_count": null,
      "outputs": [
        {
          "output_type": "stream",
          "name": "stdout",
          "text": [
            "100\n"
          ]
        }
      ]
    },
    {
      "cell_type": "markdown",
      "source": [
        "16. Find the maximum value in a list."
      ],
      "metadata": {
        "id": "D2OIz46hF2d_"
      }
    },
    {
      "cell_type": "code",
      "source": [
        "list_16 = [1, 3, 5, 7, 9, 11, 13, 15, 17, 19]\n",
        "\n",
        "#Finding the maximum value in the list\n",
        "max_list_16 = max(list_16)\n",
        "\n",
        "print (max_list_16)"
      ],
      "metadata": {
        "colab": {
          "base_uri": "https://localhost:8080/"
        },
        "id": "-bgQDkZaFWuv",
        "outputId": "c65b8d3e-129d-4713-e9b4-a80f22b978b7"
      },
      "execution_count": null,
      "outputs": [
        {
          "output_type": "stream",
          "name": "stdout",
          "text": [
            "19\n"
          ]
        }
      ]
    },
    {
      "cell_type": "markdown",
      "source": [
        "17. Find the minimum value in a list."
      ],
      "metadata": {
        "id": "H3RkWj6CGZXw"
      }
    },
    {
      "cell_type": "code",
      "source": [
        "list_17 = [1, 3, 5, 7, 9, 11, 13, 15, 17, 19]\n",
        "\n",
        "#Finding the maximum value in the list\n",
        "min_list_17 = min(list_17)\n",
        "\n",
        "print (min_list_17)"
      ],
      "metadata": {
        "colab": {
          "base_uri": "https://localhost:8080/"
        },
        "id": "MiwJrKPiGKdW",
        "outputId": "bae504ad-d562-4b5b-d3a9-e4fb946d7330"
      },
      "execution_count": null,
      "outputs": [
        {
          "output_type": "stream",
          "name": "stdout",
          "text": [
            "1\n"
          ]
        }
      ]
    },
    {
      "cell_type": "markdown",
      "source": [
        "18. Create a list of squares of numbers from 1 to 10."
      ],
      "metadata": {
        "id": "n1XnTZ2GHEOp"
      }
    },
    {
      "cell_type": "code",
      "source": [
        "list_of_squares = []\n",
        "\n",
        "for i in range (1,11) :\n",
        "  list_of_squares = list_of_squares + [i*i]\n",
        "print (list_of_squares)"
      ],
      "metadata": {
        "colab": {
          "base_uri": "https://localhost:8080/"
        },
        "id": "QqcR0czAGkrg",
        "outputId": "44be90a7-af34-4eb8-898f-1ba8ce1e7b74"
      },
      "execution_count": null,
      "outputs": [
        {
          "output_type": "stream",
          "name": "stdout",
          "text": [
            "[1, 4, 9, 16, 25, 36, 49, 64, 81, 100]\n"
          ]
        }
      ]
    },
    {
      "cell_type": "markdown",
      "source": [
        "19. Create a list of random numbers."
      ],
      "metadata": {
        "id": "DLrCt86Mb6-o"
      }
    },
    {
      "cell_type": "code",
      "source": [
        "import random\n",
        "\n",
        "list_19 = [random.randint(1,100) for value in range (5)]\n",
        "\n",
        "print (list_19)"
      ],
      "metadata": {
        "id": "OjwYDtitJ6Ze",
        "colab": {
          "base_uri": "https://localhost:8080/"
        },
        "outputId": "8f71bc0b-51d7-424d-f5d7-9c2b8075faf4"
      },
      "execution_count": null,
      "outputs": [
        {
          "output_type": "stream",
          "name": "stdout",
          "text": [
            "[30, 99, 72, 69, 12]\n"
          ]
        }
      ]
    },
    {
      "cell_type": "markdown",
      "source": [
        "20. Remove duplicates from a list."
      ],
      "metadata": {
        "id": "wyRmulDeKnNR"
      }
    },
    {
      "cell_type": "code",
      "source": [
        "list_20 = [10,20,20,20,30,60,40]\n",
        "\n",
        "#Removing duplicates by converting list to a set and back to a list\n",
        "\n",
        "new_list_20 = list(set(list_20))\n",
        "\n",
        "print (new_list_20)"
      ],
      "metadata": {
        "id": "UgEbQreXdBWB",
        "colab": {
          "base_uri": "https://localhost:8080/"
        },
        "outputId": "7ec8b9a8-f804-4f38-c6b3-57c235d05ae1"
      },
      "execution_count": null,
      "outputs": [
        {
          "output_type": "stream",
          "name": "stdout",
          "text": [
            "[40, 10, 20, 60, 30]\n"
          ]
        }
      ]
    },
    {
      "cell_type": "markdown",
      "source": [
        "21. Find the common elements between two lists."
      ],
      "metadata": {
        "id": "LbXEPysVVrnV"
      }
    },
    {
      "cell_type": "code",
      "source": [
        "def common_element (a, b) :\n",
        "\n",
        "    a_set = set(a)\n",
        "    b_set = set(b)\n",
        "\n",
        "    #Finding the common elements between two lists by converting them to set\n",
        "    if (a_set & b_set):\n",
        "        print(a_set & b_set)\n",
        "    else:\n",
        "        print(\"No common elements\")\n",
        "\n",
        "#Providing 2 lists, calling def func and ultimately getting result\n",
        "a = [1, 2, 3, 4, 5]\n",
        "b = [5, 6, 7, 8, 9]\n",
        "common_element (a, b)"
      ],
      "metadata": {
        "colab": {
          "base_uri": "https://localhost:8080/"
        },
        "id": "2arLEMSPLQ9G",
        "outputId": "32101b06-c05a-4544-a5a3-6e2b9cc0f516"
      },
      "execution_count": null,
      "outputs": [
        {
          "output_type": "stream",
          "name": "stdout",
          "text": [
            "{5}\n"
          ]
        }
      ]
    },
    {
      "cell_type": "markdown",
      "source": [
        "22. Find the difference between two lists."
      ],
      "metadata": {
        "id": "9jhclk951iQ_"
      }
    },
    {
      "cell_type": "code",
      "source": [
        "list1 = [10, 20, 30, 40, 50]\n",
        "list2 = [30, 40, 50, 60, 70]\n",
        "\n",
        "#Finding the difference between lists using the difference() method\n",
        "difference = list (set(list1).difference(list2))\n",
        "\n",
        "print(\"Difference between lists:\", difference)"
      ],
      "metadata": {
        "colab": {
          "base_uri": "https://localhost:8080/"
        },
        "id": "aVKg_7vn0-vs",
        "outputId": "fd27f4e4-b7e5-436e-f6aa-a9cafe85be9b"
      },
      "execution_count": null,
      "outputs": [
        {
          "output_type": "stream",
          "name": "stdout",
          "text": [
            "Difference between lists: [20, 10]\n"
          ]
        }
      ]
    },
    {
      "cell_type": "markdown",
      "source": [
        "23. Merge two lists."
      ],
      "metadata": {
        "id": "JL7RrvsF4lZ4"
      }
    },
    {
      "cell_type": "code",
      "source": [
        "list1 = [10, 20, 30]\n",
        "list2 = [40, 50, 60]\n",
        "\n",
        "#Merging lists using the + operator\n",
        "merged_list = list1 + list2\n",
        "\n",
        "#Print the merged list\n",
        "print (merged_list)"
      ],
      "metadata": {
        "colab": {
          "base_uri": "https://localhost:8080/"
        },
        "id": "Z15fohj33PRz",
        "outputId": "8d2eb7d5-bc04-4691-dc44-1e5601cda09a"
      },
      "execution_count": null,
      "outputs": [
        {
          "output_type": "stream",
          "name": "stdout",
          "text": [
            "[10, 20, 30, 40, 50, 60]\n"
          ]
        }
      ]
    },
    {
      "cell_type": "markdown",
      "source": [
        "24. Multiply all elements in a list by 2."
      ],
      "metadata": {
        "id": "ZdrhcdIx43ey"
      }
    },
    {
      "cell_type": "code",
      "source": [
        "list_24 = [10, 20, 30, 40, 50]\n",
        "\n",
        "#Multiplying all elements by 2 using a list comprehension\n",
        "multiplied_list = [x * 2 for x in list_24]\n",
        "\n",
        "print (\"Multiplied list:\", multiplied_list)"
      ],
      "metadata": {
        "colab": {
          "base_uri": "https://localhost:8080/"
        },
        "id": "0TgUQhgG4z9h",
        "outputId": "2ba75eb4-0419-4d88-ac3a-65f3e2f971ef"
      },
      "execution_count": null,
      "outputs": [
        {
          "output_type": "stream",
          "name": "stdout",
          "text": [
            "Multiplied list: [20, 40, 60, 80, 100]\n"
          ]
        }
      ]
    },
    {
      "cell_type": "markdown",
      "source": [
        "25. Filter out all even numbers from a list."
      ],
      "metadata": {
        "id": "SrHhOoy2Wb_T"
      }
    },
    {
      "cell_type": "code",
      "source": [
        "def extraxt_even (list_25) :\n",
        "\n",
        "  even_list_25 = []\n",
        "\n",
        "  for value in list_25 :\n",
        "    if value % 2 == 0 :\n",
        "      even_list_25 += [value]\n",
        "  return even_list_25\n",
        "\n",
        "list_25 = [1,2,3,4,5,6,7,8,9]\n",
        "result = extraxt_even (list_25)\n",
        "print (result)"
      ],
      "metadata": {
        "colab": {
          "base_uri": "https://localhost:8080/"
        },
        "id": "tJEzJnDgWVri",
        "outputId": "b5dfd87c-93e0-4591-c3ab-915584ec800a"
      },
      "execution_count": null,
      "outputs": [
        {
          "output_type": "stream",
          "name": "stdout",
          "text": [
            "[2, 4, 6, 8]\n"
          ]
        }
      ]
    },
    {
      "cell_type": "markdown",
      "source": [
        "26. Convert a list of strings to a list of integers."
      ],
      "metadata": {
        "id": "FqhcyTdxYHY2"
      }
    },
    {
      "cell_type": "code",
      "source": [
        "string_list = [\"10\", \"20\", \"30\", \"40\", \"50\"]\n",
        "\n",
        "#Converting list of strings to list of integers using a list comprehension\n",
        "integer_list = [int(x) for x in string_list]\n",
        "\n",
        "print(\"List of integers :\", integer_list)"
      ],
      "metadata": {
        "colab": {
          "base_uri": "https://localhost:8080/"
        },
        "id": "c8psXa1uX_1E",
        "outputId": "818b9741-720b-45c0-c384-75a965bb4f66"
      },
      "execution_count": null,
      "outputs": [
        {
          "output_type": "stream",
          "name": "stdout",
          "text": [
            "List of integers : [10, 20, 30, 40, 50]\n"
          ]
        }
      ]
    },
    {
      "cell_type": "markdown",
      "source": [
        "27. Convert a list of integers to a list of strings."
      ],
      "metadata": {
        "id": "NhVay9t3dAW7"
      }
    },
    {
      "cell_type": "code",
      "source": [
        "int_list = [10, 20, 30, 40, 50]\n",
        "\n",
        "#Converting list of integer to list of strings using a list comprehension\n",
        "str_list = [str(x) for x in int_list]\n",
        "\n",
        "print (\"List of integers :\", str_list)"
      ],
      "metadata": {
        "colab": {
          "base_uri": "https://localhost:8080/"
        },
        "id": "7dYYL4rCc5SK",
        "outputId": "1757711d-ea3b-416a-8553-bb746ef85ee3"
      },
      "execution_count": null,
      "outputs": [
        {
          "output_type": "stream",
          "name": "stdout",
          "text": [
            "List of integers : ['10', '20', '30', '40', '50']\n"
          ]
        }
      ]
    },
    {
      "cell_type": "markdown",
      "source": [
        "28. Flatten a nested list."
      ],
      "metadata": {
        "id": "FmNufWVeeHFQ"
      }
    },
    {
      "cell_type": "code",
      "source": [
        "#Creating function to flatten a nested list\n",
        "def flatten_list(nested_list):\n",
        "    flattened = []\n",
        "\n",
        "    for sublist in nested_list:\n",
        "        if isinstance(sublist, list):\n",
        "            flattened.extend(flatten_list(sublist))\n",
        "        else:\n",
        "            flattened.append(sublist)\n",
        "    return flattened\n",
        "\n",
        "#Providing nested list, calling def func and ultimately getting result\n",
        "nested_list = [[1, 2, 3], [4, 5], [6, 7, 8, 9]]\n",
        "result = flatten_list(nested_list)\n",
        "print(result)"
      ],
      "metadata": {
        "colab": {
          "base_uri": "https://localhost:8080/"
        },
        "id": "2tZDN0H-dq1n",
        "outputId": "a5f0276a-0b59-49fb-8a3d-7a909b35735a"
      },
      "execution_count": null,
      "outputs": [
        {
          "output_type": "stream",
          "name": "stdout",
          "text": [
            "[1, 2, 3, 4, 5, 6, 7, 8, 9]\n"
          ]
        }
      ]
    },
    {
      "cell_type": "markdown",
      "source": [
        "29. Create a list of the first 10 Fibonacci numbers."
      ],
      "metadata": {
        "id": "1helzPwrfdYL"
      }
    },
    {
      "cell_type": "code",
      "source": [
        "#Creating function to generate the first n Fibonacci numbers\n",
        "def generate_fibonacci(n):\n",
        "\n",
        "    #Initializing the list with the first two Fibonacci numbers\n",
        "    fibonacci_list = [0, 1]\n",
        "\n",
        "    for i in range(2, n):\n",
        "        next_fibonacci = fibonacci_list[i - 1] + fibonacci_list[i - 2]\n",
        "        fibonacci_list.append(next_fibonacci)\n",
        "\n",
        "    return fibonacci_list\n",
        "\n",
        "# Generating the first 10 Fibonacci numbers\n",
        "fibonacci_numbers = generate_fibonacci(10)\n",
        "print(\"First 10 Fibonacci numbers:\", fibonacci_numbers)"
      ],
      "metadata": {
        "colab": {
          "base_uri": "https://localhost:8080/"
        },
        "id": "_Rd6umgRfC5_",
        "outputId": "1550cdb3-afcd-4ea9-b666-c1028a38c2ae"
      },
      "execution_count": null,
      "outputs": [
        {
          "output_type": "stream",
          "name": "stdout",
          "text": [
            "First 10 Fibonacci numbers: [0, 1, 1, 2, 3, 5, 8, 13, 21, 34]\n"
          ]
        }
      ]
    },
    {
      "cell_type": "markdown",
      "source": [
        "30. Check if a list is sorted."
      ],
      "metadata": {
        "id": "qjt5xxaigLuB"
      }
    },
    {
      "cell_type": "code",
      "source": [
        "#Creating function to check if a list is sorted in ascending order\n",
        "def is_list_sorted (list_30) :\n",
        "\n",
        "  for i in range(1, len(list_30)):\n",
        "      if list_30[i] < list_30[i-1]:\n",
        "          return False\n",
        "  return True\n",
        "\n",
        "#Providing sorted list, calling def func and ultimately getting result\n",
        "list_30 = [10, 20, 30, 40, 50]\n",
        "result = is_list_sorted (list_30)\n",
        "print (\"Is list sorted :\", result)"
      ],
      "metadata": {
        "colab": {
          "base_uri": "https://localhost:8080/"
        },
        "id": "pkFxUNd0f11I",
        "outputId": "d8f86f8a-1d3d-4098-e02a-60b6cf06b4dc"
      },
      "execution_count": null,
      "outputs": [
        {
          "output_type": "stream",
          "name": "stdout",
          "text": [
            "Is list sorted : True\n"
          ]
        }
      ]
    },
    {
      "cell_type": "markdown",
      "source": [
        "31. Rotate a list to the left by `n` positions."
      ],
      "metadata": {
        "id": "KPzsfdj2pXEM"
      }
    },
    {
      "cell_type": "code",
      "source": [
        "#Creating a function to rotate a list to the left by n positions\n",
        "def rotate_left(list_31, n):\n",
        "\n",
        "    n = n % len(list_31)\n",
        "    rotated = list_31[n:] + list_31[:n]\n",
        "    return rotated\n",
        "\n",
        "#Providing a list, calling def func and ultimately getting result\n",
        "list_31 = [1, 2, 3, 4, 5, 6]\n",
        "n = 2\n",
        "result = rotate_left(list_31, n)\n",
        "print(\"Rotated list:\", result)"
      ],
      "metadata": {
        "id": "glf_O0qlhP34",
        "colab": {
          "base_uri": "https://localhost:8080/"
        },
        "outputId": "0ec22620-d530-4cde-bc11-fb18b7b50a45"
      },
      "execution_count": null,
      "outputs": [
        {
          "output_type": "stream",
          "name": "stdout",
          "text": [
            "Rotated list: [3, 4, 5, 6, 1, 2]\n"
          ]
        }
      ]
    },
    {
      "cell_type": "markdown",
      "source": [
        "32. Rotate a list to the right by `n` positions."
      ],
      "metadata": {
        "id": "rAtzr9kRqX_c"
      }
    },
    {
      "cell_type": "code",
      "source": [
        "#Creating a function to rotate a list to the left by n positions\n",
        "def rotate_left(list_32, n):\n",
        "\n",
        "    n = n % len(list_32)\n",
        "    rotated = list_32 [len(list_32)-n:] + list_32 [:len(list_32)-n]\n",
        "    return rotated\n",
        "\n",
        "#Providing a list, calling def func and ultimately getting result\n",
        "list_32 = [1, 2, 3, 4, 5, 6]\n",
        "n = 2\n",
        "result = rotate_left(list_32, n)\n",
        "print(\"Rotated list:\", result)"
      ],
      "metadata": {
        "colab": {
          "base_uri": "https://localhost:8080/"
        },
        "id": "cLgDQwIHpv54",
        "outputId": "bf47a327-0e59-4eec-dd1c-d7b86ea2b800"
      },
      "execution_count": null,
      "outputs": [
        {
          "output_type": "stream",
          "name": "stdout",
          "text": [
            "Rotated list: [5, 6, 1, 2, 3, 4]\n"
          ]
        }
      ]
    },
    {
      "cell_type": "markdown",
      "source": [
        "33. Create a list of prime numbers up to 50."
      ],
      "metadata": {
        "id": "hxqiEvBzukO7"
      }
    },
    {
      "cell_type": "code",
      "source": [
        "def prime(x, y) :\n",
        "\n",
        "    prime_list = []\n",
        "\n",
        "    for i in range(x, y) :\n",
        "        if i == 0 or i == 1:\n",
        "            continue\n",
        "        else :\n",
        "            for j in range(2, int(i/2) + 1):\n",
        "                if i % j == 0:\n",
        "                    break\n",
        "            else :\n",
        "                prime_list.append(i)\n",
        "    return prime_list\n",
        "\n",
        "\n",
        "starting_range = 2\n",
        "ending_range = 50\n",
        "result = prime(starting_range, ending_range)\n",
        "if len(result) == 0:\n",
        "    print(\"There are no prime numbers in this range\")\n",
        "else:\n",
        "    print(\"The prime numbers in this range are: \", result)"
      ],
      "metadata": {
        "colab": {
          "base_uri": "https://localhost:8080/"
        },
        "id": "U54P1xd5sC2z",
        "outputId": "8c8233c5-5606-4ecd-ee24-48838ea69a54"
      },
      "execution_count": null,
      "outputs": [
        {
          "output_type": "stream",
          "name": "stdout",
          "text": [
            "The prime numbers in this range are:  [2, 3, 5, 7, 11, 13, 17, 19, 23, 29, 31, 37, 41, 43, 47]\n"
          ]
        }
      ]
    },
    {
      "cell_type": "markdown",
      "source": [
        "34. Split a list into chunks of size `n`."
      ],
      "metadata": {
        "id": "BcimtQlAuhMu"
      }
    },
    {
      "cell_type": "code",
      "source": [
        "list_34 = [1, 2, 3, 4, 5, 6, 7, 8, 9]\n",
        "n = 3\n",
        "\n",
        "for i in range(0, len(list_34), n):\n",
        "    x = i\n",
        "    print(list_34 [x: x + n])"
      ],
      "metadata": {
        "colab": {
          "base_uri": "https://localhost:8080/"
        },
        "id": "D3kYPZf5uUYf",
        "outputId": "56d57437-a463-4857-afeb-9030d4e7057e"
      },
      "execution_count": null,
      "outputs": [
        {
          "output_type": "stream",
          "name": "stdout",
          "text": [
            "[1, 2, 3]\n",
            "[4, 5, 6]\n",
            "[7, 8, 9]\n"
          ]
        }
      ]
    },
    {
      "cell_type": "markdown",
      "source": [
        "35. Find the second largest number in a list."
      ],
      "metadata": {
        "id": "64CjbwQgiS4d"
      }
    },
    {
      "cell_type": "code",
      "source": [
        "list_35 = [5, 20, 15, 30, 25]\n",
        "\n",
        "#Removing duplicates and sorting the list in ascending order\n",
        "sorted_list = sorted(set(list_35))\n",
        "\n",
        "if len(sorted_list) >= 2:\n",
        "    second_largest = sorted_list[-2]\n",
        "    print(\"Second largest number:\", second_largest)\n",
        "else:\n",
        "    print(\"The list does not contain enough elements.\")"
      ],
      "metadata": {
        "colab": {
          "base_uri": "https://localhost:8080/"
        },
        "id": "zaLsju_3gsL4",
        "outputId": "720571b6-64ba-4f4b-a64c-3853997e0a9f"
      },
      "execution_count": null,
      "outputs": [
        {
          "output_type": "stream",
          "name": "stdout",
          "text": [
            "Second largest number: 25\n"
          ]
        }
      ]
    },
    {
      "cell_type": "markdown",
      "source": [
        "36. Replace every element in a list with its square."
      ],
      "metadata": {
        "id": "gN1Gk6QMpeDU"
      }
    },
    {
      "cell_type": "code",
      "source": [
        "list_36 = [2, 4, 6, 8, 10]\n",
        "\n",
        "\n",
        "#Replacing every element with its square using a list comprehension\n",
        "squared_list = [x*x for x in list_36]\n",
        "\n",
        "print(\"Squared list:\", squared_list)"
      ],
      "metadata": {
        "colab": {
          "base_uri": "https://localhost:8080/"
        },
        "id": "j5na-WxfjrLl",
        "outputId": "7a83d35b-7afe-44f9-ca39-360cc0a0c45f"
      },
      "execution_count": null,
      "outputs": [
        {
          "output_type": "stream",
          "name": "stdout",
          "text": [
            "Squared list: [4, 16, 36, 64, 100]\n"
          ]
        }
      ]
    },
    {
      "cell_type": "markdown",
      "source": [
        "37. Convert a list to a dictionary where list elements become keys and their indices become values."
      ],
      "metadata": {
        "id": "wslVXwYopjLZ"
      }
    },
    {
      "cell_type": "code",
      "source": [
        "list_37 = [\"a\", \"b\", \"c\", \"d\", \"e\"]\n",
        "dic_37 = {}\n",
        "\n",
        "#Iterating through the list and providing list character as keys and their indexes as values\n",
        "for i in range (0, len(list_37)) :\n",
        "    dic_37 [list_37[i]] = i\n",
        "print (dic_37)"
      ],
      "metadata": {
        "id": "K-9ncjuOpMA-",
        "colab": {
          "base_uri": "https://localhost:8080/"
        },
        "outputId": "7892af7a-c38a-4dda-ae5c-8dcb85c53b90"
      },
      "execution_count": null,
      "outputs": [
        {
          "output_type": "stream",
          "name": "stdout",
          "text": [
            "{'a': 0, 'b': 1, 'c': 2, 'd': 3, 'e': 4}\n"
          ]
        }
      ]
    },
    {
      "cell_type": "markdown",
      "source": [
        "38. Shuffle the elements of a list randomly."
      ],
      "metadata": {
        "id": "u5nErZvmCrVl"
      }
    },
    {
      "cell_type": "code",
      "source": [
        "#Importing random library\n",
        "import random\n",
        "\n",
        "list_38 = [1,2,3,4,5,6,7,8,9]\n",
        "\n",
        "#Shuffling list using random.shuffle() function\n",
        "random.shuffle(list_38)\n",
        "\n",
        "print (list_38)"
      ],
      "metadata": {
        "colab": {
          "base_uri": "https://localhost:8080/"
        },
        "id": "oUDAVOkd6_Q2",
        "outputId": "f59a6a74-f865-4904-dbbe-57538eeb0e97"
      },
      "execution_count": null,
      "outputs": [
        {
          "output_type": "stream",
          "name": "stdout",
          "text": [
            "[7, 1, 3, 8, 4, 2, 9, 6, 5]\n"
          ]
        }
      ]
    },
    {
      "cell_type": "markdown",
      "source": [
        "39. Create a list of the first 10 factorial numbers."
      ],
      "metadata": {
        "id": "Y47W8LO5ElCV"
      }
    },
    {
      "cell_type": "code",
      "source": [
        "#Creating a function to calculate factorial\n",
        "def factorial (n) :\n",
        "    if n == 0 or n == 1 :\n",
        "        return 1\n",
        "    else :\n",
        "        return n * factorial (n - 1)\n",
        "\n",
        "#Creating a list of the first 10 factorial numbers\n",
        "result = [factorial (i) for i in range(10)]\n",
        "\n",
        "print (\"List of the first 10 factorial numbers:\", result)"
      ],
      "metadata": {
        "colab": {
          "base_uri": "https://localhost:8080/"
        },
        "id": "rD2LyT-fDuXU",
        "outputId": "84ce909d-18af-4619-e1e3-31d569dc3a6f"
      },
      "execution_count": null,
      "outputs": [
        {
          "output_type": "stream",
          "name": "stdout",
          "text": [
            "List of the first 10 factorial numbers: [1, 1, 2, 6, 24, 120, 720, 5040, 40320, 362880]\n"
          ]
        }
      ]
    },
    {
      "cell_type": "markdown",
      "source": [
        "40. Check if two lists have at least one element in common."
      ],
      "metadata": {
        "id": "zMQyRAxiAPJb"
      }
    },
    {
      "cell_type": "code",
      "source": [
        "# Creating a function to check if two lists have at least one element in common\n",
        "def has_common_element(list1, list2):\n",
        "\n",
        "    for item in list1:\n",
        "        if item in list2:\n",
        "            return True\n",
        "    return False\n",
        "\n",
        "#Providing two lists, calling def func and ultimately getting result\n",
        "list1 = [1, 2, 3, 4, 5]\n",
        "list2 = [4, 5, 6, 7, 8]\n",
        "result = has_common_element(list1, list2)\n",
        "print (result)"
      ],
      "metadata": {
        "id": "Zz--k6PSGbMV",
        "colab": {
          "base_uri": "https://localhost:8080/"
        },
        "outputId": "6ee1935a-b8c3-4807-82ac-4e6d78c6e9f1"
      },
      "execution_count": null,
      "outputs": [
        {
          "output_type": "stream",
          "name": "stdout",
          "text": [
            "True\n"
          ]
        }
      ]
    },
    {
      "cell_type": "markdown",
      "source": [
        "41. Remove all elements from a list."
      ],
      "metadata": {
        "id": "OIPxi_sTBvyb"
      }
    },
    {
      "cell_type": "code",
      "source": [
        "list_41 = [4, 5, 6, 7, 8]\n",
        "\n",
        "#Removing all elements of the list by using clear function\n",
        "list_41.clear()\n",
        "\n",
        "print (list_41)"
      ],
      "metadata": {
        "colab": {
          "base_uri": "https://localhost:8080/"
        },
        "id": "GOzrS4qFBn_s",
        "outputId": "82639310-c0d2-4b68-98fa-6198b4b5f8b5"
      },
      "execution_count": null,
      "outputs": [
        {
          "output_type": "stream",
          "name": "stdout",
          "text": [
            "[]\n"
          ]
        }
      ]
    },
    {
      "cell_type": "markdown",
      "source": [
        "42. Replace negative numbers in a list with 0."
      ],
      "metadata": {
        "id": "3cyy1xpCD7g6"
      }
    },
    {
      "cell_type": "code",
      "source": [
        "list_42 = [4, 5, -6, 7, -8]\n",
        "\n",
        "for i in range (0, len(list_42)) :\n",
        "\n",
        "  if list_42 [i] < 0 :\n",
        "    list_42 [i] = 0\n",
        "\n",
        "print (list_42)"
      ],
      "metadata": {
        "colab": {
          "base_uri": "https://localhost:8080/"
        },
        "id": "vEjcCLw4C7yf",
        "outputId": "f7c8aa6c-051a-4a5d-b5af-513c3065af20"
      },
      "execution_count": null,
      "outputs": [
        {
          "output_type": "stream",
          "name": "stdout",
          "text": [
            "[4, 5, 0, 7, 0]\n"
          ]
        }
      ]
    },
    {
      "cell_type": "markdown",
      "source": [
        "43. Convert a string into a list of words."
      ],
      "metadata": {
        "id": "sZ83HBJNGakY"
      }
    },
    {
      "cell_type": "code",
      "source": [
        "string_43 = \"This is a sample sentence.\"\n",
        "\n",
        "#Converting the string into a list of words\n",
        "word_list = string_43.split()\n",
        "\n",
        "print(\"List of words:\", word_list)"
      ],
      "metadata": {
        "id": "G9sgSy7XFwls",
        "colab": {
          "base_uri": "https://localhost:8080/"
        },
        "outputId": "42b48921-d0c0-4625-fab1-e9c7cb4eec51"
      },
      "execution_count": null,
      "outputs": [
        {
          "output_type": "stream",
          "name": "stdout",
          "text": [
            "List of words: ['This', 'is', 'a', 'sample', 'sentence.']\n"
          ]
        }
      ]
    },
    {
      "cell_type": "markdown",
      "source": [
        "44. Convert a list of words into a string."
      ],
      "metadata": {
        "id": "3pFLdYkd8lca"
      }
    },
    {
      "cell_type": "code",
      "source": [
        "list_44 = [\"This\", \"is\", \"a\", \"sample\", \"sentence.\"]\n",
        "\n",
        "#Converting the list of words into a string\n",
        "string_44 = \" \".join(word_list)\n",
        "\n",
        "print(\"Converted string:\", string_44)"
      ],
      "metadata": {
        "colab": {
          "base_uri": "https://localhost:8080/"
        },
        "id": "1BKXDVRS8KT4",
        "outputId": "8caf4a0a-0c6f-4696-c9ce-fabcb15dd077"
      },
      "execution_count": null,
      "outputs": [
        {
          "output_type": "stream",
          "name": "stdout",
          "text": [
            "Converted string: This is a sample sentence.\n"
          ]
        }
      ]
    },
    {
      "cell_type": "markdown",
      "source": [
        "45. Create a list of the first `n` powers of 2."
      ],
      "metadata": {
        "id": "Jgprhc_x9Bxr"
      }
    },
    {
      "cell_type": "code",
      "source": [
        "n = 5\n",
        "\n",
        "#Creating a list of the first n powers of 2 using a loop\n",
        "result = [i*i for i in range(n)]\n",
        "\n",
        "print(result)"
      ],
      "metadata": {
        "colab": {
          "base_uri": "https://localhost:8080/"
        },
        "id": "ohtNPtdK83M-",
        "outputId": "09fe4ece-6e62-4ba3-e502-5c263c276080"
      },
      "execution_count": null,
      "outputs": [
        {
          "output_type": "stream",
          "name": "stdout",
          "text": [
            "[0, 1, 4, 9, 16]\n"
          ]
        }
      ]
    },
    {
      "cell_type": "markdown",
      "source": [
        "46. Find the longest string in a list of strings."
      ],
      "metadata": {
        "id": "xKYeqXWY-TWy"
      }
    },
    {
      "cell_type": "code",
      "source": [
        "string_list = [\"apple\", \"banana\", \"cherry\", \"date\", \"elderberry\"]\n",
        "\n",
        "#Finding the longest string in the list\n",
        "longest_string = \"\"\n",
        "\n",
        "for value in string_list:\n",
        "    if len(value) > len(longest_string):\n",
        "        longest_string = value\n",
        "\n",
        "#Print the longest string\n",
        "print(\"Longest string:\", longest_string)"
      ],
      "metadata": {
        "colab": {
          "base_uri": "https://localhost:8080/"
        },
        "id": "6XOQ6_mL9_96",
        "outputId": "ec995b7a-35ad-4fd2-b916-26f7f74b352d"
      },
      "execution_count": null,
      "outputs": [
        {
          "output_type": "stream",
          "name": "stdout",
          "text": [
            "Longest string: elderberry\n"
          ]
        }
      ]
    },
    {
      "cell_type": "markdown",
      "source": [
        "47. Find the shortest string in a list of strings."
      ],
      "metadata": {
        "id": "glZ8N6Ir_zz6"
      }
    },
    {
      "cell_type": "code",
      "source": [
        "string_list = [\"apple\", \"banana\", \"cherry\", \"date\", \"elderberry\"]\n",
        "\n",
        "#Finding the shortest string in the list\n",
        "shortest_string = string_list[0]\n",
        "\n",
        "for value in string_list:\n",
        "    if len(value) < len(shortest_string) & len(value) > 0:\n",
        "        shortest_string = value\n",
        "\n",
        "#Print the longest string\n",
        "print(\"shortest string:\", shortest_string)"
      ],
      "metadata": {
        "colab": {
          "base_uri": "https://localhost:8080/"
        },
        "id": "rqfk-CxQ_uAb",
        "outputId": "4f7c0a84-be3d-4309-dd6d-0654163312f2"
      },
      "execution_count": null,
      "outputs": [
        {
          "output_type": "stream",
          "name": "stdout",
          "text": [
            "shortest string: apple\n"
          ]
        }
      ]
    },
    {
      "cell_type": "markdown",
      "source": [
        "48. Create a list of the first `n` triangular numbers."
      ],
      "metadata": {
        "id": "jwSH-2aHDOsY"
      }
    },
    {
      "cell_type": "code",
      "source": [
        "#Creating a function to create a list of the first n triangular numbers\n",
        "def triangular_numbers(n):\n",
        "    return [i * (i + 1) // 2 for i in range(1, n + 1)]\n",
        "\n",
        "result = triangular_numbers(n)\n",
        "print(result)"
      ],
      "metadata": {
        "colab": {
          "base_uri": "https://localhost:8080/"
        },
        "id": "o4IQR_EOABHW",
        "outputId": "1b733dfa-4b1a-4b4e-ac73-fc584e017d9f"
      },
      "execution_count": null,
      "outputs": [
        {
          "output_type": "stream",
          "name": "stdout",
          "text": [
            "[1, 3, 6, 10, 15]\n"
          ]
        }
      ]
    },
    {
      "cell_type": "markdown",
      "source": [
        "49. Check if a list contains another list as a subsequence."
      ],
      "metadata": {
        "id": "_yREdtpMDJUC"
      }
    },
    {
      "cell_type": "code",
      "source": [
        "def is_subsequence(list_1, list_2):\n",
        "    sub_index = 0\n",
        "    for item in list_1:\n",
        "        if item == list_2[sub_index]:\n",
        "            sub_index += 1\n",
        "            if sub_index == len(list_2):\n",
        "                return True\n",
        "    return False\n",
        "\n",
        "#Creating 2 lists and checking if the later list is a subsequene of the first list\n",
        "list_1 = [1, 2, 3, 4, 5, 6, 7]\n",
        "list_2 = [2, 4, 6]\n",
        "\n",
        "if is_subsequence(list_1, list_2):\n",
        "    print(\"List 2 is a subsequence of List 1\")\n",
        "else:\n",
        "    print(\"List 2 is not a subsequence of List 1\")"
      ],
      "metadata": {
        "id": "_9LYCWGdC6v4",
        "colab": {
          "base_uri": "https://localhost:8080/"
        },
        "outputId": "772c0724-86cc-4ca2-f143-b4460ba2b537"
      },
      "execution_count": 13,
      "outputs": [
        {
          "output_type": "stream",
          "name": "stdout",
          "text": [
            "List 2 is a subsequence of List 1\n"
          ]
        }
      ]
    },
    {
      "cell_type": "markdown",
      "source": [
        "50. Swap two elements in a list by their indices."
      ],
      "metadata": {
        "id": "imAd3eKVD7AG"
      }
    },
    {
      "cell_type": "code",
      "source": [
        "list_50 = [1, 2, 3, 4, 5]\n",
        "\n",
        "#Indexes of elements to be swapped\n",
        "index1 = 1\n",
        "index2 = 3\n",
        "\n",
        "# Swap the elements at the specified indices\n",
        "temp = list_50[index1]\n",
        "list_50 [index1] = list_50 [index2]\n",
        "list_50 [index2] = temp\n",
        "\n",
        "print(\"List after swapping elements:\", list_50)"
      ],
      "metadata": {
        "colab": {
          "base_uri": "https://localhost:8080/"
        },
        "id": "2Q0E50iBUoIp",
        "outputId": "d44eb06f-7179-4e94-e8cb-358000f0e141"
      },
      "execution_count": null,
      "outputs": [
        {
          "output_type": "stream",
          "name": "stdout",
          "text": [
            "List after swapping elements: [1, 4, 3, 2, 5]\n"
          ]
        }
      ]
    },
    {
      "cell_type": "markdown",
      "source": [
        "## **Tuple Based Practice Problem**\n",
        "\n",
        "---"
      ],
      "metadata": {
        "id": "rpZUnDzyUqz4"
      }
    },
    {
      "cell_type": "markdown",
      "source": [
        "1. Create a tuple with integers from 1 to 5."
      ],
      "metadata": {
        "id": "dOEDMetWVFcN"
      }
    },
    {
      "cell_type": "code",
      "source": [
        "#Creating a variable consiting tuple ranging from 1 to (6-1)\n",
        "x = tuple (range(1, 6))\n",
        "\n",
        "print (x)"
      ],
      "metadata": {
        "colab": {
          "base_uri": "https://localhost:8080/"
        },
        "id": "q_7ZwegxVKuJ",
        "outputId": "bbede39f-3f7f-46f6-916a-35f87f889564"
      },
      "execution_count": null,
      "outputs": [
        {
          "output_type": "stream",
          "name": "stdout",
          "text": [
            "(1, 2, 3, 4, 5)\n"
          ]
        }
      ]
    },
    {
      "cell_type": "markdown",
      "source": [
        "2. Access the third element of a tuple."
      ],
      "metadata": {
        "id": "YpiSeaUqXHcd"
      }
    },
    {
      "cell_type": "code",
      "source": [
        "#Creating a tuple with some elements\n",
        "tuple_2 = (10, 20, 30, 40, 50)\n",
        "\n",
        "#Accessing the third element (index 2) of the tuple\n",
        "third_element = tuple_2[2]\n",
        "\n",
        "print(\"The third element of the tuple is:\", third_element)"
      ],
      "metadata": {
        "colab": {
          "base_uri": "https://localhost:8080/"
        },
        "id": "MiPmcJq-WdeF",
        "outputId": "7fa6de52-8a43-4729-ecd3-7862fe6245ce"
      },
      "execution_count": null,
      "outputs": [
        {
          "output_type": "stream",
          "name": "stdout",
          "text": [
            "The third element of the tuple is: 30\n"
          ]
        }
      ]
    },
    {
      "cell_type": "markdown",
      "source": [
        "3. Find the length of a tuple without using the `len()` function."
      ],
      "metadata": {
        "id": "MO2s_5nBXLOG"
      }
    },
    {
      "cell_type": "code",
      "source": [
        "#Creating a tuple to find its length\n",
        "tuple_3 = (10, 20, 30, 40, 50)\n",
        "\n",
        "#Initializing a variable to count the elements\n",
        "count = 0\n",
        "\n",
        "#Iterating through the tuple and incrementing the count for each element\n",
        "for value in tuple_3:\n",
        "    count += 1\n",
        "\n",
        "print(\"The length of the tuple is:\", count)"
      ],
      "metadata": {
        "colab": {
          "base_uri": "https://localhost:8080/"
        },
        "id": "MDuHLtiPXDLy",
        "outputId": "f5c8f195-3df0-48b6-f654-befaefb3fdf6"
      },
      "execution_count": null,
      "outputs": [
        {
          "output_type": "stream",
          "name": "stdout",
          "text": [
            "The length of the tuple is: 5\n"
          ]
        }
      ]
    },
    {
      "cell_type": "markdown",
      "source": [
        "4. Count the occurrences of an element in a tuple."
      ],
      "metadata": {
        "id": "gQFGpJHwsUax"
      }
    },
    {
      "cell_type": "code",
      "source": [
        "#Creating a tuple\n",
        "tuple_4 = (10, 20, 30, 20, 40, 50, 20)\n",
        "\n",
        "#Chossing an element to count occurrences of\n",
        "element_to_count = 20\n",
        "\n",
        "#Initializing a variable to keep track of the count\n",
        "count = 0\n",
        "\n",
        "#Iterating through the tuple and count occurrences of the chosen element\n",
        "for item in tuple_4 :\n",
        "    if item == element_to_count :\n",
        "        count += 1\n",
        "\n",
        "#Printing the count of occurrences\n",
        "print(f\"The element {element_to_count} appears {count} times in the tuple.\")"
      ],
      "metadata": {
        "colab": {
          "base_uri": "https://localhost:8080/"
        },
        "id": "f-59JMPQsTod",
        "outputId": "51391dc4-dea3-4113-deb8-5ed391110b3c"
      },
      "execution_count": null,
      "outputs": [
        {
          "output_type": "stream",
          "name": "stdout",
          "text": [
            "The element 20 appears 3 times in the tuple.\n"
          ]
        }
      ]
    },
    {
      "cell_type": "markdown",
      "source": [
        "5. Find the index of the first occurrence of an element in a tuple."
      ],
      "metadata": {
        "id": "0DCJeU0NXuVY"
      }
    },
    {
      "cell_type": "code",
      "source": [
        "def find_index(element, tup):\n",
        "\n",
        "    index = 0\n",
        "\n",
        "    for item in tup:\n",
        "        if item == element:\n",
        "            return index\n",
        "        index += 1\n",
        "\n",
        "    #If the element is not found, return -1 or raise an exception, depending on your preference\n",
        "    return ValueError  # or raise ValueError(\"Element not found\")\n",
        "\n",
        "\n",
        "my_tuple = (10, 20, 30, 40, 50)\n",
        "element_to_find = 60\n",
        "print(\"Index of\", element_to_find, \"in tuple:\", find_index(element_to_find, my_tuple))"
      ],
      "metadata": {
        "colab": {
          "base_uri": "https://localhost:8080/"
        },
        "id": "JUC6VGApXqNp",
        "outputId": "6badfef9-f9d7-435a-c717-acc62053f936"
      },
      "execution_count": null,
      "outputs": [
        {
          "output_type": "stream",
          "name": "stdout",
          "text": [
            "Index of 60 in tuple: <class 'ValueError'>\n"
          ]
        }
      ]
    },
    {
      "cell_type": "markdown",
      "source": [
        "6. Check if an element exists in a tuple."
      ],
      "metadata": {
        "id": "CbfP82-MsxoK"
      }
    },
    {
      "cell_type": "code",
      "source": [
        "#Creating a tuple\n",
        "tuple_6 = (10, 20, 30, 40, 50)\n",
        "\n",
        "#Choosing the element to check for existence\n",
        "element_to_check = 10\n",
        "\n",
        "#Checking if the element exists in the tuple using the 'in' operator\n",
        "if element_to_check in tuple_6 :\n",
        "    print(f\"{element_to_check} exists in the tuple.\")\n",
        "else:\n",
        "    print(f\"{element_to_check} does not exist in the tuple.\")"
      ],
      "metadata": {
        "colab": {
          "base_uri": "https://localhost:8080/"
        },
        "id": "_2PNiG1xZu7A",
        "outputId": "f7853d1e-7914-44db-a5b7-d7b9838a354d"
      },
      "execution_count": null,
      "outputs": [
        {
          "output_type": "stream",
          "name": "stdout",
          "text": [
            "10 exists in the tuple.\n"
          ]
        }
      ]
    },
    {
      "cell_type": "markdown",
      "source": [
        "7. Convert a tuple to a list."
      ],
      "metadata": {
        "id": "T-qWLiwFtXnK"
      }
    },
    {
      "cell_type": "code",
      "source": [
        "#Creating a tuple\n",
        "tuple_7 = (10, 20, 30, 40, 50)\n",
        "\n",
        "#Converting the tuple to a list\n",
        "list_7 = list(my_tuple)\n",
        "\n",
        "#Printing the result list\n",
        "print(\"Tuple:\", tuple_7)\n",
        "print(\"List:\", list_7)"
      ],
      "metadata": {
        "colab": {
          "base_uri": "https://localhost:8080/"
        },
        "id": "JNivJNWatPAO",
        "outputId": "b6c89515-e472-4c45-b8a6-e153fc5988a4"
      },
      "execution_count": null,
      "outputs": [
        {
          "output_type": "stream",
          "name": "stdout",
          "text": [
            "Tuple: (10, 20, 30, 40, 50)\n",
            "List: [10, 20, 30, 40, 50]\n"
          ]
        }
      ]
    },
    {
      "cell_type": "markdown",
      "source": [
        "8. Convert a list to a tuple."
      ],
      "metadata": {
        "id": "YaGA45VqvRlj"
      }
    },
    {
      "cell_type": "code",
      "source": [
        "#Creating a tuple\n",
        "list_8 = [10, 20, 30, 40, 50]\n",
        "\n",
        "#Converting the list to a tuple\n",
        "tuple_8 = tuple(list_8)\n",
        "\n",
        "#Printing the result tuple\n",
        "print(\"List:\", list_8)\n",
        "print(\"Tuple:\", tuple_8)"
      ],
      "metadata": {
        "colab": {
          "base_uri": "https://localhost:8080/"
        },
        "id": "5dBnE5CKtnMg",
        "outputId": "521deca6-3d8d-43f0-c587-c7333b91e8c6"
      },
      "execution_count": null,
      "outputs": [
        {
          "output_type": "stream",
          "name": "stdout",
          "text": [
            "List: [10, 20, 30, 40, 50]\n",
            "Tuple: (10, 20, 30, 40, 50)\n"
          ]
        }
      ]
    },
    {
      "cell_type": "markdown",
      "source": [
        "9. Unpack the elements of a tuple into variables."
      ],
      "metadata": {
        "id": "JvSFW4Ewvqx_"
      }
    },
    {
      "cell_type": "code",
      "source": [
        "#Creating a tuple\n",
        "tuple_9 = (10, 20, 30)\n",
        "\n",
        "#Unpacking the elements of the tuple into variables\n",
        "var1, var2, var3 = tuple_9\n",
        "\n",
        "#Printing the result\n",
        "print(\"var1:\", var1)\n",
        "print(\"var2:\", var2)\n",
        "print(\"var3:\", var3)"
      ],
      "metadata": {
        "colab": {
          "base_uri": "https://localhost:8080/"
        },
        "id": "uED38l21vl8K",
        "outputId": "e18d890d-e7d1-400b-cbf9-c89db19bf962"
      },
      "execution_count": null,
      "outputs": [
        {
          "output_type": "stream",
          "name": "stdout",
          "text": [
            "var1: 10\n",
            "var2: 20\n",
            "var3: 30\n"
          ]
        }
      ]
    },
    {
      "cell_type": "markdown",
      "source": [
        "10. Create a tuple of even numbers from 1 to 10."
      ],
      "metadata": {
        "id": "Kr5MvSvFwSWM"
      }
    },
    {
      "cell_type": "code",
      "source": [
        "#Creating a list of even numbers using a list comprehension\n",
        "even_numbers_list = [num for num in range(2, 11, 2)]\n",
        "\n",
        "#Converting the list to a tuple\n",
        "even_numbers_tuple = tuple(even_numbers_list)\n",
        "\n",
        "#Printing the result\n",
        "print(\"Tuple of even numbers:\", even_numbers_tuple)"
      ],
      "metadata": {
        "colab": {
          "base_uri": "https://localhost:8080/"
        },
        "id": "A8e5wbpQwJg5",
        "outputId": "ea0daa9c-0af2-44d4-ec50-21da8727348a"
      },
      "execution_count": null,
      "outputs": [
        {
          "output_type": "stream",
          "name": "stdout",
          "text": [
            "Tuple of even numbers: (2, 4, 6, 8, 10)\n"
          ]
        }
      ]
    },
    {
      "cell_type": "markdown",
      "source": [
        "11. Create a tuple of odd numbers from 1 to 10."
      ],
      "metadata": {
        "id": "qq4BGqLVye9B"
      }
    },
    {
      "cell_type": "code",
      "source": [
        "#Creating a list of even numbers using a list comprehension\n",
        "odd_numbers_list = [num for num in range(1, 10, 2)]\n",
        "\n",
        "#Converting the list to a tuple\n",
        "odd_numbers_tuple = tuple(odd_numbers_list)\n",
        "\n",
        "#Print the result\n",
        "print(\"Tuple of odd numbers:\", odd_numbers_tuple)"
      ],
      "metadata": {
        "colab": {
          "base_uri": "https://localhost:8080/"
        },
        "id": "YBYSdc-_whFw",
        "outputId": "65ebef9e-f233-4934-ad4d-934e7891fdfc"
      },
      "execution_count": null,
      "outputs": [
        {
          "output_type": "stream",
          "name": "stdout",
          "text": [
            "Tuple of odd numbers: (1, 3, 5, 7, 9)\n"
          ]
        }
      ]
    },
    {
      "cell_type": "markdown",
      "source": [
        "12. Concatenate two tuples."
      ],
      "metadata": {
        "id": "0bSc6ngVzEA3"
      }
    },
    {
      "cell_type": "code",
      "source": [
        "#Creating two tuples\n",
        "tuple1 = (1, 2, 3)\n",
        "tuple2 = (4, 5, 6)\n",
        "\n",
        "#Concatenating the two tuples\n",
        "concatenated_tuple = tuple1 + tuple2\n",
        "\n",
        "#Printing the result\n",
        "print(\"Concatenated tuple:\", concatenated_tuple)"
      ],
      "metadata": {
        "colab": {
          "base_uri": "https://localhost:8080/"
        },
        "id": "teNqvHjTyqYv",
        "outputId": "c9fa1dfb-e557-4c3f-c46a-d5e77f180bc6"
      },
      "execution_count": null,
      "outputs": [
        {
          "output_type": "stream",
          "name": "stdout",
          "text": [
            "Concatenated tuple: (1, 2, 3, 4, 5, 6)\n"
          ]
        }
      ]
    },
    {
      "cell_type": "markdown",
      "source": [
        "13. Repeat a tuple three times."
      ],
      "metadata": {
        "id": "4rsSAMDTzcgi"
      }
    },
    {
      "cell_type": "code",
      "source": [
        "#Creating a tuple\n",
        "original_tuple = (1, 2, 3)\n",
        "\n",
        "#Repeating the tuple three times\n",
        "repeated_tuple = original_tuple * 3\n",
        "\n",
        "#Printing the result\n",
        "print(\"Repeated tuple:\", repeated_tuple)"
      ],
      "metadata": {
        "colab": {
          "base_uri": "https://localhost:8080/"
        },
        "id": "hJpph6rfzNCS",
        "outputId": "ab8eccd0-1f9b-4910-ae14-fe5df6a6df38"
      },
      "execution_count": null,
      "outputs": [
        {
          "output_type": "stream",
          "name": "stdout",
          "text": [
            "Repeated tuple: (1, 2, 3, 1, 2, 3, 1, 2, 3)\n"
          ]
        }
      ]
    },
    {
      "cell_type": "markdown",
      "source": [
        "14. Check if a tuple is empty."
      ],
      "metadata": {
        "id": "MQk2GA8ZzpZg"
      }
    },
    {
      "cell_type": "code",
      "source": [
        "#Creating an empty tuple to check if its empty or not\n",
        "tuple_14 = ()\n",
        "\n",
        "#Provide if-else conditions to check\n",
        "if len (tuple_14) == 0 :\n",
        "    print (\"Tuple is empty\")\n",
        "else:\n",
        "    print (\"Tuple is not empty\")\n"
      ],
      "metadata": {
        "colab": {
          "base_uri": "https://localhost:8080/"
        },
        "id": "hzjw_3NNzksz",
        "outputId": "c359129a-c184-4ae8-bfdb-20c2a17c2230"
      },
      "execution_count": null,
      "outputs": [
        {
          "output_type": "stream",
          "name": "stdout",
          "text": [
            "Tuple is empty\n"
          ]
        }
      ]
    },
    {
      "cell_type": "markdown",
      "source": [
        "15. Create a nested tuple."
      ],
      "metadata": {
        "id": "dTv_6r8K2WYm"
      }
    },
    {
      "cell_type": "code",
      "source": [
        "#Creating individual tuples\n",
        "tuple_15_1 = (1, 2, 3)\n",
        "tuple_15_2 = ('a', 'b', 'c')\n",
        "tuple_15_3 = (True, False)\n",
        "\n",
        "#Printing the nested tuple\n",
        "print(\"Nested tuple:\", tuple_15_1 + tuple_15_2 +tuple_15_3 )"
      ],
      "metadata": {
        "colab": {
          "base_uri": "https://localhost:8080/"
        },
        "id": "7FAr8d1p0M-B",
        "outputId": "81a49b65-924d-4063-c414-4140ba56b054"
      },
      "execution_count": null,
      "outputs": [
        {
          "output_type": "stream",
          "name": "stdout",
          "text": [
            "Nested tuple: (1, 2, 3, 'a', 'b', 'c', True, False)\n"
          ]
        }
      ]
    },
    {
      "cell_type": "markdown",
      "source": [
        "16. Access the first element of a nested tuple."
      ],
      "metadata": {
        "id": "n6uH44WA3oMM"
      }
    },
    {
      "cell_type": "code",
      "source": [
        "#Creating a nested tuple\n",
        "nested_tuple = ((1, 2, 3), ('a', 'b', 'c'), (True, False))\n",
        "\n",
        "#Accessing the first element of the nested tuple\n",
        "first_element = nested_tuple[0]\n",
        "\n",
        "#Printing the result\n",
        "print(\"First element of the nested tuple:\", first_element)"
      ],
      "metadata": {
        "colab": {
          "base_uri": "https://localhost:8080/"
        },
        "id": "cNHFoKa_23Oh",
        "outputId": "c8662d0b-8450-4c77-ef62-4629d7f0a872"
      },
      "execution_count": null,
      "outputs": [
        {
          "output_type": "stream",
          "name": "stdout",
          "text": [
            "First element of the nested tuple: (1, 2, 3)\n"
          ]
        }
      ]
    },
    {
      "cell_type": "markdown",
      "source": [
        "17. Create a tuple with a single element."
      ],
      "metadata": {
        "id": "sOXZTjEU3lH9"
      }
    },
    {
      "cell_type": "code",
      "source": [
        "#Creating a tuple with a single element\n",
        "single_element_tuple = (10,)  # Note the trailing comma\n",
        "\n",
        "#Printing the single element tuple\n",
        "print(\"Single element tuple:\", single_element_tuple)"
      ],
      "metadata": {
        "colab": {
          "base_uri": "https://localhost:8080/"
        },
        "id": "HGYrNNr_3dRR",
        "outputId": "bfab6d77-3f7f-429c-851c-16980cd10901"
      },
      "execution_count": null,
      "outputs": [
        {
          "output_type": "stream",
          "name": "stdout",
          "text": [
            "Single element tuple: (10,)\n"
          ]
        }
      ]
    },
    {
      "cell_type": "markdown",
      "source": [
        "18. Compare two tuples."
      ],
      "metadata": {
        "id": "ET-7fq-V43Wz"
      }
    },
    {
      "cell_type": "code",
      "source": [
        "#Creating two tuples\n",
        "tuple1 = (1, 2, 3)\n",
        "tuple2 = (1, 2, 4)\n",
        "\n",
        "#Comparing the two tuples using different comparison operators\n",
        "print(\"tuple1 == tuple2:\", tuple1 == tuple2)\n",
        "print(\"tuple1 != tuple2:\", tuple1 != tuple2)\n",
        "print(\"tuple1 < tuple2:\", tuple1 < tuple2)\n",
        "print(\"tuple1 <= tuple2:\", tuple1 <= tuple2)\n",
        "print(\"tuple1 > tuple2:\", tuple1 > tuple2)\n",
        "print(\"tuple1 >= tuple2:\", tuple1 >= tuple2)"
      ],
      "metadata": {
        "id": "xsAGiq5z4o17",
        "colab": {
          "base_uri": "https://localhost:8080/"
        },
        "outputId": "9b23cc8c-0770-4c77-ab7b-6d24baf8e5c3"
      },
      "execution_count": 12,
      "outputs": [
        {
          "output_type": "stream",
          "name": "stdout",
          "text": [
            "tuple1 == tuple2: False\n",
            "tuple1 != tuple2: True\n",
            "tuple1 < tuple2: True\n",
            "tuple1 <= tuple2: True\n",
            "tuple1 > tuple2: False\n",
            "tuple1 >= tuple2: False\n"
          ]
        }
      ]
    },
    {
      "cell_type": "markdown",
      "source": [
        "19. Delete a tuple."
      ],
      "metadata": {
        "id": "WMXfRCm445I7"
      }
    },
    {
      "cell_type": "code",
      "source": [
        "#Creating a tuple\n",
        "tuple_19 = (1, 2, 3, 4, 5)\n",
        "\n",
        "#Deleting the tuple using the 'del' statement\n",
        "del tuple_19\n",
        "\n",
        "#Trying to access the tuple (will raise a NameError)\n",
        "print(tuple_19)"
      ],
      "metadata": {
        "colab": {
          "base_uri": "https://localhost:8080/",
          "height": 183
        },
        "id": "Fs0EuINO49sL",
        "outputId": "bedfe439-68e0-40fa-b0c8-20b8c363feae"
      },
      "execution_count": null,
      "outputs": [
        {
          "output_type": "error",
          "ename": "NameError",
          "evalue": "name 'tuple_19' is not defined",
          "traceback": [
            "\u001b[0;31m---------------------------------------------------------------------------\u001b[0m",
            "\u001b[0;31mNameError\u001b[0m                                 Traceback (most recent call last)",
            "\u001b[0;32m<ipython-input-53-2f172dea427b>\u001b[0m in \u001b[0;36m<cell line: 8>\u001b[0;34m()\u001b[0m\n\u001b[1;32m      6\u001b[0m \u001b[0;34m\u001b[0m\u001b[0m\n\u001b[1;32m      7\u001b[0m \u001b[0;31m#Trying to access the tuple (will raise a NameError)\u001b[0m\u001b[0;34m\u001b[0m\u001b[0;34m\u001b[0m\u001b[0m\n\u001b[0;32m----> 8\u001b[0;31m \u001b[0mprint\u001b[0m\u001b[0;34m(\u001b[0m\u001b[0mtuple_19\u001b[0m\u001b[0;34m)\u001b[0m\u001b[0;34m\u001b[0m\u001b[0;34m\u001b[0m\u001b[0m\n\u001b[0m",
            "\u001b[0;31mNameError\u001b[0m: name 'tuple_19' is not defined"
          ]
        }
      ]
    },
    {
      "cell_type": "markdown",
      "source": [
        "20. Slice a tuple."
      ],
      "metadata": {
        "id": "cahsRfuI5RJa"
      }
    },
    {
      "cell_type": "code",
      "source": [
        "#Creating a tuple\n",
        "tuple_20 = (1, 2, 3, 4, 5, 6, 7, 8, 9, 10)\n",
        "\n",
        "#Slicing the tuple to get a portion of it\n",
        "sliced_tuple = tuple_20 [4:6]  # Elements from index 2 to 5 (end index is exclusive)\n",
        "\n",
        "#Printing the result\n",
        "print(\"Sliced tuple:\", sliced_tuple)"
      ],
      "metadata": {
        "colab": {
          "base_uri": "https://localhost:8080/"
        },
        "id": "CXYPbMgV5FvO",
        "outputId": "5072dcdf-006a-457d-d181-55c334983042"
      },
      "execution_count": null,
      "outputs": [
        {
          "output_type": "stream",
          "name": "stdout",
          "text": [
            "Sliced tuple: (5, 6)\n"
          ]
        }
      ]
    },
    {
      "cell_type": "markdown",
      "source": [
        "21. Find the maximum value in a tuple."
      ],
      "metadata": {
        "id": "JQbTK5qiYc6d"
      }
    },
    {
      "cell_type": "code",
      "source": [
        "#Creating a tuple\n",
        "tuple_21 = (10, 20, 5, 45, 30)\n",
        "\n",
        "#Finding the maximum value in the tuple using the 'max()' function\n",
        "max_value = max(tuple_21)\n",
        "\n",
        "#Printing the result\n",
        "print(\"Maximum value:\", max_value)"
      ],
      "metadata": {
        "id": "0NJDh_-f5g4d",
        "colab": {
          "base_uri": "https://localhost:8080/"
        },
        "outputId": "1eeda927-633b-4785-da38-2c60026f2083"
      },
      "execution_count": null,
      "outputs": [
        {
          "output_type": "stream",
          "name": "stdout",
          "text": [
            "Maximum value: 45\n"
          ]
        }
      ]
    },
    {
      "cell_type": "markdown",
      "source": [
        "22. Find the minimum value in a tuple."
      ],
      "metadata": {
        "id": "ZTkl7G_gX0e_"
      }
    },
    {
      "cell_type": "code",
      "source": [
        "#Creating a tuple\n",
        "tuple_22 = (10, 20, 5, 45, 30)\n",
        "\n",
        "#Finding the maximum value in the tuple using the 'max()' function\n",
        "min_value = min(tuple_22)\n",
        "\n",
        "#Printing the result\n",
        "print(\"Maximum value:\", min_value)"
      ],
      "metadata": {
        "colab": {
          "base_uri": "https://localhost:8080/"
        },
        "id": "-oqYQeCvYwht",
        "outputId": "66048e6e-335b-4aca-e1b3-e3cb472bec2c"
      },
      "execution_count": null,
      "outputs": [
        {
          "output_type": "stream",
          "name": "stdout",
          "text": [
            "Maximum value: 5\n"
          ]
        }
      ]
    },
    {
      "cell_type": "markdown",
      "source": [
        "23. Convert a string to a tuple of characters."
      ],
      "metadata": {
        "id": "maciK-mmZA8E"
      }
    },
    {
      "cell_type": "code",
      "source": [
        "#Creating a string\n",
        "string_23 = \"Hello, World!\"\n",
        "\n",
        "#Converting the string to a tuple of characters\n",
        "tuple_of_characters = tuple(string_23)\n",
        "\n",
        "#Printing the result\n",
        "print(\"Tuple of characters:\", tuple_of_characters)"
      ],
      "metadata": {
        "colab": {
          "base_uri": "https://localhost:8080/"
        },
        "id": "8cHxdc8YY-54",
        "outputId": "8e67b9e8-7b40-4ba3-83a0-b2422d5ad156"
      },
      "execution_count": null,
      "outputs": [
        {
          "output_type": "stream",
          "name": "stdout",
          "text": [
            "Tuple of characters: ('H', 'e', 'l', 'l', 'o', ',', ' ', 'W', 'o', 'r', 'l', 'd', '!')\n"
          ]
        }
      ]
    },
    {
      "cell_type": "markdown",
      "source": [
        "24. Convert a tuple of characters to a string."
      ],
      "metadata": {
        "id": "jQOsJr8Oa0Fa"
      }
    },
    {
      "cell_type": "code",
      "source": [
        "#Creating a tuple of characters\n",
        "tuple_of_characters = ('H', 'e', 'l', 'l', 'o', ' ', 'W', 'o', 'r', 'l', 'd', '!')\n",
        "\n",
        "#Converting the tuple of characters to a string using the 'join()' method\n",
        "string_from_tuple = ''.join(tuple_of_characters)\n",
        "\n",
        "#Printing the result\n",
        "print(\"String from tuple:\", string_from_tuple)"
      ],
      "metadata": {
        "colab": {
          "base_uri": "https://localhost:8080/"
        },
        "id": "7N4UXz4pZTq_",
        "outputId": "0d4f9b4d-a2ab-46e7-dda4-ee0de08b6995"
      },
      "execution_count": null,
      "outputs": [
        {
          "output_type": "stream",
          "name": "stdout",
          "text": [
            "String from tuple: Hello World!\n"
          ]
        }
      ]
    },
    {
      "cell_type": "markdown",
      "source": [
        "25. Create a tuple from multiple data types."
      ],
      "metadata": {
        "id": "I1gVKT_ubNQU"
      }
    },
    {
      "cell_type": "code",
      "source": [
        "#Creating a tuple with elements of different data types\n",
        "mixed_tuple = (1, \"hello\", 3.14, True)\n",
        "\n",
        "# Printing the tuple\n",
        "print(mixed_tuple)"
      ],
      "metadata": {
        "colab": {
          "base_uri": "https://localhost:8080/"
        },
        "id": "ucpRsNY2bFJi",
        "outputId": "1ed1236f-aed2-444b-96f0-1e4f0e5d409f"
      },
      "execution_count": null,
      "outputs": [
        {
          "output_type": "stream",
          "name": "stdout",
          "text": [
            "(1, 'hello', 3.14, True)\n"
          ]
        }
      ]
    },
    {
      "cell_type": "markdown",
      "source": [
        "26. Check if two tuples are identical."
      ],
      "metadata": {
        "id": "r23ik2ABcXhD"
      }
    },
    {
      "cell_type": "code",
      "source": [
        "#Creating two tuples\n",
        "tuple1 = (1, 2, 3)\n",
        "tuple2 = (1, 2, 3)\n",
        "tuple3 = (4, 5, 6)\n",
        "\n",
        "#Comparing the tuples for identity using the equality operator\n",
        "are_identical1 = tuple1 == tuple2\n",
        "are_identical2 = tuple1 == tuple3\n",
        "\n",
        "#Printing the results\n",
        "print(\"tuple1 and tuple2 are identical:\", are_identical1)\n",
        "print(\"tuple1 and tuple3 are identical:\", are_identical2)"
      ],
      "metadata": {
        "colab": {
          "base_uri": "https://localhost:8080/"
        },
        "id": "zUzNyQSQcRrr",
        "outputId": "320f5d3a-48e6-4a17-b7a3-e855f039ba95"
      },
      "execution_count": null,
      "outputs": [
        {
          "output_type": "stream",
          "name": "stdout",
          "text": [
            "tuple1 and tuple2 are identical: True\n",
            "tuple1 and tuple3 are identical: False\n"
          ]
        }
      ]
    },
    {
      "cell_type": "markdown",
      "source": [
        "27. Sort the elements of a tuple."
      ],
      "metadata": {
        "id": "3oNfv5zQdY82"
      }
    },
    {
      "cell_type": "code",
      "source": [
        "#Creating a tuple\n",
        "tuple_27 = (5, 2, 8, 1, 3)\n",
        "\n",
        "#Converting the tuple to a list, sort the list, and converting it back to a tuple\n",
        "sorted_tuple = tuple(sorted(my_tuple))\n",
        "\n",
        "#Printing the sorted tuple\n",
        "print(\"Sorted tuple:\", sorted_tuple)"
      ],
      "metadata": {
        "colab": {
          "base_uri": "https://localhost:8080/"
        },
        "id": "P7g2LrXFdFk_",
        "outputId": "461bba4d-fa04-4b68-9d3b-5d30a26ff985"
      },
      "execution_count": null,
      "outputs": [
        {
          "output_type": "stream",
          "name": "stdout",
          "text": [
            "Sorted tuple: (5, 10, 20, 30, 45)\n"
          ]
        }
      ]
    },
    {
      "cell_type": "markdown",
      "source": [
        "28. Convert a tuple of integers to a tuple of strings."
      ],
      "metadata": {
        "id": "x05NK3EJdw3y"
      }
    },
    {
      "cell_type": "code",
      "source": [
        "#Creating a tuple of integers\n",
        "tuple_of_integers = (1, 2, 3, 4, 5)\n",
        "\n",
        "#Converting the tuple of integers to a tuple of strings using a list comprehension\n",
        "tuple_of_strings = tuple(str(item) for item in tuple_of_integers)\n",
        "\n",
        "#Printing the result\n",
        "print(\"Tuple of strings:\", tuple_of_strings)"
      ],
      "metadata": {
        "colab": {
          "base_uri": "https://localhost:8080/"
        },
        "id": "bUY2isikdr03",
        "outputId": "8bc9f53b-e8a2-4a61-8f1c-5d2e42407919"
      },
      "execution_count": null,
      "outputs": [
        {
          "output_type": "stream",
          "name": "stdout",
          "text": [
            "Tuple of strings: ('1', '2', '3', '4', '5')\n"
          ]
        }
      ]
    },
    {
      "cell_type": "markdown",
      "source": [
        "29. Convert a tuple of strings to a tuple of integers."
      ],
      "metadata": {
        "id": "Jk8GzBzapXVb"
      }
    },
    {
      "cell_type": "code",
      "source": [
        "#Creating a tuple of strings\n",
        "tuple_of_strings = ('10', '20', '30', '40', '50')\n",
        "\n",
        "#Converting the tuple of strings to a tuple of integers using a list comprehension\n",
        "tuple_of_integers = tuple(int(item) for item in tuple_of_strings)\n",
        "\n",
        "#Print the tuple of integers\n",
        "print(\"Tuple of integers:\", tuple_of_integers)"
      ],
      "metadata": {
        "id": "l9mAahfOd9j3",
        "colab": {
          "base_uri": "https://localhost:8080/"
        },
        "outputId": "2b9c9f30-180b-4a0b-df2c-97007a4dc381"
      },
      "execution_count": null,
      "outputs": [
        {
          "output_type": "stream",
          "name": "stdout",
          "text": [
            "Tuple of integers: (10, 20, 30, 40, 50)\n"
          ]
        }
      ]
    },
    {
      "cell_type": "markdown",
      "source": [
        "30. Merge two tuples."
      ],
      "metadata": {
        "id": "6Vkn-CEzp9zC"
      }
    },
    {
      "cell_type": "code",
      "source": [
        "#Creating two tuples\n",
        "tuple1 = (1, 2, 3)\n",
        "tuple2 = (4, 5, 6)\n",
        "\n",
        "#Merging the two tuples using the '+' operator\n",
        "merged_tuple = tuple1 + tuple2\n",
        "\n",
        "#Printing the result\n",
        "print(\"Merged tuple:\", merged_tuple)"
      ],
      "metadata": {
        "colab": {
          "base_uri": "https://localhost:8080/"
        },
        "id": "VqIahP8qp2Sx",
        "outputId": "b988ddfe-78c3-4709-c038-c2681b7d8179"
      },
      "execution_count": null,
      "outputs": [
        {
          "output_type": "stream",
          "name": "stdout",
          "text": [
            "Merged tuple: (1, 2, 3, 4, 5, 6)\n"
          ]
        }
      ]
    },
    {
      "cell_type": "markdown",
      "source": [
        "31. Flatten a nested tuple."
      ],
      "metadata": {
        "id": "qHZix_kMqvDh"
      }
    },
    {
      "cell_type": "code",
      "source": [
        "#Creating function to flatten a nested tuple\n",
        "def flatten_tuple(nested_tuple):\n",
        "    flattened = []\n",
        "    for item in nested_tuple:\n",
        "        if isinstance(item, tuple):\n",
        "            flattened.extend(flatten_tuple(item))\n",
        "        else:\n",
        "            flattened.append(item)\n",
        "    return flattened\n",
        "\n",
        "#Creating a nested tuple\n",
        "nested_tuple = ((1, 2), (3, 4, 5), (6, (7, 8)))\n",
        "\n",
        "#Flattening the nested tuple\n",
        "flattened_tuple = tuple(flatten_tuple(nested_tuple))\n",
        "\n",
        "#Printing the flattened tuple\n",
        "print(\"Flattened tuple:\", flattened_tuple)"
      ],
      "metadata": {
        "colab": {
          "base_uri": "https://localhost:8080/"
        },
        "id": "oLBnbrFLqXAb",
        "outputId": "606b362b-07ad-4a9b-f511-9333eea3c304"
      },
      "execution_count": null,
      "outputs": [
        {
          "output_type": "stream",
          "name": "stdout",
          "text": [
            "Flattened tuple: (1, 2, 3, 4, 5, 6, 7, 8)\n"
          ]
        }
      ]
    },
    {
      "cell_type": "markdown",
      "source": [
        "32. Create a tuple of the first 5 prime numbers."
      ],
      "metadata": {
        "id": "U1Xwk40qrWd7"
      }
    },
    {
      "cell_type": "code",
      "source": [
        "#Creating function to check if a number is prime\n",
        "def is_prime(num):\n",
        "    if num <= 1:\n",
        "        return False\n",
        "    for i in range(2, int(num ** 0.5) + 1):\n",
        "        if num % i == 0:\n",
        "            return False\n",
        "    return True\n",
        "\n",
        "#Generating the first 5 prime numbers\n",
        "prime_numbers_list = [num for num in range(2, 100) if is_prime(num)][:5]\n",
        "\n",
        "#Converting the list to a tuple\n",
        "prime_numbers_tuple = tuple(prime_numbers_list)\n",
        "\n",
        "#Printing the tuple of prime numbers\n",
        "print(\"Tuple of the first 5 prime numbers:\", prime_numbers_tuple)"
      ],
      "metadata": {
        "colab": {
          "base_uri": "https://localhost:8080/"
        },
        "id": "7tQJBbB6rRvb",
        "outputId": "473d6ba8-7604-4691-c476-fc0c958e81c8"
      },
      "execution_count": null,
      "outputs": [
        {
          "output_type": "stream",
          "name": "stdout",
          "text": [
            "Tuple of the first 5 prime numbers: (2, 3, 5, 7, 11)\n"
          ]
        }
      ]
    },
    {
      "cell_type": "markdown",
      "source": [
        "33. Check if a tuple is a palindrome."
      ],
      "metadata": {
        "id": "vfqjChJStEWq"
      }
    },
    {
      "cell_type": "code",
      "source": [
        "#Creating function to check if a tuple is a palindrome\n",
        "def is_palindrome (tuple_33):\n",
        "    return tuple_33 == tuple_33[::-1]\n",
        "\n",
        "#Creating tuples for testing\n",
        "tuple_33_1 = (1, 2, 3, 2, 1)\n",
        "tuple_33_2 = (1, 2, 3, 4, 5)\n",
        "\n",
        "#Checking if the tuples are palindromes\n",
        "result_1 = is_palindrome(tuple_33_1)\n",
        "result_2 = is_palindrome(tuple_33_2)\n",
        "\n",
        "# Print the results\n",
        "print(\"First tuple is a palindrome:\", result_1)\n",
        "print(\"Second tuple is a palindrome:\", result_2)"
      ],
      "metadata": {
        "colab": {
          "base_uri": "https://localhost:8080/"
        },
        "id": "B20YA7JBtB8J",
        "outputId": "372ed512-6444-4618-e069-e2c1aec015ff"
      },
      "execution_count": null,
      "outputs": [
        {
          "output_type": "stream",
          "name": "stdout",
          "text": [
            "First tuple is a palindrome: True\n",
            "Second tuple is a palindrome: False\n"
          ]
        }
      ]
    },
    {
      "cell_type": "markdown",
      "source": [
        "34. Create a tuple of squares of numbers from 1 to 5."
      ],
      "metadata": {
        "id": "Syhfl78cv8VJ"
      }
    },
    {
      "cell_type": "code",
      "source": [
        "#Creating a tuple of squares using a list comprehension\n",
        "square_tuple = tuple (value * value for value in range (1,6))\n",
        "\n",
        "print (square_tuple)"
      ],
      "metadata": {
        "colab": {
          "base_uri": "https://localhost:8080/"
        },
        "id": "r22QOCUDvtiP",
        "outputId": "2996ece4-5a1d-476c-8450-4ac277ec2486"
      },
      "execution_count": null,
      "outputs": [
        {
          "output_type": "stream",
          "name": "stdout",
          "text": [
            "(1, 4, 9, 16, 25)\n"
          ]
        }
      ]
    },
    {
      "cell_type": "markdown",
      "source": [
        "35. Filter out all even numbers from a tuple."
      ],
      "metadata": {
        "id": "kpT-K5nkxMOk"
      }
    },
    {
      "cell_type": "code",
      "source": [
        "tuple_35 = (1,2,3,4,5,6,7,8,9)\n",
        "\n",
        "#Filtering out even numbers using a list comprehension\n",
        "tuple_35_even = tuple (value for value in tuple_35 if value%2 == 0)\n",
        "\n",
        "print (tuple_35_even)"
      ],
      "metadata": {
        "colab": {
          "base_uri": "https://localhost:8080/"
        },
        "id": "GJ9tV8hKwyQr",
        "outputId": "24fc8000-f60f-4af6-b4c8-a64ff301e4a0"
      },
      "execution_count": null,
      "outputs": [
        {
          "output_type": "stream",
          "name": "stdout",
          "text": [
            "(2, 4, 6, 8)\n"
          ]
        }
      ]
    },
    {
      "cell_type": "markdown",
      "source": [
        "36. Multiply all elements in a tuple by 2."
      ],
      "metadata": {
        "id": "OjP7qUG5y_v0"
      }
    },
    {
      "cell_type": "code",
      "source": [
        "tuple_36 = (1,2,3,4,5,6,7,8,9)\n",
        "\n",
        "#Multiplying all elemnet by 2 using a list comprehension\n",
        "tuple_36_multiply_2 = tuple (value * 2 for value in tuple_35)\n",
        "\n",
        "print (tuple_36_multiply_2)"
      ],
      "metadata": {
        "colab": {
          "base_uri": "https://localhost:8080/"
        },
        "id": "wGYaLHGux14g",
        "outputId": "0e69655c-798f-4da1-920b-c1a49a3b40cc"
      },
      "execution_count": null,
      "outputs": [
        {
          "output_type": "stream",
          "name": "stdout",
          "text": [
            "(2, 4, 6, 8, 10, 12, 14, 16, 18)\n"
          ]
        }
      ]
    },
    {
      "cell_type": "markdown",
      "source": [
        "37. Create a tuple of random numbers."
      ],
      "metadata": {
        "id": "_W1vSl_WzVg5"
      }
    },
    {
      "cell_type": "code",
      "source": [
        "import random\n",
        "\n",
        "#Creating tuple of random numbers using a list comprehension\n",
        "random_tuple = tuple(random.randint(1, 100) for value in range(10))\n",
        "\n",
        "#Printing the result\n",
        "print(\"Random tuple:\", random_tuple)"
      ],
      "metadata": {
        "colab": {
          "base_uri": "https://localhost:8080/"
        },
        "id": "iaJadlXjyuMc",
        "outputId": "2000adfa-b882-49ee-ea43-b54ad878270e"
      },
      "execution_count": null,
      "outputs": [
        {
          "output_type": "stream",
          "name": "stdout",
          "text": [
            "Random tuple: (48, 90, 44, 63, 72, 74, 62, 53, 30, 2)\n"
          ]
        }
      ]
    },
    {
      "cell_type": "markdown",
      "source": [
        "38. Check if a tuple is sorted."
      ],
      "metadata": {
        "id": "AEp8t_ULac9z"
      }
    },
    {
      "cell_type": "code",
      "source": [
        "#Creating function to check if a tuple is sorted\n",
        "def is_sorted (tuple_38) :\n",
        "  for i in range (0, len(tuple_38)) :\n",
        "    if tuple_38 [i] < tuple_38 [i-1] :\n",
        "      return False\n",
        "  return True\n",
        "\n",
        "#Creating tuple for testing\n",
        "tuple_38 = (5, 3, 1, 4, 2)\n",
        "\n",
        "#Checking if the tuples are sorted\n",
        "result = is_sorted (tuple_38)\n",
        "\n",
        "#Printing the result\n",
        "print(\"Tuple is sorted:\", result)"
      ],
      "metadata": {
        "colab": {
          "base_uri": "https://localhost:8080/"
        },
        "id": "Ge0pJ8FKzsXa",
        "outputId": "bd07a83a-163b-44db-cb63-d0b2c11f0154"
      },
      "execution_count": null,
      "outputs": [
        {
          "output_type": "stream",
          "name": "stdout",
          "text": [
            "Tuple is sorted: False\n"
          ]
        }
      ]
    },
    {
      "cell_type": "markdown",
      "source": [
        "39. Rotate a tuple to the left by `n` positions."
      ],
      "metadata": {
        "id": "tKNAGs6GcuBF"
      }
    },
    {
      "cell_type": "code",
      "source": [
        "def rotate_left (tuple_39, n) :\n",
        "\n",
        "  n = n % len(tuple_39)\n",
        "  tuple_39_rotated = tuple_39[n:] + tuple_39[:n]\n",
        "  return tuple_39_rotated\n",
        "\n",
        "tuple_39 = (1,2,3,4,5)\n",
        "n = 3\n",
        "result = rotate_left (tuple_39, n)\n",
        "print (result)"
      ],
      "metadata": {
        "colab": {
          "base_uri": "https://localhost:8080/"
        },
        "id": "ZfVLBNivbiHc",
        "outputId": "717cf6c9-f904-44d2-fa0f-eb0618e2661d"
      },
      "execution_count": null,
      "outputs": [
        {
          "output_type": "stream",
          "name": "stdout",
          "text": [
            "(4, 5, 1, 2, 3)\n"
          ]
        }
      ]
    },
    {
      "cell_type": "markdown",
      "source": [
        "40. Rotate a tuple to the right by `n` positions."
      ],
      "metadata": {
        "id": "XcrOnARped8V"
      }
    },
    {
      "cell_type": "code",
      "source": [
        "def rotate_right (tuple_39, n) :\n",
        "\n",
        "  n = n % len(tuple_39)\n",
        "  tuple_39_rotated = tuple_39[len(tuple_39)-n:] + tuple_39[:len(tuple_39) - n]\n",
        "  return tuple_39_rotated\n",
        "\n",
        "tuple_39 = (1,2,3,4,5)\n",
        "n = 2\n",
        "result = rotate_right (tuple_39, n)\n",
        "print (result)"
      ],
      "metadata": {
        "colab": {
          "base_uri": "https://localhost:8080/"
        },
        "id": "dt4IFzdWd5SC",
        "outputId": "6ad86a2c-483a-4be1-ba3a-ccf556b8ffcb"
      },
      "execution_count": null,
      "outputs": [
        {
          "output_type": "stream",
          "name": "stdout",
          "text": [
            "(4, 5, 1, 2, 3)\n"
          ]
        }
      ]
    },
    {
      "cell_type": "markdown",
      "source": [
        "41. Create a tuple of the first 5 Fibonacci numbers."
      ],
      "metadata": {
        "id": "E6HiXokrfuFB"
      }
    },
    {
      "cell_type": "code",
      "source": [
        "#Defining a function to generate the first n Fibonacci numbers\n",
        "def tuple_fibonacci (n) :\n",
        "\n",
        "  #Initializing the list with the first two Fibonacci numbers\n",
        "  fibtup = [0,1]\n",
        "\n",
        "  #Calculating and adding next elements till n\n",
        "  [fibtup.append(fibtup[-1] + fibtup[-2]) for i in range (2, n)]\n",
        "\n",
        "  return tuple(fibtup)\n",
        "\n",
        "\n",
        "result = tuple_fibonacci (5)\n",
        "print (result)"
      ],
      "metadata": {
        "colab": {
          "base_uri": "https://localhost:8080/"
        },
        "id": "DWA3UffUi8jm",
        "outputId": "de4edfa9-071b-4025-d0a4-3ebcb0f2f808"
      },
      "execution_count": null,
      "outputs": [
        {
          "output_type": "stream",
          "name": "stdout",
          "text": [
            "(0, 1, 1, 2, 3)\n"
          ]
        }
      ]
    },
    {
      "cell_type": "markdown",
      "source": [
        "42. Create a tuple from user input."
      ],
      "metadata": {
        "id": "PkGTEDVnqbBj"
      }
    },
    {
      "cell_type": "code",
      "source": [
        "#Takinging user input for creating a tuple\n",
        "input_str = input(\"Enter elements separated by commas: \")\n",
        "\n",
        "#Splitting the input string into a list of strings\n",
        "input_list = input_str.split(',')\n",
        "\n",
        "#Converting the list of strings to a tuple\n",
        "user_tuple = tuple(input_list)\n",
        "\n",
        "#Printing the result\n",
        "print(\"User input tuple:\", user_tuple)"
      ],
      "metadata": {
        "colab": {
          "base_uri": "https://localhost:8080/"
        },
        "id": "snCpFlQHnivx",
        "outputId": "753fe4db-6c12-4323-95cb-d2b54c7d8fea"
      },
      "execution_count": null,
      "outputs": [
        {
          "output_type": "stream",
          "name": "stdout",
          "text": [
            "Enter elements separated by commas: q,w,e,r,t,y\n",
            "User input tuple: ('q', 'w', 'e', 'r', 't', 'y')\n"
          ]
        }
      ]
    },
    {
      "cell_type": "markdown",
      "source": [
        "43. Swap two elements in a tuple."
      ],
      "metadata": {
        "id": "dO4ChBBhrO7o"
      }
    },
    {
      "cell_type": "code",
      "source": [
        "#Creating a tuple\n",
        "tuple_43 = ('q', 'w', 'e', 'r', 't', 'y')\n",
        "\n",
        "# Swap elements at indices 1 and 3\n",
        "a = 1\n",
        "b = 3\n",
        "swapped_tuple = tuple(\n",
        "    tuple_43[i] if i not in (a, b) else\n",
        "    tuple_43[b] if i == a else\n",
        "    tuple_43[a]\n",
        "    for i in range(len(tuple_43))\n",
        ")\n",
        "\n",
        "# Print the swapped tuple\n",
        "print(\"Swapped tuple:\", swapped_tuple)"
      ],
      "metadata": {
        "colab": {
          "base_uri": "https://localhost:8080/"
        },
        "id": "DUdMAn-SrDgZ",
        "outputId": "06cf5697-e776-48d1-a092-0964f479b079"
      },
      "execution_count": null,
      "outputs": [
        {
          "output_type": "stream",
          "name": "stdout",
          "text": [
            "Swapped tuple: ('q', 'r', 'e', 'w', 't', 'y')\n"
          ]
        }
      ]
    },
    {
      "cell_type": "markdown",
      "source": [
        "44. Reverse the elements of a tuple."
      ],
      "metadata": {
        "id": "2h0Ev7P8r9EE"
      }
    },
    {
      "cell_type": "code",
      "source": [
        "#Creating a tuple\n",
        "tuple_44 = (1, 2, 3, 4, 5)\n",
        "\n",
        "#Reversing the elements using slicing\n",
        "reversed_tuple = tuple_44[::-1]\n",
        "\n",
        "#Printing the reversed tuple\n",
        "print(\"Reversed tuple:\", reversed_tuple)"
      ],
      "metadata": {
        "colab": {
          "base_uri": "https://localhost:8080/"
        },
        "id": "yC9ka8Mnr4jY",
        "outputId": "b1132513-e64c-43ea-91d2-a7ea1a18cf18"
      },
      "execution_count": null,
      "outputs": [
        {
          "output_type": "stream",
          "name": "stdout",
          "text": [
            "Reversed tuple: (5, 4, 3, 2, 1)\n"
          ]
        }
      ]
    },
    {
      "cell_type": "markdown",
      "source": [
        "45. Create a tuple of the first `n` powers of 2."
      ],
      "metadata": {
        "id": "tt7JsK2GsNFG"
      }
    },
    {
      "cell_type": "code",
      "source": [
        "#Defining the value of n\n",
        "n = 5\n",
        "\n",
        "#Creating a tuple of the first n powers of 2 using a list comprehension\n",
        "powers_of_2_tuple = tuple(2 ** i for i in range(n))\n",
        "\n",
        "#Printing the tuple of powers of 2\n",
        "print(\"Tuple of the first\", n, \"powers of 2:\", powers_of_2_tuple)"
      ],
      "metadata": {
        "colab": {
          "base_uri": "https://localhost:8080/"
        },
        "id": "gp9Si8HJsHfv",
        "outputId": "ca471f4a-3c73-4302-bf6b-f58766b43199"
      },
      "execution_count": null,
      "outputs": [
        {
          "output_type": "stream",
          "name": "stdout",
          "text": [
            "Tuple of the first 5 powers of 2: (1, 2, 4, 8, 16)\n"
          ]
        }
      ]
    },
    {
      "cell_type": "markdown",
      "source": [
        "46. Find the longest string in a tuple of strings."
      ],
      "metadata": {
        "id": "wjMxTKIWtKSp"
      }
    },
    {
      "cell_type": "code",
      "source": [
        "#Creating a tuple of strings\n",
        "string_tuple = (\"apple\", \"banana\", \"grape\", \"kiwi\", \"watermelon\")\n",
        "\n",
        "#Finding the longest string in the tuple\n",
        "longest_string = max(string_tuple, key=len)\n",
        "\n",
        "#Printing the longest string\n",
        "print(\"Longest string:\", longest_string)"
      ],
      "metadata": {
        "colab": {
          "base_uri": "https://localhost:8080/"
        },
        "id": "4wHIWq1YsZ8f",
        "outputId": "909f3609-b056-45dd-c3af-05ab2d3c9952"
      },
      "execution_count": null,
      "outputs": [
        {
          "output_type": "stream",
          "name": "stdout",
          "text": [
            "Longest string: watermelon\n"
          ]
        }
      ]
    },
    {
      "cell_type": "markdown",
      "source": [
        "47. Find the shortest string in a tuple of strings."
      ],
      "metadata": {
        "id": "7GXEbWDGtZa1"
      }
    },
    {
      "cell_type": "code",
      "source": [
        "#Creating a tuple of strings\n",
        "string_tuple = (\"apple\", \"banana\", \"grape\", \"kiwi\", \"watermelon\")\n",
        "\n",
        "#Finding the shortest string in the tuple\n",
        "shortest_string = min(string_tuple, key=len)\n",
        "\n",
        "#Printing the shortest string\n",
        "print(\"Shortest string:\", shortest_string)"
      ],
      "metadata": {
        "colab": {
          "base_uri": "https://localhost:8080/"
        },
        "id": "GezcDYw7tW4I",
        "outputId": "91a7c2eb-de8f-4576-b10f-15b887277b72"
      },
      "execution_count": null,
      "outputs": [
        {
          "output_type": "stream",
          "name": "stdout",
          "text": [
            "Shortest string: kiwi\n"
          ]
        }
      ]
    },
    {
      "cell_type": "markdown",
      "source": [
        "48. Create a tuple of the first `n` triangular numbers."
      ],
      "metadata": {
        "id": "HZCHhHZ5tpLj"
      }
    },
    {
      "cell_type": "code",
      "source": [
        "#Defining the value of n\n",
        "n = 5\n",
        "\n",
        "#Creating a tuple of the first n triangular numbers using a list comprehension\n",
        "triangular_numbers_tuple = tuple((i * (i + 1)) // 2 for i in range(1, n + 1))\n",
        "\n",
        "#Printing the tuple of triangular numbers\n",
        "print(\"Tuple of the first\", n, \"triangular numbers:\", triangular_numbers_tuple)"
      ],
      "metadata": {
        "colab": {
          "base_uri": "https://localhost:8080/"
        },
        "id": "Eigxz46_ti4X",
        "outputId": "482c7a3b-e680-4110-c214-3b0b16c56928"
      },
      "execution_count": null,
      "outputs": [
        {
          "output_type": "stream",
          "name": "stdout",
          "text": [
            "Tuple of the first 5 triangular numbers: (1, 3, 6, 10, 15)\n"
          ]
        }
      ]
    },
    {
      "cell_type": "markdown",
      "source": [
        "49. Check if a tuple contains another tuple as a subsequence."
      ],
      "metadata": {
        "id": "mt_7_QD9t79-"
      }
    },
    {
      "cell_type": "code",
      "source": [
        "#Creating a function to check if a tuple contains another tuple as a subsequence\n",
        "def contains_subsequence(main_tuple, sub_tuple):\n",
        "    sub_length = len(sub_tuple)\n",
        "    for i in range(len(main_tuple) - sub_length + 1):\n",
        "        if main_tuple[i:i+sub_length] == sub_tuple:\n",
        "            return True\n",
        "    return False\n",
        "\n",
        "#Main tuple\n",
        "main_tuple = (1, 2, 3, 4, 5, 6, 7, 8, 9)\n",
        "\n",
        "#Subsequence tuple\n",
        "sub_tuple = (3, 4, 5)\n",
        "\n",
        "#Checking if the main tuple contains the subsequence tuple\n",
        "contains_subseq = contains_subsequence(main_tuple, sub_tuple)\n",
        "\n",
        "#Printing the result\n",
        "print(\"Main tuple contains subsequence tuple:\", contains_subseq)"
      ],
      "metadata": {
        "colab": {
          "base_uri": "https://localhost:8080/"
        },
        "id": "KvAwdJQxtxi6",
        "outputId": "dbe6fea0-4f5e-4d35-db9b-502025f301e8"
      },
      "execution_count": null,
      "outputs": [
        {
          "output_type": "stream",
          "name": "stdout",
          "text": [
            "Main tuple contains subsequence tuple: True\n"
          ]
        }
      ]
    },
    {
      "cell_type": "markdown",
      "source": [
        "50. Create a tuple of alternating 1s and 0s of length `n`."
      ],
      "metadata": {
        "id": "I6ypOv6cuJk2"
      }
    },
    {
      "cell_type": "code",
      "source": [
        "#Defining the value of n\n",
        "n = 10\n",
        "\n",
        "#Creating a tuple of alternating 1s and 0s using a list comprehension\n",
        "alternating_tuple = tuple(i % 2 for i in range(n))\n",
        "\n",
        "#Printing the result\n",
        "print(\"Tuple of alternating 1s and 0s:\", alternating_tuple)"
      ],
      "metadata": {
        "colab": {
          "base_uri": "https://localhost:8080/"
        },
        "id": "KILS0xJPuHoo",
        "outputId": "738222e3-fb23-44fb-bc1a-b1f5077ffbb8"
      },
      "execution_count": null,
      "outputs": [
        {
          "output_type": "stream",
          "name": "stdout",
          "text": [
            "Tuple of alternating 1s and 0s: (0, 1, 0, 1, 0, 1, 0, 1, 0, 1)\n"
          ]
        }
      ]
    },
    {
      "cell_type": "markdown",
      "source": [
        "## **Set Based Practice Problem**\n",
        "\n",
        "---\n",
        "\n"
      ],
      "metadata": {
        "id": "vhOgQIkyufz8"
      }
    },
    {
      "cell_type": "markdown",
      "source": [
        "1. Create a set with integers from 1 to 5."
      ],
      "metadata": {
        "id": "fPDDdwDGzOlh"
      }
    },
    {
      "cell_type": "code",
      "source": [
        "set_1 = set()\n",
        "\n",
        "#Adding integers from 1 to 5 to an empty set and printing out the result\n",
        "set_1.add(1)\n",
        "set_1.add(2)\n",
        "set_1.add(3)\n",
        "set_1.add(4)\n",
        "set_1.add(5)\n",
        "\n",
        "print (set_1)"
      ],
      "metadata": {
        "id": "cPQmpLQ_uYDb",
        "colab": {
          "base_uri": "https://localhost:8080/"
        },
        "outputId": "9a4073cf-02e6-4810-d2a9-4610fd96225d"
      },
      "execution_count": null,
      "outputs": [
        {
          "output_type": "stream",
          "name": "stdout",
          "text": [
            "{1, 2, 3, 4, 5}\n"
          ]
        }
      ]
    },
    {
      "cell_type": "markdown",
      "source": [
        "2. Add an element to a set."
      ],
      "metadata": {
        "id": "5YWivfXL1pyT"
      }
    },
    {
      "cell_type": "code",
      "source": [
        "set_2 = {1, 2, 3, 4, 5}\n",
        "\n",
        "#Adding one integers to an existing set and printing out the result\n",
        "set_2.add(6)\n",
        "\n",
        "print (set_2)"
      ],
      "metadata": {
        "colab": {
          "base_uri": "https://localhost:8080/"
        },
        "id": "qCrqc0_Kz4wm",
        "outputId": "4a4c3632-8a66-4c8b-b1c6-937922f85e48"
      },
      "execution_count": null,
      "outputs": [
        {
          "output_type": "stream",
          "name": "stdout",
          "text": [
            "{1, 2, 3, 4, 5, 6}\n"
          ]
        }
      ]
    },
    {
      "cell_type": "markdown",
      "source": [
        "3. Remove an element from a set."
      ],
      "metadata": {
        "id": "W0WcAbu034tT"
      }
    },
    {
      "cell_type": "code",
      "source": [
        "set_3 = {1, 2, 3, 4, 5, 6}\n",
        "\n",
        "#Removing one integers to an existing set and printing out the result\n",
        "set_3.remove(6)\n",
        "\n",
        "print (set_3)"
      ],
      "metadata": {
        "colab": {
          "base_uri": "https://localhost:8080/"
        },
        "id": "tTpUfdwu2Y8-",
        "outputId": "2fb08b02-a47a-4737-c44e-6998444f5e03"
      },
      "execution_count": null,
      "outputs": [
        {
          "output_type": "stream",
          "name": "stdout",
          "text": [
            "{1, 2, 3, 4, 5}\n"
          ]
        }
      ]
    },
    {
      "cell_type": "markdown",
      "source": [
        "4. Check if an element exists in a set."
      ],
      "metadata": {
        "id": "ewIaho817Y6g"
      }
    },
    {
      "cell_type": "code",
      "source": [
        "set_4 = {1, 2, 3, 4, 5}\n",
        "n = 4\n",
        "\n",
        "#Checking with the help of if-else statement to check if the element exists in the set\n",
        "if n in set_4 :\n",
        "  print (\"Element present in set :\", True)\n",
        "else :\n",
        "  print (\"Element present in set :\", False)"
      ],
      "metadata": {
        "colab": {
          "base_uri": "https://localhost:8080/"
        },
        "id": "gv4LwFvO4IHd",
        "outputId": "ca69f86e-60a2-4c85-a8c5-091bb0c8080b"
      },
      "execution_count": null,
      "outputs": [
        {
          "output_type": "stream",
          "name": "stdout",
          "text": [
            "Element present in set : True\n"
          ]
        }
      ]
    },
    {
      "cell_type": "markdown",
      "source": [
        "5. Find the length of a set without using the `len()` function."
      ],
      "metadata": {
        "id": "oVQ1zrxg9I2T"
      }
    },
    {
      "cell_type": "code",
      "source": [
        "set_5 = {1, 2, 3, 4, 5}\n",
        "count = 0\n",
        "\n",
        "#Iterating through each element in the set and adding in count one by one and printing the result\n",
        "for value in set_5 :\n",
        "  if value :\n",
        "    count += 1\n",
        "print (count)"
      ],
      "metadata": {
        "colab": {
          "base_uri": "https://localhost:8080/"
        },
        "id": "wDtrj3_x74rK",
        "outputId": "0e9c6d7d-1f07-4f56-c908-067762cccc1e"
      },
      "execution_count": null,
      "outputs": [
        {
          "output_type": "stream",
          "name": "stdout",
          "text": [
            "5\n"
          ]
        }
      ]
    },
    {
      "cell_type": "markdown",
      "source": [
        "6. Clear all elements from a set."
      ],
      "metadata": {
        "id": "Lv7QiaZ9-oaa"
      }
    },
    {
      "cell_type": "code",
      "source": [
        "set_6 = {1, 2, 3, 4, 5, 6}\n",
        "\n",
        "#Removing one integers to an existing set and printing out the result\n",
        "set_6.clear()\n",
        "\n",
        "print (set_6)"
      ],
      "metadata": {
        "colab": {
          "base_uri": "https://localhost:8080/"
        },
        "id": "hyHzUKjq-Uuu",
        "outputId": "dc8a1f1f-5371-46dd-fe41-54101659c1e0"
      },
      "execution_count": null,
      "outputs": [
        {
          "output_type": "stream",
          "name": "stdout",
          "text": [
            "set()\n"
          ]
        }
      ]
    },
    {
      "cell_type": "markdown",
      "source": [
        "7. Create a set of even numbers from 1 to 10."
      ],
      "metadata": {
        "id": "lwFedaMsEmVh"
      }
    },
    {
      "cell_type": "code",
      "source": [
        "even_numbers_set = set()\n",
        "\n",
        "#Iterating through numbers from 1 to 10 and printing out only the even numbers\n",
        "for num in range(1, 11):\n",
        "    if num % 2 == 0:\n",
        "        even_numbers_set.add(num)\n",
        "print(even_numbers_set)"
      ],
      "metadata": {
        "colab": {
          "base_uri": "https://localhost:8080/"
        },
        "id": "R2maK8AjEjPU",
        "outputId": "57a5da12-0ccb-4350-8f97-542b19fc1956"
      },
      "execution_count": null,
      "outputs": [
        {
          "output_type": "stream",
          "name": "stdout",
          "text": [
            "{2, 4, 6, 8, 10}\n"
          ]
        }
      ]
    },
    {
      "cell_type": "markdown",
      "source": [
        "8. Create a set of odd numbers from 1 to 10."
      ],
      "metadata": {
        "id": "EFDpKQXUFml-"
      }
    },
    {
      "cell_type": "code",
      "source": [
        "odd_numbers_set = set()\n",
        "\n",
        "#Iterating through numbers from 1 to 10 and printing out only the odd numbers\n",
        "for num in range(1, 10):\n",
        "    if num % 2 != 0:\n",
        "        odd_numbers_set.add(num)\n",
        "print(odd_numbers_set)"
      ],
      "metadata": {
        "colab": {
          "base_uri": "https://localhost:8080/"
        },
        "id": "DwiUfV7pFkS5",
        "outputId": "3b4b1535-7291-4b07-bfc0-f282e5b73e5a"
      },
      "execution_count": null,
      "outputs": [
        {
          "output_type": "stream",
          "name": "stdout",
          "text": [
            "{1, 3, 5, 7, 9}\n"
          ]
        }
      ]
    },
    {
      "cell_type": "markdown",
      "source": [
        "9. Find the union of two sets."
      ],
      "metadata": {
        "id": "-r_Ai4GWF5Lt"
      }
    },
    {
      "cell_type": "code",
      "source": [
        "#Defining two sets\n",
        "set1 = {1, 2, 3, 4, 5}\n",
        "set2 = {4, 5, 6, 7, 8}\n",
        "\n",
        "#Finding the union of the two sets using the `union()` method\n",
        "union_result = set1.union(set2)\n",
        "\n",
        "#Print the result\n",
        "print(\"Set 1:\", set1)\n",
        "print(\"Set 2:\", set2)\n",
        "print(\"Union of Set 1 and Set 2:\", union_result)"
      ],
      "metadata": {
        "id": "hwDvF_PkFwSI",
        "colab": {
          "base_uri": "https://localhost:8080/"
        },
        "outputId": "e42117d9-94ce-4db4-eeb2-2e5c2f6c97d2"
      },
      "execution_count": null,
      "outputs": [
        {
          "output_type": "stream",
          "name": "stdout",
          "text": [
            "Set 1: {1, 2, 3, 4, 5}\n",
            "Set 2: {4, 5, 6, 7, 8}\n",
            "Union of Set 1 and Set 2: {1, 2, 3, 4, 5, 6, 7, 8}\n"
          ]
        }
      ]
    },
    {
      "cell_type": "markdown",
      "source": [
        "10. Find the intersection of two sets."
      ],
      "metadata": {
        "id": "8WhG6QWc-uPc"
      }
    },
    {
      "cell_type": "code",
      "source": [
        "#Defining two sets\n",
        "set1 = {1, 2, 3, 4, 5}\n",
        "set2 = {4, 5, 6, 7, 8}\n",
        "\n",
        "#Finding the intersection of the two sets using the `intersection()` method\n",
        "intersection_result = set1.intersection(set2)\n",
        "\n",
        "#Print the result\n",
        "print(\"Set 1:\", set1)\n",
        "print(\"Set 2:\", set2)\n",
        "print(\"Intersection of Set 1 and Set 2:\", intersection_result)"
      ],
      "metadata": {
        "colab": {
          "base_uri": "https://localhost:8080/"
        },
        "id": "Tt9pZAcq-OaO",
        "outputId": "0c30039c-1435-4ae2-ac07-16ed60c31aff"
      },
      "execution_count": null,
      "outputs": [
        {
          "output_type": "stream",
          "name": "stdout",
          "text": [
            "Set 1: {1, 2, 3, 4, 5}\n",
            "Set 2: {4, 5, 6, 7, 8}\n",
            "Intersection of Set 1 and Set 2: {4, 5}\n"
          ]
        }
      ]
    },
    {
      "cell_type": "markdown",
      "source": [
        "11. Find the difference between two sets."
      ],
      "metadata": {
        "id": "f1Tmw2Sk-yp_"
      }
    },
    {
      "cell_type": "code",
      "source": [
        "#Defining two sets\n",
        "set1 = {1, 2, 3, 4, 5}\n",
        "set2 = {4, 5, 6, 7, 8}\n",
        "\n",
        "#Finding the difference of the two sets using the `difference()` method\n",
        "difference_result = set1.difference(set2)\n",
        "\n",
        "#Print the result\n",
        "print(\"Set 1:\", set1)\n",
        "print(\"Set 2:\", set2)\n",
        "print(\"Difference of Set 1 and Set 2:\", difference_result)"
      ],
      "metadata": {
        "colab": {
          "base_uri": "https://localhost:8080/"
        },
        "id": "sJ7iLNkt-kjh",
        "outputId": "bb377399-2b9b-4ff8-8a08-5805b0549fe6"
      },
      "execution_count": null,
      "outputs": [
        {
          "output_type": "stream",
          "name": "stdout",
          "text": [
            "Set 1: {1, 2, 3, 4, 5}\n",
            "Set 2: {4, 5, 6, 7, 8}\n",
            "Difference of Set 1 and Set 2: {1, 2, 3}\n"
          ]
        }
      ]
    },
    {
      "cell_type": "markdown",
      "source": [
        "12. Check if a set is a subset of another set."
      ],
      "metadata": {
        "id": "LSy3nDgg_MM8"
      }
    },
    {
      "cell_type": "code",
      "source": [
        "#Defining two sets\n",
        "set1 = {1, 2, 3, 4, 5}\n",
        "set2 = {4, 5, 6, 7, 8}\n",
        "\n",
        "#Finding if set1 is a subset of set2 using the `issubset()` method\n",
        "issubset_result = set1.issubset(set2)\n",
        "\n",
        "#Print the result\n",
        "print(\"Set 1:\", set1)\n",
        "print(\"Set 2:\", set2)\n",
        "print(\"Is Set 1 a subset of Set 2:\", issubset_result)"
      ],
      "metadata": {
        "colab": {
          "base_uri": "https://localhost:8080/"
        },
        "id": "GbmFf75l_F7f",
        "outputId": "e37f4aca-2fbd-48cf-ae6f-82e85cfd29d9"
      },
      "execution_count": null,
      "outputs": [
        {
          "output_type": "stream",
          "name": "stdout",
          "text": [
            "Set 1: {1, 2, 3, 4, 5}\n",
            "Set 2: {4, 5, 6, 7, 8}\n",
            "Is Set 1 a subset of Set 2: False\n"
          ]
        }
      ]
    },
    {
      "cell_type": "markdown",
      "source": [
        "13. Check if a set is a superset of another set."
      ],
      "metadata": {
        "id": "XPXI48kG_7Zg"
      }
    },
    {
      "cell_type": "code",
      "source": [
        "#Defining two sets\n",
        "set1 = {1, 2, 3, 4, 5, 6, 7, 8}\n",
        "set2 = {4, 5, 6, 7, 8}\n",
        "\n",
        "#Finding if set1 is a subset of set2 using the `issuperset()` method\n",
        "issuperset_result = set1.issuperset(set2)\n",
        "\n",
        "#Print the result\n",
        "print(\"Set 1:\", set1)\n",
        "print(\"Set 2:\", set2)\n",
        "print(\"Is Set 1 a superset of Set 2:\", issuperset_result)"
      ],
      "metadata": {
        "colab": {
          "base_uri": "https://localhost:8080/"
        },
        "id": "nuoJ3eKD_yWS",
        "outputId": "a863396d-0e8f-45f4-8daa-01e466b8bf17"
      },
      "execution_count": null,
      "outputs": [
        {
          "output_type": "stream",
          "name": "stdout",
          "text": [
            "Set 1: {1, 2, 3, 4, 5, 6, 7, 8}\n",
            "Set 2: {4, 5, 6, 7, 8}\n",
            "Is Set 1 a superset of Set 2: True\n"
          ]
        }
      ]
    },
    {
      "cell_type": "markdown",
      "source": [
        "14. Create a set from a list."
      ],
      "metadata": {
        "id": "JowD0NF0AVXK"
      }
    },
    {
      "cell_type": "code",
      "source": [
        "#Defining a list\n",
        "list_14 = [1, 2, 3, 4, 5, 6, 7, 8]\n",
        "\n",
        "#Converting the list into a set & printing the result\n",
        "set_14 = set(list_14)\n",
        "\n",
        "print (set_14)"
      ],
      "metadata": {
        "colab": {
          "base_uri": "https://localhost:8080/"
        },
        "id": "tZI2I8JMAQZB",
        "outputId": "a2a581fa-4398-42d6-8343-6215f970af31"
      },
      "execution_count": null,
      "outputs": [
        {
          "output_type": "stream",
          "name": "stdout",
          "text": [
            "{1, 2, 3, 4, 5, 6, 7, 8}\n"
          ]
        }
      ]
    },
    {
      "cell_type": "markdown",
      "source": [
        "15. Convert a set to a list."
      ],
      "metadata": {
        "id": "B_wsPcLjA6D6"
      }
    },
    {
      "cell_type": "code",
      "source": [
        "#Defining a set\n",
        "set_15 = {1, 2, 3, 4, 5, 6, 7, 8}\n",
        "\n",
        "#Converting the set into a list & printing the result\n",
        "list_15 = list(set_14)\n",
        "\n",
        "print (list_15)"
      ],
      "metadata": {
        "colab": {
          "base_uri": "https://localhost:8080/"
        },
        "id": "3XVsootsAsg-",
        "outputId": "9c4f0215-391a-4a52-ff0b-e2187c8260cf"
      },
      "execution_count": null,
      "outputs": [
        {
          "output_type": "stream",
          "name": "stdout",
          "text": [
            "[1, 2, 3, 4, 5, 6, 7, 8]\n"
          ]
        }
      ]
    },
    {
      "cell_type": "markdown",
      "source": [
        "16. Remove a random element from a set."
      ],
      "metadata": {
        "id": "EeuhnOGrBNEb"
      }
    },
    {
      "cell_type": "code",
      "source": [
        "import random\n",
        "\n",
        "#Defining a set\n",
        "set_16 = {1, 2, 3, 4, 5, 6, 7, 8}\n",
        "\n",
        "#Selecting a random element using the random.choice() function by converting the given set into a list\n",
        "random_element = random.choice(list(set_16))\n",
        "\n",
        "#Using remove function choosing the random_element and printing out the result\n",
        "set_16.remove(random_element)\n",
        "\n",
        "print (set_16)"
      ],
      "metadata": {
        "colab": {
          "base_uri": "https://localhost:8080/"
        },
        "id": "sA3XwtmCBGwu",
        "outputId": "ff0d8b0c-4356-41a9-b0cc-66a5176a9e76"
      },
      "execution_count": null,
      "outputs": [
        {
          "output_type": "stream",
          "name": "stdout",
          "text": [
            "{2, 3, 4, 5, 6, 7, 8}\n"
          ]
        }
      ]
    },
    {
      "cell_type": "markdown",
      "source": [
        "17. Pop an element from a set."
      ],
      "metadata": {
        "id": "iQhuYyaXDY8M"
      }
    },
    {
      "cell_type": "code",
      "source": [
        "#Creating a set\n",
        "set_17 = {0, 1, 2, 3, 4, 5}\n",
        "\n",
        "#Printing the original set\n",
        "print(\"Original set:\", set_17)\n",
        "\n",
        "#Poping an element from the set using the pop() method\n",
        "popped_element = set_17.pop()\n",
        "\n",
        "#Printing the element that was popped\n",
        "print(\"Popped element:\", popped_element)\n",
        "\n",
        "#Printing the set after popping an element\n",
        "print(\"Set after popping:\", set_17)"
      ],
      "metadata": {
        "colab": {
          "base_uri": "https://localhost:8080/"
        },
        "id": "jL_bqJGyCDN7",
        "outputId": "846a79e1-0e09-4bd3-adf6-c8efec646fb3"
      },
      "execution_count": null,
      "outputs": [
        {
          "output_type": "stream",
          "name": "stdout",
          "text": [
            "Original set: {0, 1, 2, 3, 4, 5}\n",
            "Popped element: 0\n",
            "Set after popping: {1, 2, 3, 4, 5}\n"
          ]
        }
      ]
    },
    {
      "cell_type": "markdown",
      "source": [
        "18. Check if two sets have no elements in common."
      ],
      "metadata": {
        "id": "SEAd2np5EUPZ"
      }
    },
    {
      "cell_type": "code",
      "source": [
        "#Defining two sets\n",
        "set1 = {1, 2, 3, 4, 5}\n",
        "set2 = {4, 5, 6, 7, 8}\n",
        "\n",
        "#Checking if the two sets have a common element\n",
        "intersection_element = set1.intersection(set2)\n",
        "\n",
        "#Printing the result\n",
        "print(\"Set 1:\", set1)\n",
        "print(\"Set 2:\", set2)\n",
        "\n",
        "if not intersection_element :\n",
        "  print (\"There is no common element\")\n",
        "else :\n",
        "  print (\"Common elements :\", intersection_element)"
      ],
      "metadata": {
        "colab": {
          "base_uri": "https://localhost:8080/"
        },
        "id": "i0YmuiG0EHWB",
        "outputId": "3fcf50cc-afda-482e-b64d-4838096001d8"
      },
      "execution_count": null,
      "outputs": [
        {
          "output_type": "stream",
          "name": "stdout",
          "text": [
            "Set 1: {1, 2, 3, 4, 5}\n",
            "Set 2: {4, 5, 6, 7, 8}\n",
            "Common elements : {4, 5}\n"
          ]
        }
      ]
    },
    {
      "cell_type": "markdown",
      "source": [
        "19. Find the symmetric difference between two sets."
      ],
      "metadata": {
        "id": "7jWwvYx5W69Q"
      }
    },
    {
      "cell_type": "code",
      "source": [
        "#Defining two sets\n",
        "set1 = {1, 2, 3, 4, 5}\n",
        "set2 = {4, 5, 6, 7, 8}\n",
        "\n",
        "#Checking if the two sets have a common element\n",
        "symmetric_element = set1 ^ set2\n",
        "\n",
        "#Printing the result\n",
        "print(\"Set 1:\", set1)\n",
        "print(\"Set 2:\", set2)\n",
        "\n",
        "if not intersection_element :\n",
        "  print (\"There is no symmetric diffence\")\n",
        "else :\n",
        "  print (\"Symmetric difference :\", symmetric_element)"
      ],
      "metadata": {
        "id": "YFIyTKucHIsC",
        "colab": {
          "base_uri": "https://localhost:8080/"
        },
        "outputId": "335032b6-d371-4fed-9100-952a64e7866a"
      },
      "execution_count": null,
      "outputs": [
        {
          "output_type": "stream",
          "name": "stdout",
          "text": [
            "Set 1: {1, 2, 3, 4, 5}\n",
            "Set 2: {4, 5, 6, 7, 8}\n",
            "Symmetric difference : {1, 2, 3, 6, 7, 8}\n"
          ]
        }
      ]
    },
    {
      "cell_type": "markdown",
      "source": [
        "20. Update a set with elements from another set."
      ],
      "metadata": {
        "id": "TG4isMuMYTa3"
      }
    },
    {
      "cell_type": "code",
      "source": [
        "#Defining two sets\n",
        "set1 = {1, 2, 3, 4, 5}\n",
        "print(\"Set 1 :\", set1)\n",
        "\n",
        "set2 = {4, 5, 6, 7, 8}\n",
        "print(\"Set 2 :\", set2)\n",
        "\n",
        "#Checking if the two sets have a common element\n",
        "set1.update(set2)\n",
        "\n",
        "#Printing the result\n",
        "print(\"Updated Set 1 :\", set1)"
      ],
      "metadata": {
        "colab": {
          "base_uri": "https://localhost:8080/"
        },
        "id": "UkhlVzK5Xzne",
        "outputId": "7aa1d0e5-419a-40dc-ef34-d0d1a7bff40a"
      },
      "execution_count": null,
      "outputs": [
        {
          "output_type": "stream",
          "name": "stdout",
          "text": [
            "Set 1 : {1, 2, 3, 4, 5}\n",
            "Set 2 : {4, 5, 6, 7, 8}\n",
            "Updated Set 1 : {1, 2, 3, 4, 5, 6, 7, 8}\n"
          ]
        }
      ]
    },
    {
      "cell_type": "markdown",
      "source": [
        "21. Create a set of the first 5 prime numbers."
      ],
      "metadata": {
        "id": "LGwH09ztb4Tv"
      }
    },
    {
      "cell_type": "code",
      "source": [
        "#Creating function to check if a number is prime\n",
        "def is_prime(num):\n",
        "    if num <= 1:\n",
        "        return False\n",
        "    for i in range(2, int(num ** 0.5) + 1):\n",
        "        if num % i == 0:\n",
        "            return False\n",
        "    return True\n",
        "\n",
        "#Creating an empty set to store the prime numbers\n",
        "prime_set = set()\n",
        "\n",
        "#Initializing the number to start checking for primes\n",
        "num = 2\n",
        "\n",
        "#Looping until we have found the first 5 prime numbers\n",
        "while len(prime_set) < 5:\n",
        "\n",
        "    #Checking if the current number is prime using the is_prime function\n",
        "    if is_prime(num):\n",
        "\n",
        "        # If the number is prime, add it to the prime_set\n",
        "        prime_set.add(num)\n",
        "\n",
        "    #Moving on to the next number for the next iteration\n",
        "    num += 1\n",
        "\n",
        "#Printing the set of prime numbers\n",
        "print(\"Set of the first 5 prime numbers :\", prime_set)"
      ],
      "metadata": {
        "colab": {
          "base_uri": "https://localhost:8080/"
        },
        "id": "RFHfVM0PbM04",
        "outputId": "a833d302-8f0c-4523-e403-e374af155852"
      },
      "execution_count": null,
      "outputs": [
        {
          "output_type": "stream",
          "name": "stdout",
          "text": [
            "Set of the first 5 prime numbers : {2, 3, 5, 7, 11}\n"
          ]
        }
      ]
    },
    {
      "cell_type": "markdown",
      "source": [
        "22. Check if two sets are identical."
      ],
      "metadata": {
        "id": "I0Rpg4knc9zv"
      }
    },
    {
      "cell_type": "code",
      "source": [
        "#Defining two sets\n",
        "set1 = {1, 2, 3, 4, 5}\n",
        "set2 = {3, 1, 5, 2, 4}\n",
        "\n",
        "#Checking if the sets are identical using the `==` operator\n",
        "if set1 == set2:\n",
        "    print(\"The sets are identical.\")\n",
        "else:\n",
        "    print(\"The sets are not identical.\")"
      ],
      "metadata": {
        "colab": {
          "base_uri": "https://localhost:8080/"
        },
        "id": "JEw-_MuHcl8X",
        "outputId": "af9e0b37-18de-437b-df81-f5ce7f5c1df4"
      },
      "execution_count": null,
      "outputs": [
        {
          "output_type": "stream",
          "name": "stdout",
          "text": [
            "The sets are identical.\n"
          ]
        }
      ]
    },
    {
      "cell_type": "markdown",
      "source": [
        "23. Create a frozen set."
      ],
      "metadata": {
        "id": "nW8h2Q7edZSj"
      }
    },
    {
      "cell_type": "code",
      "source": [
        "#Defining a list to froze\n",
        "list_23 = [1, 2, 3, 4, 5]\n",
        "\n",
        "#Creating a frozen set using the 'frozenset' constructor and passing the list of elements\n",
        "frozen_set = frozenset(list_23)\n",
        "\n",
        "#Printing the frozen set\n",
        "print(\"Frozen Set:\", frozen_set)"
      ],
      "metadata": {
        "colab": {
          "base_uri": "https://localhost:8080/"
        },
        "id": "j6H9-25wdWZ4",
        "outputId": "e43cf933-9a20-4def-a5e0-3ba9f1fe0a62"
      },
      "execution_count": null,
      "outputs": [
        {
          "output_type": "stream",
          "name": "stdout",
          "text": [
            "Frozen Set: frozenset({1, 2, 3, 4, 5})\n"
          ]
        }
      ]
    },
    {
      "cell_type": "markdown",
      "source": [
        "24. Check if a set is disjoint with another set."
      ],
      "metadata": {
        "id": "Qd7FUHX2fJg-"
      }
    },
    {
      "cell_type": "code",
      "source": [
        "#Defining the two sets you want to check for disjointness\n",
        "set1 = {1, 2, 3, 4}\n",
        "set2 = {5, 6, 7, 8}\n",
        "\n",
        "#Using the 'isdisjoint()' method to check if the sets are disjoint\n",
        "disjoint_status = set1.isdisjoint(set2)\n",
        "\n",
        "#Printing the result\n",
        "print(\"Are the sets disjoint?\", disjoint_status)"
      ],
      "metadata": {
        "colab": {
          "base_uri": "https://localhost:8080/"
        },
        "id": "ZQzres9IeqRj",
        "outputId": "86818d7a-46e8-4250-b023-e986ef276d7a"
      },
      "execution_count": null,
      "outputs": [
        {
          "output_type": "stream",
          "name": "stdout",
          "text": [
            "Are the sets disjoint? True\n"
          ]
        }
      ]
    },
    {
      "cell_type": "markdown",
      "source": [
        "25. Create a set of squares of numbers from 1 to 5."
      ],
      "metadata": {
        "id": "FRnh-XP7hPhL"
      }
    },
    {
      "cell_type": "code",
      "source": [
        "#Creating an empty set to store the squares of numbers\n",
        "squares_set = set()\n",
        "\n",
        "#Using a loop to iterate through numbers from 1 to 5\n",
        "for num in range(1, 6):\n",
        "\n",
        "    #Calculating the square of the current number\n",
        "    square = num ** 2\n",
        "\n",
        "    #Adding the square to the set\n",
        "    squares_set.add(square)\n",
        "\n",
        "#Printing the set of squares\n",
        "print(squares_set)"
      ],
      "metadata": {
        "colab": {
          "base_uri": "https://localhost:8080/"
        },
        "id": "jEkZnRc-hJum",
        "outputId": "9f616094-81ed-4338-c9ad-c91db5e55193"
      },
      "execution_count": null,
      "outputs": [
        {
          "output_type": "stream",
          "name": "stdout",
          "text": [
            "{1, 4, 9, 16, 25}\n"
          ]
        }
      ]
    },
    {
      "cell_type": "markdown",
      "source": [
        "26. Filter out all even numbers from a set."
      ],
      "metadata": {
        "id": "72WAT2n4hx85"
      }
    },
    {
      "cell_type": "code",
      "source": [
        "#Creating a set with integers from 1 to 5\n",
        "original_set = {1, 2, 3, 4, 5}\n",
        "\n",
        "#Initializing an empty set to store the filtered even numbers\n",
        "even_numbers_set = set()\n",
        "\n",
        "#Iterating through each element in the original set\n",
        "for num in original_set:\n",
        "\n",
        "    #Checking if the current number is even (divisible by 2)\n",
        "    if num % 2 == 0:\n",
        "\n",
        "        #If even, adding it to the even_numbers_set\n",
        "        even_numbers_set.add(num)\n",
        "\n",
        "#Printing the original set and the set containing even numbers\n",
        "print(\"Original Set:\", original_set)\n",
        "print(\"Even Numbers Set:\", even_numbers_set)"
      ],
      "metadata": {
        "colab": {
          "base_uri": "https://localhost:8080/"
        },
        "id": "-GUCl0lehhEJ",
        "outputId": "08bb39b6-f5ba-42f5-9026-dee3f58de37c"
      },
      "execution_count": null,
      "outputs": [
        {
          "output_type": "stream",
          "name": "stdout",
          "text": [
            "Original Set: {1, 2, 3, 4, 5}\n",
            "Even Numbers Set: {2, 4}\n"
          ]
        }
      ]
    },
    {
      "cell_type": "markdown",
      "source": [
        "27. Multiply all elements in a set by 2."
      ],
      "metadata": {
        "id": "1_hEKuckiNrC"
      }
    },
    {
      "cell_type": "code",
      "source": [
        "#Creating a set with integers from 1 to 5\n",
        "original_set = {1, 2, 3, 4, 5}\n",
        "\n",
        "#Initializing an empty set to store the filtered even numbers\n",
        "multiplied_set = set()\n",
        "\n",
        "#Iterating through each element in the original set\n",
        "for num in original_set:\n",
        "\n",
        "  multiplied_num = num * 2\n",
        "\n",
        "  multiplied_set.add(multiplied_num)\n",
        "\n",
        "print (\"Multiplied set :\", multiplied_set)"
      ],
      "metadata": {
        "colab": {
          "base_uri": "https://localhost:8080/"
        },
        "id": "xKAnk6CRiI4O",
        "outputId": "5caa20ba-b865-4c3c-ee9d-be6de6f0c969"
      },
      "execution_count": null,
      "outputs": [
        {
          "output_type": "stream",
          "name": "stdout",
          "text": [
            "Multiplied set : {2, 4, 6, 8, 10}\n"
          ]
        }
      ]
    },
    {
      "cell_type": "markdown",
      "source": [
        "28. Create a set of random numbers."
      ],
      "metadata": {
        "id": "zrH02KGAjtfH"
      }
    },
    {
      "cell_type": "code",
      "source": [
        "import random\n",
        "\n",
        "set_28 = set()\n",
        "\n",
        "count_of_random_number = 5\n",
        "\n",
        "for i in range (count_of_random_number) :\n",
        "  random_number = random.randint(1,100)\n",
        "  set_28.add(random_number)\n",
        "\n",
        "print (set_28)"
      ],
      "metadata": {
        "colab": {
          "base_uri": "https://localhost:8080/"
        },
        "id": "5oRcwtpXjHX_",
        "outputId": "b1d1d21f-dc6f-4f52-dea3-a575b022ed56"
      },
      "execution_count": null,
      "outputs": [
        {
          "output_type": "stream",
          "name": "stdout",
          "text": [
            "{99, 36, 69, 44, 21}\n"
          ]
        }
      ]
    },
    {
      "cell_type": "markdown",
      "source": [
        "29. Check if a set is empty."
      ],
      "metadata": {
        "id": "gzSo5c_zpAdE"
      }
    },
    {
      "cell_type": "code",
      "source": [
        "#Creating an example set\n",
        "set_29 = set()\n",
        "\n",
        "#Applying if-else condition to check if the set is empty or not\n",
        "if value in set_29:\n",
        "    print (\"Set is not empty\")\n",
        "else :\n",
        "  print (\"Set is empty\")"
      ],
      "metadata": {
        "colab": {
          "base_uri": "https://localhost:8080/"
        },
        "id": "nJC1n41okKfi",
        "outputId": "f24e2634-4f90-45a4-cdf3-109b7c8a8187"
      },
      "execution_count": null,
      "outputs": [
        {
          "output_type": "stream",
          "name": "stdout",
          "text": [
            "Set is empty\n"
          ]
        }
      ]
    },
    {
      "cell_type": "markdown",
      "source": [
        "30. Create a nested set (hint: use frozenset)."
      ],
      "metadata": {
        "id": "ODdTrgFVqQzX"
      }
    },
    {
      "cell_type": "code",
      "source": [
        "set1 = {1,2,3}\n",
        "set2 = {4,5,6}\n",
        "set3 = {7,8,9}\n",
        "\n",
        "frozenset1 = frozenset(set1)\n",
        "frozenset2 = frozenset(set2)\n",
        "frozenset3 = frozenset(set3)\n",
        "\n",
        "nestedset = {frozenset1, frozenset2, frozenset3}\n",
        "print (nestedset)"
      ],
      "metadata": {
        "colab": {
          "base_uri": "https://localhost:8080/"
        },
        "id": "8CdxtnmvpZQi",
        "outputId": "8e0b91d9-5249-4095-81f4-52f802dfb213"
      },
      "execution_count": null,
      "outputs": [
        {
          "output_type": "stream",
          "name": "stdout",
          "text": [
            "{frozenset({1, 2, 3}), frozenset({4, 5, 6}), frozenset({8, 9, 7})}\n"
          ]
        }
      ]
    },
    {
      "cell_type": "markdown",
      "source": [
        "31. Remove an element from a set using the discard method."
      ],
      "metadata": {
        "id": "8_aXnOIE4Sd9"
      }
    },
    {
      "cell_type": "code",
      "source": [
        "#Creating a set with some elements\n",
        "set_31 = {1, 2, 3, 4, 5}\n",
        "\n",
        "#Printing the initial set\n",
        "print(\"Initial set:\", set_31)\n",
        "\n",
        "#Defining the element to be removed\n",
        "element_to_remove = 3\n",
        "\n",
        "#Using the discard() method to remove the element from the set\n",
        "set_31.discard(element_to_remove)\n",
        "\n",
        "#Displaying the set after discarding the element\n",
        "print(\"Set after removing\", element_to_remove, \":\", set_31)"
      ],
      "metadata": {
        "colab": {
          "base_uri": "https://localhost:8080/"
        },
        "id": "J7lBoJ9rq-k2",
        "outputId": "3d8c685f-1c29-4672-e7fb-ca3c396013b8"
      },
      "execution_count": null,
      "outputs": [
        {
          "output_type": "stream",
          "name": "stdout",
          "text": [
            "Initial set: {1, 2, 3, 4, 5}\n",
            "Set after removing 3 : {1, 2, 4, 5}\n"
          ]
        }
      ]
    },
    {
      "cell_type": "markdown",
      "source": [
        "32. Compare two sets."
      ],
      "metadata": {
        "id": "ze1CzhwG6_zr"
      }
    },
    {
      "cell_type": "code",
      "source": [
        "#Defining two sets\n",
        "set1 = {1, 2, 3, 4, 5}\n",
        "set2 = {4, 5, 6, 7, 8}\n",
        "\n",
        "#Checking if set1 is a subset of set2\n",
        "is_subset = set1.issubset(set2)\n",
        "\n",
        "#Checking if set2 is a subset of set1\n",
        "is_superset = set1.issuperset(set2)\n",
        "\n",
        "#Finding the intersection of the sets\n",
        "intersection = set1.intersection(set2)\n",
        "\n",
        "#Finding the union of the sets\n",
        "union = set1.union(set2)\n",
        "\n",
        "#Finding the elements that are in set1 but not in set2\n",
        "difference1 = set1.difference(set2)\n",
        "\n",
        "#Finding the elements that are in set2 but not in set1\n",
        "difference2 = set2.difference(set1)\n",
        "\n",
        "#Printing the results\n",
        "print(\"Set 1:\", set1)\n",
        "print(\"Set 2:\", set2)\n",
        "print(\"Is set1 a subset of set2?\", is_subset)\n",
        "print(\"Is set2 a subset of set1?\", is_superset)\n",
        "print(\"Intersection:\", intersection)\n",
        "print(\"Union:\", union)\n",
        "print(\"Elements in set1 but not in set2:\", difference1)\n",
        "print(\"Elements in set2 but not in set1:\", difference2)"
      ],
      "metadata": {
        "colab": {
          "base_uri": "https://localhost:8080/"
        },
        "id": "VJYAQleb5Ymw",
        "outputId": "bcf0f7cf-6263-4a6a-bc64-46c572fb3349"
      },
      "execution_count": null,
      "outputs": [
        {
          "output_type": "stream",
          "name": "stdout",
          "text": [
            "Set 1: {1, 2, 3, 4, 5}\n",
            "Set 2: {4, 5, 6, 7, 8}\n",
            "Is set1 a subset of set2? False\n",
            "Is set2 a subset of set1? False\n",
            "Intersection: {4, 5}\n",
            "Union: {1, 2, 3, 4, 5, 6, 7, 8}\n",
            "Elements in set1 but not in set2: {1, 2, 3}\n",
            "Elements in set2 but not in set1: {8, 6, 7}\n"
          ]
        }
      ]
    },
    {
      "cell_type": "markdown",
      "source": [
        "33. Create a set from a string."
      ],
      "metadata": {
        "id": "XyfTBR1J74aI"
      }
    },
    {
      "cell_type": "code",
      "source": [
        "input_string = \"Hello\"\n",
        "\n",
        "#Converting string into set for each set\n",
        "set_33 = set(input_string)\n",
        "\n",
        "print (set_33)"
      ],
      "metadata": {
        "colab": {
          "base_uri": "https://localhost:8080/"
        },
        "id": "qPcbvPco7a-h",
        "outputId": "c4afc612-4ec2-4831-a051-24d25a7a46e8"
      },
      "execution_count": null,
      "outputs": [
        {
          "output_type": "stream",
          "name": "stdout",
          "text": [
            "{'H', 'l', 'o', 'e'}\n"
          ]
        }
      ]
    },
    {
      "cell_type": "markdown",
      "source": [
        "34. Convert a set of strings to a set of integers."
      ],
      "metadata": {
        "id": "N6BO_r_C_Vla"
      }
    },
    {
      "cell_type": "code",
      "source": [
        "set_of_strings = {\"1\", \"2\", \"3\", \"4\", \"5\"}\n",
        "\n",
        "set_of_integers = set()\n",
        "\n",
        "#Converting a set of strings to a set of integers using loop\n",
        "for value in set_of_strings :\n",
        "  int_value = int(value)\n",
        "  set_of_integers.add(int_value)\n",
        "\n",
        "print (set_of_integers)\n"
      ],
      "metadata": {
        "colab": {
          "base_uri": "https://localhost:8080/"
        },
        "id": "Xcq__zsU_O6W",
        "outputId": "d43265e5-ff06-404f-b8d7-b05ddb2e2a1e"
      },
      "execution_count": null,
      "outputs": [
        {
          "output_type": "stream",
          "name": "stdout",
          "text": [
            "{1, 2, 3, 4, 5}\n"
          ]
        }
      ]
    },
    {
      "cell_type": "markdown",
      "source": [
        "35. Convert a set of integers to a set of strings."
      ],
      "metadata": {
        "id": "ZTsed5PZDYx5"
      }
    },
    {
      "cell_type": "code",
      "source": [
        "set_of_integers = {1, 2, 3, 4, 5}\n",
        "\n",
        "set_of_strings = set()\n",
        "\n",
        "#Converting a set of integers to a set of string using loop\n",
        "for value in set_of_integers :\n",
        "  str_value = str(value)\n",
        "  set_of_strings.add(str_value)\n",
        "\n",
        "print (set_of_strings)"
      ],
      "metadata": {
        "colab": {
          "base_uri": "https://localhost:8080/"
        },
        "id": "d4dFyGHyAIkY",
        "outputId": "bfc61aaf-7c66-4e6b-ece2-d05b68c900a3"
      },
      "execution_count": null,
      "outputs": [
        {
          "output_type": "stream",
          "name": "stdout",
          "text": [
            "{'3', '4', '5', '1', '2'}\n"
          ]
        }
      ]
    },
    {
      "cell_type": "markdown",
      "source": [
        "36. Create a set from a tuple."
      ],
      "metadata": {
        "id": "PxCvciIlEa5T"
      }
    },
    {
      "cell_type": "code",
      "source": [
        "tuple_36 = (1, 2, 3, 4, 5)\n",
        "\n",
        "#Converting a tuple to a set\n",
        "set_36 = set(tuple_36)\n",
        "\n",
        "print (set_36)"
      ],
      "metadata": {
        "colab": {
          "base_uri": "https://localhost:8080/"
        },
        "id": "KvRItt17EX6K",
        "outputId": "a821fbdf-56ef-4e7c-92a4-e46237033d60"
      },
      "execution_count": null,
      "outputs": [
        {
          "output_type": "stream",
          "name": "stdout",
          "text": [
            "{1, 2, 3, 4, 5}\n"
          ]
        }
      ]
    },
    {
      "cell_type": "markdown",
      "source": [
        "37. Convert a set to a tuple."
      ],
      "metadata": {
        "id": "OzItwakyLWO1"
      }
    },
    {
      "cell_type": "code",
      "source": [
        "set_37 = {1, 2, 3, 4, 5}\n",
        "\n",
        "#Converting a tuple to a set\n",
        "tuple_37 = tuple(set_37)\n",
        "\n",
        "print (tuple_37)"
      ],
      "metadata": {
        "colab": {
          "base_uri": "https://localhost:8080/"
        },
        "id": "OyZ5eVLBKBzb",
        "outputId": "aefe9140-ec91-43b4-b813-f1bebb2e8ef7"
      },
      "execution_count": null,
      "outputs": [
        {
          "output_type": "stream",
          "name": "stdout",
          "text": [
            "(1, 2, 3, 4, 5)\n"
          ]
        }
      ]
    },
    {
      "cell_type": "markdown",
      "source": [
        "38. Find the maximum value in a set."
      ],
      "metadata": {
        "id": "IFxA2vrPL3nr"
      }
    },
    {
      "cell_type": "code",
      "source": [
        "#Defining a set\n",
        "set_38 = {15, 7, 22, 13, 8}\n",
        "\n",
        "#Initializing a None variable\n",
        "max_value = 0\n",
        "\n",
        "#Iterating through each element in the set\n",
        "for num in set_38 :\n",
        "\n",
        "  #Checking if the current number is greater than max_value\n",
        "  if num > max_value :\n",
        "      max_value = num\n",
        "\n",
        "#Printing the maximum value\n",
        "print(\"Maximum value:\", max_value)"
      ],
      "metadata": {
        "colab": {
          "base_uri": "https://localhost:8080/"
        },
        "id": "a66VC-bXLxGu",
        "outputId": "87b16fcb-5e39-4d54-9ea1-ffcebd8c9277"
      },
      "execution_count": null,
      "outputs": [
        {
          "output_type": "stream",
          "name": "stdout",
          "text": [
            "Maximum value: 22\n"
          ]
        }
      ]
    },
    {
      "cell_type": "markdown",
      "source": [
        "39. Find the minimum value in a set."
      ],
      "metadata": {
        "id": "LoX0KkSJWw1h"
      }
    },
    {
      "cell_type": "code",
      "source": [
        "#Defining a set\n",
        "set_39 = {15, 7, 22, 13, 8}\n",
        "\n",
        "#Initializing a None variable\n",
        "min_value = float('inf')\n",
        "\n",
        "#Iterating through each element in the set\n",
        "for num in set_39 :\n",
        "\n",
        "  #Checking if the current number is less than min_value\n",
        "  if num < min_value :\n",
        "      min_value = num\n",
        "\n",
        "#Printing the minimum value\n",
        "print(\"Minimum value:\", min_value)"
      ],
      "metadata": {
        "colab": {
          "base_uri": "https://localhost:8080/"
        },
        "id": "_yvO-E73V8kF",
        "outputId": "5abed562-8d90-4226-f038-399066d42b01"
      },
      "execution_count": null,
      "outputs": [
        {
          "output_type": "stream",
          "name": "stdout",
          "text": [
            "Minimum value: 7\n"
          ]
        }
      ]
    },
    {
      "cell_type": "markdown",
      "source": [
        "40. Create a set from user input."
      ],
      "metadata": {
        "id": "WElMG4X-YevO"
      }
    },
    {
      "cell_type": "code",
      "source": [
        "def get_input():\n",
        "    user_input = input(\"Enter a value (or 'done' to finish): \")\n",
        "    return user_input\n",
        "\n",
        "def create_set_from_inputs():\n",
        "    user_set = set()\n",
        "    while True:\n",
        "        value = get_input()\n",
        "        if value == 'done':\n",
        "            break\n",
        "        user_set.add(value)\n",
        "    return user_set\n",
        "\n",
        "user_set = create_set_from_inputs()\n",
        "print(\"The set created from user inputs is:\", user_set)"
      ],
      "metadata": {
        "colab": {
          "base_uri": "https://localhost:8080/"
        },
        "id": "2yveqcAS6KtO",
        "outputId": "93af7e83-674c-449e-852b-5ed1a90ecf4d"
      },
      "execution_count": null,
      "outputs": [
        {
          "output_type": "stream",
          "name": "stdout",
          "text": [
            "Enter a value (or 'done' to finish): qwerty\n",
            "Enter a value (or 'done' to finish): p2p\n",
            "Enter a value (or 'done' to finish): done\n",
            "The set created from user inputs is: {'p2p', 'qwerty'}\n"
          ]
        }
      ]
    },
    {
      "cell_type": "markdown",
      "source": [
        "41. Check if the intersection of two sets is empty."
      ],
      "metadata": {
        "id": "mx65AGF1ADMf"
      }
    },
    {
      "cell_type": "code",
      "source": [
        "#Defining two sets\n",
        "set1 = {1, 2, 3, 4, 5}\n",
        "set2 = {6, 7, 8}\n",
        "\n",
        "#Finding the intersection of the two sets using the `intersection()` method\n",
        "intersection_result = set1.intersection(set2)\n",
        "print (\"Set1 intersection Set2 :\", intersection_result)\n",
        "\n",
        "#Checking if the intersection result is empty\n",
        "if not intersection_result:\n",
        "    print(\"The intersection of the two sets is empty.\")\n",
        "else:\n",
        "    print(\"The intersection of the two sets is not empty.\")"
      ],
      "metadata": {
        "colab": {
          "base_uri": "https://localhost:8080/"
        },
        "id": "xTEtZ8QE-vVh",
        "outputId": "2861b782-9be2-469d-d4e2-b9c00e2f1048"
      },
      "execution_count": null,
      "outputs": [
        {
          "output_type": "stream",
          "name": "stdout",
          "text": [
            "Set1 intersection Set2 : set()\n",
            "The intersection of the two sets is empty.\n"
          ]
        }
      ]
    },
    {
      "cell_type": "markdown",
      "source": [
        "42. Create a set of the first 5 Fibonacci numbers."
      ],
      "metadata": {
        "id": "S8oeqFZ1CGZ6"
      }
    },
    {
      "cell_type": "code",
      "source": [
        "#Defining fibonacci series using recusive call\n",
        "def fibonacci(n):\n",
        "  if n <= 1:\n",
        "    return n\n",
        "  else:\n",
        "    return fibonacci(n-1) + fibonacci(n-2)\n",
        "\n",
        "#Generating the first 5 Fibonacci numbers and adding it in the empty set\n",
        "def generate_fibonacci (count) :\n",
        "\n",
        "  fib_series = set()\n",
        "\n",
        "  for i in range (count) :\n",
        "    fib_series.add(fibonacci(i))\n",
        "  return fib_series\n",
        "\n",
        "#Providing input to the variable n and printing out the result\n",
        "n = 5\n",
        "fib_series = generate_fibonacci (n)\n",
        "print(fib_series)"
      ],
      "metadata": {
        "colab": {
          "base_uri": "https://localhost:8080/"
        },
        "id": "Y43eYmw_BvWt",
        "outputId": "336aaade-c075-460b-c950-535f74817e0d"
      },
      "execution_count": 2,
      "outputs": [
        {
          "output_type": "stream",
          "name": "stdout",
          "text": [
            "{0, 1, 2, 3}\n"
          ]
        }
      ]
    },
    {
      "cell_type": "markdown",
      "source": [
        "43. Remove duplicates from a list using sets."
      ],
      "metadata": {
        "id": "PqHh9nV9s8XB"
      }
    },
    {
      "cell_type": "code",
      "source": [
        "list_43 = [1,1,1,1,4,4,5,6,7,2,8,9]\n",
        "\n",
        "#Converting a list to a set will automatically remove the duplicates\n",
        "set_43 = set(list_43)\n",
        "\n",
        "#Converting the set to the a list with unique values\n",
        "list_43_unique = list(set_43)\n",
        "\n",
        "print (list_43_unique)"
      ],
      "metadata": {
        "id": "wkVkM9MePFeG",
        "colab": {
          "base_uri": "https://localhost:8080/"
        },
        "outputId": "f9c525ab-d07e-411b-8ef4-c1206d31659c"
      },
      "execution_count": 4,
      "outputs": [
        {
          "output_type": "stream",
          "name": "stdout",
          "text": [
            "[1, 2, 4, 5, 6, 7, 8, 9]\n"
          ]
        }
      ]
    },
    {
      "cell_type": "markdown",
      "source": [
        "44. Check if two sets have the same elements, regardless of their count."
      ],
      "metadata": {
        "id": "4JO55nFFtPlj"
      }
    },
    {
      "cell_type": "code",
      "source": [
        "set_1 = {1,2,3,4,5,6,7,8,9,0}\n",
        "set_2 = {0,9,8,7,6,5,4,3,2,1}\n",
        "\n",
        "if set_1 == set_2 :\n",
        "  print (\"Sets have same element\")\n",
        "else :\n",
        "  print (\"Sets do not have same elements\")"
      ],
      "metadata": {
        "colab": {
          "base_uri": "https://localhost:8080/"
        },
        "id": "xVjB7uUgtK6A",
        "outputId": "f42947f4-8cc7-4c40-9783-35d2b79c0f88"
      },
      "execution_count": 7,
      "outputs": [
        {
          "output_type": "stream",
          "name": "stdout",
          "text": [
            "Sets have same element\n"
          ]
        }
      ]
    },
    {
      "cell_type": "markdown",
      "source": [
        "45. Create a set of the first `n` powers of 2."
      ],
      "metadata": {
        "id": "DPCNI__kvquz"
      }
    },
    {
      "cell_type": "code",
      "source": [
        "#Creating a function to generate first n powers of 2\n",
        "def generate_powers_of_2(n) :\n",
        "\n",
        "  powers_of_2 = set()\n",
        "\n",
        "#Iterating though given range of n and adding values to the empty set\n",
        "  for i in range(n) :\n",
        "      power = 2 ** i\n",
        "      powers_of_2.add(power)\n",
        "  return powers_of_2\n",
        "\n",
        "n = 5\n",
        "powers_set = generate_powers_of_2(n)\n",
        "print(powers_set)"
      ],
      "metadata": {
        "colab": {
          "base_uri": "https://localhost:8080/"
        },
        "id": "IdCl-huhvjJS",
        "outputId": "ac748bad-cd6f-49a8-fb99-5adbde4bb4dd"
      },
      "execution_count": 1,
      "outputs": [
        {
          "output_type": "stream",
          "name": "stdout",
          "text": [
            "{1, 2, 4, 8, 16}\n"
          ]
        }
      ]
    },
    {
      "cell_type": "markdown",
      "source": [
        "46. Find the common elements between a set and a list."
      ],
      "metadata": {
        "id": "0PeHD1DVqxAd"
      }
    },
    {
      "cell_type": "code",
      "source": [
        "set_46 = {1,2,3,4,5}\n",
        "list_46 = [3,4,5,6,7,8,9]\n",
        "\n",
        "list_to_set = set(list_46)\n",
        "\n",
        "intersection_result = set_46.intersection(list_to_set)\n",
        "\n",
        "print (intersection_result)"
      ],
      "metadata": {
        "colab": {
          "base_uri": "https://localhost:8080/"
        },
        "id": "8m_RRD4GqqFX",
        "outputId": "d4e9ae89-5df2-46a6-b3e9-68f774b71366"
      },
      "execution_count": 2,
      "outputs": [
        {
          "output_type": "stream",
          "name": "stdout",
          "text": [
            "{3, 4, 5}\n"
          ]
        }
      ]
    },
    {
      "cell_type": "code",
      "source": [
        "#Defining a set and a lits\n",
        "set_46 = {1,2,3,4,5}\n",
        "list_46 = [3,4,5,6,7,8,9]\n",
        "\n",
        "#Creating a empty set\n",
        "common_element = set()\n",
        "\n",
        "#Iterating through the values in set and in list to find the common value and appending the value in the empty list\n",
        "for value in set_46 :\n",
        "  if value in list_46 :\n",
        "    common_element.add(value)\n",
        "print(common_element)"
      ],
      "metadata": {
        "colab": {
          "base_uri": "https://localhost:8080/"
        },
        "id": "Y23vGC_Trjqg",
        "outputId": "51403ff1-e6d2-44a9-b734-ceb16f95203e"
      },
      "execution_count": 3,
      "outputs": [
        {
          "output_type": "stream",
          "name": "stdout",
          "text": [
            "{3, 4, 5}\n"
          ]
        }
      ]
    },
    {
      "cell_type": "markdown",
      "source": [
        "47. Create a set of the first `n` triangular numbers."
      ],
      "metadata": {
        "id": "0cNImrCOswwY"
      }
    },
    {
      "cell_type": "code",
      "source": [
        "def generate_triangular_numbers(n):\n",
        "  triangular_numbers = set()\n",
        "  for i in range(1, n + 1):\n",
        "    #Calculating the ith triangular number using the formula\n",
        "    triangular_number = i * (i + 1) // 2\n",
        "    #Adding the calculated triangular number to the set\n",
        "    triangular_numbers.add(triangular_number)\n",
        "  return triangular_numbers\n",
        "\n",
        "#Taking the value of 'n' as input from the user, calling the def function and printing the set of triangle number\n",
        "n = int(input(\"Enter the value of n: \"))\n",
        "triangular_set = generate_triangular_numbers(n)\n",
        "print(f\"The set of the first {n} triangular numbers is:\", triangular_set)"
      ],
      "metadata": {
        "colab": {
          "base_uri": "https://localhost:8080/"
        },
        "id": "o6I7n0TGsUgX",
        "outputId": "23629bfa-f5c0-4474-f164-b75c8b3b7217"
      },
      "execution_count": 4,
      "outputs": [
        {
          "output_type": "stream",
          "name": "stdout",
          "text": [
            "Enter the value of n: 3\n",
            "The set of the first 3 triangular numbers is: {1, 3, 6}\n"
          ]
        }
      ]
    },
    {
      "cell_type": "markdown",
      "source": [
        "48. Check if a set contains another set as a subset."
      ],
      "metadata": {
        "id": "2VWHXjc1uLSR"
      }
    },
    {
      "cell_type": "code",
      "source": [
        "set_1 = {3,4,5}\n",
        "set_2 = {3,4,5,9}\n",
        "\n",
        "#Checking if set_1 is a subset of set_2 and printing the result\n",
        "subset_result = set_1.issubset(set_2)\n",
        "\n",
        "print (subset_result)"
      ],
      "metadata": {
        "colab": {
          "base_uri": "https://localhost:8080/"
        },
        "id": "faTDwMTwuCTg",
        "outputId": "897e2436-e0c6-495d-ca9e-e02dd9aab6e4"
      },
      "execution_count": 6,
      "outputs": [
        {
          "output_type": "stream",
          "name": "stdout",
          "text": [
            "True\n"
          ]
        }
      ]
    },
    {
      "cell_type": "markdown",
      "source": [
        "49. Create a set of alternating 1s and 0s of length `n`."
      ],
      "metadata": {
        "id": "471yAf5iu78I"
      }
    },
    {
      "cell_type": "code",
      "source": [
        "def alternating_set(n):\n",
        "  #Initializing an empty set to store the alternating sequence.\n",
        "  alternating_set = set()\n",
        "\n",
        "  #Using loop to generate alternating 1s and 0 and adding it sequentially to the empty set\n",
        "  for i in range(n):\n",
        "    if i % 2 == 0:\n",
        "        alternating_set.add(1)\n",
        "    else:\n",
        "        alternating_set.add(0)\n",
        "\n",
        "  return alternating_set\n",
        "\n",
        "#Define the desired length of the alternating set, calling def function and priniting the result\n",
        "n = 10\n",
        "result = alternating_set(n)\n",
        "print(result)"
      ],
      "metadata": {
        "colab": {
          "base_uri": "https://localhost:8080/"
        },
        "id": "7RM5L0EDukjR",
        "outputId": "ebf4e6d5-7ccd-45d9-8636-cfad164eb724"
      },
      "execution_count": 7,
      "outputs": [
        {
          "output_type": "stream",
          "name": "stdout",
          "text": [
            "{0, 1}\n"
          ]
        }
      ]
    },
    {
      "cell_type": "markdown",
      "source": [
        "50. Merge multiple sets into one."
      ],
      "metadata": {
        "id": "N4kuLY-7v6M3"
      }
    },
    {
      "cell_type": "code",
      "source": [
        "#Creating multiple sets\n",
        "set1 = {1, 2, 3}\n",
        "set2 = {3, 4, 5}\n",
        "set3 = {5, 6, 7}\n",
        "\n",
        "#Use the union() method to merge sets\n",
        "merged_set = set1.union(set2).union(set3)\n",
        "\n",
        "\n",
        "#Printing the merged set\n",
        "print(\"Merged Set:\", merged_set)"
      ],
      "metadata": {
        "colab": {
          "base_uri": "https://localhost:8080/"
        },
        "id": "C-KSOupkvt-u",
        "outputId": "a000c249-6eb0-4e90-ec5c-e837bef7a27c"
      },
      "execution_count": 11,
      "outputs": [
        {
          "output_type": "stream",
          "name": "stdout",
          "text": [
            "Merged Set: {1, 2, 3, 4, 5, 6, 7}\n"
          ]
        }
      ]
    },
    {
      "cell_type": "code",
      "source": [],
      "metadata": {
        "id": "TDJhf7cdwNHE"
      },
      "execution_count": null,
      "outputs": []
    }
  ]
}