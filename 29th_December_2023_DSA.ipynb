{
  "nbformat": 4,
  "nbformat_minor": 0,
  "metadata": {
    "colab": {
      "provenance": []
    },
    "kernelspec": {
      "name": "python3",
      "display_name": "Python 3"
    },
    "language_info": {
      "name": "python"
    }
  },
  "cells": [
    {
      "cell_type": "markdown",
      "source": [
        "Problem 1: Reverse a singly linked list.\n",
        "\n",
        "`Input: 1 -> 2 -> 3 -> 4 -> 5`\n",
        "\n",
        "`Output: 5 -> 4 -> 3 -> 2 -> 1`"
      ],
      "metadata": {
        "id": "LV7loFnoEQRE"
      }
    },
    {
      "cell_type": "code",
      "execution_count": null,
      "metadata": {
        "colab": {
          "base_uri": "https://localhost:8080/"
        },
        "id": "Nq6j0uY_D9PU",
        "outputId": "d20b2e3e-7ff5-4220-e94d-6c5e6645e9af"
      },
      "outputs": [
        {
          "output_type": "stream",
          "name": "stdout",
          "text": [
            "1->2->3->4->5->None\n",
            "5->4->3->2->1->None\n"
          ]
        }
      ],
      "source": [
        "class Node :\n",
        "\n",
        "  def __init__(self, data, next=None) :\n",
        "    self.data = data\n",
        "    self.next = next\n",
        "\n",
        "  def getdata(self) :\n",
        "    return self.data\n",
        "\n",
        "  def setdata(self, data) :\n",
        "    self.data = data\n",
        "\n",
        "  def getnext(self) :\n",
        "    return self.next\n",
        "\n",
        "  def setnext(self, next) :\n",
        "    self.next = next\n",
        "\n",
        "#Creating a linked-list\n",
        "head = Node(1)\n",
        "node1 = Node(2)\n",
        "node2 = Node(3)\n",
        "node3 = Node(4)\n",
        "node4 = Node(5)\n",
        "\n",
        "#Linking linked-list\n",
        "head.setnext(node1)\n",
        "node1.setnext(node2)\n",
        "node2.setnext(node3)\n",
        "node3.setnext(node4)\n",
        "\n",
        "#Traverse linked-list\n",
        "def traverse(head) :\n",
        "  temp = head\n",
        "  while temp :\n",
        "    print(temp.getdata(),end = '->')\n",
        "    temp = temp.getnext()\n",
        "  print(None)\n",
        "\n",
        "#Function for reversing the linked-list\n",
        "def reverseLL(head) :\n",
        "  prev = None\n",
        "  curr = head\n",
        "  while curr is not None :\n",
        "    next_node = curr.getnext()\n",
        "    curr.setnext(prev)\n",
        "    prev = curr\n",
        "    curr = next_node\n",
        "\n",
        "  return prev\n",
        "\n",
        "traverse(head)\n",
        "reverse_head = reverseLL(head)\n",
        "traverse(reverse_head)"
      ]
    },
    {
      "cell_type": "markdown",
      "source": [
        "Problem 2: Merge two sorted linked lists into one sorted linked list.\n",
        "\n",
        "`Input: List 1: 1 -> 3 -> 5, List 2: 2 -> 4 -> 6`\n",
        "\n",
        "`Output: 1 -> 2 -> 3 -> 4 -> 5 -> 6`"
      ],
      "metadata": {
        "id": "4i59MmEzQEQu"
      }
    },
    {
      "cell_type": "code",
      "source": [
        "class ListNode :\n",
        "\n",
        "  def __init__(self, data=0, next=None) :\n",
        "    self.data = data\n",
        "    self.next = next\n",
        "\n",
        "#Creating first sorted linked list :\n",
        "l1 = ListNode(1)\n",
        "l1.next = ListNode(3)\n",
        "l1.next.next = ListNode(5)\n",
        "\n",
        "#Creating second sorted linked list :\n",
        "l2 = ListNode(2)\n",
        "l2.next = ListNode(4)\n",
        "l2.next.next = ListNode(6)\n",
        "\n",
        "def merge_two_sorted_lists(l1, l2):\n",
        "  dummy = ListNode()\n",
        "  current = dummy\n",
        "\n",
        "  while l1 and l2:\n",
        "    if l1.data < l2.data:\n",
        "      current.next = l1\n",
        "      l1 = l1.next\n",
        "    else:\n",
        "      current.next = l2\n",
        "      l2 = l2.next\n",
        "    current = current.next\n",
        "\n",
        "  if l1:\n",
        "    current.next = l1\n",
        "  if l2:\n",
        "    current.next = l2\n",
        "\n",
        "  return dummy.next\n",
        "\n",
        "#Function to print the linked list\n",
        "def print_linked_list(node):\n",
        "    while node:\n",
        "        print(node.data, end=\" -> \")\n",
        "        node = node.next\n",
        "    print(\"None\")\n",
        "\n",
        "\n",
        "#Merging the linked lists\n",
        "merged_list = merge_two_sorted_lists(l1, l2)\n",
        "\n",
        "#Printing the merged linked list\n",
        "print_linked_list(merged_list)"
      ],
      "metadata": {
        "colab": {
          "base_uri": "https://localhost:8080/"
        },
        "id": "PDUpSmooNt3P",
        "outputId": "75019081-b5a4-4cee-dd71-0fdd875ad199"
      },
      "execution_count": null,
      "outputs": [
        {
          "output_type": "stream",
          "name": "stdout",
          "text": [
            "1 -> 2 -> 3 -> 4 -> 5 -> 6 -> None\n"
          ]
        }
      ]
    },
    {
      "cell_type": "markdown",
      "source": [
        "Problem 3: Remove the nth node from the end of a linked list.\n",
        "\n",
        "`Input: 1 -> 2 -> 3 -> 4 -> 5, n = 2`\n",
        "\n",
        "`Output: 1 -> 2 -> 3 -> 5`"
      ],
      "metadata": {
        "id": "9l7Lg0SCrP7q"
      }
    },
    {
      "cell_type": "code",
      "source": [
        "class ListNode :\n",
        "\n",
        "  def __init__(self, data=0, next=None):\n",
        "    self.data = data\n",
        "    self.next = next\n",
        "\n",
        "  #Method to get the data value\n",
        "  def getdata(self) :\n",
        "    return self.data\n",
        "\n",
        "  #Method to set the data value\n",
        "  def setdata(self, data) :\n",
        "    self.data = data\n",
        "\n",
        "  #Method to get the next value\n",
        "  def getnext(self) :\n",
        "    return self.next\n",
        "\n",
        "  #Method to set the next value\n",
        "  def setnext(self, next) :\n",
        "    self.next = next\n",
        "\n",
        "#Defining the collection of nodes\n",
        "head = ListNode(1)\n",
        "node1 = ListNode(2)\n",
        "node2 = ListNode(3)\n",
        "node3 = ListNode(4)\n",
        "node4 = ListNode(5)\n",
        "\n",
        "#Creating linkage between the nodes\n",
        "head.setnext(node1)\n",
        "node1.setnext(node2)\n",
        "node2.setnext(node3)\n",
        "node3.setnext(node4)\n",
        "\n",
        "def remove_nth_from_end(head, n) :\n",
        "\n",
        "  dummy = ListNode(0, head)\n",
        "  first = dummy\n",
        "  second = dummy\n",
        "\n",
        "  for i in range(n+1) :\n",
        "    first = first.getnext()\n",
        "\n",
        "  while first is not None :\n",
        "    first = first.getnext()\n",
        "    second = second.getnext()\n",
        "\n",
        "  second.setnext(second.getnext().getnext())\n",
        "\n",
        "  return dummy.getnext()\n",
        "\n",
        "def traverse(head) :\n",
        "  temp = head\n",
        "  while temp :\n",
        "    print(temp.getdata(), end = \"->\")\n",
        "    temp = temp.getnext()\n",
        "  print(\"None\")\n",
        "\n",
        "print(\"Original List :\")\n",
        "traverse(head)\n",
        "print(\"New List :\")\n",
        "n = 2\n",
        "head_new_linked_list = remove_nth_from_end(head, n)\n",
        "traverse(head_new_linked_list)\n"
      ],
      "metadata": {
        "colab": {
          "base_uri": "https://localhost:8080/"
        },
        "id": "QOydX-5Qq6kd",
        "outputId": "b85232a6-ff03-470d-96a4-cbd3ab02623c"
      },
      "execution_count": null,
      "outputs": [
        {
          "output_type": "stream",
          "name": "stdout",
          "text": [
            "Original List :\n",
            "1->2->3->4->5->None\n",
            "New List :\n",
            "1->2->3->5->None\n"
          ]
        }
      ]
    },
    {
      "cell_type": "markdown",
      "source": [
        "Problem 4: Find the intersection point of two linked lists.\n",
        "\n",
        "Input: List 1: 1 -> 2 -> 3 -> 4, List 2: 9 -> 8 -> 3 -> 4\n",
        "\n",
        "Output: Node with value 3"
      ],
      "metadata": {
        "id": "UJJz_nhEp87B"
      }
    },
    {
      "cell_type": "code",
      "source": [
        "class Node :\n",
        "\n",
        "  def __init__(self, data=0, next=None) :\n",
        "    self.data = data\n",
        "    self.next = next\n",
        "\n",
        "  def getdata(self) :\n",
        "    return self.data\n",
        "\n",
        "  def setdata(self, data) :\n",
        "    self.data = data\n",
        "\n",
        "  def getnext(self) :\n",
        "    return self.next\n",
        "\n",
        "  def setnext(self, next) :\n",
        "    self.next = next\n",
        "\n",
        "\n",
        "node1 = Node(1)\n",
        "node2 = Node(2)\n",
        "node3 = Node(3)\n",
        "node4 = Node(4)\n",
        "node5 = Node(5)\n",
        "node6 = Node(6)\n",
        "node7 = Node(7)\n",
        "node8 = Node(8)\n",
        "node9 = Node(9)\n",
        "\n",
        "node1.setnext(node2)\n",
        "node2.setnext(node3)\n",
        "node3.setnext(node4)\n",
        "\n",
        "node9.setnext(node8)\n",
        "node8.setnext(node3)\n",
        "node3.setnext(node4)\n",
        "\n",
        "def find_intersection(headA, headB) :\n",
        "\n",
        "  if not headA or not headB :\n",
        "    return None\n",
        "\n",
        "  tempA = headA\n",
        "  tempB = headB\n",
        "\n",
        "  while tempA != tempB :\n",
        "\n",
        "    if tempA :\n",
        "      tempA = tempA.getnext()\n",
        "    else :\n",
        "      tempA = headB\n",
        "\n",
        "    if tempB :\n",
        "      tempB = tempB.getnext()\n",
        "    else :\n",
        "      tempB = headA\n",
        "\n",
        "  return tempA\n",
        "\n",
        "headA = node1\n",
        "headB = node9\n",
        "intersection = find_intersection(headA, headB)\n",
        "print(f\"The intersection is at point : {intersection.getdata()}\")"
      ],
      "metadata": {
        "id": "7yOuVn2rsyU2",
        "colab": {
          "base_uri": "https://localhost:8080/"
        },
        "outputId": "b90a2b83-9e3f-4a04-f977-a50812343bc6"
      },
      "execution_count": null,
      "outputs": [
        {
          "output_type": "stream",
          "name": "stdout",
          "text": [
            "The intersection is at point : 3\n"
          ]
        }
      ]
    },
    {
      "cell_type": "markdown",
      "source": [
        "Problem 5: Remove duplicates from a sorted linked list.\n",
        "\n",
        "Input: 1 -> 1 -> 2 -> 3 -> 3\n",
        "\n",
        "Output: 1 -> 2 -> 3"
      ],
      "metadata": {
        "id": "HDSGn9u6PSGC"
      }
    },
    {
      "cell_type": "code",
      "source": [
        "class Node :\n",
        "\n",
        "  def __init__(self, data=0, next=None) :\n",
        "    self.data = data\n",
        "    self.next = next\n",
        "\n",
        "  def getdata(self) :\n",
        "    return self.data\n",
        "\n",
        "  def setdata(self, data) :\n",
        "    self.data = data\n",
        "\n",
        "  def getnext(self) :\n",
        "    return self.next\n",
        "\n",
        "  def setnext(self, next) :\n",
        "    self.next = next\n",
        "\n",
        "\n",
        "node1 = Node(1)\n",
        "node2 = Node(1)\n",
        "node3 = Node(2)\n",
        "node4 = Node(3)\n",
        "node5 = Node(3)\n",
        "\n",
        "node1.setnext(node2)\n",
        "node2.setnext(node3)\n",
        "node3.setnext(node4)\n",
        "node4.setnext(node5)\n",
        "\n",
        "def find_duplicates(head) :\n",
        "\n",
        "  if not head :\n",
        "    return None\n",
        "\n",
        "  curr = head\n",
        "\n",
        "  while curr and curr.getnext() :\n",
        "    if curr.getdata() == curr.getnext().getdata() :\n",
        "      curr.setnext(curr.getnext().getnext())\n",
        "    else :\n",
        "      curr = curr.getnext()\n",
        "\n",
        "  return head\n",
        "\n",
        "def traverse(head):\n",
        "\n",
        "  temp = head\n",
        "  while temp:\n",
        "    print(temp.getdata(), end= \"->\")\n",
        "    temp = temp.getnext()\n",
        "  print(\"None\")\n",
        "\n",
        "head = node1\n",
        "new_head = find_duplicates(head)\n",
        "traverse(new_head)"
      ],
      "metadata": {
        "colab": {
          "base_uri": "https://localhost:8080/"
        },
        "id": "teOZLQiJIzg1",
        "outputId": "6f8d9dc2-5cb9-4837-a6d5-b8f3c05986c0"
      },
      "execution_count": null,
      "outputs": [
        {
          "output_type": "stream",
          "name": "stdout",
          "text": [
            "1->2->3->None\n"
          ]
        }
      ]
    },
    {
      "cell_type": "markdown",
      "source": [
        "Problem 6: Add two numbers represented by linked lists (where each node contains a single digit).\n",
        "\n",
        "Input: List 1: 2 -> 4 -> 3, List 2: 5 -> 6 -> 4 (represents 342 + 465)\n",
        "\n",
        "Output: 7 -> 0 -> 8 (represents 807)"
      ],
      "metadata": {
        "id": "MrFk-ScrNZMr"
      }
    },
    {
      "cell_type": "code",
      "source": [
        "class Node :\n",
        "\n",
        "  def __init__(self, data=0, next=None) :\n",
        "    self.data = data\n",
        "    self.next = next\n",
        "\n",
        "  def getdata(self) :\n",
        "    return self.data\n",
        "\n",
        "  def setdata(self, data) :\n",
        "    self.data = data\n",
        "\n",
        "  def getnext(self) :\n",
        "    return self.next\n",
        "\n",
        "  def setnext(self, next) :\n",
        "    self.next = next\n",
        "\n",
        "\n",
        "node1 = Node(1)\n",
        "node2 = Node(2)\n",
        "node3 = Node(3)\n",
        "node4 = Node(4)\n",
        "node5 = Node(5)\n",
        "node6 = Node(6)\n",
        "node7 = Node(7)\n",
        "node8 = Node(8)\n",
        "\n",
        "node2.setnext(node4)\n",
        "node4.setnext(node3)\n",
        "\n",
        "node5.setnext(node6)\n",
        "node6.setnext(node4)\n",
        "\n",
        "\n",
        "def add_2_linked_list(l1, l2) :\n",
        "\n",
        "  dummy_head = Node(0)\n",
        "  curr = dummy_head\n",
        "  carry = 0\n",
        "\n",
        "  while l1 is not None and l2 is not None :\n",
        "\n",
        "    if l1 :\n",
        "      x = l1.getdata()\n",
        "    else :\n",
        "      None\n",
        "    if l2 :\n",
        "      y = l2.getdata()\n",
        "    else :\n",
        "      None\n",
        "\n",
        "    total = carry + x + y\n",
        "    carry = total // 10\n",
        "    curr.setnext(Node(total % 10))\n",
        "    curr = curr.getnext()\n",
        "\n",
        "    if l1 is not None :\n",
        "      l1 = l1.getnext()\n",
        "    if l2 is not None :\n",
        "      l2 = l2.getnext()\n",
        "\n",
        "  if carry > 0 :\n",
        "    curr.setnext(Node(carry))\n",
        "\n",
        "  return dummy_head.getnext()\n",
        "\n",
        "\n",
        "def traverse(head) :\n",
        "\n",
        "  temp = head\n",
        "  while temp:\n",
        "    print(temp.getdata(), end= \"->\")\n",
        "    temp = temp.getnext()\n",
        "  print(\"None\")\n",
        "\n",
        "\n",
        "l1 = node2\n",
        "l2 = node5\n",
        "new_head = add_2_linked_list(l1, l2)\n",
        "traverse(new_head)"
      ],
      "metadata": {
        "colab": {
          "base_uri": "https://localhost:8080/"
        },
        "id": "5TnxYUuwk-Hg",
        "outputId": "cc145f4d-19cc-4c56-fdce-e0374416ff92"
      },
      "execution_count": null,
      "outputs": [
        {
          "output_type": "stream",
          "name": "stdout",
          "text": [
            "7->0->8->None\n"
          ]
        }
      ]
    },
    {
      "cell_type": "markdown",
      "source": [
        "Problem 7: Swap nodes in pairs in a linked list.\n",
        "\n",
        "Input: 1 -> 2 -> 3 -> 4\n",
        "\n",
        "Output: 2 -> 1 -> 4 -> 3"
      ],
      "metadata": {
        "id": "NIiL2867dE8m"
      }
    },
    {
      "cell_type": "code",
      "source": [
        "class Node :\n",
        "\n",
        "  def __init__(self, data=0, next=None) :\n",
        "    self.data = data\n",
        "    self.next = next\n",
        "\n",
        "  def getdata(self) :\n",
        "    return self.data\n",
        "\n",
        "  def setdata(self, data) :\n",
        "    self.data = data\n",
        "\n",
        "  def getnext(self) :\n",
        "    return self.next\n",
        "\n",
        "  def setnext(self, next) :\n",
        "    self.next = next\n",
        "\n",
        "\n",
        "node1 = Node(1)\n",
        "node2 = Node(2)\n",
        "node3 = Node(3)\n",
        "node4 = Node(4)\n",
        "\n",
        "node1.setnext(node2)\n",
        "node2.setnext(node3)\n",
        "node3.setnext(node4)\n",
        "\n",
        "\n",
        "def swap_in_pairs(head) :\n",
        "\n",
        "  dummy = Node(0)\n",
        "  dummy.setnext(head)\n",
        "  curr = dummy\n",
        "\n",
        "  while curr.getnext() is not None and curr.getnext().getnext() is not None :\n",
        "    first = curr.getnext()\n",
        "    second = curr.getnext().getnext()\n",
        "\n",
        "    first.setnext(second.getnext())\n",
        "    second.setnext(first)\n",
        "    curr.setnext(second)\n",
        "    curr = first\n",
        "\n",
        "  return dummy.getnext()\n",
        "\n",
        "\n",
        "def traverse(head) :\n",
        "\n",
        "  temp = head\n",
        "  while temp:\n",
        "    print(temp.getdata(), end= \"->\")\n",
        "    temp = temp.getnext()\n",
        "  print(\"None\")\n",
        "\n",
        "\n",
        "\n",
        "head = node1\n",
        "new_head = swap_in_pairs(head)\n",
        "traverse(new_head)"
      ],
      "metadata": {
        "colab": {
          "base_uri": "https://localhost:8080/"
        },
        "id": "5StHIBHWZd7e",
        "outputId": "76603e20-e76c-4d8d-811c-4d82f3ed9158"
      },
      "execution_count": null,
      "outputs": [
        {
          "output_type": "stream",
          "name": "stdout",
          "text": [
            "2->1->4->3->None\n"
          ]
        }
      ]
    },
    {
      "cell_type": "markdown",
      "source": [
        "Problem 8: Reverse nodes in a linked list in groups of k.\n",
        "\n",
        "Input: 1 -> 2 -> 3 -> 4 -> 5, k = 3\n",
        "\n",
        "Output: 3 -> 2 -> 1 -> 4 -> 5"
      ],
      "metadata": {
        "id": "r2hlL6WErsWe"
      }
    },
    {
      "cell_type": "code",
      "source": [
        "class Node :\n",
        "\n",
        "  def __init__(self, data=0, next=None) :\n",
        "    self.data = data\n",
        "    self.next = next\n",
        "\n",
        "  def getdata(self) :\n",
        "    return self.data\n",
        "\n",
        "  def setdata(self, data) :\n",
        "    self.data = data\n",
        "\n",
        "  def getnext(self) :\n",
        "    return self.next\n",
        "\n",
        "  def setnext(self, next) :\n",
        "    self.next = next\n",
        "\n",
        "\n",
        "node1 = Node(1)\n",
        "node2 = Node(2)\n",
        "node3 = Node(3)\n",
        "node4 = Node(4)\n",
        "node5 = Node(5)\n",
        "\n",
        "node1.setnext(node2)\n",
        "node2.setnext(node3)\n",
        "node3.setnext(node4)\n",
        "node4.setnext(node5)\n",
        "\n",
        "\n",
        "def reverse_k_group(head, k) :\n",
        "\n",
        "  if head is None or k == 1 :\n",
        "      return head\n",
        "\n",
        "  dummy = Node(0)\n",
        "  dummy.setnext(head)\n",
        "  current = dummy\n",
        "  next = None\n",
        "  prev = dummy\n",
        "\n",
        "  count = 0\n",
        "  while current.getnext() is not None :\n",
        "    current = current.getnext()\n",
        "    count += 1\n",
        "\n",
        "  while count >= k :\n",
        "    current = prev.getnext()\n",
        "    next = current.getnext()\n",
        "    for _ in range(1, k) :\n",
        "      current.setnext(next.getnext())\n",
        "      next.setnext(prev.getnext())\n",
        "      prev.setnext(next)\n",
        "      next = current.getnext()\n",
        "    prev = current\n",
        "    count -= k\n",
        "\n",
        "  return dummy.getnext()\n",
        "\n",
        "\n",
        "def traverse(head) :\n",
        "\n",
        "  temp = head\n",
        "  while temp:\n",
        "    print(temp.getdata(), end= \"->\")\n",
        "    temp = temp.getnext()\n",
        "  print(\"None\")\n",
        "\n",
        "head = node1\n",
        "k = 3\n",
        "new_head = reverse_k_group(head, k)\n",
        "traverse(new_head)"
      ],
      "metadata": {
        "colab": {
          "base_uri": "https://localhost:8080/"
        },
        "id": "kwOqgxGnrfUj",
        "outputId": "2c9d44ee-863c-4c5d-aba7-6de9eb7736d9"
      },
      "execution_count": null,
      "outputs": [
        {
          "output_type": "stream",
          "name": "stdout",
          "text": [
            "3->2->1->4->5->None\n"
          ]
        }
      ]
    },
    {
      "cell_type": "markdown",
      "source": [
        "Problem 9: Determine if a linked list is a palindrome.\n",
        "\n",
        "Input: 1 -> 2 -> 2 -> 1\n",
        "\n",
        "Output: True"
      ],
      "metadata": {
        "id": "4CvRTFH-8_H0"
      }
    },
    {
      "cell_type": "code",
      "source": [
        "class Node :\n",
        "\n",
        "  def __init__(self, data=0, next=None) :\n",
        "    self.data = data\n",
        "    self.next = next\n",
        "\n",
        "  def getdata(self) :\n",
        "    return self.data\n",
        "\n",
        "  def setdata(self, data) :\n",
        "    self.data = data\n",
        "\n",
        "  def getnext(self) :\n",
        "    return self.next\n",
        "\n",
        "  def setnext(self, next) :\n",
        "    self.next = next\n",
        "\n",
        "\n",
        "node1 = Node(1)\n",
        "node2 = Node(2)\n",
        "node3 = Node(3)\n",
        "node4 = Node(2)\n",
        "node5 = Node(1)\n",
        "\n",
        "node1.setnext(node2)\n",
        "node2.setnext(node3)\n",
        "node3.setnext(node4)\n",
        "node4.setnext(node5)\n",
        "\n",
        "def is_palindrome(head) :\n",
        "\n",
        "  if head is None or head.getnext() is None:\n",
        "    return True\n",
        "\n",
        "  #Finding the middle of the linked list using the fast and slow pointers\n",
        "  slow, fast = head, head\n",
        "  while fast and fast.getnext() :\n",
        "    slow = slow.getnext()\n",
        "    fast = fast.getnext().getnext()\n",
        "\n",
        "  #Reversing the second half of the linked list\n",
        "  prev = None\n",
        "  current = slow\n",
        "  while current :\n",
        "    next_node = current.getnext()\n",
        "    current.setnext(prev)\n",
        "    prev = current\n",
        "    current = next_node\n",
        "\n",
        "  # Compare the first half and the reversed second half\n",
        "  first_half, second_half = head, prev\n",
        "  while second_half :\n",
        "    if first_half.getdata() != second_half.getdata() :\n",
        "      return False\n",
        "    first_half = first_half.getnext()\n",
        "    second_half = second_half.getnext()\n",
        "\n",
        "  return True\n",
        "\n",
        "\n",
        "def traverse(head) :\n",
        "\n",
        "  temp = head\n",
        "  while temp:\n",
        "    print(temp.getdata(), end= \"->\")\n",
        "    temp = temp.getnext()\n",
        "  print(\"None\")\n",
        "\n",
        "\n",
        "head = node1\n",
        "result = is_palindrome(head)\n",
        "print(\"Is the linked list a palindrome?\", result)"
      ],
      "metadata": {
        "colab": {
          "base_uri": "https://localhost:8080/"
        },
        "id": "8ThqTB3B88Pw",
        "outputId": "b75fc42f-5edb-486d-f180-f9447de7e0a3"
      },
      "execution_count": null,
      "outputs": [
        {
          "output_type": "stream",
          "name": "stdout",
          "text": [
            "Is the linked list a palindrome? True\n"
          ]
        }
      ]
    },
    {
      "cell_type": "markdown",
      "source": [
        "Problem 10: Rotate a linked list to the right by k places.\n",
        "\n",
        "Input: 1 -> 2 -> 3 -> 4 -> 5, k = 2\n",
        "\n",
        "Output: 4 -> 5 -> 1 -> 2 -> 3"
      ],
      "metadata": {
        "id": "t1Meo_1_F4uj"
      }
    },
    {
      "cell_type": "code",
      "source": [
        "class Node :\n",
        "\n",
        "  def __init__(self, data=0, next=None) :\n",
        "    self.data = data\n",
        "    self.next = next\n",
        "\n",
        "  def getdata(self) :\n",
        "    return self.data\n",
        "\n",
        "  def setdata(self, data) :\n",
        "    self.data = data\n",
        "\n",
        "  def getnext(self) :\n",
        "    return self.next\n",
        "\n",
        "  def setnext(self, next) :\n",
        "    self.next = next\n",
        "\n",
        "\n",
        "node1 = Node(1)\n",
        "node2 = Node(2)\n",
        "node3 = Node(3)\n",
        "node4 = Node(4)\n",
        "node5 = Node(5)\n",
        "\n",
        "node1.setnext(node2)\n",
        "node2.setnext(node3)\n",
        "node3.setnext(node4)\n",
        "node4.setnext(node5)\n",
        "\n",
        "\n",
        "def rotate_right(head, k) :\n",
        "\n",
        "  if not head or not head.getnext() or k == 0 :\n",
        "    return head\n",
        "\n",
        "  length = 1\n",
        "  curr = head\n",
        "  while curr.getnext() :\n",
        "    curr = curr.getnext()\n",
        "    length += 1\n",
        "\n",
        "  k = k % length\n",
        "  if k == 0 :\n",
        "    return head\n",
        "  curr.setnext(head)\n",
        "  pos_new_tail = length - k\n",
        "  new_tail = head\n",
        "  for i in range(pos_new_tail - 1) :\n",
        "    new_tail = new_tail.getnext()\n",
        "  new_head = new_tail.getnext()\n",
        "  new_tail.setnext(None)\n",
        "\n",
        "  return new_head\n",
        "\n",
        "def printLL(head) :\n",
        "  temp = head\n",
        "  while temp :\n",
        "    print(temp.getdata(), end = \"->\")\n",
        "    temp = temp.getnext()\n",
        "  print(\"None\")\n",
        "\n",
        "head = node1\n",
        "k = 2\n",
        "new_head = rotate_right(head, k)\n",
        "printLL(new_head)"
      ],
      "metadata": {
        "colab": {
          "base_uri": "https://localhost:8080/"
        },
        "id": "JnVWYPckuH2e",
        "outputId": "a3601289-550d-4df8-8848-f0622029c11a"
      },
      "execution_count": null,
      "outputs": [
        {
          "output_type": "stream",
          "name": "stdout",
          "text": [
            "4->5->1->2->3->None\n"
          ]
        }
      ]
    },
    {
      "cell_type": "markdown",
      "source": [
        "Problem 11: Flatten a multilevel doubly linked list.\n",
        "\n",
        "Input: 1 <-> 2 <-> 3 <-> 7 <-> 8 <-> 11 -> 12, 4 <-> 5 -> 9 -> 10, 6 -> 13\n",
        "\n",
        "Output: 1 <-> 2 <-> 3 <-> 4 <-> 5 <-> 6 <-> 7 <-> 8 <-> 9 <-> 10 <-> 11 <-> 12 <-> 13"
      ],
      "metadata": {
        "id": "TQAV4hvzQ1a0"
      }
    },
    {
      "cell_type": "code",
      "source": [
        "class Node :\n",
        "\n",
        "  def __init__(self, data=0, prev=None, next=None, child=None) :\n",
        "    self.data = data\n",
        "    self.next = next\n",
        "    self.prev = prev\n",
        "    self.child = child\n",
        "\n",
        "  def getdata(self) :\n",
        "    return self.data\n",
        "\n",
        "  def setdata(self, data) :\n",
        "    self.data = data\n",
        "\n",
        "  def getprev(self) :\n",
        "    return self.prev\n",
        "\n",
        "  def setprev(self) :\n",
        "    self.prev = prev\n",
        "\n",
        "  def getnext(self) :\n",
        "    return self.next\n",
        "\n",
        "  def setnext(self, next) :\n",
        "    self.next = next\n",
        "\n",
        "\n",
        "node1 = Node(1)\n",
        "node2 = Node(2)\n",
        "node3 = Node(3)\n",
        "node4 = Node(4)\n",
        "node5 = Node(5)\n",
        "node6 = Node(6)\n",
        "node7 = Node(7)\n",
        "node8 = Node(8)\n",
        "node9 = Node(9)\n",
        "node10 = Node(10)\n",
        "node11 = Node(11)\n",
        "node12 = Node(12)\n",
        "node13 = Node(13)\n",
        "\n",
        "#Level-1\n",
        "node1.next = node2\n",
        "node2.prev = node1\n",
        "node2.next = node3\n",
        "node3.prev = node2\n",
        "node3.next = node7\n",
        "node7.prev = node3\n",
        "node7.next = node8\n",
        "node8.prev = node7\n",
        "\n",
        "#Level-2\n",
        "node3.child = node4\n",
        "node4.next = node5\n",
        "node5.prev = node4\n",
        "node5.next = node6\n",
        "node6.prev = node5\n",
        "\n",
        "# Level 3\n",
        "node5.child = node9\n",
        "node9.next = node10\n",
        "node10.prev = node9\n",
        "\n",
        "#Level4\n",
        "node8.child = node11\n",
        "node11.next = node12\n",
        "node12.prev = node11\n",
        "\n",
        "#Level5\n",
        "node6.child = node13\n",
        "\n",
        "def flatten(head: 'Node') -> 'Node' :\n",
        "  if not head:\n",
        "    return None\n",
        "\n",
        "  pseudo_head = Node(0, None, head, None)\n",
        "  prev = pseudo_head\n",
        "\n",
        "  stack = []\n",
        "  stack.append(head)\n",
        "\n",
        "  while stack :\n",
        "    curr = stack.pop()\n",
        "\n",
        "    #Connect the previous node with the current node\n",
        "    prev.next = curr\n",
        "    curr.prev = prev\n",
        "\n",
        "    #If we have a next node, push it onto the stack\n",
        "    if curr.next :\n",
        "      stack.append(curr.next)\n",
        "\n",
        "    #If we have a child node, push it onto the stack\n",
        "    if curr.child :\n",
        "      stack.append(curr.child)\n",
        "      curr.child = None\n",
        "\n",
        "    prev = curr\n",
        "\n",
        "  #Detaching the pseudo head from the real head\n",
        "  pseudo_head.next.prev = None\n",
        "  return pseudo_head.next\n",
        "\n",
        "#Helper function to print the list\n",
        "def printLL(head):\n",
        "  temp = head\n",
        "  while temp :\n",
        "    print(temp.getdata(), end=\"->\")\n",
        "    temp = temp.getnext()\n",
        "  print(None)\n",
        "\n",
        "\n",
        "head = node1\n",
        "flattened_head = flatten(head)\n",
        "printLL(flattened_head)"
      ],
      "metadata": {
        "colab": {
          "base_uri": "https://localhost:8080/"
        },
        "id": "W_qwZeE9PAV2",
        "outputId": "19ab7c20-5d64-4a59-e17e-ef904f336a25"
      },
      "execution_count": null,
      "outputs": [
        {
          "output_type": "stream",
          "name": "stdout",
          "text": [
            "1->2->3->4->5->9->10->6->13->7->8->11->12->None\n"
          ]
        }
      ]
    },
    {
      "cell_type": "markdown",
      "source": [
        "Problem 12: Rearrange a linked list such that all even positioned nodes are placed at the end.\n",
        "\n",
        "Input: 1 -> 2 -> 3 -> 4 -> 5\n",
        "\n",
        "Output: 1 -> 3 -> 5 -> 2 -> 4"
      ],
      "metadata": {
        "id": "pPTaL7CYJ8NX"
      }
    },
    {
      "cell_type": "code",
      "source": [
        "class Node :\n",
        "\n",
        "  def __init__(self, data=0, next=None) :\n",
        "    self.data = data\n",
        "    self.next = next\n",
        "\n",
        "  def getdata(self) :\n",
        "    return self.data\n",
        "\n",
        "  def setdata(self, data) :\n",
        "    self.data = data\n",
        "\n",
        "  def getnext(self) :\n",
        "    return self.next\n",
        "\n",
        "  def setnext(self, next) :\n",
        "    self.next = next\n",
        "\n",
        "\n",
        "node1 = Node(1)\n",
        "node2 = Node(2)\n",
        "node3 = Node(3)\n",
        "node4 = Node(4)\n",
        "node5 = Node(5)\n",
        "\n",
        "node1.setnext(node2)\n",
        "node2.setnext(node3)\n",
        "node3.setnext(node4)\n",
        "node4.setnext(node5)\n",
        "\n",
        "\n",
        "def rearrange_odd_even(head) :\n",
        "\n",
        "  if not head :\n",
        "    return head\n",
        "\n",
        "  odd_head = odd_tail = None\n",
        "  even_head = even_tail = None\n",
        "  is_odd = True\n",
        "  current = head\n",
        "\n",
        "  while current :\n",
        "\n",
        "    next_node = current.getnext()\n",
        "    current.setnext(None)\n",
        "\n",
        "    if is_odd :\n",
        "      if not odd_head :\n",
        "        odd_head = odd_tail = current\n",
        "      else :\n",
        "        odd_tail.setnext(current)\n",
        "        odd_tail = current\n",
        "    else :\n",
        "      if not even_head :\n",
        "        even_head = even_tail = current\n",
        "      else :\n",
        "        even_tail.setnext(current)\n",
        "        even_tail = current\n",
        "\n",
        "    is_odd = not is_odd\n",
        "    current = next_node\n",
        "\n",
        "  if odd_tail :\n",
        "    odd_tail.setnext(even_head)\n",
        "\n",
        "  return odd_head\n",
        "\n",
        "def printLL(head) :\n",
        "\n",
        "  temp = head\n",
        "  while temp :\n",
        "    print(temp.getdata(), end=\"->\")\n",
        "    temp = temp.getnext()\n",
        "  print(None)\n",
        "\n",
        "head = node1\n",
        "new_head = rearrange_odd_even(head)\n",
        "printLL(new_head)\n",
        "\n"
      ],
      "metadata": {
        "colab": {
          "base_uri": "https://localhost:8080/"
        },
        "id": "3Bs-DCNOJ5QZ",
        "outputId": "c69f2eb7-497a-4549-8795-cfc6e2026ddd"
      },
      "execution_count": null,
      "outputs": [
        {
          "output_type": "stream",
          "name": "stdout",
          "text": [
            "1->3->5->2->4->None\n"
          ]
        }
      ]
    },
    {
      "cell_type": "markdown",
      "source": [
        "Problem 13: Given a non-negative number represented as a linked list, add one to it.\n",
        "\n",
        "Input: 1 -> 2 -> 3 (represents the number 123)\n",
        "\n",
        "Output: 1 -> 2 -> 4 (represents the number 124)"
      ],
      "metadata": {
        "id": "7glXds3rm4KO"
      }
    },
    {
      "cell_type": "code",
      "source": [
        "class Node :\n",
        "\n",
        "  def __init__(self, data=0, next=None) :\n",
        "    self.data = data\n",
        "    self.next = next\n",
        "\n",
        "  def getdata(self) :\n",
        "    return self.data\n",
        "\n",
        "  def setdata(self, data) :\n",
        "    self.data = data\n",
        "\n",
        "  def getnext(self) :\n",
        "    return self.next\n",
        "\n",
        "  def setnext(self, next) :\n",
        "    self.next = next\n",
        "\n",
        "node1 = Node(1)\n",
        "node2 = Node(2)\n",
        "node3 = Node(3)\n",
        "\n",
        "node1.setnext(node2)\n",
        "node2.setnext(node3)\n",
        "\n",
        "def reverse_list(head) :\n",
        "\n",
        "  prev = None\n",
        "  curr = head\n",
        "\n",
        "  while curr is not None :\n",
        "    next_node = curr.getnext()\n",
        "    curr.setnext(prev)\n",
        "    prev = curr\n",
        "    curr = next_node\n",
        "  return prev\n",
        "\n",
        "\n",
        "def add_one(head) :\n",
        "\n",
        "  head = reverse_list(head)\n",
        "  carry = 1\n",
        "  curr = head\n",
        "  while curr is not None :\n",
        "    new_data = curr.getdata() + carry\n",
        "    carry = new_data // 10\n",
        "    curr.setdata(new_data % 10)\n",
        "    if not carry :\n",
        "      break\n",
        "    if curr.getnext() is None and carry :\n",
        "      curr.setnext(Node(carry))\n",
        "      carry = 0\n",
        "    curr = curr.getnext()\n",
        "\n",
        "  return reverse_list(head)\n",
        "\n",
        "def printLL(head) :\n",
        "\n",
        "  temp = head\n",
        "  while temp :\n",
        "    print(temp.getdata(), end = '->')\n",
        "    temp = temp.getnext()\n",
        "  print(None)\n",
        "\n",
        "\n",
        "print(\"Original List :\")\n",
        "printLL(node1)\n",
        "\n",
        "result = add_one(node1)\n",
        "print(\"Updated List :\")\n",
        "printLL(result)\n",
        "\n"
      ],
      "metadata": {
        "colab": {
          "base_uri": "https://localhost:8080/"
        },
        "id": "nrX1vFh8lPmF",
        "outputId": "f3a040bf-5186-492c-ed6f-cf4a331366a1"
      },
      "execution_count": null,
      "outputs": [
        {
          "output_type": "stream",
          "name": "stdout",
          "text": [
            "Original List :\n",
            "1->2->3->None\n",
            "Updated List :\n",
            "1->2->4->None\n"
          ]
        }
      ]
    },
    {
      "cell_type": "markdown",
      "source": [
        "Problem 14: Given a sorted array and a target value, return the index if the target is found. If not, return the index where it would be inserted.\n",
        "\n",
        "Input: nums = [1, 3, 5, 6], target = 5\n",
        "\n",
        "Output: 2"
      ],
      "metadata": {
        "id": "1bg2TkCY-DpL"
      }
    },
    {
      "cell_type": "code",
      "source": [
        "class Node :\n",
        "\n",
        "  def __init__(self, data=0, next=None) :\n",
        "    self.data = data\n",
        "    self.next = next\n",
        "\n",
        "  def getdata(self) :\n",
        "    return self.data\n",
        "\n",
        "  def setdata(self, data) :\n",
        "    self.data = data\n",
        "\n",
        "  def getnext(self) :\n",
        "    return self.next\n",
        "\n",
        "  def setnext(self, next) :\n",
        "    self.next = next\n",
        "\n",
        "node1 = Node(1)\n",
        "node2 = Node(3)\n",
        "node3 = Node(5)\n",
        "node4 = Node(6)\n",
        "\n",
        "node1.setnext(node2)\n",
        "node2.setnext(node3)\n",
        "node3.setnext(node4)\n",
        "\n",
        "\n",
        "def find_index_or_insert(head, target) :\n",
        "\n",
        "  index = 0\n",
        "  curr = head\n",
        "  dummy = Node(0)\n",
        "  dummy.setnext(head)\n",
        "  prev = dummy\n",
        "\n",
        "  while curr :\n",
        "    if curr.getdata() == target :\n",
        "      return index\n",
        "    elif curr.getdata() > target :\n",
        "      new_node = Node(target)\n",
        "      prev.setnext(new_node)\n",
        "      new_node.setnext(curr)\n",
        "      return index\n",
        "    else :\n",
        "      prev = curr\n",
        "      curr = curr.getnext()\n",
        "      index += 1\n",
        "  return index\n",
        "\n",
        "\n",
        "def printLL(head) :\n",
        "  temp = head\n",
        "  while temp :\n",
        "    print(temp.getdata(), end = \"->\")\n",
        "    temp = temp.getnext()\n",
        "  print(None)\n",
        "\n",
        "\n",
        "head = node1\n",
        "target = 2\n",
        "print(\"Original List : \")\n",
        "printLL(head)\n",
        "print(f\"Index of target ({target}) : \")\n",
        "index = find_index_or_insert(head, target)\n",
        "print(index)\n",
        "print(\"Updated List : \")\n",
        "printLL(head)"
      ],
      "metadata": {
        "colab": {
          "base_uri": "https://localhost:8080/"
        },
        "id": "WCkjKNUnLFhY",
        "outputId": "5775e1e6-eae6-4010-b222-386e70d2ee50"
      },
      "execution_count": null,
      "outputs": [
        {
          "output_type": "stream",
          "name": "stdout",
          "text": [
            "Original List : \n",
            "1->3->5->6->None\n",
            "Index of target (2) : \n",
            "1\n",
            "Updated List : \n",
            "1->2->3->5->6->None\n"
          ]
        }
      ]
    },
    {
      "cell_type": "markdown",
      "source": [
        "Problem 15: Find the minimum element in a rotated sorted array.\n",
        "\n",
        "Input: [4, 5, 6, 7, 0, 1, 2]\n",
        "\n",
        "Output: 0"
      ],
      "metadata": {
        "id": "vGcVtmwqJYWk"
      }
    },
    {
      "cell_type": "code",
      "source": [
        "def find_min_rotated_array(list) :\n",
        "\n",
        "  left, right = 0, len(list)-1\n",
        "\n",
        "  while left < right :\n",
        "    mid = (left + right) // 2\n",
        "    if list[mid] > list[right] :\n",
        "      left = mid + 1\n",
        "    else :\n",
        "      right = mid\n",
        "\n",
        "  return list[left]\n",
        "\n",
        "list = [4, 5, 6, 7, 0, 1, 2]\n",
        "find_min_rotated_array(list)"
      ],
      "metadata": {
        "id": "KMC2DOCWDap5",
        "colab": {
          "base_uri": "https://localhost:8080/"
        },
        "outputId": "db8b2350-bddb-4c0d-9ed6-c8756489670e"
      },
      "execution_count": 4,
      "outputs": [
        {
          "output_type": "execute_result",
          "data": {
            "text/plain": [
              "0"
            ]
          },
          "metadata": {},
          "execution_count": 4
        }
      ]
    },
    {
      "cell_type": "markdown",
      "source": [
        "Problem 16: Search for a target value in a rotated sorted array.\n",
        "\n",
        "Input: nums = [4, 5, 6, 7, 0, 1, 2], target = 0\n",
        "\n",
        "Output: 4"
      ],
      "metadata": {
        "id": "XGatOCZi0FhZ"
      }
    },
    {
      "cell_type": "code",
      "source": [
        "def find_target_value(list, target) :\n",
        "\n",
        "  left, right = 0, len(list)-1\n",
        "\n",
        "  while left <= right :\n",
        "\n",
        "    mid = (left + right) // 2\n",
        "\n",
        "    if list[mid] == target :\n",
        "      return mid\n",
        "    if list[left] <= list[mid] :\n",
        "      if list[left] <= target < list[mid] :\n",
        "        right = mid - 1\n",
        "      else :\n",
        "        left = mid + 1\n",
        "    else:\n",
        "      if list[mid] < target <= list[right] :\n",
        "        left = mid + 1\n",
        "      else :\n",
        "        right = mid - 1\n",
        "\n",
        "  return -1\n",
        "\n",
        "list = [4, 5, 6, 7, 0, 1, 2]\n",
        "target = 0\n",
        "print(f\"Index of the target value i.e. '{target}' :\")\n",
        "find_target_value(list, target)"
      ],
      "metadata": {
        "id": "_F2eJUsb1u7p",
        "colab": {
          "base_uri": "https://localhost:8080/"
        },
        "outputId": "d52e0bb7-6da5-4d35-e84d-7a41386500e4"
      },
      "execution_count": 7,
      "outputs": [
        {
          "output_type": "stream",
          "name": "stdout",
          "text": [
            "Index of the target value i.e. '0' :\n"
          ]
        },
        {
          "output_type": "execute_result",
          "data": {
            "text/plain": [
              "4"
            ]
          },
          "metadata": {},
          "execution_count": 7
        }
      ]
    },
    {
      "cell_type": "markdown",
      "source": [
        "Problem 17: Find the peak element in an array. A peak element is greater than its neighbors.\n",
        "\n",
        "Input: nums = [1, 2, 3, 1]\n",
        "\n",
        "Output: 2 (index of peak element)"
      ],
      "metadata": {
        "id": "H6nR7dHhOgkH"
      }
    },
    {
      "cell_type": "code",
      "source": [
        "def find_peak_element(list) :\n",
        "\n",
        "  left, right = 0, len(list)-1\n",
        "\n",
        "  while left < right :\n",
        "    mid = (left + right) // 2\n",
        "    if list[mid] > list[mid+1] :\n",
        "      right = mid\n",
        "    else :\n",
        "      left = mid + 1\n",
        "\n",
        "  return left\n",
        "\n",
        "\n",
        "list = [1, 2, 3, 1]\n",
        "print(\"Index of the peak element :\")\n",
        "find_peak_element(list)"
      ],
      "metadata": {
        "colab": {
          "base_uri": "https://localhost:8080/"
        },
        "id": "V7jeUUbUB2f6",
        "outputId": "931e98fb-f184-49e5-bb09-abbe151b9db5"
      },
      "execution_count": 1,
      "outputs": [
        {
          "output_type": "stream",
          "name": "stdout",
          "text": [
            "Index of the peak element :\n"
          ]
        },
        {
          "output_type": "execute_result",
          "data": {
            "text/plain": [
              "2"
            ]
          },
          "metadata": {},
          "execution_count": 1
        }
      ]
    },
    {
      "cell_type": "markdown",
      "source": [
        "Problem 18: Given a m x n matrix where each row and column is sorted in ascending order, count the number of negative numbers.\n",
        "\n",
        "Input: grid = [[4, 3, 2, -1], [3, 2, 1, -1], [1, 1, -1, -2], [-1, -1, -2, -3]]\n",
        "\n",
        "Output: 8"
      ],
      "metadata": {
        "id": "geFhSUyTveOf"
      }
    },
    {
      "cell_type": "code",
      "source": [
        "def count_negative(grid) :\n",
        "\n",
        "  m = len(grid)         #=4\n",
        "  n = len(grid[0])      #=4\n",
        "  count = 0\n",
        "  row = m-1\n",
        "  col = 0             #=3\n",
        "\n",
        "  while row >= 0 and col < n :\n",
        "    if grid[row][col] < 0 :\n",
        "      count += (n-col)\n",
        "      row -= 1\n",
        "    else :\n",
        "      col += 1\n",
        "\n",
        "  return count\n",
        "\n",
        "\n",
        "grid = [[4, 3, 2, -1],\n",
        "        [3, 2, 1, -1],\n",
        "        [1, 1, -1, -2],\n",
        "        [-1, -1, -2, -3]]\n",
        "\n",
        "count_negative(grid)"
      ],
      "metadata": {
        "colab": {
          "base_uri": "https://localhost:8080/"
        },
        "id": "_nbm0uLKm-sf",
        "outputId": "78aff4f7-6bc5-4372-81b8-b387b1098474"
      },
      "execution_count": 4,
      "outputs": [
        {
          "output_type": "execute_result",
          "data": {
            "text/plain": [
              "8"
            ]
          },
          "metadata": {},
          "execution_count": 4
        }
      ]
    },
    {
      "cell_type": "markdown",
      "source": [
        "Problem 19: Given a 2D matrix sorted in ascending order in each row, and the first integer of each row is greater than the last integer of the previous row, determine if a target value is present in the matrix.\n",
        "\n",
        "Input: matrix = [[1, 3, 5, 7], [10, 11, 16, 20], [23, 30, 34, 60]], target = 3\n",
        "\n",
        "Output: True"
      ],
      "metadata": {
        "id": "DAYdhFYWRCrC"
      }
    },
    {
      "cell_type": "code",
      "source": [
        "def find_target(grid, target) :\n",
        "\n",
        "  m = len(grid)\n",
        "  n = len(grid[0])\n",
        "  row = m-1\n",
        "  col = 0\n",
        "\n",
        "  while row >= 0 and col < n :\n",
        "    if grid[row][col] == target :\n",
        "      return True\n",
        "    elif grid[row][col] > target :\n",
        "      row -= 1\n",
        "    else :\n",
        "      col += 1\n",
        "\n",
        "  return False\n",
        "\n",
        "\n",
        "grid = [[1, 3, 5, 7],\n",
        "        [10, 11, 16, 20],\n",
        "        [23, 30, 34, 60]]\n",
        "\n",
        "find_target(grid, 3)"
      ],
      "metadata": {
        "colab": {
          "base_uri": "https://localhost:8080/"
        },
        "id": "qxLZCDRKPKBj",
        "outputId": "6f0f30d0-b281-45ab-af70-94472c412c44"
      },
      "execution_count": 12,
      "outputs": [
        {
          "output_type": "execute_result",
          "data": {
            "text/plain": [
              "True"
            ]
          },
          "metadata": {},
          "execution_count": 12
        }
      ]
    },
    {
      "cell_type": "markdown",
      "source": [
        "Problem 20: Find Median in Two Sorted Arrays\n",
        "\n",
        "Given two sorted arrays, find the median of the combined sorted array.\n",
        "\n",
        "Input: nums1 = [1, 3], nums2 = [2]\n",
        "\n",
        "Output: 2.0"
      ],
      "metadata": {
        "id": "VAOi-OE6ZoaM"
      }
    },
    {
      "cell_type": "code",
      "source": [
        "def findMedianSortedArrays(nums1, nums2) :\n",
        "\n",
        "  if len(nums1) > len(nums2):\n",
        "    nums1, nums2 = nums2, nums1\n",
        "\n",
        "  m, n = len(nums1), len(nums2)\n",
        "  imin, imax, half_len = 0, m, (m + n + 1) // 2\n",
        "\n",
        "  while imin <= imax :\n",
        "\n",
        "    i = (imin + imax) // 2\n",
        "    j = half_len - i\n",
        "\n",
        "    if i < m and nums1[i] < nums2[j - 1]:\n",
        "      imin = i + 1\n",
        "    elif i > 0 and nums1[i - 1] > nums2[j]:\n",
        "      imax = i - 1\n",
        "    else :\n",
        "      if i == 0 :\n",
        "        max_of_left = nums2[j - 1]\n",
        "      elif j == 0 :\n",
        "        max_of_left = nums1[i - 1]\n",
        "      else :\n",
        "        max_of_left = max(nums1[i - 1], nums2[j - 1])\n",
        "\n",
        "      if (m + n) % 2 == 1 :\n",
        "        return max_of_left\n",
        "\n",
        "      if i == m :\n",
        "        min_of_right = nums2[j]\n",
        "      elif j == n :\n",
        "        min_of_right = nums1[i]\n",
        "      else :\n",
        "        min_of_right = min(nums1[i], nums2[j])\n",
        "\n",
        "      return (max_of_left + min_of_right) / 2.0\n",
        "\n",
        "\n",
        "nums1 = [1, 3]\n",
        "nums2 = [2]\n",
        "print(findMedianSortedArrays(nums1, nums2))"
      ],
      "metadata": {
        "colab": {
          "base_uri": "https://localhost:8080/"
        },
        "id": "zr7QS-DfY-yj",
        "outputId": "b76d4d03-15ee-4b38-f6db-559e3109ba64"
      },
      "execution_count": 13,
      "outputs": [
        {
          "output_type": "stream",
          "name": "stdout",
          "text": [
            "2\n"
          ]
        }
      ]
    },
    {
      "cell_type": "markdown",
      "source": [
        "Problem 21: Given a sorted character array and a target letter, find the smallest letter in the array that is greater than the target.\n",
        "\n",
        "Input: letters = ['c', 'f', 'j'], target = a\n",
        "\n",
        "Output: 'c'"
      ],
      "metadata": {
        "id": "ihasbgaChUAe"
      }
    },
    {
      "cell_type": "code",
      "source": [
        "def nextGreatestLetter(letters, target):\n",
        "\n",
        "  low, high = 0, len(letters)\n",
        "  while low < high:\n",
        "\n",
        "    mid = (low + high) // 2\n",
        "    if letters[mid] <= target:\n",
        "      low = mid + 1\n",
        "    else:\n",
        "      high = mid\n",
        "\n",
        "  return letters[low % len(letters)]\n",
        "\n",
        "\n",
        "letters = ['c', 'f', 'j']\n",
        "target = 'a'\n",
        "print(nextGreatestLetter(letters, target))"
      ],
      "metadata": {
        "colab": {
          "base_uri": "https://localhost:8080/"
        },
        "id": "o9cd5iDkfK1T",
        "outputId": "df93bda2-7c2c-4d94-abbe-d9ee0171a392"
      },
      "execution_count": 14,
      "outputs": [
        {
          "output_type": "stream",
          "name": "stdout",
          "text": [
            "c\n"
          ]
        }
      ]
    },
    {
      "cell_type": "markdown",
      "source": [
        "Problem 22: Given an array with n objects colored red, white, or blue, sort them in-place so that objects of the same color are adjacent, with the colors in the order red, white, and blue.\n",
        "\n",
        "Input: nums = [2, 0, 2, 1, 1, 0]\n",
        "\n",
        "Output: [0, 0, 1, 1, 2, 2]"
      ],
      "metadata": {
        "id": "KaaaOP9q0xYb"
      }
    },
    {
      "cell_type": "code",
      "source": [
        "def sort_color(list) :\n",
        "\n",
        "  low, mid, high = 0, 0, len(list)-1\n",
        "\n",
        "  while mid <= high :\n",
        "\n",
        "    if list[mid] == 0 :\n",
        "      list[low], list[mid] = list[mid], list[low]\n",
        "      mid += 1\n",
        "      low += 1\n",
        "    elif list[mid] == 1 :\n",
        "      mid += 1\n",
        "    else :\n",
        "      list[mid], list[high] = list[high], list[mid]\n",
        "      high -= 1\n",
        "\n",
        "  return list\n",
        "\n",
        "list = [2, 0, 2, 1, 1, 0]\n",
        "sort_color(list)"
      ],
      "metadata": {
        "colab": {
          "base_uri": "https://localhost:8080/"
        },
        "id": "OWU1RWvX0Ksk",
        "outputId": "febb019b-6e56-4c2b-b9d1-e32fe84c27c8"
      },
      "execution_count": 2,
      "outputs": [
        {
          "output_type": "execute_result",
          "data": {
            "text/plain": [
              "[0, 0, 1, 1, 2, 2]"
            ]
          },
          "metadata": {},
          "execution_count": 2
        }
      ]
    },
    {
      "cell_type": "markdown",
      "source": [
        "Problem 23: Find the kth largest element in an unsorted array.\n",
        "\n",
        "Input: nums = [3, 2, 1, 5, 6, 4], k = 2\n",
        "\n",
        "Output: 5"
      ],
      "metadata": {
        "id": "zB-T5aAVkekP"
      }
    },
    {
      "cell_type": "code",
      "source": [
        "def findKthLargest(nums, k) :\n",
        "\n",
        "  def partition(nums, left, right) :\n",
        "\n",
        "    pivot = nums[right]\n",
        "    i = left\n",
        "    for j in range(left, right) :\n",
        "      if nums[j] <= pivot :\n",
        "        nums[i], nums[j] = nums[j], nums[i]\n",
        "        i += 1\n",
        "    nums[i], nums[right] = nums[right], nums[i]\n",
        "\n",
        "    return i\n",
        "\n",
        "  def quickselect(nums, left, right, k) :\n",
        "\n",
        "    if left == right :\n",
        "      return nums[left]\n",
        "    pivot_index = partition(nums, left, right)\n",
        "    if pivot_index == len(nums) - k :\n",
        "      return nums[pivot_index]\n",
        "    elif pivot_index < len(nums) - k :\n",
        "      return quickselect(nums, pivot_index + 1, right, k)\n",
        "    else:\n",
        "      return quickselect(nums, left, pivot_index - 1, k)\n",
        "\n",
        "  return quickselect(nums, 0, len(nums) - 1, k)\n",
        "\n",
        "\n",
        "nums = [3, 2, 1, 5, 6, 4]\n",
        "k = 2\n",
        "print(findKthLargest(nums, k))"
      ],
      "metadata": {
        "colab": {
          "base_uri": "https://localhost:8080/"
        },
        "id": "-zkm0OOEjhD8",
        "outputId": "d41f32e6-c3e8-4035-8eb2-5c7b1c2a9df7"
      },
      "execution_count": 1,
      "outputs": [
        {
          "output_type": "stream",
          "name": "stdout",
          "text": [
            "5\n"
          ]
        }
      ]
    },
    {
      "cell_type": "markdown",
      "source": [
        "Problem 24: Given an unsorted array, reorder it in-place such that nums[0] <= nums[1] >= nums[2] <= nums[3]...\n",
        "\n",
        "Input: nums = [3, 5, 2, 1, 6, 4]\n",
        "\n",
        "Output: [3, 5, 1, 6, 2, 4]"
      ],
      "metadata": {
        "id": "tpoM-0Ke_gts"
      }
    },
    {
      "cell_type": "code",
      "source": [
        "def wigglesort(nums) :\n",
        "\n",
        "  for i in range(1, len(nums)) :\n",
        "    if (i % 2) == 1 and nums[i] < nums[i-1] or (i % 2) == 0 and nums[i] > nums[i-1] :\n",
        "      nums[i-1], nums[i] = nums[i], nums[i-1]\n",
        "  return nums\n",
        "\n",
        "\n",
        "nums = [3, 5, 2, 1, 6, 4]\n",
        "wigglesort(nums)"
      ],
      "metadata": {
        "colab": {
          "base_uri": "https://localhost:8080/"
        },
        "id": "_yZ_ahX5_T1_",
        "outputId": "4a5c3a7b-bff6-47bd-dd8c-41f23f7ab908"
      },
      "execution_count": 4,
      "outputs": [
        {
          "output_type": "execute_result",
          "data": {
            "text/plain": [
              "[3, 5, 1, 6, 2, 4]"
            ]
          },
          "metadata": {},
          "execution_count": 4
        }
      ]
    },
    {
      "cell_type": "markdown",
      "source": [
        "Problem 25: Given an array of integers, calculate the sum of all its elements.\n",
        "\n",
        "Input: [1, 2, 3, 4, 5]\n",
        "\n",
        "Output: 15"
      ],
      "metadata": {
        "id": "4i1BYsiADIIh"
      }
    },
    {
      "cell_type": "code",
      "source": [
        "def find_sum(list) :\n",
        "\n",
        "  total_sum = 0\n",
        "\n",
        "  for element in list :\n",
        "    total_sum += element\n",
        "  return total_sum\n",
        "\n",
        "\n",
        "list = [1, 2, 3, 4, 5]\n",
        "find_sum(list)"
      ],
      "metadata": {
        "colab": {
          "base_uri": "https://localhost:8080/"
        },
        "id": "oRiqog_gCzXz",
        "outputId": "d634f5dc-ee60-4086-95f5-ce6347ea2b81"
      },
      "execution_count": 5,
      "outputs": [
        {
          "output_type": "execute_result",
          "data": {
            "text/plain": [
              "15"
            ]
          },
          "metadata": {},
          "execution_count": 5
        }
      ]
    },
    {
      "cell_type": "markdown",
      "source": [
        "Problem 26: Find the maximum element in an array of integers.\n",
        "\n",
        "Input: [3, 7, 2, 9, 4, 1]\n",
        "\n",
        "Output: 9"
      ],
      "metadata": {
        "id": "PYhpuDp8EPa1"
      }
    },
    {
      "cell_type": "code",
      "source": [
        "def find_max(array) :\n",
        "\n",
        "  max_element = array[0]\n",
        "\n",
        "  for element in array :\n",
        "    if element > max_element :\n",
        "      max_element = element\n",
        "  return max_element\n",
        "\n",
        "array = [3, 7, 2, 9, 4, 1]\n",
        "find_max(array)"
      ],
      "metadata": {
        "colab": {
          "base_uri": "https://localhost:8080/"
        },
        "id": "R9sJMOl7EK_p",
        "outputId": "ddb5c869-8de2-4adf-c1ee-fc97a9bad378"
      },
      "execution_count": 6,
      "outputs": [
        {
          "output_type": "execute_result",
          "data": {
            "text/plain": [
              "9"
            ]
          },
          "metadata": {},
          "execution_count": 6
        }
      ]
    },
    {
      "cell_type": "markdown",
      "source": [
        "Problem 27: Implement linear search to find the index of a target element in an array.\n",
        "\n",
        "Input: [5, 3, 8, 2, 7, 4], target = 8\n",
        "\n",
        "Output: 2"
      ],
      "metadata": {
        "id": "ppPH-pj1FJfm"
      }
    },
    {
      "cell_type": "code",
      "source": [
        "def find_index_of_target(array, target) :\n",
        "\n",
        "  for i in range(0, len(array)-1) :\n",
        "    if array[i] == target :\n",
        "      return i\n",
        "  return -1\n",
        "\n",
        "array = [5, 3, 8, 2, 7, 4]\n",
        "target = 8\n",
        "find_index_of_target(array, target)"
      ],
      "metadata": {
        "colab": {
          "base_uri": "https://localhost:8080/"
        },
        "id": "Vu8Ic7oDE5jp",
        "outputId": "98ad3ea8-728b-44b3-92bb-b5aaa19ffd43"
      },
      "execution_count": 14,
      "outputs": [
        {
          "output_type": "execute_result",
          "data": {
            "text/plain": [
              "2"
            ]
          },
          "metadata": {},
          "execution_count": 14
        }
      ]
    },
    {
      "cell_type": "markdown",
      "source": [
        "Problem 28: Calculate the factorial of a given number.\n",
        "\n",
        "Input: 5\n",
        "\n",
        "Output: 120 (as 5! = 5 * 4 * 3 * 2 * 1 = 120)"
      ],
      "metadata": {
        "id": "iTh6FGw6JNpu"
      }
    },
    {
      "cell_type": "code",
      "source": [
        "def factorial(n) :\n",
        "\n",
        "  if n <= 1 :\n",
        "    return 1\n",
        "  else :\n",
        "    return n * factorial(n-1)\n",
        "\n",
        "\n",
        "n = 5\n",
        "factorial(n)"
      ],
      "metadata": {
        "colab": {
          "base_uri": "https://localhost:8080/"
        },
        "id": "SyNEkqUMInvA",
        "outputId": "ad8fe6bb-2673-4337-97c9-cde8af56e01e"
      },
      "execution_count": 16,
      "outputs": [
        {
          "output_type": "execute_result",
          "data": {
            "text/plain": [
              "120"
            ]
          },
          "metadata": {},
          "execution_count": 16
        }
      ]
    },
    {
      "cell_type": "markdown",
      "source": [
        "Problem 29: Check if a given number is a prime number.\n",
        "\n",
        "Input: 7\n",
        "\n",
        "Output: True"
      ],
      "metadata": {
        "id": "EEfB6tlPKZ18"
      }
    },
    {
      "cell_type": "code",
      "source": [
        "def check_prime(n) :\n",
        "\n",
        "  if n <= 1 :\n",
        "    return False\n",
        "\n",
        "  if n == 2 or n == 3 :\n",
        "    return True\n",
        "\n",
        "  if n % 2 == 0 or n % 3 == 0 :\n",
        "    return False\n",
        "\n",
        "  sqrt_n = int(n ** 0.5)\n",
        "  for i in range(5, sqrt_n + 1, 6) :\n",
        "    if n % i == 0 or n % (i+2) == 0 :\n",
        "      return False\n",
        "\n",
        "  return True\n",
        "\n",
        "n = 7\n",
        "check_prime(n)"
      ],
      "metadata": {
        "colab": {
          "base_uri": "https://localhost:8080/"
        },
        "id": "1hMOnolnKWHM",
        "outputId": "2acadeef-a9e5-42a9-bba1-29b7f797516b"
      },
      "execution_count": 24,
      "outputs": [
        {
          "output_type": "execute_result",
          "data": {
            "text/plain": [
              "True"
            ]
          },
          "metadata": {},
          "execution_count": 24
        }
      ]
    },
    {
      "cell_type": "markdown",
      "source": [
        "Problem 30: Generate the Fibonacci series up to a given number n.\n",
        "\n",
        "Input: 8\n",
        "\n",
        "Output: [0, 1, 1, 2, 3, 5, 8, 13]"
      ],
      "metadata": {
        "id": "OlpCgJNFe3xO"
      }
    },
    {
      "cell_type": "code",
      "source": [
        "def fibonacci(n) :\n",
        "\n",
        "  if n == 0 :\n",
        "    return 0\n",
        "  if n == 1 :\n",
        "    return [0]\n",
        "  if n == 2 :\n",
        "    return [0, 1]\n",
        "  else :\n",
        "    fib_series = fibonacci(n-1)\n",
        "    fib_series.append(fib_series[-1] + fib_series[-2])\n",
        "    return fib_series\n",
        "\n",
        "n = 8\n",
        "fibonacci(n)"
      ],
      "metadata": {
        "colab": {
          "base_uri": "https://localhost:8080/"
        },
        "id": "KYzb8gZRK0Sj",
        "outputId": "d5634ea7-23ac-4375-d91e-a7c7559c25ce"
      },
      "execution_count": 29,
      "outputs": [
        {
          "output_type": "execute_result",
          "data": {
            "text/plain": [
              "[0, 1, 1, 2, 3, 5, 8, 13]"
            ]
          },
          "metadata": {},
          "execution_count": 29
        }
      ]
    },
    {
      "cell_type": "markdown",
      "source": [
        "Problem 31: Calculate the power of a number using recursion.\n",
        "\n",
        "Input: base = 3, exponent = 4\n",
        "\n",
        "Output: 81 (as 3^4 = 3 * 3 * 3 * 3 = 81)"
      ],
      "metadata": {
        "id": "mv1e6A-7qqaO"
      }
    },
    {
      "cell_type": "code",
      "source": [
        "def calculate_power(base, exponent) :\n",
        "\n",
        "  if exponent == 0 :\n",
        "    return 1\n",
        "  if exponent == 1 :\n",
        "    return base\n",
        "  else :\n",
        "    return base * calculate_power(base, exponent-1)\n",
        "\n",
        "\n",
        "base = 3\n",
        "exponent = 4\n",
        "calculate_power(base, exponent)"
      ],
      "metadata": {
        "colab": {
          "base_uri": "https://localhost:8080/"
        },
        "id": "OhWmBqJZi2aW",
        "outputId": "0907a8b8-78fb-41e8-c69c-98532483accc"
      },
      "execution_count": 30,
      "outputs": [
        {
          "output_type": "execute_result",
          "data": {
            "text/plain": [
              "81"
            ]
          },
          "metadata": {},
          "execution_count": 30
        }
      ]
    },
    {
      "cell_type": "markdown",
      "source": [
        "Problem 32: Reverse a given string.\n",
        "\n",
        "Input: \"hello\"\n",
        "\n",
        "Output: \"olleh"
      ],
      "metadata": {
        "id": "4aBRWcpXsMtc"
      }
    },
    {
      "cell_type": "code",
      "source": [
        "def reverse_string(string) :\n",
        "\n",
        "  reversed_string = \"\"\n",
        "\n",
        "  for element in string :\n",
        "    reversed_string = element + reversed_string\n",
        "  return reversed_string\n",
        "\n",
        "string = \"hello\"\n",
        "reverse_string(string)"
      ],
      "metadata": {
        "colab": {
          "base_uri": "https://localhost:8080/",
          "height": 36
        },
        "id": "GJoNONF5sEeV",
        "outputId": "11efdca8-fda1-4fd8-a6aa-5ebda44647b9"
      },
      "execution_count": 34,
      "outputs": [
        {
          "output_type": "execute_result",
          "data": {
            "text/plain": [
              "'olleh'"
            ],
            "application/vnd.google.colaboratory.intrinsic+json": {
              "type": "string"
            }
          },
          "metadata": {},
          "execution_count": 34
        }
      ]
    },
    {
      "cell_type": "code",
      "source": [],
      "metadata": {
        "id": "usazBqKqtWln"
      },
      "execution_count": null,
      "outputs": []
    }
  ]
}