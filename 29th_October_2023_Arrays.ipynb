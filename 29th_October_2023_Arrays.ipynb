{
  "nbformat": 4,
  "nbformat_minor": 0,
  "metadata": {
    "colab": {
      "provenance": []
    },
    "kernelspec": {
      "name": "python3",
      "display_name": "Python 3"
    },
    "language_info": {
      "name": "python"
    }
  },
  "cells": [
    {
      "cell_type": "markdown",
      "source": [
        "1 : Given an array, check if it contains any duplicates or not.\n",
        "\n",
        "`arr = [1, 2, 4, 2, 5, 9]`\n",
        "\n",
        "`Output = True`"
      ],
      "metadata": {
        "id": "N8rfpcYhL_OA"
      }
    },
    {
      "cell_type": "code",
      "execution_count": 1,
      "metadata": {
        "colab": {
          "base_uri": "https://localhost:8080/"
        },
        "id": "3d9tZj3qLijE",
        "outputId": "544a2f1d-6335-4084-ce37-a7a9d91869a0"
      },
      "outputs": [
        {
          "output_type": "execute_result",
          "data": {
            "text/plain": [
              "True"
            ]
          },
          "metadata": {},
          "execution_count": 1
        }
      ],
      "source": [
        "def check_dup(arr) :\n",
        "\n",
        "  empty_set = set()\n",
        "\n",
        "  for i in arr :\n",
        "    if i in empty_set :\n",
        "      return True\n",
        "    empty_set.add(i)\n",
        "  return False\n",
        "\n",
        "arr = [1, 2, 4, 2, 5, 9]\n",
        "\n",
        "check_dup(arr)"
      ]
    },
    {
      "cell_type": "markdown",
      "source": [
        "2 : Given an array and an integer k, rotate the array to the right by k steps.\n",
        "\n",
        "`arr = [1, 2, 3, 4, 5, 6, 7] k = 3`\n",
        "\n",
        "`Output = [5, 6, 7, 1, 2, 3, 4]`"
      ],
      "metadata": {
        "id": "DDwZ04qTyuA9"
      }
    },
    {
      "cell_type": "code",
      "source": [
        "def reverse(arr, start, end) :\n",
        "\n",
        "  while start < end :\n",
        "    arr[start] , arr[end] = arr[end] , arr[start]\n",
        "    start += 1\n",
        "    end -= 1\n",
        "\n",
        "def rotate_right(arr, k) :\n",
        "\n",
        "  n = len(arr)\n",
        "  k = k % n\n",
        "\n",
        "  #This would reverse the entire arr\n",
        "  reverse(arr, 0, n-1)\n",
        "\n",
        "  #This would reverse the first k elements (which is the last k elements in the actual arr)\n",
        "  reverse(arr, 0, k-1)\n",
        "\n",
        "  #This would reverse the remaining n-k elements (the starting 0 to k-1 elements)\n",
        "  reverse(arr, k, n-1)\n",
        "\n",
        "\n",
        "arr = [1, 2, 3, 4, 5, 6, 7]\n",
        "k = 3\n",
        "\n",
        "rotate_right(arr, k)\n",
        "print(arr)"
      ],
      "metadata": {
        "colab": {
          "base_uri": "https://localhost:8080/"
        },
        "id": "p8veFlRWOJVT",
        "outputId": "2d5c7bf3-3a55-40ea-a0ab-a5dc32faa0a5"
      },
      "execution_count": 14,
      "outputs": [
        {
          "output_type": "stream",
          "name": "stdout",
          "text": [
            "[5, 6, 7, 1, 2, 3, 4]\n"
          ]
        }
      ]
    },
    {
      "cell_type": "markdown",
      "source": [
        "3 : Reverse the given array in-place, means without using any extra data structure.\n",
        "\n",
        "`arr = [2, 4, 5, 7, 9, 12]`\n",
        "\n",
        "`Output = [12, 9, 7, 5, 4, 2]`"
      ],
      "metadata": {
        "id": "Dc35x146-JV-"
      }
    },
    {
      "cell_type": "code",
      "source": [
        "def reverse_arr(arr) :\n",
        "\n",
        "  start = 0\n",
        "  end = len(arr)-1\n",
        "\n",
        "  while start < end :\n",
        "    arr[start], arr[end] = arr[end], arr[start]\n",
        "    start += 1\n",
        "    end -= 1\n",
        "  return arr\n",
        "\n",
        "arr = [2, 4, 5, 7, 9, 12]\n",
        "reverse_arr(arr)"
      ],
      "metadata": {
        "colab": {
          "base_uri": "https://localhost:8080/"
        },
        "id": "_fjgw0EU06lM",
        "outputId": "0ddc39d0-adc0-4a13-e1bf-dd678dad58cb"
      },
      "execution_count": 15,
      "outputs": [
        {
          "output_type": "execute_result",
          "data": {
            "text/plain": [
              "[12, 9, 7, 5, 4, 2]"
            ]
          },
          "metadata": {},
          "execution_count": 15
        }
      ]
    },
    {
      "cell_type": "markdown",
      "source": [
        "4 : Given an array of integers, find the maximum element in an array\n",
        "\n",
        "`arr = [10, 5, 20, 8, 15]`\n",
        "\n",
        "`Output = 20`"
      ],
      "metadata": {
        "id": "a7nXb1w-HTYQ"
      }
    },
    {
      "cell_type": "code",
      "source": [
        "def find_max(arr) :\n",
        "\n",
        "  max_element = arr[0]\n",
        "\n",
        "  for num in arr[1:] :\n",
        "    if num > max_element :\n",
        "      max_element = num\n",
        "  return max_element\n",
        "\n",
        "arr = [10, 5, 20, 8, 15]\n",
        "find_max(arr)"
      ],
      "metadata": {
        "colab": {
          "base_uri": "https://localhost:8080/"
        },
        "id": "z33QFhGkG5LS",
        "outputId": "575d3772-2a68-4957-de56-950954f3acb2"
      },
      "execution_count": 8,
      "outputs": [
        {
          "output_type": "execute_result",
          "data": {
            "text/plain": [
              "20"
            ]
          },
          "metadata": {},
          "execution_count": 8
        }
      ]
    },
    {
      "cell_type": "markdown",
      "source": [
        "5 : Given a sorted array, remove the duplicate element without using any extra data structure.\n",
        "\n",
        "`arr = [1, 1, 2, 2, 2, 3, 3, 4, 4, 4, 5, 5]`\n",
        "\n",
        "`Output = [1, 2, 3, 4, 5]`"
      ],
      "metadata": {
        "id": "stP9OeWIdaA_"
      }
    },
    {
      "cell_type": "code",
      "source": [
        "def remove_dup(arr) :\n",
        "\n",
        "  if len(arr) == 0 :\n",
        "    return 0\n",
        "\n",
        "  i = 1\n",
        "\n",
        "  for j in range(1, len(arr)) :\n",
        "    if arr[j] != arr[j-1] :\n",
        "      arr[i] = arr[j]\n",
        "      i += 1\n",
        "  return arr[:i]\n",
        "\n",
        "arr = [1, 1, 2, 2, 2, 3, 3, 4, 4, 4, 5, 5]\n",
        "remove_dup(arr)"
      ],
      "metadata": {
        "colab": {
          "base_uri": "https://localhost:8080/"
        },
        "id": "380GD9WDbalz",
        "outputId": "42429085-e96e-452e-fbef-69a420f2af0f"
      },
      "execution_count": 10,
      "outputs": [
        {
          "output_type": "execute_result",
          "data": {
            "text/plain": [
              "[1, 2, 3, 4, 5]"
            ]
          },
          "metadata": {},
          "execution_count": 10
        }
      ]
    }
  ]
}