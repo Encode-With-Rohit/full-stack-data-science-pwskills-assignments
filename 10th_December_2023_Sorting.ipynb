{
  "nbformat": 4,
  "nbformat_minor": 0,
  "metadata": {
    "colab": {
      "provenance": []
    },
    "kernelspec": {
      "name": "python3",
      "display_name": "Python 3"
    },
    "language_info": {
      "name": "python"
    }
  },
  "cells": [
    {
      "cell_type": "markdown",
      "source": [
        "Problem 1. Given an array of n numbers, give an algorithm which gives the element appearing maximum number of times?"
      ],
      "metadata": {
        "id": "YOVSn3gxc2yU"
      }
    },
    {
      "cell_type": "code",
      "execution_count": null,
      "metadata": {
        "colab": {
          "base_uri": "https://localhost:8080/"
        },
        "id": "RPxiRlDEcuDm",
        "outputId": "ec3f8041-4112-4ba5-b1d3-157dc3df56fb"
      },
      "outputs": [
        {
          "output_type": "stream",
          "name": "stdout",
          "text": [
            "3\n"
          ]
        }
      ],
      "source": [
        "def count_repetition(arr) :\n",
        "\n",
        "  count_element = {}\n",
        "\n",
        "  for element in arr :\n",
        "    if element in count_element :\n",
        "      count_element[element] += 1\n",
        "    else :\n",
        "      count_element[element] = 1\n",
        "\n",
        "  max_count = 0\n",
        "  element_max_count = None\n",
        "\n",
        "  for key, value in count_element.items() :\n",
        "    if value > max_count :\n",
        "      max_count = value\n",
        "      element_max_count = key\n",
        "\n",
        "  return element_max_count\n",
        "\n",
        "arr = [1, 3, 2, 3, 4, 3, 2, 2, 1, 3]\n",
        "print(count_repetition(arr))"
      ]
    },
    {
      "cell_type": "markdown",
      "source": [
        "Problem 2. We are given a list of n-1 integers and these integers are in the range of 1 to n . There are no duplicates in the list. One of the integers is missing in the list. Give an algorithm to find that element.\n",
        "\n",
        "Ex : [1,2,4,6,3,7,8]\n",
        "\n",
        "5 is the missing num."
      ],
      "metadata": {
        "id": "Su0GQcO1wPXE"
      }
    },
    {
      "cell_type": "code",
      "source": [
        "def missing_num(list) :\n",
        "  n = len(list) + 1\n",
        "  expected_sum = n*(n+1)//2\n",
        "  actual_sum = sum(list)\n",
        "  missing_num = expected_sum - actual_sum\n",
        "  return missing_num\n",
        "\n",
        "list = [1,2,4,6,3,7,8]\n",
        "missing_num(list)"
      ],
      "metadata": {
        "colab": {
          "base_uri": "https://localhost:8080/"
        },
        "id": "36A3GBl2v2JJ",
        "outputId": "ebbaf2d8-fecf-4eac-c5fb-2f3aa8ffc492"
      },
      "execution_count": null,
      "outputs": [
        {
          "output_type": "execute_result",
          "data": {
            "text/plain": [
              "5"
            ]
          },
          "metadata": {},
          "execution_count": 1
        }
      ]
    },
    {
      "cell_type": "markdown",
      "source": [
        "Problem 3. Given an array of n positive numbers. All numbers occurs even number of times except 1 which occurs odd number of times. Find that number in O(n) time and O(1) space.\n",
        "\n",
        "Ex: [1,2,3,2,3,1,3].\n",
        "\n",
        "3 is repeats odd times."
      ],
      "metadata": {
        "id": "K6I93sMmFijJ"
      }
    },
    {
      "cell_type": "code",
      "source": [
        "def find_odd_occurence(list) :\n",
        "\n",
        "  result = 0\n",
        "\n",
        "  for num in list :\n",
        "    result ^= num\n",
        "  return result\n",
        "\n",
        "list = [1,2,3,2,3,1,3]\n",
        "find_odd_occurence(list)"
      ],
      "metadata": {
        "id": "HsuhCc7JFWza",
        "colab": {
          "base_uri": "https://localhost:8080/"
        },
        "outputId": "d6904e23-1736-4dd2-b77b-a07c9ca86831"
      },
      "execution_count": 1,
      "outputs": [
        {
          "output_type": "execute_result",
          "data": {
            "text/plain": [
              "3"
            ]
          },
          "metadata": {},
          "execution_count": 1
        }
      ]
    },
    {
      "cell_type": "markdown",
      "source": [
        "Problem 4. Given an array of n elements. Find two elements in the array such that their sum is equal to given element K."
      ],
      "metadata": {
        "id": "M915zuh66pcT"
      }
    },
    {
      "cell_type": "code",
      "source": [
        "def find_two_num(arr, k) :\n",
        "\n",
        "  arr.sort()\n",
        "  left, right = 0, len(arr)-1\n",
        "\n",
        "  while left < right :\n",
        "    if arr[left] + arr[right] == k :\n",
        "      return arr[left], arr[right]\n",
        "    elif arr[left] + arr[right] < k :\n",
        "      left += 1\n",
        "    else :\n",
        "      right -= 1\n",
        "  return None\n",
        "\n",
        "arr = [1,2,3,4,5,6,7,8,9]\n",
        "find_two_num(arr, 17)"
      ],
      "metadata": {
        "colab": {
          "base_uri": "https://localhost:8080/"
        },
        "id": "kVtPPhDh6gLv",
        "outputId": "3f9230b1-82cf-49c1-e7a3-c80ffdec9272"
      },
      "execution_count": 3,
      "outputs": [
        {
          "output_type": "execute_result",
          "data": {
            "text/plain": [
              "(8, 9)"
            ]
          },
          "metadata": {},
          "execution_count": 3
        }
      ]
    },
    {
      "cell_type": "markdown",
      "source": [
        "Problem 5. Given an array of both positive and negative numbers, find two numbers such that their sum is closest to 0.\n",
        "\n",
        "Ex : [ 1 ,60 ,-10, 70, -80,85].\n",
        "\n",
        "Ans : -80, 85."
      ],
      "metadata": {
        "id": "_gsn7uXSClaz"
      }
    },
    {
      "cell_type": "code",
      "source": [
        "def find_pair(arr) :\n",
        "\n",
        "  arr.sort()\n",
        "  closest_sum = float('inf')\n",
        "  pair = (0, 0)\n",
        "  left, right = 0, len(arr)-1\n",
        "\n",
        "\n",
        "  while left < right :\n",
        "    current_sum = arr[left] + arr[right]\n",
        "    if abs(current_sum) < abs(closest_sum) :\n",
        "      closest_sum = current_sum\n",
        "      pair = (arr[left], arr[right])\n",
        "\n",
        "    if current_sum < 0 :\n",
        "      left += 1\n",
        "    elif current_sum > 0 :\n",
        "      right -= 1\n",
        "    else :\n",
        "      break\n",
        "  return pair\n",
        "\n",
        "arr = [1, 60, -10, 70, -80, 85]\n",
        "find_pair(arr)\n",
        "\n"
      ],
      "metadata": {
        "colab": {
          "base_uri": "https://localhost:8080/"
        },
        "id": "Q4NRqn4AB4Np",
        "outputId": "9baeade4-c488-4cd3-b3a3-dc68e8da9420"
      },
      "execution_count": 9,
      "outputs": [
        {
          "output_type": "execute_result",
          "data": {
            "text/plain": [
              "(-80, 85)"
            ]
          },
          "metadata": {},
          "execution_count": 9
        }
      ]
    },
    {
      "cell_type": "markdown",
      "source": [
        "Problem 6. Given an array of n elements . Find three elements such that their sum is equal to the given number."
      ],
      "metadata": {
        "id": "rTjzo3WFQQ3R"
      }
    },
    {
      "cell_type": "code",
      "source": [
        "def find_three_element(arr, k) :\n",
        "\n",
        "  arr.sort()\n",
        "  n = len(arr)\n",
        "  for i in range(n-2) :\n",
        "    left = i+1\n",
        "    right = n-1\n",
        "    if arr[i] + arr[left] + arr[right] == k :\n",
        "      return (arr[i], arr[left], arr[right])\n",
        "    elif arr[i] + arr[left] + arr[right] < k :\n",
        "      left += 1\n",
        "    else :\n",
        "      right -= 1\n",
        "\n",
        "  return None\n",
        "\n",
        "arr = [1,2,3,4,5,6,7,8,9]\n",
        "find_three_element(arr, 20)\n"
      ],
      "metadata": {
        "colab": {
          "base_uri": "https://localhost:8080/"
        },
        "id": "3JCsMoaBLIfb",
        "outputId": "a89de815-1751-4cdd-9444-9f5e2f7208ee"
      },
      "execution_count": 10,
      "outputs": [
        {
          "output_type": "execute_result",
          "data": {
            "text/plain": [
              "(5, 6, 9)"
            ]
          },
          "metadata": {},
          "execution_count": 10
        }
      ]
    },
    {
      "cell_type": "markdown",
      "source": [
        "Problem 7. Given an array of n elements . Find three elements i, j, k in the array such that\n",
        "\n",
        "i * i + j * j = k*k."
      ],
      "metadata": {
        "id": "IIbfbMcDrlid"
      }
    },
    {
      "cell_type": "code",
      "source": [
        "def find_pythagorean_elements(arr) :\n",
        "  n = len(arr)\n",
        "  squares = {x*x for x in arr}\n",
        "\n",
        "  for i in range(n) :\n",
        "    for j in range(i+1, n) :\n",
        "      sum_of_sqaures = arr[i] * arr[i] + arr[j] * arr[j]\n",
        "      if sum_of_sqaures in squares :\n",
        "        k = int(sum_of_sqaures ** 0.5)\n",
        "        if k in arr :\n",
        "          return (arr[i], arr[j], k)\n",
        "\n",
        "  return None\n",
        "\n",
        "arr = [1,2,3,4,5,6,7,8,9]\n",
        "find_pythagorean_elements(arr)"
      ],
      "metadata": {
        "colab": {
          "base_uri": "https://localhost:8080/"
        },
        "id": "LYE7_Y1YrexI",
        "outputId": "3fb90b43-91d0-47ee-81d1-ccf385aa8772"
      },
      "execution_count": 11,
      "outputs": [
        {
          "output_type": "execute_result",
          "data": {
            "text/plain": [
              "(3, 4, 5)"
            ]
          },
          "metadata": {},
          "execution_count": 11
        }
      ]
    },
    {
      "cell_type": "markdown",
      "source": [
        "Problem 8. An element is a majority if it appears more than n/2 times. Give an algorithm takes an array of n element as argument and identifies a majority (if it exists)."
      ],
      "metadata": {
        "id": "ZMFJ4ofJ-Wwh"
      }
    },
    {
      "cell_type": "code",
      "source": [
        "def n_by_two(arr) :\n",
        "\n",
        "  n = len(arr)\n",
        "  occurence = {}\n",
        "\n",
        "  for element in arr :\n",
        "    if element in occurence :\n",
        "      occurence[element] += 1\n",
        "    else :\n",
        "      occurence[element] = 1\n",
        "\n",
        "  for element, value in occurence.items() :\n",
        "    if value > n/2 :\n",
        "      return element\n",
        "\n",
        "  return None\n",
        "\n",
        "arr = [1,2,3,4,5,5,5,5,5,5,5,5,5,6,7,8,9]\n",
        "n_by_two(arr)"
      ],
      "metadata": {
        "colab": {
          "base_uri": "https://localhost:8080/"
        },
        "id": "PGIibUFi-QA9",
        "outputId": "08d3296c-c784-4474-fe0a-735a098e8759"
      },
      "execution_count": 19,
      "outputs": [
        {
          "output_type": "execute_result",
          "data": {
            "text/plain": [
              "5"
            ]
          },
          "metadata": {},
          "execution_count": 19
        }
      ]
    },
    {
      "cell_type": "markdown",
      "source": [
        "Problem 9. Given n × n matrix, and in each row all 1’s are followed by 0’s. Find the row with the maximum number of 0’s."
      ],
      "metadata": {
        "id": "kQuJurWswCSl"
      }
    },
    {
      "cell_type": "code",
      "source": [
        "def find_row_with_max_zeros(matrix) :\n",
        "\n",
        "  n = len(matrix)\n",
        "  max_zeros = -1\n",
        "  row_index = -1\n",
        "\n",
        "  for i in range(n):\n",
        "\n",
        "    first_zero_index = None\n",
        "    for j in range(n) :\n",
        "      if matrix[i][j] == 0 :\n",
        "        first_zero_index = j\n",
        "        break\n",
        "\n",
        "    if first_zero_index is not None :\n",
        "      num_zeros = n - first_zero_index\n",
        "    else :\n",
        "      num_zeros = 0\n",
        "\n",
        "    if num_zeros > max_zeros :\n",
        "      max_zeros = num_zeros\n",
        "      row_index = i\n",
        "\n",
        "  return row_index\n",
        "\n",
        "matrix = [\n",
        "    [1, 1, 1, 0, 0],\n",
        "    [1, 0, 0, 0, 0],\n",
        "    [1, 1, 1, 1, 0],\n",
        "    [1, 1, 0, 0, 0],\n",
        "    [0, 0, 0, 0, 0]\n",
        "]\n",
        "\n",
        "result = find_row_with_max_zeros(matrix)\n",
        "print(result)"
      ],
      "metadata": {
        "colab": {
          "base_uri": "https://localhost:8080/"
        },
        "id": "B1c64htKC_zx",
        "outputId": "f65e1488-9e0d-4659-9ed4-b2c84265b644"
      },
      "execution_count": 1,
      "outputs": [
        {
          "output_type": "stream",
          "name": "stdout",
          "text": [
            "4\n"
          ]
        }
      ]
    },
    {
      "cell_type": "markdown",
      "source": [
        "Problem 10. Sort an array of 0’s, 1’s and 2’s [or R’s, G’s and B’s]: Given an array A[] consisting of 0’s, 1’s and 2’s, give an algorithm for sorting A[].\n",
        "\n",
        "The algorithm should put all 0’s first, then all 1’s and finally all 2’s at the\n",
        "end.\n",
        "\n",
        "Example Input = {0,1,1,0,1,2,1,2,0,0,0,1}, Output = {0,0,0,0,0,1,1,1,1,1,2,2}"
      ],
      "metadata": {
        "id": "32qGXavB4gAV"
      }
    },
    {
      "cell_type": "code",
      "source": [
        "def sort_1_2_3(arr) :\n",
        "\n",
        "  low = 0\n",
        "  mid = 0\n",
        "  high = len(arr) - 1\n",
        "\n",
        "  while mid <= high :\n",
        "    if arr[mid] == 0 :\n",
        "      arr[low], arr[mid] = arr[mid], arr[low]\n",
        "      low += 1\n",
        "      mid += 1\n",
        "    elif arr[mid] == 1 :\n",
        "      mid += 1\n",
        "    else :\n",
        "      arr[high], arr[mid] = arr[mid], arr[high]\n",
        "      high -= 1\n",
        "\n",
        "  return arr\n",
        "\n",
        "arr = [0, 1, 1, 0, 1, 2, 1, 2, 0, 0, 0, 1]\n",
        "sort_1_2_3(arr)"
      ],
      "metadata": {
        "colab": {
          "base_uri": "https://localhost:8080/"
        },
        "id": "pygsejs84cx9",
        "outputId": "3fe2728c-3878-4d32-8483-edb399f5c12c"
      },
      "execution_count": 3,
      "outputs": [
        {
          "output_type": "execute_result",
          "data": {
            "text/plain": [
              "[0, 0, 0, 0, 0, 1, 1, 1, 1, 1, 2, 2]"
            ]
          },
          "metadata": {},
          "execution_count": 3
        }
      ]
    },
    {
      "cell_type": "code",
      "source": [],
      "metadata": {
        "id": "WfWvtQFCp2Wu"
      },
      "execution_count": null,
      "outputs": []
    }
  ]
}