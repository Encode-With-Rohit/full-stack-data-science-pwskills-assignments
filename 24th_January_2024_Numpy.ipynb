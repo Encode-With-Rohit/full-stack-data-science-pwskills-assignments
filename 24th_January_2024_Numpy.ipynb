{
  "nbformat": 4,
  "nbformat_minor": 0,
  "metadata": {
    "colab": {
      "provenance": []
    },
    "kernelspec": {
      "name": "python3",
      "display_name": "Python 3"
    },
    "language_info": {
      "name": "python"
    }
  },
  "cells": [
    {
      "cell_type": "markdown",
      "source": [
        "1. What is a Python library? Why do we use Python libraries?"
      ],
      "metadata": {
        "id": "okXGnsSUvnYY"
      }
    },
    {
      "cell_type": "code",
      "execution_count": null,
      "metadata": {
        "id": "zLuMRHxvveEZ"
      },
      "outputs": [],
      "source": [
        "'''\n",
        "A Python library is a collection of pre-written code that provides functionalities\n",
        "to solve specific problems or tasks. We use Python libraries to save time, leverage\n",
        "specialized functionalities, improve code efficiency, benefit from community support,\n",
        "focus on problem-solving, and facilitate interoperability with other technologies.\n",
        "'''"
      ]
    },
    {
      "cell_type": "markdown",
      "source": [
        "2. What is the difference between Numpy array and List?"
      ],
      "metadata": {
        "id": "37CMYefFv7cj"
      }
    },
    {
      "cell_type": "code",
      "source": [
        "'''\n",
        "Numpy arrays are specialized for numerical data and provide more efficient storage\n",
        "and operations compared to Python lists, which are more general-purpose and flexible\n",
        "but less efficient for numerical computations. The choice between numpy arrays and lists\n",
        "depends on the specific requirements of your application, especially if you are dealing\n",
        "with large amounts of numerical data or require efficient numerical operations.\n",
        "'''"
      ],
      "metadata": {
        "id": "qQRbpeTSv_tU"
      },
      "execution_count": null,
      "outputs": []
    },
    {
      "cell_type": "markdown",
      "source": [
        "3. Find the shape, size and dimension of the following array?\n",
        "\n",
        "[[1, 2, 3, 4]\n",
        "\n",
        "[5, 6, 7, 8],\n",
        "\n",
        "[9, 10, 11, 12]]"
      ],
      "metadata": {
        "id": "9FwkQSFcwVZ8"
      }
    },
    {
      "cell_type": "code",
      "source": [
        "import numpy as np\n",
        "\n",
        "\n",
        "arr = np.array([[1, 2, 3, 4],\n",
        "                [5, 6, 7, 8],\n",
        "                [9, 10, 11, 12]])\n",
        "\n",
        "print(arr.shape)\n",
        "print(arr.size)"
      ],
      "metadata": {
        "colab": {
          "base_uri": "https://localhost:8080/"
        },
        "id": "pfW7YQY_wtbA",
        "outputId": "5b3b1b7b-4109-484d-8292-9fb24d3d7b53"
      },
      "execution_count": 8,
      "outputs": [
        {
          "output_type": "stream",
          "name": "stdout",
          "text": [
            "(3, 4)\n",
            "12\n"
          ]
        }
      ]
    },
    {
      "cell_type": "markdown",
      "source": [
        "4. Write python code to access the first row of the following array?\n",
        "\n",
        "[[1, 2, 3, 4]\n",
        "\n",
        "[5, 6, 7, 8],\n",
        "\n",
        "[9, 10, 11, 12]]"
      ],
      "metadata": {
        "id": "swqfR-M8yXUq"
      }
    },
    {
      "cell_type": "code",
      "source": [
        "import numpy as np\n",
        "\n",
        "arr = np.array([[1, 2, 3, 4],\n",
        "                [5, 6, 7, 8],\n",
        "                [9, 10, 11, 12]])\n",
        "\n",
        "arr[0]"
      ],
      "metadata": {
        "colab": {
          "base_uri": "https://localhost:8080/"
        },
        "id": "Pvm2CJysw-8y",
        "outputId": "b98d4e10-2e77-426f-807c-690c4a057e4d"
      },
      "execution_count": 9,
      "outputs": [
        {
          "output_type": "execute_result",
          "data": {
            "text/plain": [
              "array([1, 2, 3, 4])"
            ]
          },
          "metadata": {},
          "execution_count": 9
        }
      ]
    },
    {
      "cell_type": "markdown",
      "source": [
        "5. How do you access the element at the third row and fourth column from the given numpy array?\n",
        "\n",
        "[[1, 2, 3, 4]\n",
        "\n",
        "[5, 6, 7, 8],\n",
        "\n",
        "[9, 10, 11, 12]]"
      ],
      "metadata": {
        "id": "0uUE7tGVxR0c"
      }
    },
    {
      "cell_type": "code",
      "source": [
        "import numpy as np\n",
        "\n",
        "arr = np.array([[1, 2, 3, 4],\n",
        "                [5, 6, 7, 8],\n",
        "                [9, 10, 11, 12]])\n",
        "\n",
        "arr[2, 3]\n"
      ],
      "metadata": {
        "colab": {
          "base_uri": "https://localhost:8080/"
        },
        "id": "jj0b2AeXyqB2",
        "outputId": "e787970c-8cc5-4b20-f994-e4d7bd3a9f4f"
      },
      "execution_count": 6,
      "outputs": [
        {
          "output_type": "execute_result",
          "data": {
            "text/plain": [
              "12"
            ]
          },
          "metadata": {},
          "execution_count": 6
        }
      ]
    },
    {
      "cell_type": "markdown",
      "source": [
        "6. Write code to extract all odd-indexed elements from the given numpy array?\n",
        "\n",
        "[[1, 2, 3, 4]\n",
        "\n",
        "[5, 6, 7, 8],\n",
        "\n",
        "[9, 10, 11, 12]]"
      ],
      "metadata": {
        "id": "jmbuDbnUzf1N"
      }
    },
    {
      "cell_type": "code",
      "source": [
        "import numpy as np\n",
        "\n",
        "arr = np.array([[1, 2, 3, 4],\n",
        "                [5, 6, 7, 8],\n",
        "                [9, 10, 11, 12]])\n",
        "\n",
        "flattened_arr = arr.flatten()\n",
        "\n",
        "odd_index_elements = [flattened_arr[i] for i in range(len(flattened_arr)) if i % 2 == 1]\n",
        "\n",
        "print(odd_index_elements)"
      ],
      "metadata": {
        "colab": {
          "base_uri": "https://localhost:8080/"
        },
        "id": "WPKxMBDXxdtO",
        "outputId": "17ec1d76-9e41-4dd0-8719-4f8e1c2c03cb"
      },
      "execution_count": 7,
      "outputs": [
        {
          "output_type": "stream",
          "name": "stdout",
          "text": [
            "[2, 4, 6, 8, 10, 12]\n"
          ]
        }
      ]
    },
    {
      "cell_type": "markdown",
      "source": [
        "7. How can you generate a random 3x3 matrix with values between 0 and 1?"
      ],
      "metadata": {
        "id": "ZPP7GuueBPYw"
      }
    },
    {
      "cell_type": "code",
      "source": [
        "import numpy as np\n",
        "\n",
        "random_matrix = np.random.rand(3, 3)\n",
        "\n",
        "print(random_matrix)"
      ],
      "metadata": {
        "colab": {
          "base_uri": "https://localhost:8080/"
        },
        "id": "TLIXmYKc_MZe",
        "outputId": "8610597c-5808-41eb-c241-cd6406ec684a"
      },
      "execution_count": 8,
      "outputs": [
        {
          "output_type": "stream",
          "name": "stdout",
          "text": [
            "[[0.83335525 0.98553529 0.09785192]\n",
            " [0.98704105 0.88950768 0.48828031]\n",
            " [0.4731241  0.82102834 0.33171691]]\n"
          ]
        }
      ]
    },
    {
      "cell_type": "markdown",
      "source": [
        "8. Describe the difference between np.random.rand and np.random.randn?"
      ],
      "metadata": {
        "id": "X3uiRn3THKdO"
      }
    },
    {
      "cell_type": "code",
      "source": [
        "import numpy as np\n",
        "\n",
        "random_matrix = np.random.rand(3, 3)\n",
        "normal_matrix = np.random.randn(3, 3)\n",
        "\n",
        "print(random_matrix)\n",
        "print()\n",
        "print(normal_matrix)\n",
        "\n",
        "'''\n",
        "np.random.rand:\n",
        "\n",
        "- Uniform distribution\n",
        "- Values in the range [0, 1)\n",
        "- Used for generating normalized or bounded random values np.random.randn:\n",
        "\n",
        "np.random.randn:\n",
        "\n",
        "- Standard normal distribution\n",
        "- Values centered around 0 with a standard deviation of 1\n",
        "- Used for generating data that follows a normal distribution\n",
        "\n",
        "'''"
      ],
      "metadata": {
        "colab": {
          "base_uri": "https://localhost:8080/"
        },
        "id": "6ZMOXAGmGUIh",
        "outputId": "01be8f5b-17cd-41b5-b61e-31bddbbcb711"
      },
      "execution_count": 10,
      "outputs": [
        {
          "output_type": "stream",
          "name": "stdout",
          "text": [
            "[[0.37358627 0.38799266 0.41295144]\n",
            " [0.95870749 0.00350918 0.61450549]\n",
            " [0.09213567 0.81443237 0.66307907]]\n",
            "\n",
            "[[-0.6057707  -0.13476677 -1.43586453]\n",
            " [ 0.11953403  2.62927807  1.0449363 ]\n",
            " [-0.07387395 -0.95026063 -0.75909934]]\n"
          ]
        }
      ]
    },
    {
      "cell_type": "markdown",
      "source": [
        "9. Write code to increase the dimension of the following array?\n",
        "\n",
        "[[1, 2, 3, 4]\n",
        "\n",
        "[5, 6, 7, 8],\n",
        "\n",
        "[9, 10, 11, 12]]"
      ],
      "metadata": {
        "id": "x3DXq9atKLYX"
      }
    },
    {
      "cell_type": "code",
      "source": [
        "import numpy as np\n",
        "\n",
        "#Defining the numpy array\n",
        "array = np.array([[1, 2, 3, 4],\n",
        "                  [5, 6, 7, 8],\n",
        "                  [9, 10, 11, 12]])\n",
        "\n",
        "#Increasing dimension by adding a new axis at position 0\n",
        "expanded_array = np.expand_dims(array, axis=0)\n",
        "\n",
        "#Printing results\n",
        "print(\"Original array:\")\n",
        "print(array)\n",
        "print(\"Shape of original array:\", array.shape)\n",
        "\n",
        "print(\"\\nExpanded array:\")\n",
        "print(expanded_array)\n",
        "print(\"Shape of expanded array:\", expanded_array.shape)\n"
      ],
      "metadata": {
        "colab": {
          "base_uri": "https://localhost:8080/"
        },
        "id": "KACPCRyIJy-y",
        "outputId": "d3f0b1f8-2ce3-4769-b835-fe68946aaa29"
      },
      "execution_count": 11,
      "outputs": [
        {
          "output_type": "stream",
          "name": "stdout",
          "text": [
            "Original array:\n",
            "[[ 1  2  3  4]\n",
            " [ 5  6  7  8]\n",
            " [ 9 10 11 12]]\n",
            "Shape of original array: (3, 4)\n",
            "\n",
            "Expanded array:\n",
            "[[[ 1  2  3  4]\n",
            "  [ 5  6  7  8]\n",
            "  [ 9 10 11 12]]]\n",
            "Shape of expanded array: (1, 3, 4)\n"
          ]
        }
      ]
    },
    {
      "cell_type": "markdown",
      "source": [
        "10. How to transpose the following array in NumPy?\n",
        "\n",
        "[[1, 2, 3, 4]\n",
        "\n",
        "[5, 6, 7, 8],\n",
        "\n",
        "[9, 10, 11, 12]]"
      ],
      "metadata": {
        "id": "NpiMdO_2OzbU"
      }
    },
    {
      "cell_type": "code",
      "source": [
        "import numpy as np\n",
        "\n",
        "array = np.array([[1, 2, 3, 4],\n",
        "                  [5, 6, 7, 8],\n",
        "                  [9, 10, 11, 12]])\n",
        "\n",
        "#Transposing the array\n",
        "transposed_array = np.transpose(array)\n",
        "\n",
        "print(\"Original array:\")\n",
        "print(array)\n",
        "print(\"\\nTransposed array:\")\n",
        "print(transposed_array)\n"
      ],
      "metadata": {
        "colab": {
          "base_uri": "https://localhost:8080/"
        },
        "id": "brWhiQGyNZ6s",
        "outputId": "ba5915f0-c09a-4a0f-9963-0942d538254d"
      },
      "execution_count": 12,
      "outputs": [
        {
          "output_type": "stream",
          "name": "stdout",
          "text": [
            "Original array:\n",
            "[[ 1  2  3  4]\n",
            " [ 5  6  7  8]\n",
            " [ 9 10 11 12]]\n",
            "\n",
            "Transposed array:\n",
            "[[ 1  5  9]\n",
            " [ 2  6 10]\n",
            " [ 3  7 11]\n",
            " [ 4  8 12]]\n"
          ]
        }
      ]
    },
    {
      "cell_type": "markdown",
      "source": [
        "11. Consider the following matrix:\n",
        "\n",
        "Matrix A : [[1, 2, 3, 4] [5, 6, 7, 8],[9, 10, 11, 12]]\n",
        "\n",
        "Matrix B : [[1, 2, 3, 4] [5, 6, 7, 8],[9, 10, 11, 12]]\n",
        "\n",
        "\n",
        "Perform the following operation using Python :\n",
        "\n",
        "1. Index wise multiplication\n",
        "2. Matrix multiplication\n",
        "3. Add both the matrics\n",
        "4. Subtract matrix B from A\n",
        "5. Divide Matrix B by A"
      ],
      "metadata": {
        "id": "k_zaTCcEPKPq"
      }
    },
    {
      "cell_type": "code",
      "source": [
        "import numpy as np\n",
        "\n",
        "#Defining matrices A and B\n",
        "A = np.array([[1, 2, 3, 4],\n",
        "              [5, 6, 7, 8],\n",
        "              [9, 10, 11, 12]])\n",
        "\n",
        "B = np.array([[1, 2, 3, 4],\n",
        "              [5, 6, 7, 8],\n",
        "              [9, 10, 11, 12]])\n",
        "\n",
        "#1. Index-wise multiplication\n",
        "index_wise_multiply = A * B\n",
        "\n",
        "#2. Matrix multiplication\n",
        "matrix_multiply = A @ B.T\n",
        "\n",
        "#3. Add both matrices\n",
        "matrix_addition = A + B\n",
        "\n",
        "#4. Subtract matrix B from A\n",
        "matrix_subtraction = A - B\n",
        "\n",
        "#5. Divide Matrix B by A (element-wise division)\n",
        "matrix_division = np.divide(B, A)\n",
        "\n",
        "#Printing results\n",
        "print(\"Matrix A:\")\n",
        "print(A)\n",
        "print(\"\\nMatrix B:\")\n",
        "print(B)\n",
        "\n",
        "print(\"\\n1. Index-wise multiplication:\")\n",
        "print(index_wise_multiply)\n",
        "\n",
        "print(\"\\n2. Matrix multiplication (A @ B.T):\")\n",
        "print(matrix_multiply)\n",
        "\n",
        "print(\"\\n3. Matrix addition (A + B):\")\n",
        "print(matrix_addition)\n",
        "\n",
        "print(\"\\n4. Matrix subtraction (A - B):\")\n",
        "print(matrix_subtraction)\n",
        "\n",
        "print(\"\\n5. Matrix division (B / A):\")\n",
        "print(matrix_division)\n"
      ],
      "metadata": {
        "colab": {
          "base_uri": "https://localhost:8080/"
        },
        "id": "Grm5RnGbPFeG",
        "outputId": "99a3639a-5f17-423b-f565-f4e6c002dbe6"
      },
      "execution_count": 14,
      "outputs": [
        {
          "output_type": "stream",
          "name": "stdout",
          "text": [
            "Matrix A:\n",
            "[[ 1  2  3  4]\n",
            " [ 5  6  7  8]\n",
            " [ 9 10 11 12]]\n",
            "\n",
            "Matrix B:\n",
            "[[ 1  2  3  4]\n",
            " [ 5  6  7  8]\n",
            " [ 9 10 11 12]]\n",
            "\n",
            "1. Index-wise multiplication:\n",
            "[[  1   4   9  16]\n",
            " [ 25  36  49  64]\n",
            " [ 81 100 121 144]]\n",
            "\n",
            "2. Matrix multiplication (A @ B.T):\n",
            "[[ 30  70 110]\n",
            " [ 70 174 278]\n",
            " [110 278 446]]\n",
            "\n",
            "3. Matrix addition (A + B):\n",
            "[[ 2  4  6  8]\n",
            " [10 12 14 16]\n",
            " [18 20 22 24]]\n",
            "\n",
            "4. Matrix subtraction (A - B):\n",
            "[[0 0 0 0]\n",
            " [0 0 0 0]\n",
            " [0 0 0 0]]\n",
            "\n",
            "5. Matrix division (B / A):\n",
            "[[1. 1. 1. 1.]\n",
            " [1. 1. 1. 1.]\n",
            " [1. 1. 1. 1.]]\n"
          ]
        }
      ]
    },
    {
      "cell_type": "markdown",
      "source": [
        "12. Which function in Numpy can be use^ to swap the byte or^er of an array?"
      ],
      "metadata": {
        "id": "3p1u4uXAWxUX"
      }
    },
    {
      "cell_type": "code",
      "source": [
        "import numpy as np\n",
        "\n",
        "#Creating an array with a specific byte order\n",
        "arr = np.array([1, 256, 65536], dtype=np.int32)\n",
        "\n",
        "print(\"Original array:\", arr)\n",
        "\n",
        "swapped_arr = arr.byteswap()\n",
        "\n",
        "print(\"Array with swapped byte order:\", swapped_arr)"
      ],
      "metadata": {
        "colab": {
          "base_uri": "https://localhost:8080/"
        },
        "id": "rc9VgZVFQfmb",
        "outputId": "eee2c376-de8b-484f-cdfa-baf9891069d2"
      },
      "execution_count": 1,
      "outputs": [
        {
          "output_type": "stream",
          "name": "stdout",
          "text": [
            "Original array: [    1   256 65536]\n",
            "Array with swapped byte order: [16777216    65536      256]\n"
          ]
        }
      ]
    },
    {
      "cell_type": "markdown",
      "source": [
        "13.What is the significance of the np.linalg.inv function?"
      ],
      "metadata": {
        "id": "bxrN68R2X95b"
      }
    },
    {
      "cell_type": "code",
      "source": [
        "'''\n",
        "'np.linalg.inv' function is primarily used to calculate the inverse of a square matrix.\n",
        "\n",
        "In regression analysis, the normal equation method to find the coefficient vector \\(\\beta\\) is given by:\n",
        "\\[ \\beta = (X^TX)^{-1}X^Ty \\]\n",
        "where \\(X\\) is the design matrix and \\(y\\) is the response vector.\n",
        "\n",
        "'''\n",
        "\n",
        "import numpy as np\n",
        "\n",
        "A = np.array([[1, 2], [3, 4]])\n",
        "\n",
        "#Computing the inverse of the matrix using np.linalg.inv\n",
        "A_inv = np.linalg.inv(A)\n",
        "\n",
        "print(\"Original Matrix A:\")\n",
        "print(A)\n",
        "print()\n",
        "\n",
        "print(\"Inverse of Matrix A:\")\n",
        "print(A_inv)\n",
        "print()\n",
        "\n",
        "#Verifying the result by multiplying A with its inverse\n",
        "I = np.dot(A, A_inv)\n",
        "\n",
        "print(\"Product of A and its inverse (Identity Matrix):\")\n",
        "print(I)\n"
      ],
      "metadata": {
        "colab": {
          "base_uri": "https://localhost:8080/"
        },
        "id": "PHiF4ynKXL1m",
        "outputId": "df3888ca-d6f0-42d3-a8eb-e8f2ef517fe5"
      },
      "execution_count": 3,
      "outputs": [
        {
          "output_type": "stream",
          "name": "stdout",
          "text": [
            "Original Matrix A:\n",
            "[[1 2]\n",
            " [3 4]]\n",
            "\n",
            "Inverse of Matrix A:\n",
            "[[-2.   1. ]\n",
            " [ 1.5 -0.5]]\n",
            "\n",
            "Product of A and its inverse (Identity Matrix):\n",
            "[[1.0000000e+00 0.0000000e+00]\n",
            " [8.8817842e-16 1.0000000e+00]]\n"
          ]
        }
      ]
    },
    {
      "cell_type": "markdown",
      "source": [
        "14. What does the np.reshape function do, and how is it used?"
      ],
      "metadata": {
        "id": "euIdKiIvaKwm"
      }
    },
    {
      "cell_type": "code",
      "source": [
        "'''\n",
        "The np.reshape function in NumPy is used to change the shape of an array without\n",
        "changing its data. It provides a new view of the original array with a different\n",
        "shape, specified by the user. This function is very useful when you need to\n",
        "manipulate the dimensions of an array to fit a specific requirement for further\n",
        "computations or data processing.\n",
        "\n",
        "'''\n",
        "\n",
        "import numpy as np\n",
        "\n",
        "#Creatin a 1D array\n",
        "arr = np.array([1, 2, 3, 4, 5, 6])\n",
        "\n",
        "#Reshaping it to array of 2x3\n",
        "reshaped_arr = np.reshape(arr, (2, 3))\n",
        "\n",
        "print(\"Original array:\")\n",
        "print(arr)\n",
        "\n",
        "print(\"Reshaped array (2x3):\")\n",
        "print(reshaped_arr)\n"
      ],
      "metadata": {
        "colab": {
          "base_uri": "https://localhost:8080/"
        },
        "id": "Hz9XvpepYP7x",
        "outputId": "38320829-a382-4aa9-ea9e-b1730f4478ae"
      },
      "execution_count": 4,
      "outputs": [
        {
          "output_type": "stream",
          "name": "stdout",
          "text": [
            "Original array:\n",
            "[1 2 3 4 5 6]\n",
            "Reshaped array (2x3):\n",
            "[[1 2 3]\n",
            " [4 5 6]]\n"
          ]
        }
      ]
    },
    {
      "cell_type": "markdown",
      "source": [
        "15. What is broadcasting in Numpy?"
      ],
      "metadata": {
        "id": "4WPypACWa9Xx"
      }
    },
    {
      "cell_type": "code",
      "source": [
        "'''\n",
        "Broadcasting in NumPy is a powerful mechanism that allows operations on arrays of\n",
        "different shapes in a way that makes sense in the context of the operation.\n",
        "It automatically expands the dimensions of smaller arrays so that they have the\n",
        "same shape as larger arrays during arithmetic operations, without making copies\n",
        "of the data. This allows for more efficient and concise code.\n",
        "'''\n",
        "\n",
        "\n",
        "import numpy as np\n",
        "\n",
        "#Defining a 3D array\n",
        "arr_3d = np.array([[[1, 2, 3], [4, 5, 6]], [[7, 8, 9], [10, 11, 12]]])\n",
        "\n",
        "# Define a 1D array\n",
        "arr_1d = np.array([1, 2, 3])\n",
        "\n",
        "# Add the 1D array to the 3D array\n",
        "result = arr_3d + arr_1d\n",
        "\n",
        "print(\"3D array:\\n\", arr_3d)\n",
        "print()\n",
        "print(\"1D array:\", arr_1d)\n",
        "print()\n",
        "print(\"Result of broadcasting addition:\\n\", result)\n"
      ],
      "metadata": {
        "colab": {
          "base_uri": "https://localhost:8080/"
        },
        "id": "_sBniVeKaibx",
        "outputId": "59cf579f-304b-4651-e84a-3ff9d86b711f"
      },
      "execution_count": 6,
      "outputs": [
        {
          "output_type": "stream",
          "name": "stdout",
          "text": [
            "3D array:\n",
            " [[[ 1  2  3]\n",
            "  [ 4  5  6]]\n",
            "\n",
            " [[ 7  8  9]\n",
            "  [10 11 12]]]\n",
            "\n",
            "1D array: [1 2 3]\n",
            "\n",
            "Result of broadcasting addition:\n",
            " [[[ 2  4  6]\n",
            "  [ 5  7  9]]\n",
            "\n",
            " [[ 8 10 12]\n",
            "  [11 13 15]]]\n"
          ]
        }
      ]
    },
    {
      "cell_type": "code",
      "source": [],
      "metadata": {
        "id": "5vTLcdIobon9"
      },
      "execution_count": null,
      "outputs": []
    }
  ]
}