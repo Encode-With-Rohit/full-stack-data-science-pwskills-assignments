{
  "nbformat": 4,
  "nbformat_minor": 0,
  "metadata": {
    "colab": {
      "provenance": []
    },
    "kernelspec": {
      "name": "python3",
      "display_name": "Python 3"
    },
    "language_info": {
      "name": "python"
    }
  },
  "cells": [
    {
      "cell_type": "markdown",
      "source": [
        "## **Basic If-Else Statements**\n",
        "\n",
        "---\n",
        "\n"
      ],
      "metadata": {
        "id": "o9GmLpONQ_Be"
      }
    },
    {
      "cell_type": "markdown",
      "source": [
        "1. Write a Python program to check if a given number is positive or negative."
      ],
      "metadata": {
        "id": "rynWmZalRNbR"
      }
    },
    {
      "cell_type": "code",
      "execution_count": null,
      "metadata": {
        "id": "tl_6FeC9Pses",
        "colab": {
          "base_uri": "https://localhost:8080/"
        },
        "outputId": "aec3dfca-e275-4761-99ff-1e33c3fb1ede"
      },
      "outputs": [
        {
          "output_type": "stream",
          "name": "stdout",
          "text": [
            "Kindly enter the number to check if its negative or postive : 20\n",
            "Number is +ve\n"
          ]
        }
      ],
      "source": [
        "def is_number_negative_positive (num) :\n",
        "\n",
        "  if num < 0 :\n",
        "    print (\"Number is -ve\")\n",
        "  else :\n",
        "    print (\"Number is +ve\")\n",
        "\n",
        "num = int(input(\"Kindly enter the number to check if its negative or postive : \"))\n",
        "is_number_negative_positive (num)"
      ]
    },
    {
      "cell_type": "markdown",
      "source": [
        "2. Create a program that determines if a person is eligible to vote based on their age."
      ],
      "metadata": {
        "id": "7CNug3OZN4eO"
      }
    },
    {
      "cell_type": "code",
      "source": [
        "def is_eligible (age) :\n",
        "\n",
        "  if age < 18 :\n",
        "    print (\"Person is not eligible to vote\")\n",
        "  else :\n",
        "    print (\"Person is eligible to vote\")\n",
        "\n",
        "age = int(input(\"Kindly enter the age of the person to check if he/she is eligible to vote : \"))\n",
        "is_eligible (age)"
      ],
      "metadata": {
        "colab": {
          "base_uri": "https://localhost:8080/"
        },
        "id": "40stNQZ1NqHx",
        "outputId": "a0fa7835-cecf-43b3-f217-0c764055c3f1"
      },
      "execution_count": null,
      "outputs": [
        {
          "output_type": "stream",
          "name": "stdout",
          "text": [
            "Kindly enter the age of the person to check if he/she is eligible to vote : 18\n",
            "Person is eligible to vote\n"
          ]
        }
      ]
    },
    {
      "cell_type": "markdown",
      "source": [
        "3. Develop a program to find the maximum of two numbers using if-else statements."
      ],
      "metadata": {
        "id": "NiHfYM42PPOn"
      }
    },
    {
      "cell_type": "code",
      "source": [
        "def maximum (num1, num2) :\n",
        "\n",
        "  if num1 < num2 :\n",
        "    print (\"Num2 is the maximum number\")\n",
        "  else :\n",
        "    print (\"Num1 is the maximum number\")\n",
        "\n",
        "num1 = int(input(\"Enter num1 : \"))\n",
        "num2 = int(input(\"Enter num2 : \"))\n",
        "maximum (num1, num2)"
      ],
      "metadata": {
        "colab": {
          "base_uri": "https://localhost:8080/"
        },
        "id": "sMcj4NN-60iF",
        "outputId": "1c29dfa5-0887-4477-d31f-f2dcc72ddc57"
      },
      "execution_count": null,
      "outputs": [
        {
          "output_type": "stream",
          "name": "stdout",
          "text": [
            "Enter num1 : 25\n",
            "Enter num2 : 26\n",
            "Num2 is the maximum number\n"
          ]
        }
      ]
    },
    {
      "cell_type": "markdown",
      "source": [
        "4. Write a Python script to classify a given year as a leap year or not."
      ],
      "metadata": {
        "id": "xSFbfYPM8Jj9"
      }
    },
    {
      "cell_type": "code",
      "source": [
        "year = int(input(\"Enter the year : \"))\n",
        "\n",
        "def if_leap (year) :\n",
        "\n",
        "  if (year % 4 == 0 and year != 100) or year % 400 == 0 :\n",
        "    print (\"The year is a leap year\")\n",
        "  else :\n",
        "    print (\"Year is not a leap year\")\n",
        "\n",
        "if_leap (year)"
      ],
      "metadata": {
        "colab": {
          "base_uri": "https://localhost:8080/"
        },
        "id": "ZLdNMrol63eZ",
        "outputId": "015ae8f9-b9f3-4deb-fa8c-7977a680983f"
      },
      "execution_count": null,
      "outputs": [
        {
          "output_type": "stream",
          "name": "stdout",
          "text": [
            "Enter the year : 1900\n",
            "The year is a leap year\n"
          ]
        }
      ]
    },
    {
      "cell_type": "markdown",
      "source": [
        "5. Create a program that checks whether a character is a vowel or a consonant."
      ],
      "metadata": {
        "id": "e1wESxv79-Yo"
      }
    },
    {
      "cell_type": "code",
      "source": [
        "char = input(\"Enter the character to check whether it's a vowel or consonant :\")\n",
        "vowels = ['a','e','i','o','u','A','E','I','O','U']\n",
        "\n",
        "def if_vowel_consonant (char) :\n",
        "\n",
        "  if char in vowels :\n",
        "    print (\"Character is a vowel\")\n",
        "  else :\n",
        "    print (\"Character is a consonant\")\n",
        "\n",
        "if_vowel_consonant (char)"
      ],
      "metadata": {
        "colab": {
          "base_uri": "https://localhost:8080/"
        },
        "id": "w4RpAZFi92Fe",
        "outputId": "e8eeecc1-c945-478b-de27-5b50ee14160f"
      },
      "execution_count": null,
      "outputs": [
        {
          "output_type": "stream",
          "name": "stdout",
          "text": [
            "Enter the character to check whether it's a vowel or consonant :a\n",
            "Character is a vowel\n"
          ]
        }
      ]
    },
    {
      "cell_type": "markdown",
      "source": [
        "6. Implement a program to determine whether a given number is even or odd."
      ],
      "metadata": {
        "id": "Tmm0DLcLK7V4"
      }
    },
    {
      "cell_type": "code",
      "source": [
        "def is_even_or_odd (number) :\n",
        "\n",
        "  if number % 2 == 0:\n",
        "    print (\"The number is even\")\n",
        "  else:\n",
        "    print (\"The number is odd\")\n",
        "\n",
        "num = int(input(\"Enter a number: \"))\n",
        "is_even_or_odd(num)"
      ],
      "metadata": {
        "colab": {
          "base_uri": "https://localhost:8080/"
        },
        "id": "XHMcC1m-CA1R",
        "outputId": "b0c86b44-e0d1-4af2-8728-7e6661f0cae0"
      },
      "execution_count": null,
      "outputs": [
        {
          "output_type": "stream",
          "name": "stdout",
          "text": [
            "Enter a number: 23\n",
            "The number is odd\n"
          ]
        }
      ]
    },
    {
      "cell_type": "markdown",
      "source": [
        "7. Write a Python function to calculate the absolute value of a number without using the `abs()` function."
      ],
      "metadata": {
        "id": "WCyDcrXvN6Rv"
      }
    },
    {
      "cell_type": "code",
      "source": [
        "def absolute_value (num) :\n",
        "\n",
        "  if num >= 0:\n",
        "    return num\n",
        "  else:\n",
        "    return -num\n",
        "\n",
        "num = float(input(\"Enter a number: \"))\n",
        "result = absolute_value(num)\n",
        "print(f\"The absolute value of {num} is {result}.\")"
      ],
      "metadata": {
        "colab": {
          "base_uri": "https://localhost:8080/"
        },
        "id": "c9FtbBisMH6D",
        "outputId": "1962f082-23e9-4414-e93b-90e32100c288"
      },
      "execution_count": null,
      "outputs": [
        {
          "output_type": "stream",
          "name": "stdout",
          "text": [
            "Enter a number: 89\n",
            "The absolute value of 89.0 is 89.0.\n"
          ]
        }
      ]
    },
    {
      "cell_type": "markdown",
      "source": [
        "8. Develop a program that determines the largest of three given numbers using if-else statements."
      ],
      "metadata": {
        "id": "cVdh_tXXPoc3"
      }
    },
    {
      "cell_type": "code",
      "source": [
        "def largest_num (num1, num2, num3) :\n",
        "\n",
        "  if num1 > num2 and num2 > num3 :\n",
        "    print (\"Num1 is the largest number\")\n",
        "  elif num2 > num1 and num2 > num3 :\n",
        "    print (\"Num2 is the largest number\")\n",
        "  else :\n",
        "    print (\"Num3 is the largest number\")\n",
        "\n",
        "num1 = int(input(\"Enter the number 1 : \"))\n",
        "num2 = int(input(\"Enter the number 2 : \"))\n",
        "num3 = int(input(\"Enter the number 3 : \"))\n",
        "largest_num (num1, num2, num3)"
      ],
      "metadata": {
        "colab": {
          "base_uri": "https://localhost:8080/"
        },
        "id": "sdTtFsNYPdS_",
        "outputId": "e7036f80-6e91-4e49-cfe4-4d440eecf1a1"
      },
      "execution_count": null,
      "outputs": [
        {
          "output_type": "stream",
          "name": "stdout",
          "text": [
            "Enter the number 1 : 23\n",
            "Enter the number 2 : 24\n",
            "Enter the number 3 : 25\n",
            "Num3 is the largest number\n"
          ]
        }
      ]
    },
    {
      "cell_type": "markdown",
      "source": [
        "9. Create a program that checks if a given string is a palindrome."
      ],
      "metadata": {
        "id": "U7AzpRjnTqgB"
      }
    },
    {
      "cell_type": "code",
      "source": [
        "def is_palindrome (input_string) :\n",
        "\n",
        "  if input_string == input_string[::-1] :\n",
        "    print (\"Input string is a palindrome\")\n",
        "  else :\n",
        "    print (\"Input string is not a palindrome\")\n",
        "\n",
        "input_string = str(input(\"Enter the string to check if it's a palindrome : \"))\n",
        "is_palindrome (input_string)"
      ],
      "metadata": {
        "colab": {
          "base_uri": "https://localhost:8080/"
        },
        "id": "DR53_Y3IR9yZ",
        "outputId": "acb09ac5-61b8-4324-c2eb-312e58c35b7d"
      },
      "execution_count": null,
      "outputs": [
        {
          "output_type": "stream",
          "name": "stdout",
          "text": [
            "Enter the string to check if it's a palindrome : qwerty\n",
            "Input string is not a palindrome\n"
          ]
        }
      ]
    },
    {
      "cell_type": "markdown",
      "source": [
        "10. Write a Python program to calculate the grade based on a student's score."
      ],
      "metadata": {
        "id": "A4pNk6NxUmCT"
      }
    },
    {
      "cell_type": "code",
      "source": [
        "def calculate_grade(score):\n",
        "\n",
        "  if score >= 90:\n",
        "    return \"A\"\n",
        "  elif score >= 80:\n",
        "    return \"B\"\n",
        "  elif score >= 70:\n",
        "    return \"C\"\n",
        "  elif score >= 60:\n",
        "    return \"D\"\n",
        "  else:\n",
        "    return \"F\"\n",
        "\n",
        "score = float(input(\"Enter the student's score: \"))\n",
        "grade = calculate_grade(score)\n",
        "print(f\"The student's grade is {grade}.\")"
      ],
      "metadata": {
        "colab": {
          "base_uri": "https://localhost:8080/"
        },
        "id": "I57e4npaUf_v",
        "outputId": "18b6ad24-a6ac-42d7-bfb4-92acdaf90df0"
      },
      "execution_count": null,
      "outputs": [
        {
          "output_type": "stream",
          "name": "stdout",
          "text": [
            "Enter the student's score: 72\n",
            "The student's grade is C.\n"
          ]
        }
      ]
    },
    {
      "cell_type": "markdown",
      "source": [
        "## **Nested If-Else Statements :**\n",
        "\n",
        "---\n",
        "\n"
      ],
      "metadata": {
        "id": "7VLEU0HDV_Cu"
      }
    },
    {
      "cell_type": "markdown",
      "source": [
        "11. Write a program to find the largest among three numbers using nested if-else statements."
      ],
      "metadata": {
        "id": "b8jmi1TGV7rH"
      }
    },
    {
      "cell_type": "code",
      "source": [
        "def find_largest (num1, num2, num3) :\n",
        "\n",
        "  if num1 > num2:\n",
        "    if num1 > num3:\n",
        "      print (\"Num1 is largest\")\n",
        "    else:\n",
        "      print (\"Num3 is largest\")\n",
        "  else:\n",
        "    if num2 > num3:\n",
        "      print (\"Num2 is largest\")\n",
        "    else:\n",
        "      print (\"Num3 is largest\")\n",
        "\n",
        "num1 = float(input(\"Enter the first number: \"))\n",
        "num2 = float(input(\"Enter the second number: \"))\n",
        "num3 = float(input(\"Enter the third number: \"))\n",
        "find_largest (num1, num2, num3)"
      ],
      "metadata": {
        "colab": {
          "base_uri": "https://localhost:8080/"
        },
        "id": "0kFtIuksWG2Q",
        "outputId": "2da66ea3-109f-4661-abf9-96f4ebf33324"
      },
      "execution_count": null,
      "outputs": [
        {
          "output_type": "stream",
          "name": "stdout",
          "text": [
            "Enter the first number: 23\n",
            "Enter the second number: 32\n",
            "Enter the third number: 65\n",
            "Num3 is largest\n"
          ]
        }
      ]
    },
    {
      "cell_type": "markdown",
      "source": [
        "12. Implement a program to determine if a triangle is equilateral, isosceles, or scalene."
      ],
      "metadata": {
        "id": "9Vs-BhtSBzzi"
      }
    },
    {
      "cell_type": "code",
      "source": [
        "def triangle (a,b,c) :\n",
        "\n",
        "  if a == b == c :\n",
        "    print (\"Triangle is equilateral\")\n",
        "  elif a == b or b == c or a == c :\n",
        "    print (\"Triangle is isosceles\")\n",
        "  else :\n",
        "    print (\"Triangle is scalene\")\n",
        "\n",
        "a = int(input(\"Enter the length of the side 1 of the triangle : \"))\n",
        "b = int(input(\"Enter the length of the side 2 of the triangle : \"))\n",
        "c = int(input(\"Enter the length of the side 3 of the triangle : \"))\n",
        "triangle (a,b,c)"
      ],
      "metadata": {
        "colab": {
          "base_uri": "https://localhost:8080/"
        },
        "id": "CBQ5NmVEXTUo",
        "outputId": "097fe7af-b723-48c6-aaf1-5d7cf9d3718e"
      },
      "execution_count": null,
      "outputs": [
        {
          "output_type": "stream",
          "name": "stdout",
          "text": [
            "Enter the length of the side 1 of the triangle : 3\n",
            "Enter the length of the side 2 of the triangle : 4\n",
            "Enter the length of the side 3 of the triangle : 5\n",
            "Triangle is scalene\n"
          ]
        }
      ]
    },
    {
      "cell_type": "markdown",
      "source": [
        "13. Develop a program that checks if a year is a leap year and also if it is a century year."
      ],
      "metadata": {
        "id": "0G5DRbrYGKEp"
      }
    },
    {
      "cell_type": "code",
      "source": [
        "def is_leap_year (year) :\n",
        "  if (year % 4 == 0 and year % 100 != 0) or (year % 400 == 0):\n",
        "    return True\n",
        "  else :\n",
        "    return False\n",
        "\n",
        "def is_century_year (year) :\n",
        "  if year % 100 == 0:\n",
        "    return True\n",
        "  else :\n",
        "    return False\n",
        "\n",
        "year = int(input(\"Enter a year: \"))\n",
        "\n",
        "if is_leap_year (year) :\n",
        "  print (f\"{year} is a leap year.\")\n",
        "else :\n",
        "  print (f\"{year} is not a leap year.\")\n",
        "\n",
        "if is_century_year(year) :\n",
        "  print (f\"{year} is a century year.\")\n",
        "else :\n",
        "  print (f\"{year} is not a century year.\")"
      ],
      "metadata": {
        "colab": {
          "base_uri": "https://localhost:8080/"
        },
        "id": "mD1tZAfZFxz2",
        "outputId": "bbd0c69e-5fe3-47f7-bc4c-16bf586e063e"
      },
      "execution_count": null,
      "outputs": [
        {
          "output_type": "stream",
          "name": "stdout",
          "text": [
            "Enter a year: 2000\n",
            "2000 is a leap year.\n",
            "2000 is a century year.\n"
          ]
        }
      ]
    },
    {
      "cell_type": "markdown",
      "source": [
        "14. Write a Python script to determine if a number is positive, negative, or zero."
      ],
      "metadata": {
        "id": "YS8AQ7xyHEBV"
      }
    },
    {
      "cell_type": "code",
      "source": [
        "def check_number(number):\n",
        "  if number > 0:\n",
        "    return \"Positive\"\n",
        "  elif number < 0:\n",
        "    return \"Negative\"\n",
        "  else:\n",
        "    return \"Zero\"\n",
        "\n",
        "num = float(input(\"Enter a number: \"))\n",
        "result = check_number(num)\n",
        "print(f\"The number is {result}.\")"
      ],
      "metadata": {
        "colab": {
          "base_uri": "https://localhost:8080/"
        },
        "id": "rXA7dsEeG9lN",
        "outputId": "487c1936-a250-4344-e15f-650cfc76ec9d"
      },
      "execution_count": null,
      "outputs": [
        {
          "output_type": "stream",
          "name": "stdout",
          "text": [
            "Enter a number: 32\n",
            "The number is Positive.\n"
          ]
        }
      ]
    },
    {
      "cell_type": "markdown",
      "source": [
        "15. Create a program to check if a person is a teenager (between 13 and 19 years old)."
      ],
      "metadata": {
        "id": "_amYUNLjJ70I"
      }
    },
    {
      "cell_type": "code",
      "source": [
        "def is_teenager (age) :\n",
        "\n",
        "  if age >= 13 and age <= 19:\n",
        "    return True\n",
        "  else:\n",
        "    return False\n",
        "\n",
        "age = float(input(\"Enter your age: \"))\n",
        "\n",
        "if is_teenager(age) :\n",
        "  print (\"You are a teenager.\")\n",
        "else:\n",
        "  print (\"You are not a teenager.\")"
      ],
      "metadata": {
        "colab": {
          "base_uri": "https://localhost:8080/"
        },
        "id": "vPmEWNnvHWyV",
        "outputId": "240e53a5-01d8-4fcd-de22-1a47445fe1b0"
      },
      "execution_count": null,
      "outputs": [
        {
          "output_type": "stream",
          "name": "stdout",
          "text": [
            "Enter your age: 17.6\n",
            "You are a teenager.\n"
          ]
        }
      ]
    },
    {
      "cell_type": "markdown",
      "source": [
        "16. Develop a program that determines the type of angle based on its measure (acute, obtuse, or right)."
      ],
      "metadata": {
        "id": "1RcUZGimKBLF"
      }
    },
    {
      "cell_type": "code",
      "source": [
        "def triangle_type (angle) :\n",
        "\n",
        "  if angle > 0 and angle < 90 :\n",
        "    print (\"Triangle Is Acute\")\n",
        "  elif angle == 90:\n",
        "    print (\"Triangle Is Right\")\n",
        "  elif angle > 90 and angle < 180:\n",
        "    print (\"Triangle Is Obtuse\")\n",
        "  else:\n",
        "    print (\"Invalid angle measure\")\n",
        "\n",
        "angle = float(input(\"Enter the measure of the angle in degrees : \"))\n",
        "triangle_type (angle)"
      ],
      "metadata": {
        "colab": {
          "base_uri": "https://localhost:8080/"
        },
        "id": "lh5v53BoJSqx",
        "outputId": "0fe2ecbe-4d0c-40c1-b52e-8b70faf7642d"
      },
      "execution_count": null,
      "outputs": [
        {
          "output_type": "stream",
          "name": "stdout",
          "text": [
            "Enter the measure of the angle in degrees : 60\n",
            "Triangle Is Acute\n"
          ]
        }
      ]
    },
    {
      "cell_type": "markdown",
      "source": [
        "17. Write a Python program to calculate the roots of a quadratic equation."
      ],
      "metadata": {
        "id": "CnUrK9UYakm3"
      }
    },
    {
      "cell_type": "code",
      "source": [
        "import math\n",
        "\n",
        "def calculate_roots (a, b, c) :\n",
        "  discriminant = b ** 2 - 4 * a * c\n",
        "\n",
        "  if discriminant > 0 :\n",
        "    root1 = (-b + math.sqrt(discriminant)) / (2 * a)\n",
        "    root2 = (-b - math.sqrt(discriminant)) / (2 * a)\n",
        "    return root1, root2\n",
        "\n",
        "  elif discriminant == 0 :\n",
        "    root = -b / (2 * a)\n",
        "    return root, root\n",
        "\n",
        "  else :\n",
        "    real_part = -b / (2 * a)\n",
        "    imaginary_part = math.sqrt(abs(discriminant)) / (2 * a)\n",
        "    root1 = complex(real_part, imaginary_part)\n",
        "    root2 = complex(real_part, -imaginary_part)\n",
        "    return root1, root2\n",
        "\n",
        "\n",
        "a = float(input(\"Enter the coefficient of x^2 (a): \"))\n",
        "b = float(input(\"Enter the coefficient of x (b): \"))\n",
        "c = float(input(\"Enter the constant term (c): \"))\n",
        "\n",
        "root1, root2 = calculate_roots(a, b, c)\n",
        "\n",
        "if isinstance (root1, complex) :\n",
        "    print(f\"The roots of the quadratic equation are complex: {root1} and {root2}.\")\n",
        "else :\n",
        "    print(f\"The roots of the quadratic equation are: {root1} and {root2}.\")"
      ],
      "metadata": {
        "colab": {
          "base_uri": "https://localhost:8080/"
        },
        "id": "xdntxIJ6Mpzx",
        "outputId": "de615430-0f1f-4019-cf19-f61c1f197f04"
      },
      "execution_count": null,
      "outputs": [
        {
          "output_type": "stream",
          "name": "stdout",
          "text": [
            "Enter the coefficient of x^2 (a): 4\n",
            "Enter the coefficient of x (b): 3\n",
            "Enter the constant term (c): 5\n",
            "The roots of the quadratic equation are complex: (-0.375+1.0532687216470449j) and (-0.375-1.0532687216470449j).\n"
          ]
        }
      ]
    },
    {
      "cell_type": "markdown",
      "source": [
        "18. Implement a program to determine the day of the week based on a user-provided number (1 for Monday, 2 for Tuesday, etc.)."
      ],
      "metadata": {
        "id": "-nbpTNw0cvaA"
      }
    },
    {
      "cell_type": "code",
      "source": [
        "def get_day_of_week (day_number) :\n",
        "\n",
        "  days_of_week = [\"Monday\", \"Tuesday\", \"Wednesday\", \"Thursday\", \"Friday\", \"Saturday\", \"Sunday\"]\n",
        "\n",
        "  if day_number >= 1 and day_number <= 7:\n",
        "    return days_of_week[day_number - 1]\n",
        "  else:\n",
        "    return \"Invalid day number\"\n",
        "\n",
        "day_number = int(input(\"Enter the day number (1 for Monday, 2 for Tuesday, etc.): \"))\n",
        "\n",
        "day_of_week = get_day_of_week(day_number)\n",
        "print(f\"The day of the week is: {day_of_week}.\")"
      ],
      "metadata": {
        "colab": {
          "base_uri": "https://localhost:8080/"
        },
        "id": "GX7wrfiyb0X7",
        "outputId": "2b47d232-f63e-46f6-9cf0-d7e0b7d4ffec"
      },
      "execution_count": null,
      "outputs": [
        {
          "output_type": "stream",
          "name": "stdout",
          "text": [
            "Enter the day number (1 for Monday, 2 for Tuesday, etc.): 8\n",
            "The day of the week is: Invalid day number.\n"
          ]
        }
      ]
    },
    {
      "cell_type": "markdown",
      "source": [
        "19. Create a program that determines if a year is a leap year and also if it is evenly divisible by 400."
      ],
      "metadata": {
        "id": "3x3dcY51d_j2"
      }
    },
    {
      "cell_type": "code",
      "source": [
        "def if_leap_400 (year) :\n",
        "\n",
        "  if year % 4 == 0 and year % 400 == 0 :\n",
        "    print (\"Year is a leap year as well as evenly divisible by 400\")\n",
        "  elif year % 4 == 0 and year % 400 != 0 :\n",
        "    print (\"Year is a leap year but not evenly divisible by 400\")\n",
        "  else :\n",
        "    print (\"Year is niether a leap year not evenly divisible by 400\")\n",
        "\n",
        "year = int(input(\"Enter the year : \"))\n",
        "if_leap_400 (year)"
      ],
      "metadata": {
        "colab": {
          "base_uri": "https://localhost:8080/"
        },
        "id": "Xbsv0Z1edL3T",
        "outputId": "88712ca7-835a-4453-d728-9489683dd9ce"
      },
      "execution_count": null,
      "outputs": [
        {
          "output_type": "stream",
          "name": "stdout",
          "text": [
            "Enter the year : 1300\n",
            "Year is a leap year but not evenly divisible by 400\n"
          ]
        }
      ]
    },
    {
      "cell_type": "markdown",
      "source": [
        "20. Develop a program that checks if a given number is prime or not using nested if-else statements."
      ],
      "metadata": {
        "id": "lbmQ_8chgryo"
      }
    },
    {
      "cell_type": "code",
      "source": [
        "def is_prime (number) :\n",
        "\n",
        "  if number <= 1:\n",
        "    return False\n",
        "  elif number <= 3:\n",
        "    return True\n",
        "  elif number % 2 == 0 or number % 3 == 0:\n",
        "    return False\n",
        "  else:\n",
        "    for i in range(5, int(number**0.5) + 1):\n",
        "      if number % i == 0:\n",
        "        return False\n",
        "    return True\n",
        "\n",
        "num = int(input(\"Enter a number: \"))\n",
        "\n",
        "if is_prime (num) :\n",
        "    print (f\"{num} is a prime number.\")\n",
        "else :\n",
        "    print (f\"{num} is not a prime number.\")\n"
      ],
      "metadata": {
        "colab": {
          "base_uri": "https://localhost:8080/"
        },
        "id": "gLk7nkyvgYaF",
        "outputId": "706f8811-6626-4261-e953-257d0aec280a"
      },
      "execution_count": null,
      "outputs": [
        {
          "output_type": "stream",
          "name": "stdout",
          "text": [
            "Enter a number: 56\n",
            "56 is not a prime number.\n"
          ]
        }
      ]
    },
    {
      "cell_type": "markdown",
      "source": [
        "## **Elif Statements :**\n",
        "\n",
        "---\n",
        "\n"
      ],
      "metadata": {
        "id": "o_AejiD_hfiZ"
      }
    },
    {
      "cell_type": "markdown",
      "source": [
        "21. Write a Python program to assign grades based on different ranges of scores using elif statements."
      ],
      "metadata": {
        "id": "kuEJtGEFNkRL"
      }
    },
    {
      "cell_type": "code",
      "source": [
        "def assign_grade (score) :\n",
        "\n",
        "  if score >= 90:\n",
        "    grade = 'A'\n",
        "  elif score >= 80:\n",
        "    grade = 'B'\n",
        "  elif score >= 70:\n",
        "    grade = 'C'\n",
        "  elif score >= 60:\n",
        "    grade = 'D'\n",
        "  else:\n",
        "    grade = 'F'\n",
        "  return grade\n",
        "\n",
        "score = 45\n",
        "print (f\"Score : {score}, Grade : {assign_grade(score)}\")"
      ],
      "metadata": {
        "id": "TLsULgQ6hQ3T",
        "colab": {
          "base_uri": "https://localhost:8080/"
        },
        "outputId": "3f4f7e3d-3bff-47b0-f231-0b5a488be522"
      },
      "execution_count": null,
      "outputs": [
        {
          "output_type": "stream",
          "name": "stdout",
          "text": [
            "Score : 45, Grade : F\n"
          ]
        }
      ]
    },
    {
      "cell_type": "markdown",
      "source": [
        "22. Implement a program to determine the type of a triangle based on its angles."
      ],
      "metadata": {
        "id": "pzHVql0wOZLC"
      }
    },
    {
      "cell_type": "code",
      "source": [
        "def triangle_type(angle1, angle2, angle3):\n",
        "\n",
        "  if angle1 + angle2 + angle3 != 180:\n",
        "    print (\"Not a valid triangle\")\n",
        "\n",
        "  elif angle1 == 90 or angle2 == 90 or angle3 == 90:\n",
        "    print (\"Right-angled triangle\")\n",
        "\n",
        "  elif angle1 > 90 or angle2 > 90 or angle3 > 90:\n",
        "    print (\"Obtuse-angled triangle\")\n",
        "\n",
        "  else :\n",
        "    print (\"Acute-angled triangle\")\n",
        "\n",
        "angle1 = int(input(\"Enter the first angle: \"))\n",
        "angle2 = int(input(\"Enter the second angle: \"))\n",
        "angle3 = int(input(\"Enter the third angle: \"))\n",
        "triangle_type(angle1, angle2, angle3)\n"
      ],
      "metadata": {
        "colab": {
          "base_uri": "https://localhost:8080/"
        },
        "id": "L4p2xX9kOJmJ",
        "outputId": "600cf660-82b5-4fb3-e17f-477b801213f0"
      },
      "execution_count": null,
      "outputs": [
        {
          "output_type": "stream",
          "name": "stdout",
          "text": [
            "Enter the first angle: 60\n",
            "Enter the second angle: 50\n",
            "Enter the third angle: 70\n",
            "Acute-angled triangle\n"
          ]
        }
      ]
    },
    {
      "cell_type": "markdown",
      "source": [
        "23. Develop a program to categorize a given person's BMI into underweight, normal, overweight, or obese using elif statements."
      ],
      "metadata": {
        "id": "67m8Gf3xQEu0"
      }
    },
    {
      "cell_type": "code",
      "source": [
        "weight = float(input(\"Enter your weight in kilograms: \"))\n",
        "height = float(input(\"Enter your height in meters: \"))\n",
        "BMI = weight / (height ** 2)\n",
        "print (\"Your BMI is : \", BMI)\n",
        "\n",
        "def categorize_bmi (BMI) :\n",
        "\n",
        "  if BMI < 18.5 :\n",
        "    print (\"Underweight\")\n",
        "  elif 18.5 <= BMI < 25 :\n",
        "    print (\"Normal weight\")\n",
        "  elif 25 <= BMI < 30:\n",
        "    print (\"Overweight\")\n",
        "  else:\n",
        "    print (\"Obese\")\n",
        "\n",
        "categorize_bmi(BMI)"
      ],
      "metadata": {
        "colab": {
          "base_uri": "https://localhost:8080/"
        },
        "id": "oPf77yifPWvY",
        "outputId": "19b469c4-49b5-4630-ca11-4077267f47f9"
      },
      "execution_count": null,
      "outputs": [
        {
          "output_type": "stream",
          "name": "stdout",
          "text": [
            "Enter your weight in kilograms: 76\n",
            "Enter your height in meters: 1.75\n",
            "Your BMI is :  24.816326530612244\n",
            "Normal weight\n"
          ]
        }
      ]
    },
    {
      "cell_type": "markdown",
      "source": [
        "24. Create a program that determines whether a given number is positive, negative, or zero using elif statements."
      ],
      "metadata": {
        "id": "yIFbk3KMTIE_"
      }
    },
    {
      "cell_type": "code",
      "source": [
        "def determine_number_type (number) :\n",
        "\n",
        "  if number > 0:\n",
        "    print (\"Num is Positive\")\n",
        "  elif number < 0:\n",
        "    print (\"Num is Negative\")\n",
        "  else:\n",
        "    print (\"Num is Zero\")\n",
        "\n",
        "number = float(input(\"Enter a number: \"))\n",
        "determine_number_type (number)"
      ],
      "metadata": {
        "colab": {
          "base_uri": "https://localhost:8080/"
        },
        "id": "n72uIbQVQ_Un",
        "outputId": "e6607772-e23d-4f8a-a106-2eb1480dc5f1"
      },
      "execution_count": null,
      "outputs": [
        {
          "output_type": "stream",
          "name": "stdout",
          "text": [
            "Enter a number: 54\n",
            "Num is Positive\n"
          ]
        }
      ]
    },
    {
      "cell_type": "markdown",
      "source": [
        "25. Write a Python script to determine the type of a character (uppercase, lowercase, or special) using elif statements"
      ],
      "metadata": {
        "id": "_vvMmXPWpaEz"
      }
    },
    {
      "cell_type": "code",
      "source": [
        "def determine_char_type (char) :\n",
        "\n",
        "  if char.isupper():\n",
        "    return \"Uppercase\"\n",
        "  elif char.islower():\n",
        "    return \"Lowercase\"\n",
        "  else:\n",
        "    return \"Special\"\n",
        "\n",
        "character = input(\"Enter a character: \")\n",
        "\n",
        "print(f\"The character '{character}' is {determine_char_type(character)}.\")"
      ],
      "metadata": {
        "colab": {
          "base_uri": "https://localhost:8080/"
        },
        "id": "VS92ftHoTzal",
        "outputId": "2f89c227-231f-487e-8a00-e9e838755506"
      },
      "execution_count": null,
      "outputs": [
        {
          "output_type": "stream",
          "name": "stdout",
          "text": [
            "Enter a character: h\n",
            "The character 'h' is Lowercase.\n"
          ]
        }
      ]
    },
    {
      "cell_type": "markdown",
      "source": [
        "26. Implement a program to calculate the discounted price based on different purchase amounts using elif statements."
      ],
      "metadata": {
        "id": "ohMmsP7dsBkX"
      }
    },
    {
      "cell_type": "code",
      "source": [
        "def calculate_discounted_price (amount) :\n",
        "\n",
        "  if amount >= 1000:\n",
        "    discount = 0.1\n",
        "  elif amount >= 500:\n",
        "    discount = 0.05\n",
        "  else:\n",
        "    discount = 0\n",
        "\n",
        "  discounted_price = amount - (amount * discount)\n",
        "  return discounted_price\n",
        "\n",
        "purchase_amount = float(input(\"Enter the purchase amount: \"))\n",
        "discounted_price = calculate_discounted_price(purchase_amount)\n",
        "print(f\"The discounted price for a purchase of INR {purchase_amount} is INR {discounted_price}.\")"
      ],
      "metadata": {
        "colab": {
          "base_uri": "https://localhost:8080/"
        },
        "id": "ww4YXw2zqJ_N",
        "outputId": "93416ff6-e31f-4e01-c1a7-5d2618cf70dd"
      },
      "execution_count": null,
      "outputs": [
        {
          "output_type": "stream",
          "name": "stdout",
          "text": [
            "Enter the purchase amount: 1100\n",
            "The discounted price for a purchase of INR 1100.0 is INR 990.0.\n"
          ]
        }
      ]
    },
    {
      "cell_type": "markdown",
      "source": [
        "27. Develop a program to calculate the electricity bill based on different consumption slabs using elif statements."
      ],
      "metadata": {
        "id": "qETdJjs5tAQf"
      }
    },
    {
      "cell_type": "code",
      "source": [
        "def calculate_electricity_bill (units) :\n",
        "\n",
        "  if units <= 50:\n",
        "    bill = units * 7\n",
        "  elif units <= 150:\n",
        "    bill = 50 * 7 + (units - 50) * 5\n",
        "  elif units <= 250:\n",
        "    bill = 50 * 7 + 100 * 5 + (units - 150) * 4.5\n",
        "  else:\n",
        "    bill = 50 * 7 + 100 * 5 + 100 * 4.50 + (units - 250) * 4\n",
        "  return bill\n",
        "\n",
        "consumed_units = float(input(\"Enter the consumed units: \"))\n",
        "total_bill = calculate_electricity_bill(consumed_units)\n",
        "print(f\"The electricity bill for {consumed_units} units is INR {total_bill}.\")\n"
      ],
      "metadata": {
        "colab": {
          "base_uri": "https://localhost:8080/"
        },
        "id": "gI48bXPcsxZ3",
        "outputId": "78707262-10d3-4aeb-cf3f-a5811a779193"
      },
      "execution_count": null,
      "outputs": [
        {
          "output_type": "stream",
          "name": "stdout",
          "text": [
            "Enter the consumed units: 250\n",
            "The electricity bill for 250.0 units is INR 1300.0.\n"
          ]
        }
      ]
    },
    {
      "cell_type": "markdown",
      "source": [
        "28. Create a program to determine the type of quadrilateral based on its angles and sides using elif statements."
      ],
      "metadata": {
        "id": "7svD1ddvuk6b"
      }
    },
    {
      "cell_type": "code",
      "source": [
        "def determine_quadrilateral_type (angles, sides) :\n",
        "\n",
        "  num_equal_angles = angles.count(90)\n",
        "  num_equal_sides = sides.count(max(sides, key=sides.count))\n",
        "\n",
        "  if num_equal_angles == 4 and num_equal_sides == 4:\n",
        "    return \"Square\"\n",
        "  elif num_equal_angles == 4 and num_equal_sides == 2:\n",
        "    return \"Rectangle\"\n",
        "  elif num_equal_angles == 2 and num_equal_sides == 4:\n",
        "    return \"Rhombus\"\n",
        "  elif num_equal_angles == 2 and num_equal_sides == 2:\n",
        "    return \"Parallelogram\"\n",
        "  else:\n",
        "    return \"Quadrilateral\"\n",
        "\n",
        "angles = [90, 90, 90, 90]\n",
        "sides = [4, 4, 4, 4]\n",
        "quadrilateral_type = determine_quadrilateral_type(angles, sides)\n",
        "print(f\"The quadrilateral is a {quadrilateral_type}.\")"
      ],
      "metadata": {
        "colab": {
          "base_uri": "https://localhost:8080/"
        },
        "id": "Y_uzgWRDtfOJ",
        "outputId": "50b4f932-305b-471b-e13d-80e10c4fd1bd"
      },
      "execution_count": null,
      "outputs": [
        {
          "output_type": "stream",
          "name": "stdout",
          "text": [
            "The quadrilateral is a Square.\n"
          ]
        }
      ]
    },
    {
      "cell_type": "markdown",
      "source": [
        "29. Write a Python script to determine the season based on a user-provided month using elif statements."
      ],
      "metadata": {
        "id": "fq_S7MvowKkY"
      }
    },
    {
      "cell_type": "code",
      "source": [
        "def determine_season (month) :\n",
        "\n",
        "  if month in [2, 3]:\n",
        "    season = \"Spring\"\n",
        "  elif month in [4, 5, 6, 7, 8]:\n",
        "    season = \"Summer\"\n",
        "  elif month in [9, 10]:\n",
        "    season = \"Autumn\"\n",
        "  else:\n",
        "    season = \"Winter\"\n",
        "  return season\n",
        "\n",
        "month = int(input(\"Enter the month (as a number): \"))\n",
        "\n",
        "if month < 1 or month > 12 :\n",
        "    print (\"Invalid month input.\")\n",
        "else :\n",
        "    print (f\"The season for month {month} is {determine_season(month)}.\")\n"
      ],
      "metadata": {
        "colab": {
          "base_uri": "https://localhost:8080/"
        },
        "id": "YZq1EsjkwIVr",
        "outputId": "0778f2b3-99e7-472f-a714-a7096b978d42"
      },
      "execution_count": null,
      "outputs": [
        {
          "output_type": "stream",
          "name": "stdout",
          "text": [
            "Enter the month (as a number): 12\n",
            "The season for month 12 is Winter.\n"
          ]
        }
      ]
    },
    {
      "cell_type": "markdown",
      "source": [
        "30. Implement a program to determine the type of a year (leap or common) and month (30 or 31 days) using elif statements."
      ],
      "metadata": {
        "id": "bExvmzRiyOIo"
      }
    },
    {
      "cell_type": "code",
      "source": [
        "def is_leap_year (year) :\n",
        "\n",
        "  if (year % 4 == 0 and year % 100 != 0) or (year % 400 == 0):\n",
        "    return True\n",
        "  else:\n",
        "    return False\n",
        "\n",
        "def days_in_month(month, year):\n",
        "\n",
        "  if month in [1, 3, 5, 7, 8, 10, 12]:\n",
        "    return 31\n",
        "  elif month == 2:\n",
        "    if is_leap_year(year):\n",
        "      return 29\n",
        "    else:\n",
        "      return 28\n",
        "  else:\n",
        "    return 30\n",
        "\n",
        "\n",
        "year = int(input(\"Enter the year: \"))\n",
        "month = int(input(\"Enter the month (as a number): \"))\n",
        "\n",
        "if month < 1 or month > 12 :\n",
        "    print(\"Invalid month input.\")\n",
        "else:\n",
        "    if is_leap_year(year) :\n",
        "        year_type = \"Leap\"\n",
        "    else :\n",
        "        year_type = \"Common\"\n",
        "\n",
        "    month_days = days_in_month(month, year)\n",
        "\n",
        "    print(f\"The year {year} is a {year_type} year.\")\n",
        "    print(f\"The month {month} has {month_days} days.\")"
      ],
      "metadata": {
        "colab": {
          "base_uri": "https://localhost:8080/"
        },
        "id": "sqxIe80UyEh2",
        "outputId": "3218bf6e-b429-4cca-d4df-db65e4a0a846"
      },
      "execution_count": null,
      "outputs": [
        {
          "output_type": "stream",
          "name": "stdout",
          "text": [
            "Enter the year: 2020\n",
            "Enter the month (as a number): 5\n",
            "The year 2020 is a Leap year.\n",
            "The month 5 has 31 days.\n"
          ]
        }
      ]
    },
    {
      "cell_type": "markdown",
      "source": [
        "## **Basic Level :**\n",
        "\n",
        "---\n",
        "\n"
      ],
      "metadata": {
        "id": "yJfZOhgPy9xQ"
      }
    },
    {
      "cell_type": "markdown",
      "source": [
        "1. Write a Python program that checks if a given number is positive, negative, or zero"
      ],
      "metadata": {
        "id": "FFHMSjXMy88N"
      }
    },
    {
      "cell_type": "code",
      "source": [
        "def is_number_negative_positive (num) :\n",
        "\n",
        "  if num < 0 :\n",
        "    print (\"Number is -ve\")\n",
        "  else :\n",
        "    print (\"Number is +ve\")\n",
        "\n",
        "num = int(input(\"Kindly enter the number to check if its negative or postive : \"))\n",
        "is_number_negative_positive (num)"
      ],
      "metadata": {
        "colab": {
          "base_uri": "https://localhost:8080/"
        },
        "id": "DVEGB25DypvE",
        "outputId": "b5d6b606-8074-49d6-bfff-41c898d1b876"
      },
      "execution_count": null,
      "outputs": [
        {
          "output_type": "stream",
          "name": "stdout",
          "text": [
            "Kindly enter the number to check if its negative or postive : 23\n",
            "Number is +ve\n"
          ]
        }
      ]
    },
    {
      "cell_type": "markdown",
      "source": [
        "2. Create a program to determine if a person is eligible to vote based on their age."
      ],
      "metadata": {
        "id": "vfj2NU3lzfIK"
      }
    },
    {
      "cell_type": "code",
      "source": [
        "def is_eligible (age) :\n",
        "\n",
        "  if age < 18 :\n",
        "    print (\"Person is not eligible to vote\")\n",
        "  else :\n",
        "    print (\"Person is eligible to vote\")\n",
        "\n",
        "age = int(input(\"Kindly enter the age of the person to check if he/she is eligible to vote : \"))\n",
        "is_eligible (age)"
      ],
      "metadata": {
        "colab": {
          "base_uri": "https://localhost:8080/"
        },
        "id": "LjoWituKzWPf",
        "outputId": "8ff535d1-4536-412b-f8e1-2c7a5e964abf"
      },
      "execution_count": null,
      "outputs": [
        {
          "output_type": "stream",
          "name": "stdout",
          "text": [
            "Kindly enter the age of the person to check if he/she is eligible to vote : 87\n",
            "Person is eligible to vote\n"
          ]
        }
      ]
    },
    {
      "cell_type": "markdown",
      "source": [
        "3. Write a program to find the maximum of two given numbers using conditional statements."
      ],
      "metadata": {
        "id": "VRVynMPLzo4N"
      }
    },
    {
      "cell_type": "code",
      "source": [
        "def maximum (num1, num2) :\n",
        "\n",
        "  if num1 < num2 :\n",
        "    print (\"Num2 is the maximum number\")\n",
        "  else :\n",
        "    print (\"Num1 is the maximum number\")\n",
        "\n",
        "num1 = int(input(\"Enter num1 : \"))\n",
        "num2 = int(input(\"Enter num2 : \"))\n",
        "maximum (num1, num2)"
      ],
      "metadata": {
        "colab": {
          "base_uri": "https://localhost:8080/"
        },
        "id": "lJ3K1IU1zkki",
        "outputId": "1d04bd35-5243-4704-d37c-34a12e3ac0d3"
      },
      "execution_count": null,
      "outputs": [
        {
          "output_type": "stream",
          "name": "stdout",
          "text": [
            "Enter num1 : 64\n",
            "Enter num2 : 87\n",
            "Num2 is the maximum number\n"
          ]
        }
      ]
    },
    {
      "cell_type": "markdown",
      "source": [
        "4. Develop a program that calculates the grade of a student based on their exam score."
      ],
      "metadata": {
        "id": "SXlmL5i2z4-O"
      }
    },
    {
      "cell_type": "code",
      "source": [
        "def calculate_grade(score):\n",
        "\n",
        "  if score >= 90:\n",
        "    return \"A\"\n",
        "  elif score >= 80:\n",
        "    return \"B\"\n",
        "  elif score >= 70:\n",
        "    return \"C\"\n",
        "  elif score >= 60:\n",
        "    return \"D\"\n",
        "  else:\n",
        "    return \"F\"\n",
        "\n",
        "score = float(input(\"Enter the student's score: \"))\n",
        "grade = calculate_grade(score)\n",
        "print(f\"The student's grade is {grade}.\")"
      ],
      "metadata": {
        "colab": {
          "base_uri": "https://localhost:8080/"
        },
        "id": "R1IdkDOqzx37",
        "outputId": "8cdc0584-84ed-425f-922b-cecb08eade72"
      },
      "execution_count": null,
      "outputs": [
        {
          "output_type": "stream",
          "name": "stdout",
          "text": [
            "Enter the student's score: 86\n",
            "The student's grade is B.\n"
          ]
        }
      ]
    },
    {
      "cell_type": "markdown",
      "source": [
        "5. Create a program that checks if a year is a leap year or not."
      ],
      "metadata": {
        "id": "GjNwiTku0Npp"
      }
    },
    {
      "cell_type": "code",
      "source": [
        "year = int(input(\"Enter the year : \"))\n",
        "\n",
        "def if_leap (year) :\n",
        "\n",
        "  if (year % 4 == 0 and year != 100) or year % 400 == 0 :\n",
        "    print (\"The year is a leap year\")\n",
        "  else :\n",
        "    print (\"Year is not a leap year\")\n",
        "\n",
        "if_leap (year)"
      ],
      "metadata": {
        "colab": {
          "base_uri": "https://localhost:8080/"
        },
        "id": "dAvnu-HU0FKI",
        "outputId": "181b8329-8760-44a3-b00a-36475ab0f547"
      },
      "execution_count": null,
      "outputs": [
        {
          "output_type": "stream",
          "name": "stdout",
          "text": [
            "Enter the year : 1500\n",
            "The year is a leap year\n"
          ]
        }
      ]
    },
    {
      "cell_type": "markdown",
      "source": [
        "6. Write a program to classify a triangle based on its sides' lengths."
      ],
      "metadata": {
        "id": "2LimaG7_1Y2W"
      }
    },
    {
      "cell_type": "code",
      "source": [
        "def triangle (a,b,c) :\n",
        "\n",
        "  if a == b == c :\n",
        "    print (\"Triangle is equilateral\")\n",
        "  elif a == b or b == c or a == c :\n",
        "    print (\"Triangle is isosceles\")\n",
        "  else :\n",
        "    print (\"Triangle is scalene\")\n",
        "\n",
        "a = int(input(\"Enter the length of the side 1 of the triangle : \"))\n",
        "b = int(input(\"Enter the length of the side 2 of the triangle : \"))\n",
        "c = int(input(\"Enter the length of the side 3 of the triangle : \"))\n",
        "triangle (a,b,c)"
      ],
      "metadata": {
        "colab": {
          "base_uri": "https://localhost:8080/"
        },
        "id": "2fgt2wqy1F-N",
        "outputId": "83a592a2-3a0b-434b-8b22-d830390d6f52"
      },
      "execution_count": null,
      "outputs": [
        {
          "output_type": "stream",
          "name": "stdout",
          "text": [
            "Enter the length of the side 1 of the triangle : 5\n",
            "Enter the length of the side 2 of the triangle : 5\n",
            "Enter the length of the side 3 of the triangle : 5\n",
            "Triangle is equilateral\n"
          ]
        }
      ]
    },
    {
      "cell_type": "markdown",
      "source": [
        "7. Build a program that determines the largest of three given numbers."
      ],
      "metadata": {
        "id": "LFp4QPc02u71"
      }
    },
    {
      "cell_type": "code",
      "source": [
        "def largest_num (num1, num2, num3) :\n",
        "\n",
        "  if num1 > num2 and num2 > num3 :\n",
        "    print (\"Num1 is the largest number\")\n",
        "  elif num2 > num1 and num2 > num3 :\n",
        "    print (\"Num2 is the largest number\")\n",
        "  else :\n",
        "    print (\"Num3 is the largest number\")\n",
        "\n",
        "num1 = int(input(\"Enter the number 1 : \"))\n",
        "num2 = int(input(\"Enter the number 2 : \"))\n",
        "num3 = int(input(\"Enter the number 3 : \"))\n",
        "largest_num (num1, num2, num3)"
      ],
      "metadata": {
        "colab": {
          "base_uri": "https://localhost:8080/"
        },
        "id": "eCsof89s1w4O",
        "outputId": "b20561cb-0f7a-476a-c0db-4dd5524ad9be"
      },
      "execution_count": null,
      "outputs": [
        {
          "output_type": "stream",
          "name": "stdout",
          "text": [
            "Enter the number 1 : 65\n",
            "Enter the number 2 : 89\n",
            "Enter the number 3 : 12\n",
            "Num2 is the largest number\n"
          ]
        }
      ]
    },
    {
      "cell_type": "markdown",
      "source": [
        "8. Develop a program that checks whether a character is a vowel or a consonant."
      ],
      "metadata": {
        "id": "HmEwaz7h3ciZ"
      }
    },
    {
      "cell_type": "code",
      "source": [
        "char = input(\"Enter the character to check whether it's a vowel or consonant : \")\n",
        "vowels = ['a','e','i','o','u','A','E','I','O','U']\n",
        "\n",
        "def if_vowel_consonant (char) :\n",
        "\n",
        "  if char in vowels :\n",
        "    print (\"Character is a vowel\")\n",
        "  else :\n",
        "    print (\"Character is a consonant\")\n",
        "\n",
        "if_vowel_consonant (char)"
      ],
      "metadata": {
        "colab": {
          "base_uri": "https://localhost:8080/"
        },
        "id": "Nf3b4rKs3GBd",
        "outputId": "a2384c4a-f063-45f9-8729-aaf0aa1940af"
      },
      "execution_count": null,
      "outputs": [
        {
          "output_type": "stream",
          "name": "stdout",
          "text": [
            "Enter the character to check whether it's a vowel or consonant : L\n",
            "Character is a consonant\n"
          ]
        }
      ]
    },
    {
      "cell_type": "markdown",
      "source": [
        "9. Create a program to calculate the total cost of a shopping cart based on discounts."
      ],
      "metadata": {
        "id": "r_67BIHN3ouY"
      }
    },
    {
      "cell_type": "code",
      "source": [
        "def calculate_discounted_price (amount) :\n",
        "\n",
        "  if amount >= 1000:\n",
        "    discount = 0.1\n",
        "  elif amount >= 500:\n",
        "    discount = 0.05\n",
        "  else:\n",
        "    discount = 0\n",
        "\n",
        "  discounted_price = amount - (amount * discount)\n",
        "  return discounted_price\n",
        "\n",
        "purchase_amount = float(input(\"Enter the purchase amount: \"))\n",
        "discounted_price = calculate_discounted_price(purchase_amount)\n",
        "print(f\"The discounted price for a purchase of INR {purchase_amount} is INR {discounted_price}.\")"
      ],
      "metadata": {
        "colab": {
          "base_uri": "https://localhost:8080/"
        },
        "id": "OKqZfy9l3iuY",
        "outputId": "031a78cc-ea3a-49a0-99eb-98d667e4da54"
      },
      "execution_count": null,
      "outputs": [
        {
          "output_type": "stream",
          "name": "stdout",
          "text": [
            "Enter the purchase amount: 1500\n",
            "The discounted price for a purchase of INR 1500.0 is INR 1350.0.\n"
          ]
        }
      ]
    },
    {
      "cell_type": "markdown",
      "source": [
        "10. Write a program that checks if a given number is even or odd."
      ],
      "metadata": {
        "id": "vxFN-SYV39H9"
      }
    },
    {
      "cell_type": "code",
      "source": [
        "def is_even_or_odd (number) :\n",
        "\n",
        "  if number % 2 == 0:\n",
        "    print (\"The number is even\")\n",
        "  else:\n",
        "    print (\"The number is odd\")\n",
        "\n",
        "num = int(input(\"Enter a number: \"))\n",
        "is_even_or_odd(num)"
      ],
      "metadata": {
        "colab": {
          "base_uri": "https://localhost:8080/"
        },
        "id": "vXYuEjoJ33Qw",
        "outputId": "a212244a-8c13-49b4-8cff-a82d614dbef3"
      },
      "execution_count": null,
      "outputs": [
        {
          "output_type": "stream",
          "name": "stdout",
          "text": [
            "Enter a number: -45\n",
            "The number is odd\n"
          ]
        }
      ]
    },
    {
      "cell_type": "markdown",
      "source": [
        "## **Intermediate Level :**\n",
        "\n",
        "---\n",
        "\n"
      ],
      "metadata": {
        "id": "7AT-v0vV5cqq"
      }
    },
    {
      "cell_type": "markdown",
      "source": [
        "11. Write a program that calculates the roots of a quadratic equation ."
      ],
      "metadata": {
        "id": "pzBnxHE85iEB"
      }
    },
    {
      "cell_type": "code",
      "source": [
        "import math\n",
        "\n",
        "def calculate_roots (a, b, c) :\n",
        "  discriminant = b ** 2 - 4 * a * c\n",
        "\n",
        "  if discriminant > 0 :\n",
        "    root1 = (-b + math.sqrt(discriminant)) / (2 * a)\n",
        "    root2 = (-b - math.sqrt(discriminant)) / (2 * a)\n",
        "    return root1, root2\n",
        "\n",
        "  elif discriminant == 0 :\n",
        "    root = -b / (2 * a)\n",
        "    return root, root\n",
        "\n",
        "  else :\n",
        "    real_part = -b / (2 * a)\n",
        "    imaginary_part = math.sqrt(abs(discriminant)) / (2 * a)\n",
        "    root1 = complex(real_part, imaginary_part)\n",
        "    root2 = complex(real_part, -imaginary_part)\n",
        "    return root1, root2\n",
        "\n",
        "\n",
        "a = float(input(\"Enter the coefficient of x^2 (a): \"))\n",
        "b = float(input(\"Enter the coefficient of x (b): \"))\n",
        "c = float(input(\"Enter the constant term (c): \"))\n",
        "\n",
        "root1, root2 = calculate_roots(a, b, c)\n",
        "\n",
        "if isinstance (root1, complex) :\n",
        "    print(f\"The roots of the quadratic equation are complex: {root1} and {root2}.\")\n",
        "else :\n",
        "    print(f\"The roots of the quadratic equation are: {root1} and {root2}.\")"
      ],
      "metadata": {
        "colab": {
          "base_uri": "https://localhost:8080/"
        },
        "id": "YlJWCQ-H5Ual",
        "outputId": "f1b27749-e1b4-459a-d17e-61488be74fbd"
      },
      "execution_count": null,
      "outputs": [
        {
          "output_type": "stream",
          "name": "stdout",
          "text": [
            "Enter the coefficient of x^2 (a): 45\n",
            "Enter the coefficient of x (b): 200\n",
            "Enter the constant term (c): 1000\n",
            "The roots of the quadratic equation are complex: (-2.2222222222222223+4.15739709641549j) and (-2.2222222222222223-4.15739709641549j).\n"
          ]
        }
      ]
    },
    {
      "cell_type": "markdown",
      "source": [
        "12. Create a program that determines the day of the week based on the day number (1-7)."
      ],
      "metadata": {
        "id": "7FbQohtCn44M"
      }
    },
    {
      "cell_type": "code",
      "source": [
        "def get_day_of_week (day_number) :\n",
        "\n",
        "  days_of_week = [\"Monday\", \"Tuesday\", \"Wednesday\", \"Thursday\", \"Friday\", \"Saturday\", \"Sunday\"]\n",
        "\n",
        "  if day_number >= 1 and day_number <= 7:\n",
        "    return days_of_week[day_number - 1]\n",
        "  else:\n",
        "    return \"Invalid day number\"\n",
        "\n",
        "day_number = int(input(\"Enter the day number (1 for Monday, 2 for Tuesday, etc.): \"))\n",
        "\n",
        "day_of_week = get_day_of_week(day_number)\n",
        "print(f\"The day of the week is: {day_of_week}.\")"
      ],
      "metadata": {
        "colab": {
          "base_uri": "https://localhost:8080/"
        },
        "id": "2STtBRYknkhK",
        "outputId": "b014562f-589c-4da7-aa62-11f213315761"
      },
      "execution_count": null,
      "outputs": [
        {
          "output_type": "stream",
          "name": "stdout",
          "text": [
            "Enter the day number (1 for Monday, 2 for Tuesday, etc.): 7\n",
            "The day of the week is: Sunday.\n"
          ]
        }
      ]
    },
    {
      "cell_type": "markdown",
      "source": [
        "13. Develop a program that calculates the factorial of a given number using recursion."
      ],
      "metadata": {
        "id": "brqNlxKnoSTV"
      }
    },
    {
      "cell_type": "code",
      "source": [
        "def factorial (n) :\n",
        "\n",
        "  if n <= 1 :\n",
        "    return 1\n",
        "  else :\n",
        "    return n * factorial (n-1)\n",
        "\n",
        "n = 5\n",
        "result = factorial (n)\n",
        "print (f\"Factorial of number {n} is '{result}'\")"
      ],
      "metadata": {
        "colab": {
          "base_uri": "https://localhost:8080/"
        },
        "id": "Ct7LErdGoCoV",
        "outputId": "4fdc7dcd-483e-4671-c2ac-cf824d785ea6"
      },
      "execution_count": null,
      "outputs": [
        {
          "output_type": "stream",
          "name": "stdout",
          "text": [
            "Factorial of number 5 is '120'\n"
          ]
        }
      ]
    },
    {
      "cell_type": "markdown",
      "source": [
        "14. Write a program to find the largest among three numbers without using the `max()` function."
      ],
      "metadata": {
        "id": "nBUuSQplqw9K"
      }
    },
    {
      "cell_type": "code",
      "source": [
        "def largest_num (num1, num2, num3) :\n",
        "\n",
        "  if num1 > num2 and num2 > num3 :\n",
        "    print (\"Num1 is the largest number\")\n",
        "  elif num2 > num1 and num2 > num3 :\n",
        "    print (\"Num2 is the largest number\")\n",
        "  else :\n",
        "    print (\"Num3 is the largest number\")\n",
        "\n",
        "num1 = int(input(\"Enter the number 1 : \"))\n",
        "num2 = int(input(\"Enter the number 2 : \"))\n",
        "num3 = int(input(\"Enter the number 3 : \"))\n",
        "largest_num (num1, num2, num3)"
      ],
      "metadata": {
        "colab": {
          "base_uri": "https://localhost:8080/"
        },
        "id": "uf6_LoSmqI_X",
        "outputId": "d154fb76-37b9-4b81-eb79-921c62820f25"
      },
      "execution_count": null,
      "outputs": [
        {
          "output_type": "stream",
          "name": "stdout",
          "text": [
            "Enter the number 1 : 78\n",
            "Enter the number 2 : 84\n",
            "Enter the number 3 : 84\n",
            "Num3 is the largest number\n"
          ]
        }
      ]
    },
    {
      "cell_type": "markdown",
      "source": [
        "15. Create a program that simulates a basic ATM transaction menu."
      ],
      "metadata": {
        "id": "OSj6rU1orS-D"
      }
    },
    {
      "cell_type": "code",
      "source": [
        "def check_balance (balance) :\n",
        "  print (f\"Your current balance is INR {balance}\")\n",
        "\n",
        "def deposit (balance) :\n",
        "  amount = float(input(\"Enter the amount to deposit: \"))\n",
        "  balance += amount\n",
        "  print(f\"Deposit successful. Your new balance is INR {balance}\")\n",
        "  return balance\n",
        "\n",
        "def withdraw (balance) :\n",
        "  amount = float(input(\"Enter the amount to withdraw: \"))\n",
        "  if amount > balance:\n",
        "    print(\"Insufficient funds.\")\n",
        "  else:\n",
        "    balance -= amount\n",
        "    print(f\"Withdrawal successful. Your new balance is INR {balance:}\")\n",
        "  return balance\n",
        "\n",
        "def main () :\n",
        "    balance = 1000.00\n",
        "\n",
        "    while True:\n",
        "        print(\"\\nATM Menu:\")\n",
        "        print(\"1. Check Balance\")\n",
        "        print(\"2. Deposit\")\n",
        "        print(\"3. Withdraw\")\n",
        "        print(\"4. Exit\")\n",
        "\n",
        "        choice = input(\"Enter your choice (1-4): \")\n",
        "\n",
        "        if choice == '1':\n",
        "            check_balance(balance)\n",
        "        elif choice == '2':\n",
        "            balance = deposit(balance)\n",
        "        elif choice == '3':\n",
        "            balance = withdraw(balance)\n",
        "        elif choice == '4':\n",
        "            print(\"Thank you for using the ATM. Goodbye!\")\n",
        "            break\n",
        "        else:\n",
        "            print(\"Invalid choice. Please enter a number from 1 to 4.\")\n",
        "\n",
        "if __name__ == \"__main__\":\n",
        "    main()"
      ],
      "metadata": {
        "colab": {
          "base_uri": "https://localhost:8080/"
        },
        "id": "_JuU6GHorA3h",
        "outputId": "eb98b57f-f179-457c-84dc-b9555a57c56f"
      },
      "execution_count": null,
      "outputs": [
        {
          "output_type": "stream",
          "name": "stdout",
          "text": [
            "\n",
            "ATM Menu:\n",
            "1. Check Balance\n",
            "2. Deposit\n",
            "3. Withdraw\n",
            "4. Exit\n",
            "Enter your choice (1-4): 5\n",
            "Invalid choice. Please enter a number from 1 to 4.\n",
            "\n",
            "ATM Menu:\n",
            "1. Check Balance\n",
            "2. Deposit\n",
            "3. Withdraw\n",
            "4. Exit\n",
            "Enter your choice (1-4): 3\n",
            "Enter the amount to withdraw: 500\n",
            "Withdrawal successful. Your new balance is INR 500.0\n",
            "\n",
            "ATM Menu:\n",
            "1. Check Balance\n",
            "2. Deposit\n",
            "3. Withdraw\n",
            "4. Exit\n",
            "Enter your choice (1-4): 4\n",
            "Thank you for using the ATM. Goodbye!\n"
          ]
        }
      ]
    },
    {
      "cell_type": "markdown",
      "source": [
        "16. Build a program that checks if a given string is a palindrome or not."
      ],
      "metadata": {
        "id": "ZAxVtVt3cdlN"
      }
    },
    {
      "cell_type": "code",
      "source": [
        "def is_palindrome (input_string) :\n",
        "\n",
        "  if input_string == input_string[::-1] :\n",
        "    print (\"Input string is a palindrome\")\n",
        "  else :\n",
        "    print (\"Input string is not a palindrome\")\n",
        "\n",
        "input_string = str(input(\"Enter the string to check if it's a palindrome : \"))\n",
        "is_palindrome (input_string)"
      ],
      "metadata": {
        "colab": {
          "base_uri": "https://localhost:8080/"
        },
        "id": "87UXzYtft31Y",
        "outputId": "0be89ad4-eb02-4573-de9b-ce913423e4b7"
      },
      "execution_count": null,
      "outputs": [
        {
          "output_type": "stream",
          "name": "stdout",
          "text": [
            "Enter the string to check if it's a palindrome : qwerty\n",
            "Input string is not a palindrome\n"
          ]
        }
      ]
    },
    {
      "cell_type": "markdown",
      "source": [
        "17. Write a program that calculates the average of a list of numbers, excluding the smallest and largest values."
      ],
      "metadata": {
        "id": "ASBKzfj6cuOR"
      }
    },
    {
      "cell_type": "code",
      "source": [
        "def calculate_average(numbers):\n",
        "\n",
        "  if len(numbers) <= 2:\n",
        "      return \"Not enough numbers to calculate the average\"\n",
        "\n",
        "  sorted_numbers = sorted(numbers)\n",
        "\n",
        "  trimmed_numbers = sorted_numbers[1:-1]\n",
        "  total = sum(trimmed_numbers)\n",
        "\n",
        "  average = total / len(trimmed_numbers)\n",
        "  return average\n",
        "\n",
        "numbers = [10, 20, 40, 80, 100]\n",
        "average = calculate_average(numbers)\n",
        "print(\"The average of the list (excluding the smallest and largest values) is:\", average)\n"
      ],
      "metadata": {
        "colab": {
          "base_uri": "https://localhost:8080/"
        },
        "id": "DPg1woGwcn1q",
        "outputId": "a04e87c4-935c-4216-aaa9-5d032f43e094"
      },
      "execution_count": null,
      "outputs": [
        {
          "output_type": "stream",
          "name": "stdout",
          "text": [
            "The average of the list (excluding the smallest and largest values) is: 46.666666666666664\n"
          ]
        }
      ]
    },
    {
      "cell_type": "markdown",
      "source": [
        "18. Develop a program that converts a given temperature from Celsius to Fahrenheit."
      ],
      "metadata": {
        "id": "EqJQkwNYdR39"
      }
    },
    {
      "cell_type": "code",
      "source": [
        "def celsius_to_fahrenheit(celsius) :\n",
        "\n",
        "  fahrenheit = (celsius * 9/5) + 32\n",
        "  return fahrenheit\n",
        "\n",
        "celsius = float(input(\"Enter the temperature in Celsius: \"))\n",
        "\n",
        "result = celsius_to_fahrenheit(celsius)\n",
        "print(f\"The temperature {celsius}°C is equal to {result}°F.\")\n"
      ],
      "metadata": {
        "colab": {
          "base_uri": "https://localhost:8080/"
        },
        "id": "Y3L6WlQOdMpr",
        "outputId": "272b23b1-aec6-4817-b5c2-bbdfd4406365"
      },
      "execution_count": null,
      "outputs": [
        {
          "output_type": "stream",
          "name": "stdout",
          "text": [
            "Enter the temperature in Celsius: 42\n",
            "The temperature 42.0°C is equal to 107.6°F.\n"
          ]
        }
      ]
    },
    {
      "cell_type": "markdown",
      "source": [
        "19. Create a program that simulates a basic calculator for addition, subtraction, multiplication, and division."
      ],
      "metadata": {
        "id": "P2UuonX5dtvB"
      }
    },
    {
      "cell_type": "code",
      "source": [
        "def addition (x, y) :\n",
        "  return x + y\n",
        "\n",
        "def substraction (x, y) :\n",
        "  return x - y\n",
        "\n",
        "def multiplication (x, y) :\n",
        "  return x * y\n",
        "\n",
        "def division (x, y) :\n",
        "  return x / y\n",
        "\n",
        "\n",
        "def main() :\n",
        "\n",
        "  while True :\n",
        "    print (\"Calculator menu :\")\n",
        "    print (\"1. Addition\")\n",
        "    print (\"2. Substraction\")\n",
        "    print (\"3. Multiplication\")\n",
        "    print (\"4. Division\")\n",
        "    print (\"5. Exit\")\n",
        "\n",
        "    choice = int(input(\"Kindly enter the calculation you want to choose (1-5) : \"))\n",
        "\n",
        "    if choice in [1, 2 , 3, 4] :\n",
        "\n",
        "      x = float(input(\"Kindly enter first number : \"))\n",
        "      y = float(input(\"Kindly enter second number : \"))\n",
        "\n",
        "      if choice == 1 :\n",
        "        print (f\"The result is : {addition (x, y)}\")\n",
        "      elif choice == 2 :\n",
        "        print (f\"The result is : {substraction (x, y)}\")\n",
        "      elif choice == 3 :\n",
        "        print (f\"The result is : {multiplication (x, y)}\")\n",
        "      elif choice == 4 :\n",
        "        print (f\"The result is : {division (x, y)}\")\n",
        "\n",
        "    elif choice == 5 :\n",
        "      print (\"Thanks for using the calculator, have a good day!\")\n",
        "      break\n",
        "\n",
        "    else :\n",
        "      print (\"Kindly enter correct choice between 1-5\")\n",
        "\n",
        "if __name__ == \"__main__\" :\n",
        "  main()"
      ],
      "metadata": {
        "colab": {
          "base_uri": "https://localhost:8080/"
        },
        "id": "SkF9vYaIdl6p",
        "outputId": "b097e620-c95d-4f18-b780-1e74a0318755"
      },
      "execution_count": null,
      "outputs": [
        {
          "output_type": "stream",
          "name": "stdout",
          "text": [
            "Calculator menu :\n",
            "1. Addition\n",
            "2. Substraction\n",
            "3. Multiplication\n",
            "4. Division\n",
            "5. Exit\n",
            "Kindly enter the calculation you want to choose (1-5) : 4\n",
            "Kindly enter first number : 45\n",
            "Kindly enter second number : 25\n",
            "The result is : 1.8\n",
            "Calculator menu :\n",
            "1. Addition\n",
            "2. Substraction\n",
            "3. Multiplication\n",
            "4. Division\n",
            "5. Exit\n",
            "Kindly enter the calculation you want to choose (1-5) : 5\n",
            "Thanks for using the calculator, have a good day!\n"
          ]
        }
      ]
    },
    {
      "cell_type": "markdown",
      "source": [
        "20. Write a program that determines the roots of a cubic equation using the Cardano formula."
      ],
      "metadata": {
        "id": "6jLvnHFalO3_"
      }
    },
    {
      "cell_type": "code",
      "source": [
        "import cmath\n",
        "\n",
        "def cubic_roots (a, b, c, d) :\n",
        "\n",
        "  delta0 = b**2 - 3*a*c\n",
        "  delta1 = 2*b**3 - 9*a*b*c + 27*a**2*d\n",
        "  discriminant = delta1**2 - 4*delta0**3\n",
        "\n",
        "  if discriminant > 0:\n",
        "    C = ((delta1 + cmath.sqrt(discriminant)) / 2)**(1/3)\n",
        "    D = ((delta1 - cmath.sqrt(discriminant)) / 2)**(1/3)\n",
        "    root1 = (-b - (C + D)) / (3*a)\n",
        "    root2 = (-b + 0.5*(C + D) + 0.5j*cmath.sqrt(3)*(C - D)) / (3*a)\n",
        "    root3 = (-b + 0.5*(C + D) - 0.5j*cmath.sqrt(3)*(C - D)) / (3*a)\n",
        "    return root1, root2, root3\n",
        "\n",
        "  elif discriminant == 0 :\n",
        "    if delta0 == 0 :\n",
        "        root1 = -b / (3*a)\n",
        "        root2 = -b / (3*a)\n",
        "        root3 = -b / (3*a)\n",
        "    else :\n",
        "        K = delta1 / delta0\n",
        "        root1 = -b / (3*a) + K\n",
        "        root2 = -0.5*K\n",
        "        root3 = -0.5*K\n",
        "    return root1, root2, root3\n",
        "\n",
        "  else:\n",
        "    C = ((delta1 + cmath.sqrt(discriminant)) / 2)**(1/3)\n",
        "    D = ((delta1 - cmath.sqrt(discriminant)) / 2)**(1/3)\n",
        "    root1 = (-b - (C + D)) / (3*a)\n",
        "    root2 = (-b + 0.5*(C + D) + 0.5j*cmath.sqrt(3)*(C - D)) / (3*a)\n",
        "    root3 = (-b + 0.5*(C + D) - 0.5j*cmath.sqrt(3)*(C - D)) / (3*a)\n",
        "    return root1, root2, root3\n",
        "\n",
        "a = float(input(\"Enter coefficient a: \"))\n",
        "b = float(input(\"Enter coefficient b: \"))\n",
        "c = float(input(\"Enter coefficient c: \"))\n",
        "d = float(input(\"Enter coefficient d: \"))\n",
        "\n",
        "roots = cubic_roots(a, b, c, d)\n",
        "print (\"The roots of the cubic equation are:\", roots)\n"
      ],
      "metadata": {
        "colab": {
          "base_uri": "https://localhost:8080/"
        },
        "id": "hl2q4cYuiGrv",
        "outputId": "bc08fdf0-fc77-4f91-c618-0ec022884d28"
      },
      "execution_count": null,
      "outputs": [
        {
          "output_type": "stream",
          "name": "stdout",
          "text": [
            "Enter coefficient a: 64\n",
            "Enter coefficient b: 81\n",
            "Enter coefficient c: 25\n",
            "Enter coefficient d: 9\n",
            "The roots of the cubic equation are: ((-1.0175536599388428+0j), (-0.12403567003057854+0.35044864467551j), (-0.12403567003057854-0.35044864467551j))\n"
          ]
        }
      ]
    },
    {
      "cell_type": "markdown",
      "source": [
        "## **Advanced Level :**\n",
        "\n",
        "---\n",
        "\n"
      ],
      "metadata": {
        "id": "Hbt7dcC1nhid"
      }
    },
    {
      "cell_type": "markdown",
      "source": [
        "21. Create a program that calculates the income tax based on the user's income and tax brackets."
      ],
      "metadata": {
        "id": "lFlMSJ6snnTY"
      }
    },
    {
      "cell_type": "code",
      "source": [
        "def income_tax (income) :\n",
        "\n",
        "  if income < 500000 :\n",
        "    income_after_tax = income\n",
        "    return income_after_tax\n",
        "\n",
        "  elif 500000 <= income < 1000000:\n",
        "    tax_percentage = 0.1\n",
        "    tax = income * tax_percentage\n",
        "    income_after_tax = income - tax\n",
        "    return income_after_tax\n",
        "\n",
        "  elif 1000000 <= income < 1500000:\n",
        "    tax_percentage = 0.15\n",
        "    tax = income * tax_percentage\n",
        "    income_after_tax = income - tax\n",
        "    return income_after_tax\n",
        "\n",
        "  elif 1500000 <= income < 2000000:\n",
        "    tax_percentage = 0.2\n",
        "    tax = income * tax_percentage\n",
        "    income_after_tax = income - tax\n",
        "    return income_after_tax\n",
        "\n",
        "  else :\n",
        "    tax_percentage = 0.3\n",
        "    tax = income * tax_percentage\n",
        "    income_after_tax = income - tax\n",
        "    return income_after_tax\n",
        "\n",
        "income = float(input(\"Kindly enter your income : \"))\n",
        "result = income_tax (income)\n",
        "print (f\"The income after tax is {result}\")"
      ],
      "metadata": {
        "colab": {
          "base_uri": "https://localhost:8080/"
        },
        "id": "MXpxY783l-1q",
        "outputId": "6b64f5bc-742f-464f-9685-c6bc3c2b38a7"
      },
      "execution_count": null,
      "outputs": [
        {
          "output_type": "stream",
          "name": "stdout",
          "text": [
            "Kindly enter your income : 1500045\n",
            "The income after tax is 1200036.0\n"
          ]
        }
      ]
    },
    {
      "cell_type": "markdown",
      "source": [
        "22. Write a program that simulates a rock-paper-scissors game against the computer."
      ],
      "metadata": {
        "id": "zcDW6-qCWzES"
      }
    },
    {
      "cell_type": "code",
      "source": [
        "import random\n",
        "\n",
        "def determine_winner (player_choice, computer_choice) :\n",
        "\n",
        "  if player_choice == computer_choice :\n",
        "    return \"It's a tie!\"\n",
        "\n",
        "  elif (player_choice == 'rock' and computer_choice == 'scissors') or \\\n",
        "  (player_choice == 'paper' and computer_choice == 'rock') or \\\n",
        "  (player_choice == 'scissors' and computer_choice == 'paper') :\n",
        "    return \"You win!\"\n",
        "\n",
        "  else:\n",
        "    return \"Computer wins!\"\n",
        "\n",
        "def main() :\n",
        "\n",
        "  while True:\n",
        "    print(\"\\nLet's play Rock-Paper-Scissors!\")\n",
        "    print(\"Enter your choice: rock, paper, or scissors.\")\n",
        "    player_choice = input(\"Your choice: \").lower()\n",
        "\n",
        "    if player_choice not in ['rock', 'paper', 'scissors']:\n",
        "      print(\"Invalid choice. Please enter 'rock', 'paper', or 'scissors'.\")\n",
        "      continue\n",
        "\n",
        "    computer_choice = random.choice(['rock', 'paper', 'scissors'])\n",
        "    print(\"Computer's choice:\", computer_choice)\n",
        "\n",
        "    winner = determine_winner(player_choice, computer_choice)\n",
        "    print(winner)\n",
        "\n",
        "    play_again = input(\"Do you want to play again? (yes/no): \").lower()\n",
        "    if play_again != 'yes':\n",
        "      print(\"Thank you for playing! Goodbye!\")\n",
        "      break\n",
        "\n",
        "if __name__ == \"__main__\" :\n",
        "    main()"
      ],
      "metadata": {
        "colab": {
          "base_uri": "https://localhost:8080/"
        },
        "id": "HH-GlhkbzHPg",
        "outputId": "84a88dad-efe0-440f-8c10-26bfbe29a705"
      },
      "execution_count": null,
      "outputs": [
        {
          "output_type": "stream",
          "name": "stdout",
          "text": [
            "\n",
            "Let's play Rock-Paper-Scissors!\n",
            "Enter your choice: rock, paper, or scissors.\n",
            "Your choice: rock\n",
            "Computer's choice: paper\n",
            "Computer wins!\n",
            "Do you want to play again? (yes/no): no\n",
            "Thank you for playing! Goodbye!\n"
          ]
        }
      ]
    },
    {
      "cell_type": "markdown",
      "source": [
        "23. Develop a program that generates a random password based on user preferences (length, complexity)."
      ],
      "metadata": {
        "id": "fCH67GwzY5Yl"
      }
    },
    {
      "cell_type": "code",
      "source": [
        "import random\n",
        "import string\n",
        "\n",
        "def generate_password (length, complexity) :\n",
        "\n",
        "  if complexity == 'low':\n",
        "    chars = string.ascii_letters + string.digits\n",
        "\n",
        "  elif complexity == 'medium':\n",
        "    chars = string.ascii_letters + string.digits + string.punctuation\n",
        "\n",
        "  elif complexity == 'high':\n",
        "    chars = string.ascii_letters + string.digits + string.punctuation + string.ascii_uppercase + string.ascii_lowercase\n",
        "\n",
        "  else:\n",
        "    return \"Invalid complexity level. Please choose 'low', 'medium', or 'high'.\"\n",
        "\n",
        "  password = ''.join(random.choice(chars) for i in range(length))\n",
        "  return password\n",
        "\n",
        "length = int(input(\"Enter the length of the password: \"))\n",
        "complexity = input(\"Enter the complexity level (low/medium/high): \").lower()\n",
        "password = generate_password(length, complexity)\n",
        "print(\"Generated password:\", password)\n"
      ],
      "metadata": {
        "colab": {
          "base_uri": "https://localhost:8080/"
        },
        "id": "rU_UBXmrXvfm",
        "outputId": "6f1695c4-60b5-436d-8d57-10c2049fb0f1"
      },
      "execution_count": null,
      "outputs": [
        {
          "output_type": "stream",
          "name": "stdout",
          "text": [
            "Enter the length of the password: 8\n",
            "Enter the complexity level (low/medium/high): high\n",
            "Generated password: @/kdrjh4\n"
          ]
        }
      ]
    },
    {
      "cell_type": "markdown",
      "source": [
        "24. Create a program that implements a simple text-based adventure game with branching scenarios."
      ],
      "metadata": {
        "id": "au1nquz0a14T"
      }
    },
    {
      "cell_type": "code",
      "source": [
        "def adventure_game () :\n",
        "\n",
        "  print(\"Welcome to the Text-Based Adventure Game!\")\n",
        "  print(\"You find yourself standing at a crossroads with 2 different in front of you.\")\n",
        "  print(\"Which path will you take? (1/2)\")\n",
        "\n",
        "  choice = input(\"Enter your choice : \")\n",
        "\n",
        "  if choice == '1':\n",
        "    path_1()\n",
        "  elif choice == '2':\n",
        "    path_2()\n",
        "  else:\n",
        "    print(\"Invalid choice. Please enter '1' or '2'.\")\n",
        "    adventure_game()\n",
        "\n",
        "def path_1 () :\n",
        "\n",
        "    print(\"\\nYou chose Path 1.\")\n",
        "    print(\"You encounter a friendly merchant offering to sell you a magic potion.\")\n",
        "    print(\"What will you do? (1/2)\")\n",
        "\n",
        "    choice = input(\"Enter your choice: \")\n",
        "\n",
        "    if choice == '1':\n",
        "        print(\"You decide to buy the magic potion and continue your journey.\")\n",
        "        print(\"Congratulations! You win!\")\n",
        "    elif choice == '2':\n",
        "        print(\"You politely decline the merchant's offer and continue on your way.\")\n",
        "        print(\"As you walk, you stumble upon a hidden treasure chest!\")\n",
        "        print(\"Congratulations! You win!\")\n",
        "    else:\n",
        "        print(\"Invalid choice. Please enter '1' or '2'.\")\n",
        "        path_1()\n",
        "\n",
        "def path_2():\n",
        "    print(\"\\nYou chose Path 2.\")\n",
        "    print(\"You come across a dark cave. Do you dare to enter? (yes/no)\")\n",
        "\n",
        "    choice = input(\"Enter your choice: \").lower()\n",
        "\n",
        "    if choice == 'yes':\n",
        "        print(\"You bravely enter the cave and discover a hidden passage.\")\n",
        "        print(\"As you explore further, you find a valuable gemstone!\")\n",
        "        print(\"Congratulations! You win!\")\n",
        "    elif choice == 'no':\n",
        "        print(\"You decide not to enter the cave and continue along the path.\")\n",
        "        print(\"Suddenly, you hear a rumbling noise and see a landslide blocking the way back!\")\n",
        "        print(\"You lose!\")\n",
        "    else:\n",
        "        print(\"Invalid choice. Please enter 'yes' or 'no'.\")\n",
        "        path_2()\n",
        "\n",
        "#Start the game\n",
        "adventure_game()\n"
      ],
      "metadata": {
        "colab": {
          "base_uri": "https://localhost:8080/"
        },
        "id": "U-W4SM3AaoDQ",
        "outputId": "490ad207-b324-47fc-90bf-48bc30d8673f"
      },
      "execution_count": null,
      "outputs": [
        {
          "output_type": "stream",
          "name": "stdout",
          "text": [
            "Welcome to the Text-Based Adventure Game!\n",
            "You find yourself standing at a crossroads with 2 different in front of you.\n",
            "Which path will you take? (1/2)\n",
            "Enter your choice : 1\n",
            "\n",
            "You chose Path 1.\n",
            "You encounter a friendly merchant offering to sell you a magic potion.\n",
            "What will you do? (1/2)\n",
            "Enter your choice: 1\n",
            "You decide to buy the magic potion and continue your journey.\n",
            "Congratulations! You win!\n"
          ]
        }
      ]
    },
    {
      "cell_type": "markdown",
      "source": [
        "25. Build a program that solves a linear equation  for x, considering different cases."
      ],
      "metadata": {
        "id": "5EWaG3fje_sT"
      }
    },
    {
      "cell_type": "code",
      "source": [
        "def solve_linear_equation (x, y) :\n",
        "\n",
        "  if x == 0:\n",
        "    if y == 0:\n",
        "      return \"Infinite solutions (all real numbers)\"\n",
        "    else:\n",
        "      return \"No solution\"\n",
        "  else:\n",
        "    a = -y / x\n",
        "    return a\n",
        "\n",
        "x = float(input(\"Enter the coefficient 'x': \"))\n",
        "y = float(input(\"Enter the constant term 'y': \"))\n",
        "result = solve_linear_equation (x, y)\n",
        "print(\"Solution for a :\", result)"
      ],
      "metadata": {
        "colab": {
          "base_uri": "https://localhost:8080/"
        },
        "id": "ezv1weGge4V9",
        "outputId": "24562fc2-9420-4f1a-bef8-0ec4cd96ca78"
      },
      "execution_count": null,
      "outputs": [
        {
          "output_type": "stream",
          "name": "stdout",
          "text": [
            "Enter the coefficient 'x': 5\n",
            "Enter the constant term 'y': 4\n",
            "Solution for a : -0.8\n"
          ]
        }
      ]
    },
    {
      "cell_type": "markdown",
      "source": [
        "26. Write a program that simulates a basic quiz game with multiple-choice questions and scoring."
      ],
      "metadata": {
        "id": "yYSWdt_JgAgJ"
      }
    },
    {
      "cell_type": "code",
      "source": [
        "def display_question (question, choices) :\n",
        "\n",
        "  print(question)\n",
        "\n",
        "  for idx, choice in enumerate (choices, start=1) :\n",
        "    print (f\"{idx}. {choice}\")\n",
        "\n",
        "def check_answer(question, choices, correct_answer, user_answer, score):\n",
        "  if user_answer == correct_answer :\n",
        "    print (\"Correct!\")\n",
        "    return score + 1\n",
        "  else:\n",
        "    print (f\"Wrong! The correct answer is {correct_answer}.\")\n",
        "    return score\n",
        "\n",
        "def main() :\n",
        "    questions = [\n",
        "        {\n",
        "            \"question\": \"What is the capital of India?\",\n",
        "            \"choices\": [\"Delhi\", \"Mumbai\", \"Kolkata\", \"Chennai\"],\n",
        "            \"correct_answer\": \"1\"\n",
        "        },\n",
        "        {\n",
        "            \"question\": \"Which planet is nearest to sun?\",\n",
        "            \"choices\": [\"Uranus\", \"Mercury\", \"Jupiter\", \"Saturn\"],\n",
        "            \"correct_answer\": \"2\"\n",
        "        },\n",
        "        {\n",
        "            \"question\": \"What is the chemical symbol for water?\",\n",
        "            \"choices\": [\"H2O\", \"CO2\", \"O2\", \"NaCl\"],\n",
        "            \"correct_answer\": \"1\"\n",
        "        }\n",
        "    ]\n",
        "\n",
        "    score = 0\n",
        "\n",
        "    print(\"Welcome to the Quiz Game!\")\n",
        "    print(\"You will be asked multiple-choice questions. Enter the number corresponding to your answer.\")\n",
        "    print(\"Let's begin!\\n\")\n",
        "\n",
        "    for idx, question_data in enumerate(questions, start=1) :\n",
        "      print (f\"Question {idx}:\")\n",
        "      display_question(question_data[\"question\"], question_data[\"choices\"])\n",
        "      user_answer = input(\"Enter your answer: \")\n",
        "      score = check_answer(question_data[\"question\"], question_data[\"choices\"], question_data[\"correct_answer\"], user_answer, score)\n",
        "      print()\n",
        "\n",
        "    print(\"Quiz completed!\")\n",
        "    print(f\"Your final score is: {score}/{len(questions)}\")\n",
        "\n",
        "if __name__ == \"__main__\":\n",
        "    main()"
      ],
      "metadata": {
        "colab": {
          "base_uri": "https://localhost:8080/"
        },
        "id": "15Kun34GftFw",
        "outputId": "bb4829fb-e847-42a1-ee44-ca66ac3a6b8b"
      },
      "execution_count": null,
      "outputs": [
        {
          "output_type": "stream",
          "name": "stdout",
          "text": [
            "Welcome to the Quiz Game!\n",
            "You will be asked multiple-choice questions. Enter the number corresponding to your answer.\n",
            "Let's begin!\n",
            "\n",
            "Question 1:\n",
            "What is the capital of India?\n",
            "1. Delhi\n",
            "2. Mumbai\n",
            "3. Kolkata\n",
            "4. Chennai\n",
            "Enter your answer: 1\n",
            "Correct!\n",
            "\n",
            "Question 2:\n",
            "Which planet is nearest to sun?\n",
            "1. Uranus\n",
            "2. Mercury\n",
            "3. Jupiter\n",
            "4. Saturn\n",
            "Enter your answer: 2\n",
            "Correct!\n",
            "\n",
            "Question 3:\n",
            "What is the chemical symbol for water?\n",
            "1. H2O\n",
            "2. CO2\n",
            "3. O2\n",
            "4. NaCl\n",
            "Enter your answer: 1\n",
            "Correct!\n",
            "\n",
            "Quiz completed!\n",
            "Your final score is: 3/3\n"
          ]
        }
      ]
    },
    {
      "cell_type": "markdown",
      "source": [
        "27. Develop a program that determines whether a given year is a prime number or not."
      ],
      "metadata": {
        "id": "QWlZtw3Mh7FL"
      }
    },
    {
      "cell_type": "code",
      "source": [
        "def is_prime (year) :\n",
        "\n",
        "  if year <= 1 :\n",
        "    return False\n",
        "\n",
        "  for i in range (2, int(year**0.5) + 1) :\n",
        "    if year % i == 0:\n",
        "      return False\n",
        "  return True\n",
        "\n",
        "def main () :\n",
        "\n",
        "  year = int(input(\"Enter a year: \"))\n",
        "\n",
        "  if is_prime(year):\n",
        "    print(f\"{year} is a prime year.\")\n",
        "  else:\n",
        "    print(f\"{year} is not a prime year.\")\n",
        "\n",
        "if __name__ == \"__main__\":\n",
        "  main ()"
      ],
      "metadata": {
        "colab": {
          "base_uri": "https://localhost:8080/"
        },
        "id": "D3H5Gt6QgyQ3",
        "outputId": "7b322598-c34a-4af5-ca7e-508e2b04e04a"
      },
      "execution_count": null,
      "outputs": [
        {
          "output_type": "stream",
          "name": "stdout",
          "text": [
            "Enter a year: 2020\n",
            "2020 is not a prime year.\n"
          ]
        }
      ]
    },
    {
      "cell_type": "markdown",
      "source": [
        "28. Create a program that sorts three numbers in ascending order using conditional statements."
      ],
      "metadata": {
        "id": "hjPWXrw_jRpT"
      }
    },
    {
      "cell_type": "code",
      "source": [
        "def sort_numbers (a, b, c) :\n",
        "\n",
        "  if a <= b and a <= c:\n",
        "    if b <= c:\n",
        "      return a, b, c\n",
        "    else:\n",
        "      return a, c, b\n",
        "  elif b <= a and b <= c:\n",
        "    if a <= c:\n",
        "      return b, a, c\n",
        "    else:\n",
        "      return b, c, a\n",
        "  else:\n",
        "    if a <= b:\n",
        "      return c, a, b\n",
        "    else:\n",
        "      return c, b, a\n",
        "\n",
        "a = float(input(\"Enter the first number: \"))\n",
        "b = float(input(\"Enter the second number: \"))\n",
        "c = float(input(\"Enter the third number: \"))\n",
        "result = sort_numbers(a, b, c)\n",
        "print(\"Numbers in ascending order :\", result)"
      ],
      "metadata": {
        "colab": {
          "base_uri": "https://localhost:8080/"
        },
        "id": "coIlESuqjFCF",
        "outputId": "1af71fb7-d3cb-4214-f58f-47452883bdc2"
      },
      "execution_count": null,
      "outputs": [
        {
          "output_type": "stream",
          "name": "stdout",
          "text": [
            "Enter the first number: 32\n",
            "Enter the second number: 15\n",
            "Enter the third number: 45\n",
            "Numbers in ascending order : (15.0, 32.0, 45.0)\n"
          ]
        }
      ]
    },
    {
      "cell_type": "markdown",
      "source": [
        "29. Build a program that determines the roots of a quartic equation using numerical methods."
      ],
      "metadata": {
        "id": "ldWBlLuxmhrn"
      }
    },
    {
      "cell_type": "code",
      "source": [
        "import math\n",
        "\n",
        "def findRoots (a, b, c) :\n",
        "\n",
        "  if a == 0 :\n",
        "    print (\"Invalid\")\n",
        "    return -1\n",
        "\n",
        "  d = b * b - 4 * a * c\n",
        "  sqrt_val = math.sqrt(abs(d))\n",
        "\n",
        "  if d > 0 :\n",
        "    print(\"Roots are real and different \")\n",
        "    print((-b + sqrt_val)/(2 * a))\n",
        "    print((-b - sqrt_val)/(2 * a))\n",
        "\n",
        "  elif d == 0 :\n",
        "    print(\"Roots are real and same\")\n",
        "    print(-b / (2*a))\n",
        "\n",
        "  else :\n",
        "    print(\"Roots are complex\")\n",
        "    print(- b / (2*a), \" + i\", sqrt_val / (2 * a))\n",
        "    print(- b / (2*a), \" - i\", sqrt_val / (2 * a))\n",
        "\n",
        "\n",
        "if __name__ == '__main__':\n",
        "  a = int(input(\"Kinldy enter the value for a : \"))\n",
        "  b = int(input(\"Kinldy enter the value for b : \"))\n",
        "  c = int(input(\"Kinldy enter the value for c : \"))\n",
        "  findRoots(a, b, c)"
      ],
      "metadata": {
        "colab": {
          "base_uri": "https://localhost:8080/"
        },
        "id": "t_kuK-IrmRGW",
        "outputId": "0214c819-4a2c-4f30-b77e-c19774eb6a97"
      },
      "execution_count": null,
      "outputs": [
        {
          "output_type": "stream",
          "name": "stdout",
          "text": [
            "Kinldy enter the value for a : 4\n",
            "Kinldy enter the value for b : 3\n",
            "Kinldy enter the value for c : 1\n",
            "Roots are complex\n",
            "-0.375  + i 0.33071891388307384\n",
            "-0.375  - i 0.33071891388307384\n"
          ]
        }
      ]
    },
    {
      "cell_type": "markdown",
      "source": [
        "30. Write a program that calculates the BMI (Body Mass Index) and provides health recommendations based on the user's input."
      ],
      "metadata": {
        "id": "rA_i9srOoV_S"
      }
    },
    {
      "cell_type": "code",
      "source": [
        "def BMI_index (weight, height) :\n",
        "\n",
        "    BMI = weight / (height ** 2)\n",
        "    return BMI\n",
        "\n",
        "def get_health_recommendation (BMI) :\n",
        "\n",
        "  if BMI < 18.5:\n",
        "    return \"Underweight - You may need to gain weight. Consider consulting a nutritionist.\"\n",
        "\n",
        "  elif 18.5 <= BMI < 25:\n",
        "    return \"Normal weight - Your weight is within the healthy range.\"\n",
        "\n",
        "  elif 25 <= BMI < 30:\n",
        "    return \"Overweight - You may need to lose weight. Consider exercising regularly and eating a balanced diet.\"\n",
        "\n",
        "  else:\n",
        "    return \"Obese - You may be at risk of developing health problems. Consider consulting a healthcare professional.\"\n",
        "\n",
        "def main() :\n",
        "\n",
        "  weight = float(input(\"Enter your weight in kilograms: \"))\n",
        "  height = float(input(\"Enter your height in meters: \"))\n",
        "  BMI = BMI_index (weight, height)\n",
        "  print (f\"Your BMI is : {BMI}\")\n",
        "  recommendation = get_health_recommendation (BMI)\n",
        "  print(\"Health Recommendation :\", recommendation)\n",
        "\n",
        "if __name__ == \"__main__\" :\n",
        "  main()"
      ],
      "metadata": {
        "id": "iuWVD381n4wc",
        "colab": {
          "base_uri": "https://localhost:8080/"
        },
        "outputId": "a5750798-3f75-40b6-b127-624b8f3c44fb"
      },
      "execution_count": 18,
      "outputs": [
        {
          "output_type": "stream",
          "name": "stdout",
          "text": [
            "Enter your weight in kilograms: 85\n",
            "Enter your height in meters: 1.75\n",
            "Your BMI is : 27.755102040816325\n",
            "Health Recommendation : Overweight - You may need to lose weight. Consider exercising regularly and eating a balanced diet.\n"
          ]
        }
      ]
    },
    {
      "cell_type": "markdown",
      "source": [
        "## **Challenge Level :**\n",
        "\n",
        "---\n",
        "\n"
      ],
      "metadata": {
        "id": "Y9wsBy-grUa_"
      }
    },
    {
      "cell_type": "markdown",
      "source": [
        "31. Create a program that validates a password based on complexity rules (length, characters, etc.)."
      ],
      "metadata": {
        "id": "jIUeFUubrS7M"
      }
    },
    {
      "cell_type": "code",
      "source": [
        "import random\n",
        "import string\n",
        "\n",
        "def generate_password (length, complexity) :\n",
        "\n",
        "  if complexity == 'low':\n",
        "    chars = string.ascii_letters + string.digits\n",
        "\n",
        "  elif complexity == 'medium':\n",
        "    chars = string.ascii_letters + string.digits + string.punctuation\n",
        "\n",
        "  elif complexity == 'high':\n",
        "    chars = string.ascii_letters + string.digits + string.punctuation + string.ascii_uppercase + string.ascii_lowercase\n",
        "\n",
        "  else:\n",
        "    return \"Invalid complexity level. Please choose 'low', 'medium', or 'high'.\"\n",
        "\n",
        "  password = ''.join(random.choice(chars) for i in range(length))\n",
        "  return password\n",
        "\n",
        "length = int(input(\"Enter the length of the password: \"))\n",
        "complexity = input(\"Enter the complexity level (low/medium/high): \").lower()\n",
        "password = generate_password(length, complexity)\n",
        "print(\"Generated password:\", password)\n"
      ],
      "metadata": {
        "colab": {
          "base_uri": "https://localhost:8080/"
        },
        "id": "zD0f_wjWqBrG",
        "outputId": "b3cb59c9-ae78-48d8-adf7-1a776096fff5"
      },
      "execution_count": 19,
      "outputs": [
        {
          "output_type": "stream",
          "name": "stdout",
          "text": [
            "Enter the length of the password: 9\n",
            "Enter the complexity level (low/medium/high): medium\n",
            "Generated password: h#i2c>P2S\n"
          ]
        }
      ]
    },
    {
      "cell_type": "markdown",
      "source": [
        "33. Write a program that calculates the greatest common divisor (GCD) of two numbers using the Euclidean algorithm."
      ],
      "metadata": {
        "id": "4LdYmEJqtikH"
      }
    },
    {
      "cell_type": "code",
      "source": [
        "def gcd (x, y):\n",
        "\n",
        "  while y :\n",
        "    x, y = y, x % y\n",
        "  return x\n",
        "\n",
        "def main () :\n",
        "\n",
        "  x = int(input(\"Enter the first number: \"))\n",
        "  y = int(input(\"Enter the second number: \"))\n",
        "\n",
        "  result = gcd (x, y)\n",
        "  print(f\"The GCD of {x} and {y} is: {result}\")\n",
        "\n",
        "if __name__ == \"__main__\":\n",
        "  main()\n"
      ],
      "metadata": {
        "colab": {
          "base_uri": "https://localhost:8080/"
        },
        "id": "luiL5l54tKi5",
        "outputId": "a6a7d245-4c40-4013-9520-0839b6b15e51"
      },
      "execution_count": 22,
      "outputs": [
        {
          "output_type": "stream",
          "name": "stdout",
          "text": [
            "Enter the first number: 80\n",
            "Enter the second number: 60\n",
            "The GCD of 80 and 60 is: 20\n"
          ]
        }
      ]
    },
    {
      "cell_type": "markdown",
      "source": [
        "34. Build a program that performs matrix multiplication using nested loops and conditional statements."
      ],
      "metadata": {
        "id": "2vD4EzCruRHI"
      }
    },
    {
      "cell_type": "code",
      "source": [
        "def matrix_multiplication (matrix1, matrix2) :\n",
        "\n",
        "  if len(matrix1[0]) != len(matrix2):\n",
        "    print (\"Error: Number of columns in the first matrix must be equal to the number of rows in the second matrix.\")\n",
        "\n",
        "  result = []\n",
        "\n",
        "  for i in range(len(matrix1)) :\n",
        "    row = []\n",
        "    for j in range(len(matrix2[0])) :\n",
        "      total = 0\n",
        "      for k in range(len(matrix2)) :\n",
        "        total += matrix1[i][k] * matrix2[k][j]\n",
        "      row.append(total)\n",
        "    result.append(row)\n",
        "  return result\n",
        "\n",
        "def main () :\n",
        "\n",
        "    matrix1 = [[1, 2, 3],\n",
        "               [4, 5, 6]]\n",
        "    matrix2 = [[7, 8],\n",
        "               [9, 10],\n",
        "               [11, 12]]\n",
        "\n",
        "    result = matrix_multiplication (matrix1, matrix2)\n",
        "\n",
        "    if result :\n",
        "      print(\"Result of matrix multiplication:\")\n",
        "      for row in result:\n",
        "        print(row)\n",
        "\n",
        "if __name__ == \"__main__\":\n",
        "    main()\n"
      ],
      "metadata": {
        "colab": {
          "base_uri": "https://localhost:8080/"
        },
        "id": "Q4NURjort4KQ",
        "outputId": "add848b0-c664-430a-bee3-21e531641634"
      },
      "execution_count": 23,
      "outputs": [
        {
          "output_type": "stream",
          "name": "stdout",
          "text": [
            "Result of matrix multiplication:\n",
            "[58, 64]\n",
            "[139, 154]\n"
          ]
        }
      ]
    },
    {
      "cell_type": "markdown",
      "source": [
        "35. Create a program that simulates a basic text-based tic-tac-toe game against the computer."
      ],
      "metadata": {
        "id": "8C-qljodvu2U"
      }
    },
    {
      "cell_type": "code",
      "source": [
        "import random\n",
        "\n",
        "def print_board (board) :\n",
        "\n",
        "  for row in board :\n",
        "    print(\" | \".join(row))\n",
        "    print(\"-\" * 9)\n",
        "\n",
        "def check_winner(board):\n",
        "\n",
        "  for row in board:\n",
        "    if row[0] == row[1] == row[2] and row[0] != ' ' :\n",
        "      return row[0]\n",
        "\n",
        "\n",
        "  for col in range(3):\n",
        "    if board[0][col] == board[1][col] == board[2][col] and board[0][col] != ' ' :\n",
        "      return board[0][col]\n",
        "\n",
        "  if board[0][0] == board[1][1] == board[2][2] and board[0][0] != ' ' :\n",
        "    return board[0][0]\n",
        "  if board[0][2] == board[1][1] == board[2][0] and board[0][2] != ' ' :\n",
        "    return board[0][2]\n",
        "\n",
        "  return None\n",
        "\n",
        "def player_move (board) :\n",
        "\n",
        "  while True :\n",
        "    try :\n",
        "      row = int(input(\"Enter the row (1-3): \")) - 1\n",
        "      col = int(input(\"Enter the column (1-3): \")) - 1\n",
        "      if board[row][col] == ' ':\n",
        "        board[row][col] = 'X'\n",
        "        break\n",
        "      else:\n",
        "        print(\"That cell is already occupied. Try again.\")\n",
        "    except (ValueError, IndexError):\n",
        "      print(\"Invalid input. Please enter a number between 1 and 3.\")\n",
        "\n",
        "def computer_move (board) :\n",
        "\n",
        "  empty_cells = [(i, j) for i in range(3) for j in range(3) if board[i][j] == ' ']\n",
        "  return random.choice(empty_cells)\n",
        "\n",
        "def main () :\n",
        "\n",
        "  board = [[' ' for _ in range(3)] for _ in range(3)]\n",
        "  print(\"Welcome to Tic-Tac-Toe against the computer!\")\n",
        "  print_board(board)\n",
        "\n",
        "  player = 'X'\n",
        "  computer = 'O'\n",
        "\n",
        "  while True:\n",
        "\n",
        "    # Player's move\n",
        "    player_move(board)\n",
        "    print_board(board)\n",
        "\n",
        "    # Check for player win\n",
        "    if check_winner(board) == player:\n",
        "      print(\"Congratulations! You win!\")\n",
        "      break\n",
        "\n",
        "    # Check for a draw\n",
        "    if all(board[i][j] != ' ' for i in range(3) for j in range(3)):\n",
        "      print(\"It's a draw!\")\n",
        "      break\n",
        "\n",
        "    # Computer's move\n",
        "    print(\"Computer's move:\")\n",
        "    row, col = computer_move(board)\n",
        "    board[row][col] = computer\n",
        "    print_board(board)\n",
        "\n",
        "    # Check for computer win\n",
        "    if check_winner(board) == computer:\n",
        "        print(\"Computer wins!\")\n",
        "        break\n",
        "\n",
        "    # Check for a draw\n",
        "    if all(board[i][j] != ' ' for i in range(3) for j in range(3)):\n",
        "        print(\"It's a draw!\")\n",
        "        break\n",
        "\n",
        "if __name__ == \"__main__\":\n",
        "    main()\n"
      ],
      "metadata": {
        "colab": {
          "base_uri": "https://localhost:8080/"
        },
        "id": "pMjmA4VY0Tzt",
        "outputId": "a123532e-fab9-48d0-fcc2-19db09f4c71c"
      },
      "execution_count": 30,
      "outputs": [
        {
          "output_type": "stream",
          "name": "stdout",
          "text": [
            "Welcome to Tic-Tac-Toe against the computer!\n",
            "  |   |  \n",
            "---------\n",
            "  |   |  \n",
            "---------\n",
            "  |   |  \n",
            "---------\n",
            "Enter the row (1-3): \n",
            "Invalid input. Please enter a number between 1 and 3.\n",
            "Enter the row (1-3): \n",
            "Invalid input. Please enter a number between 1 and 3.\n",
            "Enter the row (1-3): 2\n",
            "Enter the column (1-3): 2\n",
            "  |   |  \n",
            "---------\n",
            "  | X |  \n",
            "---------\n",
            "  |   |  \n",
            "---------\n",
            "Computer's move:\n",
            "  |   |  \n",
            "---------\n",
            "  | X | O\n",
            "---------\n",
            "  |   |  \n",
            "---------\n",
            "Enter the row (1-3): 1\n",
            "Enter the column (1-3): 3\n",
            "  |   | X\n",
            "---------\n",
            "  | X | O\n",
            "---------\n",
            "  |   |  \n",
            "---------\n",
            "Computer's move:\n",
            "  |   | X\n",
            "---------\n",
            "O | X | O\n",
            "---------\n",
            "  |   |  \n",
            "---------\n",
            "Enter the row (1-3): 3\n",
            "Enter the column (1-3): 1\n",
            "  |   | X\n",
            "---------\n",
            "O | X | O\n",
            "---------\n",
            "X |   |  \n",
            "---------\n",
            "Congratulations! You win!\n"
          ]
        }
      ]
    },
    {
      "cell_type": "markdown",
      "source": [
        "36. Write a program that generates Fibonacci numbers up to a specified term using iterative methods."
      ],
      "metadata": {
        "id": "ROmpU6jReXly"
      }
    },
    {
      "cell_type": "code",
      "source": [
        "def generate_fibonacci (n) :\n",
        "\n",
        "  fib_sequence = [0, 1]\n",
        "\n",
        "  if n < 0 :\n",
        "    return []\n",
        "\n",
        "  if n == 0 :\n",
        "    return [0]\n",
        "\n",
        "  if n == 1 :\n",
        "    return [0, 1]\n",
        "\n",
        "  for i in range(2, n):\n",
        "    fib_sequence.append(fib_sequence[i-1] + fib_sequence[i-2])\n",
        "\n",
        "  return fib_sequence\n",
        "\n",
        "def main () :\n",
        "\n",
        "  n = int(input(\"Enter the number of Fibonacci numbers to generate: \"))\n",
        "  result = generate_fibonacci(n)\n",
        "  print(\"Fibonacci sequence up to term\", n, \":\", result)\n",
        "\n",
        "if __name__ == \"__main__\":\n",
        "  main()\n"
      ],
      "metadata": {
        "colab": {
          "base_uri": "https://localhost:8080/"
        },
        "id": "6Tx94WNoczZx",
        "outputId": "0f757ad3-18e7-4878-b969-dd6bb67a8179"
      },
      "execution_count": 32,
      "outputs": [
        {
          "output_type": "stream",
          "name": "stdout",
          "text": [
            "Enter the number of Fibonacci numbers to generate: 10\n",
            "Fibonacci sequence up to term 10 : [0, 1, 1, 2, 3, 5, 8, 13, 21, 34]\n"
          ]
        }
      ]
    },
    {
      "cell_type": "markdown",
      "source": [
        "37. Develop a program that calculates the nth term of the Fibonacci sequence using memoization."
      ],
      "metadata": {
        "id": "AYLu8FbIhvvY"
      }
    },
    {
      "cell_type": "code",
      "source": [
        "def fibonacci (n, memo={}) :\n",
        "\n",
        "  if n in memo:\n",
        "      return memo[n]\n",
        "  if n <= 1:\n",
        "      return n\n",
        "  memo[n] = fibonacci(n-1, memo) + fibonacci(n-2, memo)\n",
        "  return memo[n]\n",
        "\n",
        "def main () :\n",
        "\n",
        "  n = int(input(\"Enter the term of the Fibonacci sequence to calculate: \"))\n",
        "  fibonacci_number = fibonacci(n)\n",
        "  print(f\"The {n}th term of the Fibonacci sequence is: {fibonacci_number}\")\n",
        "\n",
        "if __name__ == \"__main__\":\n",
        "  main()\n"
      ],
      "metadata": {
        "colab": {
          "base_uri": "https://localhost:8080/"
        },
        "id": "oLDrZ9D_gybp",
        "outputId": "1d940c80-0e05-450a-e4db-657a2a9c079e"
      },
      "execution_count": 33,
      "outputs": [
        {
          "output_type": "stream",
          "name": "stdout",
          "text": [
            "Enter the term of the Fibonacci sequence to calculate: 10\n",
            "The 10th term of the Fibonacci sequence is: 55\n"
          ]
        }
      ]
    },
    {
      "cell_type": "markdown",
      "source": [
        "38. Create a program that generates a calendar for a given month and year using conditional statements."
      ],
      "metadata": {
        "id": "eHr0ZioajWqY"
      }
    },
    {
      "cell_type": "code",
      "source": [
        "def is_leap_year(year):\n",
        "\n",
        "  if year % 4 == 0 :\n",
        "    if year % 100 == 0 :\n",
        "      if year % 400 == 0 :\n",
        "        return True\n",
        "      else:\n",
        "        return False\n",
        "    else:\n",
        "      return True\n",
        "  else:\n",
        "      return False\n",
        "\n",
        "def get_num_days_in_month(month, year) :\n",
        "\n",
        "  if month in {1, 3, 5, 7, 8, 10, 12} :\n",
        "    return 31\n",
        "  elif month in {4, 6, 9, 11} :\n",
        "    return 30\n",
        "  elif month == 2 :\n",
        "    if is_leap_year(year) :\n",
        "      return 29\n",
        "    else :\n",
        "      return 28\n",
        "  else :\n",
        "    return None\n",
        "\n",
        "def generate_calendar (month, year) :\n",
        "\n",
        "  num_days = get_num_days_in_month(month, year)\n",
        "  if num_days is None:\n",
        "    return \"Invalid month\"\n",
        "\n",
        "  calendar = []\n",
        "\n",
        "  # Add header\n",
        "  calendar.append(f\"{'-' * 20}\\n{month}/{year}\\n{'-' * 20}\")\n",
        "\n",
        "  # Add days of the week\n",
        "  calendar.append(\"Sun Mon Tue Wed Thu Fri Sat\")\n",
        "\n",
        "  # Find the weekday of the 1st day of the month\n",
        "  start_day = 1 # assuming 1st day of the month is Sunday\n",
        "  for i in range(1, month) :\n",
        "    start_day += get_num_days_in_month(i, year)\n",
        "  start_day %= 7\n",
        "\n",
        "  # Add spaces for the starting day\n",
        "  calendar.append(\"    \" * start_day)\n",
        "\n",
        "  # Add days to the calendar\n",
        "  for day in range(1, num_days + 1) :\n",
        "    if day < 10:\n",
        "      calendar[-1] += f\"  {day} \"\n",
        "    else:\n",
        "      calendar[-1] += f\" {day} \"\n",
        "    start_day += 1\n",
        "    if start_day == 7 :\n",
        "      calendar.append(\"\")\n",
        "      start_day = 0\n",
        "\n",
        "  return '\\n'.join(calendar)\n",
        "\n",
        "def main () :\n",
        "\n",
        "  month = int(input(\"Enter the month (1-12): \"))\n",
        "  year = int(input(\"Enter the year: \"))\n",
        "  print(generate_calendar(month, year))\n",
        "\n",
        "if __name__ == \"__main__\":\n",
        "  main()\n"
      ],
      "metadata": {
        "colab": {
          "base_uri": "https://localhost:8080/"
        },
        "id": "I3UMKxUFi_FG",
        "outputId": "fbbce74a-0f85-4226-9d9f-1d1488ad36c4"
      },
      "execution_count": 34,
      "outputs": [
        {
          "output_type": "stream",
          "name": "stdout",
          "text": [
            "Enter the month (1-12): 12\n",
            "Enter the year: 2020\n",
            "--------------------\n",
            "12/2020\n",
            "--------------------\n",
            "Sun Mon Tue Wed Thu Fri Sat\n",
            "  1   2   3   4   5   6   7 \n",
            "  8   9  10  11  12  13  14 \n",
            " 15  16  17  18  19  20  21 \n",
            " 22  23  24  25  26  27  28 \n",
            " 29  30  31 \n"
          ]
        }
      ]
    },
    {
      "cell_type": "markdown",
      "source": [
        "39. Build a program that simulates a basic text-based blackjack game against the computer."
      ],
      "metadata": {
        "id": "IuV1eNS7lpM-"
      }
    },
    {
      "cell_type": "code",
      "source": [
        "import random\n",
        "\n",
        "# Function to initialize a deck of cards\n",
        "def initialize_deck () :\n",
        "\n",
        "  suits = ['Hearts', 'Diamonds', 'Clubs', 'Spades']\n",
        "  ranks = ['2', '3', '4', '5', '6', '7', '8', '9', '10', 'Jack', 'Queen', 'King', 'Ace']\n",
        "  deck = [{'rank': rank, 'suit': suit} for suit in suits for rank in ranks]\n",
        "  random.shuffle(deck)\n",
        "  return deck\n",
        "\n",
        "# Function to calculate the value of a hand\n",
        "def calculate_hand_value (hand) :\n",
        "\n",
        "  value = 0\n",
        "  num_aces = 0\n",
        "  for card in hand :\n",
        "    if card['rank'] in {'Jack', 'Queen', 'King'} :\n",
        "        value += 10\n",
        "    elif card['rank'] == 'Ace':\n",
        "        num_aces += 1\n",
        "    else:\n",
        "        value += int(card['rank'])\n",
        "  for _ in range(num_aces):\n",
        "    if value + 11 <= 21:\n",
        "        value += 11\n",
        "    else:\n",
        "        value += 1\n",
        "  return value\n",
        "\n",
        "# Function to display a hand\n",
        "def display_hand(hand) :\n",
        "  for card in hand:\n",
        "    print(f\"{card['rank']} of {card['suit']}\")\n",
        "\n",
        "# Function to play the dealer's turn\n",
        "def play_dealer_turn(deck, dealer_hand) :\n",
        "  while calculate_hand_value(dealer_hand) < 17 :\n",
        "    dealer_hand.append(deck.pop(0))\n",
        "  return dealer_hand\n",
        "\n",
        "# Main function to play the game\n",
        "def play_blackjack () :\n",
        "\n",
        "  deck = initialize_deck()\n",
        "  player_hand = [deck.pop(0), deck.pop(0)]\n",
        "  dealer_hand = [deck.pop(0), deck.pop(0)]\n",
        "\n",
        "  print(\"Player's hand:\")\n",
        "  display_hand(player_hand)\n",
        "  print(\"\\nDealer's hand:\")\n",
        "  print(f\"Hidden card\")\n",
        "  print(f\"{dealer_hand[1]['rank']} of {dealer_hand[1]['suit']}\\n\")\n",
        "\n",
        "  # Player's turn\n",
        "  while True :\n",
        "    player_choice = input(\"Do you want to hit or stand? (h/s): \").lower()\n",
        "    if player_choice == 'h' :\n",
        "      player_hand.append(deck.pop(0))\n",
        "      print(\"\\nPlayer's hand:\")\n",
        "      display_hand(player_hand)\n",
        "      if calculate_hand_value(player_hand) > 21 :\n",
        "        print(\"Bust! Dealer wins.\")\n",
        "        return\n",
        "    elif player_choice == 's' :\n",
        "        break\n",
        "\n",
        "  # Dealer's turn\n",
        "  print(\"\\nDealer's turn:\")\n",
        "  dealer_hand = play_dealer_turn(deck, dealer_hand)\n",
        "  print(\"\\nDealer's hand:\")\n",
        "  display_hand(dealer_hand)\n",
        "\n",
        "  player_value = calculate_hand_value(player_hand)\n",
        "  dealer_value = calculate_hand_value(dealer_hand)\n",
        "\n",
        "  # Determine the winner\n",
        "  if dealer_value > 21 or (player_value <= 21 and player_value > dealer_value):\n",
        "    print(\"\\nPlayer wins!\")\n",
        "  elif player_value == dealer_value:\n",
        "    print(\"\\nIt's a tie!\")\n",
        "  else:\n",
        "    print(\"\\nDealer wins!\")\n",
        "\n",
        "if __name__ == \"__main__\" :\n",
        "  play_blackjack()\n"
      ],
      "metadata": {
        "colab": {
          "base_uri": "https://localhost:8080/"
        },
        "id": "jA0tOHYPlYT1",
        "outputId": "d3d7e3a1-dbbd-4f51-ba06-29852b170af4"
      },
      "execution_count": 35,
      "outputs": [
        {
          "output_type": "stream",
          "name": "stdout",
          "text": [
            "Player's hand:\n",
            "Ace of Spades\n",
            "9 of Diamonds\n",
            "\n",
            "Dealer's hand:\n",
            "Hidden card\n",
            "2 of Clubs\n",
            "\n",
            "Do you want to hit or stand? (h/s): h\n",
            "\n",
            "Player's hand:\n",
            "Ace of Spades\n",
            "9 of Diamonds\n",
            "7 of Diamonds\n",
            "Do you want to hit or stand? (h/s): h\n",
            "\n",
            "Player's hand:\n",
            "Ace of Spades\n",
            "9 of Diamonds\n",
            "7 of Diamonds\n",
            "Jack of Clubs\n",
            "Bust! Dealer wins.\n"
          ]
        }
      ]
    },
    {
      "cell_type": "markdown",
      "source": [
        "40. Write a program that generates the prime factors of a given number using trial division."
      ],
      "metadata": {
        "id": "HJ9rw81Am0zT"
      }
    },
    {
      "cell_type": "code",
      "source": [
        "def prime_factors (n) :\n",
        "\n",
        "  factors = []\n",
        "  divisor = 2\n",
        "\n",
        "  while n > 1 :\n",
        "\n",
        "    while n % divisor == 0 :\n",
        "      factors.append(divisor)\n",
        "      n //= divisor\n",
        "    divisor += 1\n",
        "\n",
        "  return factors\n",
        "\n",
        "def main () :\n",
        "\n",
        "  num = int(input(\"Enter a number to find its prime factors: \"))\n",
        "  factors = prime_factors(num)\n",
        "\n",
        "  if len(factors) == 0:\n",
        "    print(f\"{num} has no prime factors.\")\n",
        "  else:\n",
        "    print(f\"The prime factors of {num} are:\", factors)\n",
        "\n",
        "if __name__ == \"__main__\" :\n",
        "  main()\n"
      ],
      "metadata": {
        "colab": {
          "base_uri": "https://localhost:8080/"
        },
        "id": "s60f0R7bmts4",
        "outputId": "870d008d-42d4-4ba5-c950-eb857d403027"
      },
      "execution_count": 36,
      "outputs": [
        {
          "output_type": "stream",
          "name": "stdout",
          "text": [
            "Enter a number to find its prime factors: 45\n",
            "The prime factors of 45 are: [3, 3, 5]\n"
          ]
        }
      ]
    },
    {
      "cell_type": "code",
      "source": [],
      "metadata": {
        "id": "iDfy5jLfnNiO"
      },
      "execution_count": null,
      "outputs": []
    }
  ]
}